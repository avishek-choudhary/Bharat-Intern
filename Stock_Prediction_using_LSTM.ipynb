{
  "nbformat": 4,
  "nbformat_minor": 0,
  "metadata": {
    "colab": {
      "provenance": [],
      "authorship_tag": "ABX9TyPm0itgjQXo6NVLWQOdOrzl"
    },
    "kernelspec": {
      "name": "python3",
      "display_name": "Python 3"
    },
    "language_info": {
      "name": "python"
    }
  },
  "cells": [
    {
      "cell_type": "markdown",
      "source": [
        "# TASK 1\n",
        "## Stock Prediction using LSTM\n",
        "## Author: *Avishek Choudhary*\n",
        "<a href=\"https://www.linkedin.com/in/avishek-choudhary\"> ![](https://img.shields.io/badge/LinkedIn-grey?style=for-the-badge&logo=linkedin&logoColor=blue)</a> <a href=\"https://www.github.com/avishek-choudhary\"> ![](https://img.shields.io/badge/Github-grey?style=for-the-badge&logo=github) </a>\n",
        "\n",
        "This is a time series forecasting problem. It is an attempt to forecasting the data by understanding the previous data.\n",
        "\n",
        "Table of Contents:\n",
        "\n",
        "1. [Problem Statement](#1.problem-statement)\n",
        "2. [Data Collection](#2.data-collection)\n",
        "3. [Data Exploration](#3.data-exploration)\n",
        "4. [Pre-process the Data](#4.pre-processing-the-data)\n",
        "5. [Create a stacked LSTM model](#5.creating-the-lstm-model)\n",
        "6. [Predict and plot the test data](#6.predicting-and-plotting-test-data)\n",
        "7. [Forecast for 30 days and plot the output](#7.forecasting-the-data-for-30-days)\n",
        "    \n",
        "Stock data is a sequential data that is they need to be analysed according to the order by time.\n",
        "In Recurrent Neural Network RNN we are dealt with problem of vanishing gradient thus previous data will become less significant after long backpropagation. That is memory is not that deep. So we use Long short term memory LSTM. This is because stock prediction need long term memory."
      ],
      "metadata": {
        "id": "Kf07xbstXceU"
      }
    },
    {
      "cell_type": "markdown",
      "source": [
        "### 1. Problem Statement\n",
        "Take stock price of any company and predicts its price by using LSTM"
      ],
      "metadata": {
        "id": "o6-GQbgfjdQI"
      }
    },
    {
      "cell_type": "markdown",
      "source": [
        "\n",
        "\n",
        "---"
      ],
      "metadata": {
        "id": "NtLfeTz50MP-"
      }
    },
    {
      "cell_type": "markdown",
      "source": [
        "### 2. Data Collection\n",
        "Collecting the data from Tingo.com using Tiingo's API\n",
        "\n",
        "Here we are collecting Tata Consultancy Services (TCS) stocks data.\n",
        "\n",
        "All the prices are in USD"
      ],
      "metadata": {
        "id": "GYzPargLSgOm"
      }
    },
    {
      "cell_type": "code",
      "execution_count": 6,
      "metadata": {
        "id": "HzvECREXNjoq"
      },
      "outputs": [],
      "source": [
        "#importing required libraries\n",
        "\n",
        "import numpy as np\n",
        "import pandas as pd\n",
        "import matplotlib.pyplot as plt\n",
        "import pandas_datareader as pdr\n",
        "import sklearn"
      ]
    },
    {
      "cell_type": "code",
      "source": [
        "df = pdr.get_data_tiingo('TCS', api_key = key)        #'key' stores the api key [!deleted]\n",
        "df.to_csv('TCS.csv')                                  #saving the data to CSV file"
      ],
      "metadata": {
        "colab": {
          "base_uri": "https://localhost:8080/",
          "height": 0
        },
        "id": "r5OhemgESZeo",
        "outputId": "23931ffd-1f05-45c1-cda4-4eced55680f9"
      },
      "execution_count": 7,
      "outputs": [
        {
          "output_type": "stream",
          "name": "stderr",
          "text": [
            "<ipython-input-7-3b5975519c38>:1: FutureWarning: In a future version of pandas all arguments of concat except for the argument 'objs' will be keyword-only.\n",
            "  df = pdr.get_data_tiingo('TCS', api_key = key)        #'key' stores the api key [!deleted]\n"
          ]
        }
      ]
    },
    {
      "cell_type": "markdown",
      "source": [
        "\n",
        "\n",
        "---"
      ],
      "metadata": {
        "id": "wt9rwdgF0G8r"
      }
    },
    {
      "cell_type": "markdown",
      "source": [
        "### 3. Data Exploration"
      ],
      "metadata": {
        "id": "vln6_tBCq56w"
      }
    },
    {
      "cell_type": "code",
      "source": [
        "df = pd.read_csv('TCS.csv')\n",
        "df.head()"
      ],
      "metadata": {
        "colab": {
          "base_uri": "https://localhost:8080/",
          "height": 206
        },
        "id": "lX-rVi8fTJLm",
        "outputId": "239afff7-5349-4df3-bf47-47d19e0c82db"
      },
      "execution_count": 45,
      "outputs": [
        {
          "output_type": "execute_result",
          "data": {
            "text/plain": [
              "  symbol                       date  close   high      low   open  volume  \\\n",
              "0    TCS  2018-09-27 00:00:00+00:00  10.93  10.97  10.7310  10.82  172309   \n",
              "1    TCS  2018-09-28 00:00:00+00:00  11.10  11.21  10.8400  10.89  433523   \n",
              "2    TCS  2018-10-01 00:00:00+00:00  10.44  11.13  10.3500  11.10  241074   \n",
              "3    TCS  2018-10-02 00:00:00+00:00  10.26  10.46  10.1301  10.41  224051   \n",
              "4    TCS  2018-10-03 00:00:00+00:00  10.37  10.41  10.1700  10.29  177811   \n",
              "\n",
              "    adjClose    adjHigh     adjLow    adjOpen  adjVolume  divCash  splitFactor  \n",
              "0  10.283437  10.321070  10.096208  10.179944     172309      0.0          1.0  \n",
              "1  10.443380  10.546873  10.198761  10.245803     433523      0.0          1.0  \n",
              "2   9.822423  10.471606   9.737746  10.443380     241074      0.0          1.0  \n",
              "3   9.653070   9.841239   9.530855   9.794197     224051      0.0          1.0  \n",
              "4   9.756563   9.794197   9.568394   9.681296     177811      0.0          1.0  "
            ],
            "text/html": [
              "\n",
              "  <div id=\"df-a30d9403-ef07-4963-913a-2af53baf6b9d\" class=\"colab-df-container\">\n",
              "    <div>\n",
              "<style scoped>\n",
              "    .dataframe tbody tr th:only-of-type {\n",
              "        vertical-align: middle;\n",
              "    }\n",
              "\n",
              "    .dataframe tbody tr th {\n",
              "        vertical-align: top;\n",
              "    }\n",
              "\n",
              "    .dataframe thead th {\n",
              "        text-align: right;\n",
              "    }\n",
              "</style>\n",
              "<table border=\"1\" class=\"dataframe\">\n",
              "  <thead>\n",
              "    <tr style=\"text-align: right;\">\n",
              "      <th></th>\n",
              "      <th>symbol</th>\n",
              "      <th>date</th>\n",
              "      <th>close</th>\n",
              "      <th>high</th>\n",
              "      <th>low</th>\n",
              "      <th>open</th>\n",
              "      <th>volume</th>\n",
              "      <th>adjClose</th>\n",
              "      <th>adjHigh</th>\n",
              "      <th>adjLow</th>\n",
              "      <th>adjOpen</th>\n",
              "      <th>adjVolume</th>\n",
              "      <th>divCash</th>\n",
              "      <th>splitFactor</th>\n",
              "    </tr>\n",
              "  </thead>\n",
              "  <tbody>\n",
              "    <tr>\n",
              "      <th>0</th>\n",
              "      <td>TCS</td>\n",
              "      <td>2018-09-27 00:00:00+00:00</td>\n",
              "      <td>10.93</td>\n",
              "      <td>10.97</td>\n",
              "      <td>10.7310</td>\n",
              "      <td>10.82</td>\n",
              "      <td>172309</td>\n",
              "      <td>10.283437</td>\n",
              "      <td>10.321070</td>\n",
              "      <td>10.096208</td>\n",
              "      <td>10.179944</td>\n",
              "      <td>172309</td>\n",
              "      <td>0.0</td>\n",
              "      <td>1.0</td>\n",
              "    </tr>\n",
              "    <tr>\n",
              "      <th>1</th>\n",
              "      <td>TCS</td>\n",
              "      <td>2018-09-28 00:00:00+00:00</td>\n",
              "      <td>11.10</td>\n",
              "      <td>11.21</td>\n",
              "      <td>10.8400</td>\n",
              "      <td>10.89</td>\n",
              "      <td>433523</td>\n",
              "      <td>10.443380</td>\n",
              "      <td>10.546873</td>\n",
              "      <td>10.198761</td>\n",
              "      <td>10.245803</td>\n",
              "      <td>433523</td>\n",
              "      <td>0.0</td>\n",
              "      <td>1.0</td>\n",
              "    </tr>\n",
              "    <tr>\n",
              "      <th>2</th>\n",
              "      <td>TCS</td>\n",
              "      <td>2018-10-01 00:00:00+00:00</td>\n",
              "      <td>10.44</td>\n",
              "      <td>11.13</td>\n",
              "      <td>10.3500</td>\n",
              "      <td>11.10</td>\n",
              "      <td>241074</td>\n",
              "      <td>9.822423</td>\n",
              "      <td>10.471606</td>\n",
              "      <td>9.737746</td>\n",
              "      <td>10.443380</td>\n",
              "      <td>241074</td>\n",
              "      <td>0.0</td>\n",
              "      <td>1.0</td>\n",
              "    </tr>\n",
              "    <tr>\n",
              "      <th>3</th>\n",
              "      <td>TCS</td>\n",
              "      <td>2018-10-02 00:00:00+00:00</td>\n",
              "      <td>10.26</td>\n",
              "      <td>10.46</td>\n",
              "      <td>10.1301</td>\n",
              "      <td>10.41</td>\n",
              "      <td>224051</td>\n",
              "      <td>9.653070</td>\n",
              "      <td>9.841239</td>\n",
              "      <td>9.530855</td>\n",
              "      <td>9.794197</td>\n",
              "      <td>224051</td>\n",
              "      <td>0.0</td>\n",
              "      <td>1.0</td>\n",
              "    </tr>\n",
              "    <tr>\n",
              "      <th>4</th>\n",
              "      <td>TCS</td>\n",
              "      <td>2018-10-03 00:00:00+00:00</td>\n",
              "      <td>10.37</td>\n",
              "      <td>10.41</td>\n",
              "      <td>10.1700</td>\n",
              "      <td>10.29</td>\n",
              "      <td>177811</td>\n",
              "      <td>9.756563</td>\n",
              "      <td>9.794197</td>\n",
              "      <td>9.568394</td>\n",
              "      <td>9.681296</td>\n",
              "      <td>177811</td>\n",
              "      <td>0.0</td>\n",
              "      <td>1.0</td>\n",
              "    </tr>\n",
              "  </tbody>\n",
              "</table>\n",
              "</div>\n",
              "    <div class=\"colab-df-buttons\">\n",
              "\n",
              "  <div class=\"colab-df-container\">\n",
              "    <button class=\"colab-df-convert\" onclick=\"convertToInteractive('df-a30d9403-ef07-4963-913a-2af53baf6b9d')\"\n",
              "            title=\"Convert this dataframe to an interactive table.\"\n",
              "            style=\"display:none;\">\n",
              "\n",
              "  <svg xmlns=\"http://www.w3.org/2000/svg\" height=\"24px\" viewBox=\"0 -960 960 960\">\n",
              "    <path d=\"M120-120v-720h720v720H120Zm60-500h600v-160H180v160Zm220 220h160v-160H400v160Zm0 220h160v-160H400v160ZM180-400h160v-160H180v160Zm440 0h160v-160H620v160ZM180-180h160v-160H180v160Zm440 0h160v-160H620v160Z\"/>\n",
              "  </svg>\n",
              "    </button>\n",
              "\n",
              "  <style>\n",
              "    .colab-df-container {\n",
              "      display:flex;\n",
              "      gap: 12px;\n",
              "    }\n",
              "\n",
              "    .colab-df-convert {\n",
              "      background-color: #E8F0FE;\n",
              "      border: none;\n",
              "      border-radius: 50%;\n",
              "      cursor: pointer;\n",
              "      display: none;\n",
              "      fill: #1967D2;\n",
              "      height: 32px;\n",
              "      padding: 0 0 0 0;\n",
              "      width: 32px;\n",
              "    }\n",
              "\n",
              "    .colab-df-convert:hover {\n",
              "      background-color: #E2EBFA;\n",
              "      box-shadow: 0px 1px 2px rgba(60, 64, 67, 0.3), 0px 1px 3px 1px rgba(60, 64, 67, 0.15);\n",
              "      fill: #174EA6;\n",
              "    }\n",
              "\n",
              "    .colab-df-buttons div {\n",
              "      margin-bottom: 4px;\n",
              "    }\n",
              "\n",
              "    [theme=dark] .colab-df-convert {\n",
              "      background-color: #3B4455;\n",
              "      fill: #D2E3FC;\n",
              "    }\n",
              "\n",
              "    [theme=dark] .colab-df-convert:hover {\n",
              "      background-color: #434B5C;\n",
              "      box-shadow: 0px 1px 3px 1px rgba(0, 0, 0, 0.15);\n",
              "      filter: drop-shadow(0px 1px 2px rgba(0, 0, 0, 0.3));\n",
              "      fill: #FFFFFF;\n",
              "    }\n",
              "  </style>\n",
              "\n",
              "    <script>\n",
              "      const buttonEl =\n",
              "        document.querySelector('#df-a30d9403-ef07-4963-913a-2af53baf6b9d button.colab-df-convert');\n",
              "      buttonEl.style.display =\n",
              "        google.colab.kernel.accessAllowed ? 'block' : 'none';\n",
              "\n",
              "      async function convertToInteractive(key) {\n",
              "        const element = document.querySelector('#df-a30d9403-ef07-4963-913a-2af53baf6b9d');\n",
              "        const dataTable =\n",
              "          await google.colab.kernel.invokeFunction('convertToInteractive',\n",
              "                                                    [key], {});\n",
              "        if (!dataTable) return;\n",
              "\n",
              "        const docLinkHtml = 'Like what you see? Visit the ' +\n",
              "          '<a target=\"_blank\" href=https://colab.research.google.com/notebooks/data_table.ipynb>data table notebook</a>'\n",
              "          + ' to learn more about interactive tables.';\n",
              "        element.innerHTML = '';\n",
              "        dataTable['output_type'] = 'display_data';\n",
              "        await google.colab.output.renderOutput(dataTable, element);\n",
              "        const docLink = document.createElement('div');\n",
              "        docLink.innerHTML = docLinkHtml;\n",
              "        element.appendChild(docLink);\n",
              "      }\n",
              "    </script>\n",
              "  </div>\n",
              "\n",
              "\n",
              "<div id=\"df-c66ddc09-7792-4c57-a113-9f6f16b71b64\">\n",
              "  <button class=\"colab-df-quickchart\" onclick=\"quickchart('df-c66ddc09-7792-4c57-a113-9f6f16b71b64')\"\n",
              "            title=\"Suggest charts.\"\n",
              "            style=\"display:none;\">\n",
              "\n",
              "<svg xmlns=\"http://www.w3.org/2000/svg\" height=\"24px\"viewBox=\"0 0 24 24\"\n",
              "     width=\"24px\">\n",
              "    <g>\n",
              "        <path d=\"M19 3H5c-1.1 0-2 .9-2 2v14c0 1.1.9 2 2 2h14c1.1 0 2-.9 2-2V5c0-1.1-.9-2-2-2zM9 17H7v-7h2v7zm4 0h-2V7h2v10zm4 0h-2v-4h2v4z\"/>\n",
              "    </g>\n",
              "</svg>\n",
              "  </button>\n",
              "\n",
              "<style>\n",
              "  .colab-df-quickchart {\n",
              "      --bg-color: #E8F0FE;\n",
              "      --fill-color: #1967D2;\n",
              "      --hover-bg-color: #E2EBFA;\n",
              "      --hover-fill-color: #174EA6;\n",
              "      --disabled-fill-color: #AAA;\n",
              "      --disabled-bg-color: #DDD;\n",
              "  }\n",
              "\n",
              "  [theme=dark] .colab-df-quickchart {\n",
              "      --bg-color: #3B4455;\n",
              "      --fill-color: #D2E3FC;\n",
              "      --hover-bg-color: #434B5C;\n",
              "      --hover-fill-color: #FFFFFF;\n",
              "      --disabled-bg-color: #3B4455;\n",
              "      --disabled-fill-color: #666;\n",
              "  }\n",
              "\n",
              "  .colab-df-quickchart {\n",
              "    background-color: var(--bg-color);\n",
              "    border: none;\n",
              "    border-radius: 50%;\n",
              "    cursor: pointer;\n",
              "    display: none;\n",
              "    fill: var(--fill-color);\n",
              "    height: 32px;\n",
              "    padding: 0;\n",
              "    width: 32px;\n",
              "  }\n",
              "\n",
              "  .colab-df-quickchart:hover {\n",
              "    background-color: var(--hover-bg-color);\n",
              "    box-shadow: 0 1px 2px rgba(60, 64, 67, 0.3), 0 1px 3px 1px rgba(60, 64, 67, 0.15);\n",
              "    fill: var(--button-hover-fill-color);\n",
              "  }\n",
              "\n",
              "  .colab-df-quickchart-complete:disabled,\n",
              "  .colab-df-quickchart-complete:disabled:hover {\n",
              "    background-color: var(--disabled-bg-color);\n",
              "    fill: var(--disabled-fill-color);\n",
              "    box-shadow: none;\n",
              "  }\n",
              "\n",
              "  .colab-df-spinner {\n",
              "    border: 2px solid var(--fill-color);\n",
              "    border-color: transparent;\n",
              "    border-bottom-color: var(--fill-color);\n",
              "    animation:\n",
              "      spin 1s steps(1) infinite;\n",
              "  }\n",
              "\n",
              "  @keyframes spin {\n",
              "    0% {\n",
              "      border-color: transparent;\n",
              "      border-bottom-color: var(--fill-color);\n",
              "      border-left-color: var(--fill-color);\n",
              "    }\n",
              "    20% {\n",
              "      border-color: transparent;\n",
              "      border-left-color: var(--fill-color);\n",
              "      border-top-color: var(--fill-color);\n",
              "    }\n",
              "    30% {\n",
              "      border-color: transparent;\n",
              "      border-left-color: var(--fill-color);\n",
              "      border-top-color: var(--fill-color);\n",
              "      border-right-color: var(--fill-color);\n",
              "    }\n",
              "    40% {\n",
              "      border-color: transparent;\n",
              "      border-right-color: var(--fill-color);\n",
              "      border-top-color: var(--fill-color);\n",
              "    }\n",
              "    60% {\n",
              "      border-color: transparent;\n",
              "      border-right-color: var(--fill-color);\n",
              "    }\n",
              "    80% {\n",
              "      border-color: transparent;\n",
              "      border-right-color: var(--fill-color);\n",
              "      border-bottom-color: var(--fill-color);\n",
              "    }\n",
              "    90% {\n",
              "      border-color: transparent;\n",
              "      border-bottom-color: var(--fill-color);\n",
              "    }\n",
              "  }\n",
              "</style>\n",
              "\n",
              "  <script>\n",
              "    async function quickchart(key) {\n",
              "      const quickchartButtonEl =\n",
              "        document.querySelector('#' + key + ' button');\n",
              "      quickchartButtonEl.disabled = true;  // To prevent multiple clicks.\n",
              "      quickchartButtonEl.classList.add('colab-df-spinner');\n",
              "      try {\n",
              "        const charts = await google.colab.kernel.invokeFunction(\n",
              "            'suggestCharts', [key], {});\n",
              "      } catch (error) {\n",
              "        console.error('Error during call to suggestCharts:', error);\n",
              "      }\n",
              "      quickchartButtonEl.classList.remove('colab-df-spinner');\n",
              "      quickchartButtonEl.classList.add('colab-df-quickchart-complete');\n",
              "    }\n",
              "    (() => {\n",
              "      let quickchartButtonEl =\n",
              "        document.querySelector('#df-c66ddc09-7792-4c57-a113-9f6f16b71b64 button');\n",
              "      quickchartButtonEl.style.display =\n",
              "        google.colab.kernel.accessAllowed ? 'block' : 'none';\n",
              "    })();\n",
              "  </script>\n",
              "</div>\n",
              "    </div>\n",
              "  </div>\n"
            ]
          },
          "metadata": {},
          "execution_count": 45
        }
      ]
    },
    {
      "cell_type": "code",
      "source": [
        "df = pd.read_csv('TCS.csv', parse_dates=True, index_col='date')\n",
        "df.head()"
      ],
      "metadata": {
        "colab": {
          "base_uri": "https://localhost:8080/",
          "height": 238
        },
        "id": "o1xR_aykaPGB",
        "outputId": "1781ea6e-f132-481a-991e-0e6dddf649ce"
      },
      "execution_count": 46,
      "outputs": [
        {
          "output_type": "execute_result",
          "data": {
            "text/plain": [
              "                          symbol  close   high      low   open  volume  \\\n",
              "date                                                                     \n",
              "2018-09-27 00:00:00+00:00    TCS  10.93  10.97  10.7310  10.82  172309   \n",
              "2018-09-28 00:00:00+00:00    TCS  11.10  11.21  10.8400  10.89  433523   \n",
              "2018-10-01 00:00:00+00:00    TCS  10.44  11.13  10.3500  11.10  241074   \n",
              "2018-10-02 00:00:00+00:00    TCS  10.26  10.46  10.1301  10.41  224051   \n",
              "2018-10-03 00:00:00+00:00    TCS  10.37  10.41  10.1700  10.29  177811   \n",
              "\n",
              "                            adjClose    adjHigh     adjLow    adjOpen  \\\n",
              "date                                                                    \n",
              "2018-09-27 00:00:00+00:00  10.283437  10.321070  10.096208  10.179944   \n",
              "2018-09-28 00:00:00+00:00  10.443380  10.546873  10.198761  10.245803   \n",
              "2018-10-01 00:00:00+00:00   9.822423  10.471606   9.737746  10.443380   \n",
              "2018-10-02 00:00:00+00:00   9.653070   9.841239   9.530855   9.794197   \n",
              "2018-10-03 00:00:00+00:00   9.756563   9.794197   9.568394   9.681296   \n",
              "\n",
              "                           adjVolume  divCash  splitFactor  \n",
              "date                                                        \n",
              "2018-09-27 00:00:00+00:00     172309      0.0          1.0  \n",
              "2018-09-28 00:00:00+00:00     433523      0.0          1.0  \n",
              "2018-10-01 00:00:00+00:00     241074      0.0          1.0  \n",
              "2018-10-02 00:00:00+00:00     224051      0.0          1.0  \n",
              "2018-10-03 00:00:00+00:00     177811      0.0          1.0  "
            ],
            "text/html": [
              "\n",
              "  <div id=\"df-b2aefae2-9e72-4d06-96eb-6853f45e54d1\" class=\"colab-df-container\">\n",
              "    <div>\n",
              "<style scoped>\n",
              "    .dataframe tbody tr th:only-of-type {\n",
              "        vertical-align: middle;\n",
              "    }\n",
              "\n",
              "    .dataframe tbody tr th {\n",
              "        vertical-align: top;\n",
              "    }\n",
              "\n",
              "    .dataframe thead th {\n",
              "        text-align: right;\n",
              "    }\n",
              "</style>\n",
              "<table border=\"1\" class=\"dataframe\">\n",
              "  <thead>\n",
              "    <tr style=\"text-align: right;\">\n",
              "      <th></th>\n",
              "      <th>symbol</th>\n",
              "      <th>close</th>\n",
              "      <th>high</th>\n",
              "      <th>low</th>\n",
              "      <th>open</th>\n",
              "      <th>volume</th>\n",
              "      <th>adjClose</th>\n",
              "      <th>adjHigh</th>\n",
              "      <th>adjLow</th>\n",
              "      <th>adjOpen</th>\n",
              "      <th>adjVolume</th>\n",
              "      <th>divCash</th>\n",
              "      <th>splitFactor</th>\n",
              "    </tr>\n",
              "    <tr>\n",
              "      <th>date</th>\n",
              "      <th></th>\n",
              "      <th></th>\n",
              "      <th></th>\n",
              "      <th></th>\n",
              "      <th></th>\n",
              "      <th></th>\n",
              "      <th></th>\n",
              "      <th></th>\n",
              "      <th></th>\n",
              "      <th></th>\n",
              "      <th></th>\n",
              "      <th></th>\n",
              "      <th></th>\n",
              "    </tr>\n",
              "  </thead>\n",
              "  <tbody>\n",
              "    <tr>\n",
              "      <th>2018-09-27 00:00:00+00:00</th>\n",
              "      <td>TCS</td>\n",
              "      <td>10.93</td>\n",
              "      <td>10.97</td>\n",
              "      <td>10.7310</td>\n",
              "      <td>10.82</td>\n",
              "      <td>172309</td>\n",
              "      <td>10.283437</td>\n",
              "      <td>10.321070</td>\n",
              "      <td>10.096208</td>\n",
              "      <td>10.179944</td>\n",
              "      <td>172309</td>\n",
              "      <td>0.0</td>\n",
              "      <td>1.0</td>\n",
              "    </tr>\n",
              "    <tr>\n",
              "      <th>2018-09-28 00:00:00+00:00</th>\n",
              "      <td>TCS</td>\n",
              "      <td>11.10</td>\n",
              "      <td>11.21</td>\n",
              "      <td>10.8400</td>\n",
              "      <td>10.89</td>\n",
              "      <td>433523</td>\n",
              "      <td>10.443380</td>\n",
              "      <td>10.546873</td>\n",
              "      <td>10.198761</td>\n",
              "      <td>10.245803</td>\n",
              "      <td>433523</td>\n",
              "      <td>0.0</td>\n",
              "      <td>1.0</td>\n",
              "    </tr>\n",
              "    <tr>\n",
              "      <th>2018-10-01 00:00:00+00:00</th>\n",
              "      <td>TCS</td>\n",
              "      <td>10.44</td>\n",
              "      <td>11.13</td>\n",
              "      <td>10.3500</td>\n",
              "      <td>11.10</td>\n",
              "      <td>241074</td>\n",
              "      <td>9.822423</td>\n",
              "      <td>10.471606</td>\n",
              "      <td>9.737746</td>\n",
              "      <td>10.443380</td>\n",
              "      <td>241074</td>\n",
              "      <td>0.0</td>\n",
              "      <td>1.0</td>\n",
              "    </tr>\n",
              "    <tr>\n",
              "      <th>2018-10-02 00:00:00+00:00</th>\n",
              "      <td>TCS</td>\n",
              "      <td>10.26</td>\n",
              "      <td>10.46</td>\n",
              "      <td>10.1301</td>\n",
              "      <td>10.41</td>\n",
              "      <td>224051</td>\n",
              "      <td>9.653070</td>\n",
              "      <td>9.841239</td>\n",
              "      <td>9.530855</td>\n",
              "      <td>9.794197</td>\n",
              "      <td>224051</td>\n",
              "      <td>0.0</td>\n",
              "      <td>1.0</td>\n",
              "    </tr>\n",
              "    <tr>\n",
              "      <th>2018-10-03 00:00:00+00:00</th>\n",
              "      <td>TCS</td>\n",
              "      <td>10.37</td>\n",
              "      <td>10.41</td>\n",
              "      <td>10.1700</td>\n",
              "      <td>10.29</td>\n",
              "      <td>177811</td>\n",
              "      <td>9.756563</td>\n",
              "      <td>9.794197</td>\n",
              "      <td>9.568394</td>\n",
              "      <td>9.681296</td>\n",
              "      <td>177811</td>\n",
              "      <td>0.0</td>\n",
              "      <td>1.0</td>\n",
              "    </tr>\n",
              "  </tbody>\n",
              "</table>\n",
              "</div>\n",
              "    <div class=\"colab-df-buttons\">\n",
              "\n",
              "  <div class=\"colab-df-container\">\n",
              "    <button class=\"colab-df-convert\" onclick=\"convertToInteractive('df-b2aefae2-9e72-4d06-96eb-6853f45e54d1')\"\n",
              "            title=\"Convert this dataframe to an interactive table.\"\n",
              "            style=\"display:none;\">\n",
              "\n",
              "  <svg xmlns=\"http://www.w3.org/2000/svg\" height=\"24px\" viewBox=\"0 -960 960 960\">\n",
              "    <path d=\"M120-120v-720h720v720H120Zm60-500h600v-160H180v160Zm220 220h160v-160H400v160Zm0 220h160v-160H400v160ZM180-400h160v-160H180v160Zm440 0h160v-160H620v160ZM180-180h160v-160H180v160Zm440 0h160v-160H620v160Z\"/>\n",
              "  </svg>\n",
              "    </button>\n",
              "\n",
              "  <style>\n",
              "    .colab-df-container {\n",
              "      display:flex;\n",
              "      gap: 12px;\n",
              "    }\n",
              "\n",
              "    .colab-df-convert {\n",
              "      background-color: #E8F0FE;\n",
              "      border: none;\n",
              "      border-radius: 50%;\n",
              "      cursor: pointer;\n",
              "      display: none;\n",
              "      fill: #1967D2;\n",
              "      height: 32px;\n",
              "      padding: 0 0 0 0;\n",
              "      width: 32px;\n",
              "    }\n",
              "\n",
              "    .colab-df-convert:hover {\n",
              "      background-color: #E2EBFA;\n",
              "      box-shadow: 0px 1px 2px rgba(60, 64, 67, 0.3), 0px 1px 3px 1px rgba(60, 64, 67, 0.15);\n",
              "      fill: #174EA6;\n",
              "    }\n",
              "\n",
              "    .colab-df-buttons div {\n",
              "      margin-bottom: 4px;\n",
              "    }\n",
              "\n",
              "    [theme=dark] .colab-df-convert {\n",
              "      background-color: #3B4455;\n",
              "      fill: #D2E3FC;\n",
              "    }\n",
              "\n",
              "    [theme=dark] .colab-df-convert:hover {\n",
              "      background-color: #434B5C;\n",
              "      box-shadow: 0px 1px 3px 1px rgba(0, 0, 0, 0.15);\n",
              "      filter: drop-shadow(0px 1px 2px rgba(0, 0, 0, 0.3));\n",
              "      fill: #FFFFFF;\n",
              "    }\n",
              "  </style>\n",
              "\n",
              "    <script>\n",
              "      const buttonEl =\n",
              "        document.querySelector('#df-b2aefae2-9e72-4d06-96eb-6853f45e54d1 button.colab-df-convert');\n",
              "      buttonEl.style.display =\n",
              "        google.colab.kernel.accessAllowed ? 'block' : 'none';\n",
              "\n",
              "      async function convertToInteractive(key) {\n",
              "        const element = document.querySelector('#df-b2aefae2-9e72-4d06-96eb-6853f45e54d1');\n",
              "        const dataTable =\n",
              "          await google.colab.kernel.invokeFunction('convertToInteractive',\n",
              "                                                    [key], {});\n",
              "        if (!dataTable) return;\n",
              "\n",
              "        const docLinkHtml = 'Like what you see? Visit the ' +\n",
              "          '<a target=\"_blank\" href=https://colab.research.google.com/notebooks/data_table.ipynb>data table notebook</a>'\n",
              "          + ' to learn more about interactive tables.';\n",
              "        element.innerHTML = '';\n",
              "        dataTable['output_type'] = 'display_data';\n",
              "        await google.colab.output.renderOutput(dataTable, element);\n",
              "        const docLink = document.createElement('div');\n",
              "        docLink.innerHTML = docLinkHtml;\n",
              "        element.appendChild(docLink);\n",
              "      }\n",
              "    </script>\n",
              "  </div>\n",
              "\n",
              "\n",
              "<div id=\"df-99e9b189-a325-4535-8bed-830a90262bc7\">\n",
              "  <button class=\"colab-df-quickchart\" onclick=\"quickchart('df-99e9b189-a325-4535-8bed-830a90262bc7')\"\n",
              "            title=\"Suggest charts.\"\n",
              "            style=\"display:none;\">\n",
              "\n",
              "<svg xmlns=\"http://www.w3.org/2000/svg\" height=\"24px\"viewBox=\"0 0 24 24\"\n",
              "     width=\"24px\">\n",
              "    <g>\n",
              "        <path d=\"M19 3H5c-1.1 0-2 .9-2 2v14c0 1.1.9 2 2 2h14c1.1 0 2-.9 2-2V5c0-1.1-.9-2-2-2zM9 17H7v-7h2v7zm4 0h-2V7h2v10zm4 0h-2v-4h2v4z\"/>\n",
              "    </g>\n",
              "</svg>\n",
              "  </button>\n",
              "\n",
              "<style>\n",
              "  .colab-df-quickchart {\n",
              "      --bg-color: #E8F0FE;\n",
              "      --fill-color: #1967D2;\n",
              "      --hover-bg-color: #E2EBFA;\n",
              "      --hover-fill-color: #174EA6;\n",
              "      --disabled-fill-color: #AAA;\n",
              "      --disabled-bg-color: #DDD;\n",
              "  }\n",
              "\n",
              "  [theme=dark] .colab-df-quickchart {\n",
              "      --bg-color: #3B4455;\n",
              "      --fill-color: #D2E3FC;\n",
              "      --hover-bg-color: #434B5C;\n",
              "      --hover-fill-color: #FFFFFF;\n",
              "      --disabled-bg-color: #3B4455;\n",
              "      --disabled-fill-color: #666;\n",
              "  }\n",
              "\n",
              "  .colab-df-quickchart {\n",
              "    background-color: var(--bg-color);\n",
              "    border: none;\n",
              "    border-radius: 50%;\n",
              "    cursor: pointer;\n",
              "    display: none;\n",
              "    fill: var(--fill-color);\n",
              "    height: 32px;\n",
              "    padding: 0;\n",
              "    width: 32px;\n",
              "  }\n",
              "\n",
              "  .colab-df-quickchart:hover {\n",
              "    background-color: var(--hover-bg-color);\n",
              "    box-shadow: 0 1px 2px rgba(60, 64, 67, 0.3), 0 1px 3px 1px rgba(60, 64, 67, 0.15);\n",
              "    fill: var(--button-hover-fill-color);\n",
              "  }\n",
              "\n",
              "  .colab-df-quickchart-complete:disabled,\n",
              "  .colab-df-quickchart-complete:disabled:hover {\n",
              "    background-color: var(--disabled-bg-color);\n",
              "    fill: var(--disabled-fill-color);\n",
              "    box-shadow: none;\n",
              "  }\n",
              "\n",
              "  .colab-df-spinner {\n",
              "    border: 2px solid var(--fill-color);\n",
              "    border-color: transparent;\n",
              "    border-bottom-color: var(--fill-color);\n",
              "    animation:\n",
              "      spin 1s steps(1) infinite;\n",
              "  }\n",
              "\n",
              "  @keyframes spin {\n",
              "    0% {\n",
              "      border-color: transparent;\n",
              "      border-bottom-color: var(--fill-color);\n",
              "      border-left-color: var(--fill-color);\n",
              "    }\n",
              "    20% {\n",
              "      border-color: transparent;\n",
              "      border-left-color: var(--fill-color);\n",
              "      border-top-color: var(--fill-color);\n",
              "    }\n",
              "    30% {\n",
              "      border-color: transparent;\n",
              "      border-left-color: var(--fill-color);\n",
              "      border-top-color: var(--fill-color);\n",
              "      border-right-color: var(--fill-color);\n",
              "    }\n",
              "    40% {\n",
              "      border-color: transparent;\n",
              "      border-right-color: var(--fill-color);\n",
              "      border-top-color: var(--fill-color);\n",
              "    }\n",
              "    60% {\n",
              "      border-color: transparent;\n",
              "      border-right-color: var(--fill-color);\n",
              "    }\n",
              "    80% {\n",
              "      border-color: transparent;\n",
              "      border-right-color: var(--fill-color);\n",
              "      border-bottom-color: var(--fill-color);\n",
              "    }\n",
              "    90% {\n",
              "      border-color: transparent;\n",
              "      border-bottom-color: var(--fill-color);\n",
              "    }\n",
              "  }\n",
              "</style>\n",
              "\n",
              "  <script>\n",
              "    async function quickchart(key) {\n",
              "      const quickchartButtonEl =\n",
              "        document.querySelector('#' + key + ' button');\n",
              "      quickchartButtonEl.disabled = true;  // To prevent multiple clicks.\n",
              "      quickchartButtonEl.classList.add('colab-df-spinner');\n",
              "      try {\n",
              "        const charts = await google.colab.kernel.invokeFunction(\n",
              "            'suggestCharts', [key], {});\n",
              "      } catch (error) {\n",
              "        console.error('Error during call to suggestCharts:', error);\n",
              "      }\n",
              "      quickchartButtonEl.classList.remove('colab-df-spinner');\n",
              "      quickchartButtonEl.classList.add('colab-df-quickchart-complete');\n",
              "    }\n",
              "    (() => {\n",
              "      let quickchartButtonEl =\n",
              "        document.querySelector('#df-99e9b189-a325-4535-8bed-830a90262bc7 button');\n",
              "      quickchartButtonEl.style.display =\n",
              "        google.colab.kernel.accessAllowed ? 'block' : 'none';\n",
              "    })();\n",
              "  </script>\n",
              "</div>\n",
              "    </div>\n",
              "  </div>\n"
            ]
          },
          "metadata": {},
          "execution_count": 46
        }
      ]
    },
    {
      "cell_type": "code",
      "source": [
        "df.info()"
      ],
      "metadata": {
        "colab": {
          "base_uri": "https://localhost:8080/"
        },
        "id": "-WI5KkOvZ_YC",
        "outputId": "d3b4e381-fbff-472d-cf2f-dbb46bef56df"
      },
      "execution_count": 47,
      "outputs": [
        {
          "output_type": "stream",
          "name": "stdout",
          "text": [
            "<class 'pandas.core.frame.DataFrame'>\n",
            "DatetimeIndex: 1256 entries, 2018-09-27 00:00:00+00:00 to 2023-09-25 00:00:00+00:00\n",
            "Data columns (total 13 columns):\n",
            " #   Column       Non-Null Count  Dtype  \n",
            "---  ------       --------------  -----  \n",
            " 0   symbol       1256 non-null   object \n",
            " 1   close        1256 non-null   float64\n",
            " 2   high         1256 non-null   float64\n",
            " 3   low          1256 non-null   float64\n",
            " 4   open         1256 non-null   float64\n",
            " 5   volume       1256 non-null   int64  \n",
            " 6   adjClose     1256 non-null   float64\n",
            " 7   adjHigh      1256 non-null   float64\n",
            " 8   adjLow       1256 non-null   float64\n",
            " 9   adjOpen      1256 non-null   float64\n",
            " 10  adjVolume    1256 non-null   int64  \n",
            " 11  divCash      1256 non-null   float64\n",
            " 12  splitFactor  1256 non-null   float64\n",
            "dtypes: float64(10), int64(2), object(1)\n",
            "memory usage: 137.4+ KB\n"
          ]
        }
      ]
    },
    {
      "cell_type": "markdown",
      "source": [
        "**Choosing** *close* column data for predictions"
      ],
      "metadata": {
        "id": "WbzlulDRI_CG"
      }
    },
    {
      "cell_type": "code",
      "source": [
        "plt.figure(figsize=(10,6))\n",
        "plt.plot(df['close'])"
      ],
      "metadata": {
        "colab": {
          "base_uri": "https://localhost:8080/",
          "height": 543
        },
        "id": "hBUthYsyat-4",
        "outputId": "6a5c184f-1d42-4780-b4c9-bf6d218925b3"
      },
      "execution_count": 48,
      "outputs": [
        {
          "output_type": "execute_result",
          "data": {
            "text/plain": [
              "[<matplotlib.lines.Line2D at 0x7fd18f139720>]"
            ]
          },
          "metadata": {},
          "execution_count": 48
        },
        {
          "output_type": "display_data",
          "data": {
            "text/plain": [
              "<Figure size 1000x600 with 1 Axes>"
            ],
            "image/png": "[encoded data removed]"
          },
          "metadata": {}
        }
      ]
    },
    {
      "cell_type": "code",
      "source": [
        "df_close = df['close']\n",
        "df_close"
      ],
      "metadata": {
        "colab": {
          "base_uri": "https://localhost:8080/",
          "height": 0
        },
        "id": "QGlFl-AcUIe8",
        "outputId": "21977071-d617-4d5d-c03c-e56c44810f8a"
      },
      "execution_count": 12,
      "outputs": [
        {
          "output_type": "execute_result",
          "data": {
            "text/plain": [
              "date\n",
              "2018-09-27 00:00:00+00:00    10.93\n",
              "2018-09-28 00:00:00+00:00    11.10\n",
              "2018-10-01 00:00:00+00:00    10.44\n",
              "2018-10-02 00:00:00+00:00    10.26\n",
              "2018-10-03 00:00:00+00:00    10.37\n",
              "                             ...  \n",
              "2023-09-19 00:00:00+00:00     2.16\n",
              "2023-09-20 00:00:00+00:00     2.13\n",
              "2023-09-21 00:00:00+00:00     2.10\n",
              "2023-09-22 00:00:00+00:00     2.02\n",
              "2023-09-25 00:00:00+00:00     1.96\n",
              "Name: close, Length: 1256, dtype: float64"
            ]
          },
          "metadata": {},
          "execution_count": 12
        }
      ]
    },
    {
      "cell_type": "code",
      "source": [
        "df_close.reset_index(drop = True, inplace = True)"
      ],
      "metadata": {
        "id": "5HxymDg0Vh7w"
      },
      "execution_count": 13,
      "outputs": []
    },
    {
      "cell_type": "markdown",
      "source": [
        "\n",
        "\n",
        "---\n"
      ],
      "metadata": {
        "id": "zWEARq41z_wG"
      }
    },
    {
      "cell_type": "markdown",
      "source": [
        "### 4. Pre-processing the data"
      ],
      "metadata": {
        "id": "dAq1MZE5sZmy"
      }
    },
    {
      "cell_type": "markdown",
      "source": [
        "LSTM are sensitive to the scale of the data. So we apply MinMax scaler."
      ],
      "metadata": {
        "id": "j2VvWMFWdvlg"
      }
    },
    {
      "cell_type": "code",
      "source": [
        "from sklearn.preprocessing import MinMaxScaler\n",
        "scaler = MinMaxScaler(feature_range=(0, 1))\n",
        "df_close = scaler.fit_transform(np.array(df_close).reshape(-1, 1))"
      ],
      "metadata": {
        "id": "Hy9vA5WSZb70"
      },
      "execution_count": 14,
      "outputs": []
    },
    {
      "cell_type": "code",
      "source": [
        "df_close.shape"
      ],
      "metadata": {
        "colab": {
          "base_uri": "https://localhost:8080/",
          "height": 0
        },
        "id": "OSIXvjk9eqGa",
        "outputId": "a831f2ba-7f59-49ef-8e56-4b3dc65c890c"
      },
      "execution_count": 15,
      "outputs": [
        {
          "output_type": "execute_result",
          "data": {
            "text/plain": [
              "(1256, 1)"
            ]
          },
          "metadata": {},
          "execution_count": 15
        }
      ]
    },
    {
      "cell_type": "markdown",
      "source": [
        "Splitting the dataset into Train and Test split"
      ],
      "metadata": {
        "id": "xInGurKLe9-4"
      }
    },
    {
      "cell_type": "code",
      "source": [
        "training_size = int(len(df_close) * 0.70)                   #training with 70% of data\n",
        "test_size = len(df_close) - training_size                   #testing the remaining 30%"
      ],
      "metadata": {
        "id": "PWFKWO-eessh"
      },
      "execution_count": 16,
      "outputs": []
    },
    {
      "cell_type": "code",
      "source": [
        "train_data = df_close[0:training_size,:]\n",
        "test_data = df_close[training_size:len(df_close),:1]"
      ],
      "metadata": {
        "id": "pbg8VPyQgNOs"
      },
      "execution_count": 17,
      "outputs": []
    },
    {
      "cell_type": "code",
      "source": [
        "#converting an array of values into a dataset matrix\n",
        "def create_dataset(dataset, time_step=1):\n",
        "  dataX, dataY = [], []\n",
        "  for i in range(len(dataset)-time_step-1):\n",
        "    a = dataset[i:(i+time_step), 0]\n",
        "    dataX.append(a)\n",
        "    dataY.append(dataset[i + time_step, 0])\n",
        "  return np.array(dataX), np.array(dataY)"
      ],
      "metadata": {
        "id": "JpFZmUTYg5xs"
      },
      "execution_count": 18,
      "outputs": []
    },
    {
      "cell_type": "code",
      "source": [
        "#reshape into X=t, t+1, t+2, t+3 and Y=t+4\n",
        "time_step = 100\n",
        "xtrain, ytrain = create_dataset(train_data, time_step)\n",
        "xtest, ytest = create_dataset(test_data, time_step)"
      ],
      "metadata": {
        "id": "gwMpAbh7muX8"
      },
      "execution_count": 19,
      "outputs": []
    },
    {
      "cell_type": "code",
      "source": [
        "xtrain.shape, ytrain.shape"
      ],
      "metadata": {
        "colab": {
          "base_uri": "https://localhost:8080/",
          "height": 0
        },
        "id": "to-3piivnhe4",
        "outputId": "cf5138fc-c02c-451d-be0f-e45ceda8ad8e"
      },
      "execution_count": 20,
      "outputs": [
        {
          "output_type": "execute_result",
          "data": {
            "text/plain": [
              "((778, 100), (778,))"
            ]
          },
          "metadata": {},
          "execution_count": 20
        }
      ]
    },
    {
      "cell_type": "code",
      "source": [
        "xtest.shape, ytest.shape"
      ],
      "metadata": {
        "colab": {
          "base_uri": "https://localhost:8080/",
          "height": 0
        },
        "id": "6wbzfd3Gn56b",
        "outputId": "a55abbb6-5cb6-4174-841e-fc65a8259acf"
      },
      "execution_count": 21,
      "outputs": [
        {
          "output_type": "execute_result",
          "data": {
            "text/plain": [
              "((276, 100), (276,))"
            ]
          },
          "metadata": {},
          "execution_count": 21
        }
      ]
    },
    {
      "cell_type": "code",
      "source": [
        "#reshape the input to be [samples, time steps, features] which is required for LSTM\n",
        "xtrain = xtrain.reshape(xtrain.shape[0], xtrain.shape[1], 1)\n",
        "xtest = xtest.reshape(xtest.shape[0], xtest.shape[1], 1)"
      ],
      "metadata": {
        "id": "8IhO_8wzoCfn"
      },
      "execution_count": 22,
      "outputs": []
    },
    {
      "cell_type": "markdown",
      "source": [
        "---"
      ],
      "metadata": {
        "id": "yhrVHI6u0qDj"
      }
    },
    {
      "cell_type": "markdown",
      "source": [
        "### 5. Creating the LSTM model"
      ],
      "metadata": {
        "id": "luztuUrSsFJf"
      }
    },
    {
      "cell_type": "code",
      "source": [
        "#importing required libraries\n",
        "\n",
        "from tensorflow.keras.models import Sequential\n",
        "from tensorflow.keras.layers import Dense\n",
        "from tensorflow.keras.layers import LSTM"
      ],
      "metadata": {
        "id": "ZbKZz_hVsDnK"
      },
      "execution_count": 23,
      "outputs": []
    },
    {
      "cell_type": "code",
      "source": [
        "model = Sequential()\n",
        "model.add(LSTM(50, return_sequences=True, input_shape=(100, 1)))\n",
        "model.add(LSTM(50, return_sequences=True))\n",
        "model.add(LSTM(50))\n",
        "model.add(Dense(1))\n",
        "model.compile(loss='mean_squared_error', optimizer='adam')"
      ],
      "metadata": {
        "id": "1LLliAj9tr8f"
      },
      "execution_count": 24,
      "outputs": []
    },
    {
      "cell_type": "code",
      "source": [
        "model.summary()"
      ],
      "metadata": {
        "colab": {
          "base_uri": "https://localhost:8080/",
          "height": 0
        },
        "id": "YSwMvyzHvWwP",
        "outputId": "4cab8e7e-ffe7-4529-a7af-bdb748d06ec3"
      },
      "execution_count": 25,
      "outputs": [
        {
          "output_type": "stream",
          "name": "stdout",
          "text": [
            "Model: \"sequential\"\n",
            "_________________________________________________________________\n",
            " Layer (type)                Output Shape              Param #   \n",
            "=================================================================\n",
            " lstm (LSTM)                 (None, 100, 50)           10400     \n",
            "                                                                 \n",
            " lstm_1 (LSTM)               (None, 100, 50)           20200     \n",
            "                                                                 \n",
            " lstm_2 (LSTM)               (None, 50)                20200     \n",
            "                                                                 \n",
            " dense (Dense)               (None, 1)                 51        \n",
            "                                                                 \n",
            "=================================================================\n",
            "Total params: 50851 (198.64 KB)\n",
            "Trainable params: 50851 (198.64 KB)\n",
            "Non-trainable params: 0 (0.00 Byte)\n",
            "_________________________________________________________________\n"
          ]
        }
      ]
    },
    {
      "cell_type": "code",
      "source": [
        "model.fit(xtrain, ytrain, validation_data=(xtest, ytest), epochs=100, batch_size=64, verbose=1)"
      ],
      "metadata": {
        "colab": {
          "base_uri": "https://localhost:8080/",
          "height": 0
        },
        "id": "LRycOjN3vdPq",
        "outputId": "8b082261-b1ca-47ac-eab7-707779f92f6a"
      },
      "execution_count": 26,
      "outputs": [
        {
          "output_type": "stream",
          "name": "stdout",
          "text": [
            "Epoch 1/100\n",
            "13/13 [==============================] - 6s 180ms/step - loss: 0.0384 - val_loss: 0.0020\n",
            "Epoch 2/100\n",
            "13/13 [==============================] - 1s 109ms/step - loss: 0.0085 - val_loss: 0.0025\n",
            "Epoch 3/100\n",
            "13/13 [==============================] - 2s 162ms/step - loss: 0.0039 - val_loss: 0.0011\n",
            "Epoch 4/100\n",
            "13/13 [==============================] - 1s 110ms/step - loss: 0.0029 - val_loss: 0.0011\n",
            "Epoch 5/100\n",
            "13/13 [==============================] - 1s 112ms/step - loss: 0.0029 - val_loss: 0.0011\n",
            "Epoch 6/100\n",
            "13/13 [==============================] - 1s 109ms/step - loss: 0.0026 - val_loss: 9.9972e-04\n",
            "Epoch 7/100\n",
            "13/13 [==============================] - 1s 109ms/step - loss: 0.0024 - val_loss: 9.0240e-04\n",
            "Epoch 8/100\n",
            "13/13 [==============================] - 1s 110ms/step - loss: 0.0023 - val_loss: 7.9230e-04\n",
            "Epoch 9/100\n",
            "13/13 [==============================] - 1s 107ms/step - loss: 0.0022 - val_loss: 6.0806e-04\n",
            "Epoch 10/100\n",
            "13/13 [==============================] - 1s 113ms/step - loss: 0.0020 - val_loss: 5.4578e-04\n",
            "Epoch 11/100\n",
            "13/13 [==============================] - 2s 152ms/step - loss: 0.0019 - val_loss: 5.1846e-04\n",
            "Epoch 12/100\n",
            "13/13 [==============================] - 1s 108ms/step - loss: 0.0020 - val_loss: 9.7472e-04\n",
            "Epoch 13/100\n",
            "13/13 [==============================] - 1s 106ms/step - loss: 0.0021 - val_loss: 4.8373e-04\n",
            "Epoch 14/100\n",
            "13/13 [==============================] - 1s 109ms/step - loss: 0.0019 - val_loss: 7.1542e-04\n",
            "Epoch 15/100\n",
            "13/13 [==============================] - 1s 109ms/step - loss: 0.0018 - val_loss: 5.8920e-04\n",
            "Epoch 16/100\n",
            "13/13 [==============================] - 1s 109ms/step - loss: 0.0017 - val_loss: 4.7103e-04\n",
            "Epoch 17/100\n",
            "13/13 [==============================] - 1s 109ms/step - loss: 0.0020 - val_loss: 6.9025e-04\n",
            "Epoch 18/100\n",
            "13/13 [==============================] - 1s 115ms/step - loss: 0.0018 - val_loss: 4.9223e-04\n",
            "Epoch 19/100\n",
            "13/13 [==============================] - 2s 148ms/step - loss: 0.0017 - val_loss: 4.7197e-04\n",
            "Epoch 20/100\n",
            "13/13 [==============================] - 1s 109ms/step - loss: 0.0018 - val_loss: 5.0486e-04\n",
            "Epoch 21/100\n",
            "13/13 [==============================] - 1s 108ms/step - loss: 0.0019 - val_loss: 3.9505e-04\n",
            "Epoch 22/100\n",
            "13/13 [==============================] - 1s 107ms/step - loss: 0.0020 - val_loss: 4.9983e-04\n",
            "Epoch 23/100\n",
            "13/13 [==============================] - 1s 110ms/step - loss: 0.0017 - val_loss: 4.8461e-04\n",
            "Epoch 24/100\n",
            "13/13 [==============================] - 1s 108ms/step - loss: 0.0016 - val_loss: 4.3074e-04\n",
            "Epoch 25/100\n",
            "13/13 [==============================] - 1s 109ms/step - loss: 0.0016 - val_loss: 3.8001e-04\n",
            "Epoch 26/100\n",
            "13/13 [==============================] - 3s 208ms/step - loss: 0.0016 - val_loss: 5.4216e-04\n",
            "Epoch 27/100\n",
            "13/13 [==============================] - 2s 114ms/step - loss: 0.0016 - val_loss: 3.8346e-04\n",
            "Epoch 28/100\n",
            "13/13 [==============================] - 1s 110ms/step - loss: 0.0015 - val_loss: 5.9645e-04\n",
            "Epoch 29/100\n",
            "13/13 [==============================] - 1s 106ms/step - loss: 0.0015 - val_loss: 4.1149e-04\n",
            "Epoch 30/100\n",
            "13/13 [==============================] - 1s 109ms/step - loss: 0.0014 - val_loss: 4.0291e-04\n",
            "Epoch 31/100\n",
            "13/13 [==============================] - 1s 110ms/step - loss: 0.0015 - val_loss: 3.3523e-04\n",
            "Epoch 32/100\n",
            "13/13 [==============================] - 1s 111ms/step - loss: 0.0016 - val_loss: 6.1650e-04\n",
            "Epoch 33/100\n",
            "13/13 [==============================] - 1s 111ms/step - loss: 0.0015 - val_loss: 3.3275e-04\n",
            "Epoch 34/100\n",
            "13/13 [==============================] - 2s 161ms/step - loss: 0.0016 - val_loss: 6.1264e-04\n",
            "Epoch 35/100\n",
            "13/13 [==============================] - 1s 110ms/step - loss: 0.0013 - val_loss: 4.0238e-04\n",
            "Epoch 36/100\n",
            "13/13 [==============================] - 1s 109ms/step - loss: 0.0013 - val_loss: 3.8015e-04\n",
            "Epoch 37/100\n",
            "13/13 [==============================] - 1s 108ms/step - loss: 0.0013 - val_loss: 3.6979e-04\n",
            "Epoch 38/100\n",
            "13/13 [==============================] - 1s 108ms/step - loss: 0.0013 - val_loss: 4.8220e-04\n",
            "Epoch 39/100\n",
            "13/13 [==============================] - 1s 108ms/step - loss: 0.0015 - val_loss: 3.2334e-04\n",
            "Epoch 40/100\n",
            "13/13 [==============================] - 1s 107ms/step - loss: 0.0013 - val_loss: 3.8750e-04\n",
            "Epoch 41/100\n",
            "13/13 [==============================] - 1s 112ms/step - loss: 0.0012 - val_loss: 3.2075e-04\n",
            "Epoch 42/100\n",
            "13/13 [==============================] - 2s 155ms/step - loss: 0.0012 - val_loss: 3.1720e-04\n",
            "Epoch 43/100\n",
            "13/13 [==============================] - 1s 108ms/step - loss: 0.0013 - val_loss: 5.8409e-04\n",
            "Epoch 44/100\n",
            "13/13 [==============================] - 1s 107ms/step - loss: 0.0013 - val_loss: 3.2105e-04\n",
            "Epoch 45/100\n",
            "13/13 [==============================] - 1s 110ms/step - loss: 0.0012 - val_loss: 3.4606e-04\n",
            "Epoch 46/100\n",
            "13/13 [==============================] - 1s 107ms/step - loss: 0.0013 - val_loss: 4.1429e-04\n",
            "Epoch 47/100\n",
            "13/13 [==============================] - 1s 110ms/step - loss: 0.0011 - val_loss: 5.0428e-04\n",
            "Epoch 48/100\n",
            "13/13 [==============================] - 1s 109ms/step - loss: 0.0012 - val_loss: 2.8924e-04\n",
            "Epoch 49/100\n",
            "13/13 [==============================] - 1s 114ms/step - loss: 0.0013 - val_loss: 6.6307e-04\n",
            "Epoch 50/100\n",
            "13/13 [==============================] - 2s 149ms/step - loss: 0.0013 - val_loss: 3.0334e-04\n",
            "Epoch 51/100\n",
            "13/13 [==============================] - 1s 108ms/step - loss: 0.0011 - val_loss: 3.0795e-04\n",
            "Epoch 52/100\n",
            "13/13 [==============================] - 1s 107ms/step - loss: 0.0010 - val_loss: 3.2553e-04\n",
            "Epoch 53/100\n",
            "13/13 [==============================] - 1s 109ms/step - loss: 0.0010 - val_loss: 3.5517e-04\n",
            "Epoch 54/100\n",
            "13/13 [==============================] - 1s 109ms/step - loss: 0.0011 - val_loss: 3.3836e-04\n",
            "Epoch 55/100\n",
            "13/13 [==============================] - 1s 107ms/step - loss: 0.0011 - val_loss: 2.7310e-04\n",
            "Epoch 56/100\n",
            "13/13 [==============================] - 1s 109ms/step - loss: 0.0011 - val_loss: 3.0810e-04\n",
            "Epoch 57/100\n",
            "13/13 [==============================] - 2s 118ms/step - loss: 0.0011 - val_loss: 3.6285e-04\n",
            "Epoch 58/100\n",
            "13/13 [==============================] - 2s 144ms/step - loss: 9.7958e-04 - val_loss: 3.0446e-04\n",
            "Epoch 59/100\n",
            "13/13 [==============================] - 1s 111ms/step - loss: 9.4833e-04 - val_loss: 2.6341e-04\n",
            "Epoch 60/100\n",
            "13/13 [==============================] - 1s 108ms/step - loss: 9.7933e-04 - val_loss: 2.5803e-04\n",
            "Epoch 61/100\n",
            "13/13 [==============================] - 1s 110ms/step - loss: 0.0011 - val_loss: 3.1853e-04\n",
            "Epoch 62/100\n",
            "13/13 [==============================] - 1s 111ms/step - loss: 8.9312e-04 - val_loss: 2.9830e-04\n",
            "Epoch 63/100\n",
            "13/13 [==============================] - 1s 112ms/step - loss: 9.0206e-04 - val_loss: 2.5793e-04\n",
            "Epoch 64/100\n",
            "13/13 [==============================] - 1s 111ms/step - loss: 8.6263e-04 - val_loss: 2.7070e-04\n",
            "Epoch 65/100\n",
            "13/13 [==============================] - 2s 130ms/step - loss: 8.8898e-04 - val_loss: 2.5081e-04\n",
            "Epoch 66/100\n",
            "13/13 [==============================] - 2s 133ms/step - loss: 8.4820e-04 - val_loss: 2.6955e-04\n",
            "Epoch 67/100\n",
            "13/13 [==============================] - 1s 109ms/step - loss: 8.6518e-04 - val_loss: 3.5361e-04\n",
            "Epoch 68/100\n",
            "13/13 [==============================] - 1s 109ms/step - loss: 8.7494e-04 - val_loss: 3.9153e-04\n",
            "Epoch 69/100\n",
            "13/13 [==============================] - 1s 108ms/step - loss: 0.0010 - val_loss: 2.4157e-04\n",
            "Epoch 70/100\n",
            "13/13 [==============================] - 1s 108ms/step - loss: 8.4070e-04 - val_loss: 2.2956e-04\n",
            "Epoch 71/100\n",
            "13/13 [==============================] - 1s 108ms/step - loss: 7.7821e-04 - val_loss: 2.5189e-04\n",
            "Epoch 72/100\n",
            "13/13 [==============================] - 1s 109ms/step - loss: 8.2079e-04 - val_loss: 2.5301e-04\n",
            "Epoch 73/100\n",
            "13/13 [==============================] - 2s 139ms/step - loss: 7.7102e-04 - val_loss: 2.1940e-04\n",
            "Epoch 74/100\n",
            "13/13 [==============================] - 2s 126ms/step - loss: 7.4675e-04 - val_loss: 2.2410e-04\n",
            "Epoch 75/100\n",
            "13/13 [==============================] - 1s 107ms/step - loss: 7.5115e-04 - val_loss: 2.1653e-04\n",
            "Epoch 76/100\n",
            "13/13 [==============================] - 1s 108ms/step - loss: 7.6982e-04 - val_loss: 2.4191e-04\n",
            "Epoch 77/100\n",
            "13/13 [==============================] - 1s 108ms/step - loss: 7.2768e-04 - val_loss: 2.3032e-04\n",
            "Epoch 78/100\n",
            "13/13 [==============================] - 1s 109ms/step - loss: 7.3209e-04 - val_loss: 2.1052e-04\n",
            "Epoch 79/100\n",
            "13/13 [==============================] - 1s 108ms/step - loss: 7.6399e-04 - val_loss: 2.3500e-04\n",
            "Epoch 80/100\n",
            "13/13 [==============================] - 1s 109ms/step - loss: 7.5327e-04 - val_loss: 2.2399e-04\n",
            "Epoch 81/100\n",
            "13/13 [==============================] - 2s 144ms/step - loss: 7.0311e-04 - val_loss: 2.1102e-04\n",
            "Epoch 82/100\n",
            "13/13 [==============================] - 2s 124ms/step - loss: 7.4566e-04 - val_loss: 1.9722e-04\n",
            "Epoch 83/100\n",
            "13/13 [==============================] - 1s 109ms/step - loss: 8.8760e-04 - val_loss: 3.3738e-04\n",
            "Epoch 84/100\n",
            "13/13 [==============================] - 1s 108ms/step - loss: 7.6502e-04 - val_loss: 1.9231e-04\n",
            "Epoch 85/100\n",
            "13/13 [==============================] - 1s 109ms/step - loss: 7.4435e-04 - val_loss: 1.8974e-04\n",
            "Epoch 86/100\n",
            "13/13 [==============================] - 1s 110ms/step - loss: 6.9362e-04 - val_loss: 3.1123e-04\n",
            "Epoch 87/100\n",
            "13/13 [==============================] - 1s 107ms/step - loss: 9.8041e-04 - val_loss: 2.4668e-04\n",
            "Epoch 88/100\n",
            "13/13 [==============================] - 1s 108ms/step - loss: 7.2249e-04 - val_loss: 2.5890e-04\n",
            "Epoch 89/100\n",
            "13/13 [==============================] - 2s 150ms/step - loss: 8.4810e-04 - val_loss: 1.9426e-04\n",
            "Epoch 90/100\n",
            "13/13 [==============================] - 2s 114ms/step - loss: 7.8091e-04 - val_loss: 1.9138e-04\n",
            "Epoch 91/100\n",
            "13/13 [==============================] - 1s 106ms/step - loss: 8.1837e-04 - val_loss: 2.6202e-04\n",
            "Epoch 92/100\n",
            "13/13 [==============================] - 1s 110ms/step - loss: 6.8597e-04 - val_loss: 1.7925e-04\n",
            "Epoch 93/100\n",
            "13/13 [==============================] - 1s 107ms/step - loss: 6.6575e-04 - val_loss: 3.0963e-04\n",
            "Epoch 94/100\n",
            "13/13 [==============================] - 1s 105ms/step - loss: 7.1293e-04 - val_loss: 1.8008e-04\n",
            "Epoch 95/100\n",
            "13/13 [==============================] - 1s 109ms/step - loss: 7.2283e-04 - val_loss: 1.8431e-04\n",
            "Epoch 96/100\n",
            "13/13 [==============================] - 1s 107ms/step - loss: 6.6089e-04 - val_loss: 1.7549e-04\n",
            "Epoch 97/100\n",
            "13/13 [==============================] - 2s 148ms/step - loss: 6.9081e-04 - val_loss: 2.3127e-04\n",
            "Epoch 98/100\n",
            "13/13 [==============================] - 2s 115ms/step - loss: 6.4767e-04 - val_loss: 2.5366e-04\n",
            "Epoch 99/100\n",
            "13/13 [==============================] - 1s 110ms/step - loss: 7.8612e-04 - val_loss: 2.3787e-04\n",
            "Epoch 100/100\n",
            "13/13 [==============================] - 1s 108ms/step - loss: 7.1543e-04 - val_loss: 2.0480e-04\n"
          ]
        },
        {
          "output_type": "execute_result",
          "data": {
            "text/plain": [
              "<keras.src.callbacks.History at 0x7fd18ee8cf40>"
            ]
          },
          "metadata": {},
          "execution_count": 26
        }
      ]
    },
    {
      "cell_type": "markdown",
      "source": [
        "---"
      ],
      "metadata": {
        "id": "_wDzMePf-Xsw"
      }
    },
    {
      "cell_type": "markdown",
      "source": [
        "### 6. Predicting and plotting test data"
      ],
      "metadata": {
        "id": "PT43323b-OUt"
      }
    },
    {
      "cell_type": "code",
      "source": [
        "#predicting and checking performance metrics\n",
        "train_predict = model.predict(xtrain)\n",
        "test_predict = model.predict(xtest)"
      ],
      "metadata": {
        "colab": {
          "base_uri": "https://localhost:8080/",
          "height": 0
        },
        "id": "FoTIQeXdxRdX",
        "outputId": "7f257cd4-2b68-4a2d-8384-d2050d5793f0"
      },
      "execution_count": 27,
      "outputs": [
        {
          "output_type": "stream",
          "name": "stdout",
          "text": [
            "25/25 [==============================] - 2s 29ms/step\n",
            "9/9 [==============================] - 0s 21ms/step\n"
          ]
        }
      ]
    },
    {
      "cell_type": "code",
      "source": [
        "#transforming back to original form\n",
        "train_predict = scaler.inverse_transform(train_predict)\n",
        "test_predict = scaler.inverse_transform(test_predict)"
      ],
      "metadata": {
        "id": "m1r2TnQ-yQi2"
      },
      "execution_count": 28,
      "outputs": []
    },
    {
      "cell_type": "markdown",
      "source": [
        "Calculating RMSE performance metrics"
      ],
      "metadata": {
        "id": "dK1niwXwzuoq"
      }
    },
    {
      "cell_type": "code",
      "source": [
        "import math\n",
        "from sklearn.metrics import mean_squared_error"
      ],
      "metadata": {
        "id": "2LerL2u2yl69"
      },
      "execution_count": 29,
      "outputs": []
    },
    {
      "cell_type": "code",
      "source": [
        "#Train data RMSE\n",
        "math.sqrt(mean_squared_error(ytrain, train_predict))"
      ],
      "metadata": {
        "colab": {
          "base_uri": "https://localhost:8080/",
          "height": 0
        },
        "id": "Kj4Pe5oZzCjU",
        "outputId": "c918f9d3-2e86-41fe-8dcb-afc600daa43a"
      },
      "execution_count": 30,
      "outputs": [
        {
          "output_type": "execute_result",
          "data": {
            "text/plain": [
              "8.803500822967354"
            ]
          },
          "metadata": {},
          "execution_count": 30
        }
      ]
    },
    {
      "cell_type": "code",
      "source": [
        "#Test data RMSE\n",
        "math.sqrt(mean_squared_error(ytest, test_predict))"
      ],
      "metadata": {
        "colab": {
          "base_uri": "https://localhost:8080/",
          "height": 0
        },
        "id": "G1bK3q1CzW77",
        "outputId": "062db929-031b-47e3-976a-f1b44d7352ed"
      },
      "execution_count": 31,
      "outputs": [
        {
          "output_type": "execute_result",
          "data": {
            "text/plain": [
              "4.205535085022407"
            ]
          },
          "metadata": {},
          "execution_count": 31
        }
      ]
    },
    {
      "cell_type": "code",
      "source": [
        "#shifting train predictions for plotting\n",
        "look_back = 100\n",
        "trainPredictPlot = np.empty_like(df_close)\n",
        "trainPredictPlot[:, :] = np.nan\n",
        "trainPredictPlot[look_back:len(train_predict)+look_back, :] = train_predict\n",
        "#shifting test predictions for plotting\n",
        "testPredictPlot = np.empty_like(df_close)\n",
        "testPredictPlot[:, :] = np.nan\n",
        "testPredictPlot[len(train_predict)+(look_back*2)+1:len(df_close)-1,:] = test_predict"
      ],
      "metadata": {
        "id": "cAjfdToCzc87"
      },
      "execution_count": 32,
      "outputs": []
    },
    {
      "cell_type": "code",
      "source": [
        "# plotting\n",
        "plt.figure(figsize=(10,6))\n",
        "plt.plot(scaler.inverse_transform(df_close))\n",
        "plt.plot(trainPredictPlot)\n",
        "plt.plot(testPredictPlot)\n",
        "plt.legend(['Original Data', 'Train Data', 'Test Data'])\n",
        "plt.show()"
      ],
      "metadata": {
        "colab": {
          "base_uri": "https://localhost:8080/",
          "height": 526
        },
        "id": "S9U-7CH11118",
        "outputId": "b73f2765-f1fc-4d38-b969-5771b1a34003"
      },
      "execution_count": 33,
      "outputs": [
        {
          "output_type": "display_data",
          "data": {
            "text/plain": [
              "<Figure size 1000x600 with 1 Axes>"
            ],
            "image/png": "[encoded data removed]"
          },
          "metadata": {}
        }
      ]
    },
    {
      "cell_type": "markdown",
      "source": [
        "---"
      ],
      "metadata": {
        "id": "A3CbCDPc-dG2"
      }
    },
    {
      "cell_type": "markdown",
      "source": [
        "### 7. Forecasting the data for 30 days"
      ],
      "metadata": {
        "id": "8lb5siwU7vp0"
      }
    },
    {
      "cell_type": "code",
      "source": [
        "len(test_data)"
      ],
      "metadata": {
        "colab": {
          "base_uri": "https://localhost:8080/",
          "height": 0
        },
        "id": "Ng0GAWeW2EmO",
        "outputId": "296fe065-67db-4e5f-b33a-1a2fc27e5337"
      },
      "execution_count": 34,
      "outputs": [
        {
          "output_type": "execute_result",
          "data": {
            "text/plain": [
              "377"
            ]
          },
          "metadata": {},
          "execution_count": 34
        }
      ]
    },
    {
      "cell_type": "code",
      "source": [
        "xinput = test_data[len(test_data)-100:].reshape(1, -1)\n",
        "xinput.shape"
      ],
      "metadata": {
        "colab": {
          "base_uri": "https://localhost:8080/",
          "height": 0
        },
        "id": "APBXv6SC5jmh",
        "outputId": "ac4e212c-a1c4-448f-eac9-9718d13ef179"
      },
      "execution_count": 35,
      "outputs": [
        {
          "output_type": "execute_result",
          "data": {
            "text/plain": [
              "(1, 100)"
            ]
          },
          "metadata": {},
          "execution_count": 35
        }
      ]
    },
    {
      "cell_type": "code",
      "source": [
        "#converting into list\n",
        "temp_ip = list(xinput)\n",
        "temp_ip = temp_ip[0].tolist()"
      ],
      "metadata": {
        "id": "aW6__Ubk6OMh"
      },
      "execution_count": 36,
      "outputs": []
    },
    {
      "cell_type": "code",
      "source": [
        "temp_ip"
      ],
      "metadata": {
        "colab": {
          "base_uri": "https://localhost:8080/",
          "height": 0
        },
        "id": "DNmAaFnO6suO",
        "outputId": "63df9e6f-722d-441e-d6b0-c1e5bd7d9d8e"
      },
      "execution_count": 37,
      "outputs": [
        {
          "output_type": "execute_result",
          "data": {
            "text/plain": [
              "[0.051654091700522334,\n",
              " 0.04875217643644804,\n",
              " 0.057457922228670924,\n",
              " 0.060940220545560045,\n",
              " 0.060940220545560045,\n",
              " 0.053975623911781775,\n",
              " 0.059199071387115484,\n",
              " 0.05107370864770748,\n",
              " 0.051654091700522334,\n",
              " 0.04352872896111433,\n",
              " 0.03482298316889147,\n",
              " 0.03192106790481715,\n",
              " 0.016250725478816022,\n",
              " 0.01567034242600117,\n",
              " 0.026117237376668614,\n",
              " 0.025536854323853733,\n",
              " 0.018572257690075436,\n",
              " 0.022634939059779466,\n",
              " 0.029599535693557763,\n",
              " 0.029019152640742882,\n",
              " 0.03017991874637259,\n",
              " 0.04410911201392921,\n",
              " 0.04933255948926292,\n",
              " 0.053975623911781775,\n",
              " 0.06732443412652352,\n",
              " 0.08531630876378409,\n",
              " 0.06674405107370864,\n",
              " 0.061520603598374926,\n",
              " 0.06268136970400463,\n",
              " 0.05629715612304122,\n",
              " 0.06210098665118978,\n",
              " 0.05455600696459663,\n",
              " 0.05629715612304122,\n",
              " 0.049912942542077746,\n",
              " 0.05455600696459663,\n",
              " 0.05513639001741148,\n",
              " 0.06790481717933834,\n",
              " 0.06848520023215322,\n",
              " 0.061520603598374926,\n",
              " 0.06790481717933834,\n",
              " 0.06848520023215322,\n",
              " 0.07777132907719093,\n",
              " 0.06674405107370864,\n",
              " 0.06790481717933834,\n",
              " 0.07022634939059778,\n",
              " 0.07370864770748693,\n",
              " 0.07777132907719093,\n",
              " 0.07196749854904237,\n",
              " 0.07544979686593149,\n",
              " 0.07544979686593149,\n",
              " 0.07312826465467208,\n",
              " 0.07196749854904237,\n",
              " 0.08879860708067326,\n",
              " 0.07254788160185723,\n",
              " 0.07312826465467208,\n",
              " 0.07951247823563552,\n",
              " 0.07951247823563552,\n",
              " 0.08589669181659894,\n",
              " 0.08647707486941382,\n",
              " 0.08705745792222867,\n",
              " 0.09866511897852583,\n",
              " 0.09924550203134068,\n",
              " 0.04178757980266977,\n",
              " 0.03076030179918747,\n",
              " 0.03772489843296574,\n",
              " 0.03482298316889147,\n",
              " 0.035403366221706326,\n",
              " 0.03830528148578062,\n",
              " 0.04062681369704006,\n",
              " 0.04004643064422518,\n",
              " 0.03598374927452118,\n",
              " 0.03482298316889147,\n",
              " 0.03250145095763203,\n",
              " 0.03366221706326174,\n",
              " 0.03366221706326174,\n",
              " 0.029599535693557763,\n",
              " 0.022634939059779466,\n",
              " 0.019733023795705143,\n",
              " 0.017991874637260583,\n",
              " 0.016250725478816022,\n",
              " 0.01741149158444573,\n",
              " 0.019152640742890317,\n",
              " 0.022054556006964585,\n",
              " 0.022054556006964585,\n",
              " 0.020313406848520024,\n",
              " 0.017991874637260583,\n",
              " 0.01567034242600117,\n",
              " 0.01392919326755658,\n",
              " 0.012188044109111992,\n",
              " 0.009286128845037725,\n",
              " 0.010446894950667446,\n",
              " 0.014509576320371434,\n",
              " 0.020893789901334878,\n",
              " 0.02147417295414973,\n",
              " 0.013348810214741727,\n",
              " 0.011607661056297167,\n",
              " 0.009866511897852578,\n",
              " 0.008125362739408004,\n",
              " 0.0034822983168891486,\n",
              " 0.0]"
            ]
          },
          "metadata": {},
          "execution_count": 37
        }
      ]
    },
    {
      "cell_type": "code",
      "source": [
        "#forecasting data for 30 days\n",
        "output=[]\n",
        "n_steps = 100\n",
        "i = 0\n",
        "while(i<30):\n",
        "\n",
        "    if(len(temp_ip)>100):\n",
        "        #print(temp_ip)\n",
        "        xinput = np.array(temp_ip[1:])\n",
        "        print(\"{} day input {}\".format(i,xinput))\n",
        "        xinput = xinput.reshape(1,-1)\n",
        "        xinput = xinput.reshape((1, n_steps, 1))\n",
        "        #print(xinput)\n",
        "        yhat = model.predict(xinput, verbose=0)\n",
        "        print(\"{} day output {}\".format(i,yhat))\n",
        "        temp_ip.extend(yhat[0].tolist())\n",
        "        temp_ip = temp_ip[1:]\n",
        "        #print(temp_ip)\n",
        "        output.extend(yhat.tolist())\n",
        "        i=i+1\n",
        "    else:\n",
        "        xinput = xinput.reshape((1, n_steps,1))\n",
        "        yhat = model.predict(xinput, verbose=0)\n",
        "        print(yhat[0])\n",
        "        temp_ip.extend(yhat[0].tolist())\n",
        "        print(len(temp_ip))\n",
        "        output.extend(yhat.tolist())\n",
        "        i = i+1\n",
        "\n",
        "print(output)"
      ],
      "metadata": {
        "colab": {
          "base_uri": "https://localhost:8080/",
          "height": 0
        },
        "id": "MxtS8uzP7InN",
        "outputId": "556ab653-d5f8-49f1-ea50-d30a337eb6a1"
      },
      "execution_count": 38,
      "outputs": [
        {
          "output_type": "stream",
          "name": "stdout",
          "text": [
            "[0.01020262]\n",
            "101\n",
            "1 day input [0.04875218 0.05745792 0.06094022 0.06094022 0.05397562 0.05919907\n",
            " 0.05107371 0.05165409 0.04352873 0.03482298 0.03192107 0.01625073\n",
            " 0.01567034 0.02611724 0.02553685 0.01857226 0.02263494 0.02959954\n",
            " 0.02901915 0.03017992 0.04410911 0.04933256 0.05397562 0.06732443\n",
            " 0.08531631 0.06674405 0.0615206  0.06268137 0.05629716 0.06210099\n",
            " 0.05455601 0.05629716 0.04991294 0.05455601 0.05513639 0.06790482\n",
            " 0.0684852  0.0615206  0.06790482 0.0684852  0.07777133 0.06674405\n",
            " 0.06790482 0.07022635 0.07370865 0.07777133 0.0719675  0.0754498\n",
            " 0.0754498  0.07312826 0.0719675  0.08879861 0.07254788 0.07312826\n",
            " 0.07951248 0.07951248 0.08589669 0.08647707 0.08705746 0.09866512\n",
            " 0.0992455  0.04178758 0.0307603  0.0377249  0.03482298 0.03540337\n",
            " 0.03830528 0.04062681 0.04004643 0.03598375 0.03482298 0.03250145\n",
            " 0.03366222 0.03366222 0.02959954 0.02263494 0.01973302 0.01799187\n",
            " 0.01625073 0.01741149 0.01915264 0.02205456 0.02205456 0.02031341\n",
            " 0.01799187 0.01567034 0.01392919 0.01218804 0.00928613 0.01044689\n",
            " 0.01450958 0.02089379 0.02147417 0.01334881 0.01160766 0.00986651\n",
            " 0.00812536 0.0034823  0.         0.01020262]\n",
            "1 day output [[0.00929213]]\n",
            "2 day input [0.05745792 0.06094022 0.06094022 0.05397562 0.05919907 0.05107371\n",
            " 0.05165409 0.04352873 0.03482298 0.03192107 0.01625073 0.01567034\n",
            " 0.02611724 0.02553685 0.01857226 0.02263494 0.02959954 0.02901915\n",
            " 0.03017992 0.04410911 0.04933256 0.05397562 0.06732443 0.08531631\n",
            " 0.06674405 0.0615206  0.06268137 0.05629716 0.06210099 0.05455601\n",
            " 0.05629716 0.04991294 0.05455601 0.05513639 0.06790482 0.0684852\n",
            " 0.0615206  0.06790482 0.0684852  0.07777133 0.06674405 0.06790482\n",
            " 0.07022635 0.07370865 0.07777133 0.0719675  0.0754498  0.0754498\n",
            " 0.07312826 0.0719675  0.08879861 0.07254788 0.07312826 0.07951248\n",
            " 0.07951248 0.08589669 0.08647707 0.08705746 0.09866512 0.0992455\n",
            " 0.04178758 0.0307603  0.0377249  0.03482298 0.03540337 0.03830528\n",
            " 0.04062681 0.04004643 0.03598375 0.03482298 0.03250145 0.03366222\n",
            " 0.03366222 0.02959954 0.02263494 0.01973302 0.01799187 0.01625073\n",
            " 0.01741149 0.01915264 0.02205456 0.02205456 0.02031341 0.01799187\n",
            " 0.01567034 0.01392919 0.01218804 0.00928613 0.01044689 0.01450958\n",
            " 0.02089379 0.02147417 0.01334881 0.01160766 0.00986651 0.00812536\n",
            " 0.0034823  0.         0.01020262 0.00929213]\n",
            "2 day output [[0.00983526]]\n",
            "3 day input [0.06094022 0.06094022 0.05397562 0.05919907 0.05107371 0.05165409\n",
            " 0.04352873 0.03482298 0.03192107 0.01625073 0.01567034 0.02611724\n",
            " 0.02553685 0.01857226 0.02263494 0.02959954 0.02901915 0.03017992\n",
            " 0.04410911 0.04933256 0.05397562 0.06732443 0.08531631 0.06674405\n",
            " 0.0615206  0.06268137 0.05629716 0.06210099 0.05455601 0.05629716\n",
            " 0.04991294 0.05455601 0.05513639 0.06790482 0.0684852  0.0615206\n",
            " 0.06790482 0.0684852  0.07777133 0.06674405 0.06790482 0.07022635\n",
            " 0.07370865 0.07777133 0.0719675  0.0754498  0.0754498  0.07312826\n",
            " 0.0719675  0.08879861 0.07254788 0.07312826 0.07951248 0.07951248\n",
            " 0.08589669 0.08647707 0.08705746 0.09866512 0.0992455  0.04178758\n",
            " 0.0307603  0.0377249  0.03482298 0.03540337 0.03830528 0.04062681\n",
            " 0.04004643 0.03598375 0.03482298 0.03250145 0.03366222 0.03366222\n",
            " 0.02959954 0.02263494 0.01973302 0.01799187 0.01625073 0.01741149\n",
            " 0.01915264 0.02205456 0.02205456 0.02031341 0.01799187 0.01567034\n",
            " 0.01392919 0.01218804 0.00928613 0.01044689 0.01450958 0.02089379\n",
            " 0.02147417 0.01334881 0.01160766 0.00986651 0.00812536 0.0034823\n",
            " 0.         0.01020262 0.00929213 0.00983526]\n",
            "3 day output [[0.0110245]]\n",
            "4 day input [0.06094022 0.05397562 0.05919907 0.05107371 0.05165409 0.04352873\n",
            " 0.03482298 0.03192107 0.01625073 0.01567034 0.02611724 0.02553685\n",
            " 0.01857226 0.02263494 0.02959954 0.02901915 0.03017992 0.04410911\n",
            " 0.04933256 0.05397562 0.06732443 0.08531631 0.06674405 0.0615206\n",
            " 0.06268137 0.05629716 0.06210099 0.05455601 0.05629716 0.04991294\n",
            " 0.05455601 0.05513639 0.06790482 0.0684852  0.0615206  0.06790482\n",
            " 0.0684852  0.07777133 0.06674405 0.06790482 0.07022635 0.07370865\n",
            " 0.07777133 0.0719675  0.0754498  0.0754498  0.07312826 0.0719675\n",
            " 0.08879861 0.07254788 0.07312826 0.07951248 0.07951248 0.08589669\n",
            " 0.08647707 0.08705746 0.09866512 0.0992455  0.04178758 0.0307603\n",
            " 0.0377249  0.03482298 0.03540337 0.03830528 0.04062681 0.04004643\n",
            " 0.03598375 0.03482298 0.03250145 0.03366222 0.03366222 0.02959954\n",
            " 0.02263494 0.01973302 0.01799187 0.01625073 0.01741149 0.01915264\n",
            " 0.02205456 0.02205456 0.02031341 0.01799187 0.01567034 0.01392919\n",
            " 0.01218804 0.00928613 0.01044689 0.01450958 0.02089379 0.02147417\n",
            " 0.01334881 0.01160766 0.00986651 0.00812536 0.0034823  0.\n",
            " 0.01020262 0.00929213 0.00983526 0.0110245 ]\n",
            "4 day output [[0.01240516]]\n",
            "5 day input [0.05397562 0.05919907 0.05107371 0.05165409 0.04352873 0.03482298\n",
            " 0.03192107 0.01625073 0.01567034 0.02611724 0.02553685 0.01857226\n",
            " 0.02263494 0.02959954 0.02901915 0.03017992 0.04410911 0.04933256\n",
            " 0.05397562 0.06732443 0.08531631 0.06674405 0.0615206  0.06268137\n",
            " 0.05629716 0.06210099 0.05455601 0.05629716 0.04991294 0.05455601\n",
            " 0.05513639 0.06790482 0.0684852  0.0615206  0.06790482 0.0684852\n",
            " 0.07777133 0.06674405 0.06790482 0.07022635 0.07370865 0.07777133\n",
            " 0.0719675  0.0754498  0.0754498  0.07312826 0.0719675  0.08879861\n",
            " 0.07254788 0.07312826 0.07951248 0.07951248 0.08589669 0.08647707\n",
            " 0.08705746 0.09866512 0.0992455  0.04178758 0.0307603  0.0377249\n",
            " 0.03482298 0.03540337 0.03830528 0.04062681 0.04004643 0.03598375\n",
            " 0.03482298 0.03250145 0.03366222 0.03366222 0.02959954 0.02263494\n",
            " 0.01973302 0.01799187 0.01625073 0.01741149 0.01915264 0.02205456\n",
            " 0.02205456 0.02031341 0.01799187 0.01567034 0.01392919 0.01218804\n",
            " 0.00928613 0.01044689 0.01450958 0.02089379 0.02147417 0.01334881\n",
            " 0.01160766 0.00986651 0.00812536 0.0034823  0.         0.01020262\n",
            " 0.00929213 0.00983526 0.0110245  0.01240516]\n",
            "5 day output [[0.01379458]]\n",
            "6 day input [0.05919907 0.05107371 0.05165409 0.04352873 0.03482298 0.03192107\n",
            " 0.01625073 0.01567034 0.02611724 0.02553685 0.01857226 0.02263494\n",
            " 0.02959954 0.02901915 0.03017992 0.04410911 0.04933256 0.05397562\n",
            " 0.06732443 0.08531631 0.06674405 0.0615206  0.06268137 0.05629716\n",
            " 0.06210099 0.05455601 0.05629716 0.04991294 0.05455601 0.05513639\n",
            " 0.06790482 0.0684852  0.0615206  0.06790482 0.0684852  0.07777133\n",
            " 0.06674405 0.06790482 0.07022635 0.07370865 0.07777133 0.0719675\n",
            " 0.0754498  0.0754498  0.07312826 0.0719675  0.08879861 0.07254788\n",
            " 0.07312826 0.07951248 0.07951248 0.08589669 0.08647707 0.08705746\n",
            " 0.09866512 0.0992455  0.04178758 0.0307603  0.0377249  0.03482298\n",
            " 0.03540337 0.03830528 0.04062681 0.04004643 0.03598375 0.03482298\n",
            " 0.03250145 0.03366222 0.03366222 0.02959954 0.02263494 0.01973302\n",
            " 0.01799187 0.01625073 0.01741149 0.01915264 0.02205456 0.02205456\n",
            " 0.02031341 0.01799187 0.01567034 0.01392919 0.01218804 0.00928613\n",
            " 0.01044689 0.01450958 0.02089379 0.02147417 0.01334881 0.01160766\n",
            " 0.00986651 0.00812536 0.0034823  0.         0.01020262 0.00929213\n",
            " 0.00983526 0.0110245  0.01240516 0.01379458]\n",
            "6 day output [[0.01514129]]\n",
            "7 day input [0.05107371 0.05165409 0.04352873 0.03482298 0.03192107 0.01625073\n",
            " 0.01567034 0.02611724 0.02553685 0.01857226 0.02263494 0.02959954\n",
            " 0.02901915 0.03017992 0.04410911 0.04933256 0.05397562 0.06732443\n",
            " 0.08531631 0.06674405 0.0615206  0.06268137 0.05629716 0.06210099\n",
            " 0.05455601 0.05629716 0.04991294 0.05455601 0.05513639 0.06790482\n",
            " 0.0684852  0.0615206  0.06790482 0.0684852  0.07777133 0.06674405\n",
            " 0.06790482 0.07022635 0.07370865 0.07777133 0.0719675  0.0754498\n",
            " 0.0754498  0.07312826 0.0719675  0.08879861 0.07254788 0.07312826\n",
            " 0.07951248 0.07951248 0.08589669 0.08647707 0.08705746 0.09866512\n",
            " 0.0992455  0.04178758 0.0307603  0.0377249  0.03482298 0.03540337\n",
            " 0.03830528 0.04062681 0.04004643 0.03598375 0.03482298 0.03250145\n",
            " 0.03366222 0.03366222 0.02959954 0.02263494 0.01973302 0.01799187\n",
            " 0.01625073 0.01741149 0.01915264 0.02205456 0.02205456 0.02031341\n",
            " 0.01799187 0.01567034 0.01392919 0.01218804 0.00928613 0.01044689\n",
            " 0.01450958 0.02089379 0.02147417 0.01334881 0.01160766 0.00986651\n",
            " 0.00812536 0.0034823  0.         0.01020262 0.00929213 0.00983526\n",
            " 0.0110245  0.01240516 0.01379458 0.01514129]\n",
            "7 day output [[0.01644185]]\n",
            "8 day input [0.05165409 0.04352873 0.03482298 0.03192107 0.01625073 0.01567034\n",
            " 0.02611724 0.02553685 0.01857226 0.02263494 0.02959954 0.02901915\n",
            " 0.03017992 0.04410911 0.04933256 0.05397562 0.06732443 0.08531631\n",
            " 0.06674405 0.0615206  0.06268137 0.05629716 0.06210099 0.05455601\n",
            " 0.05629716 0.04991294 0.05455601 0.05513639 0.06790482 0.0684852\n",
            " 0.0615206  0.06790482 0.0684852  0.07777133 0.06674405 0.06790482\n",
            " 0.07022635 0.07370865 0.07777133 0.0719675  0.0754498  0.0754498\n",
            " 0.07312826 0.0719675  0.08879861 0.07254788 0.07312826 0.07951248\n",
            " 0.07951248 0.08589669 0.08647707 0.08705746 0.09866512 0.0992455\n",
            " 0.04178758 0.0307603  0.0377249  0.03482298 0.03540337 0.03830528\n",
            " 0.04062681 0.04004643 0.03598375 0.03482298 0.03250145 0.03366222\n",
            " 0.03366222 0.02959954 0.02263494 0.01973302 0.01799187 0.01625073\n",
            " 0.01741149 0.01915264 0.02205456 0.02205456 0.02031341 0.01799187\n",
            " 0.01567034 0.01392919 0.01218804 0.00928613 0.01044689 0.01450958\n",
            " 0.02089379 0.02147417 0.01334881 0.01160766 0.00986651 0.00812536\n",
            " 0.0034823  0.         0.01020262 0.00929213 0.00983526 0.0110245\n",
            " 0.01240516 0.01379458 0.01514129 0.01644185]\n",
            "8 day output [[0.01770606]]\n",
            "9 day input [0.04352873 0.03482298 0.03192107 0.01625073 0.01567034 0.02611724\n",
            " 0.02553685 0.01857226 0.02263494 0.02959954 0.02901915 0.03017992\n",
            " 0.04410911 0.04933256 0.05397562 0.06732443 0.08531631 0.06674405\n",
            " 0.0615206  0.06268137 0.05629716 0.06210099 0.05455601 0.05629716\n",
            " 0.04991294 0.05455601 0.05513639 0.06790482 0.0684852  0.0615206\n",
            " 0.06790482 0.0684852  0.07777133 0.06674405 0.06790482 0.07022635\n",
            " 0.07370865 0.07777133 0.0719675  0.0754498  0.0754498  0.07312826\n",
            " 0.0719675  0.08879861 0.07254788 0.07312826 0.07951248 0.07951248\n",
            " 0.08589669 0.08647707 0.08705746 0.09866512 0.0992455  0.04178758\n",
            " 0.0307603  0.0377249  0.03482298 0.03540337 0.03830528 0.04062681\n",
            " 0.04004643 0.03598375 0.03482298 0.03250145 0.03366222 0.03366222\n",
            " 0.02959954 0.02263494 0.01973302 0.01799187 0.01625073 0.01741149\n",
            " 0.01915264 0.02205456 0.02205456 0.02031341 0.01799187 0.01567034\n",
            " 0.01392919 0.01218804 0.00928613 0.01044689 0.01450958 0.02089379\n",
            " 0.02147417 0.01334881 0.01160766 0.00986651 0.00812536 0.0034823\n",
            " 0.         0.01020262 0.00929213 0.00983526 0.0110245  0.01240516\n",
            " 0.01379458 0.01514129 0.01644185 0.01770606]\n",
            "9 day output [[0.01894624]]\n",
            "10 day input [0.03482298 0.03192107 0.01625073 0.01567034 0.02611724 0.02553685\n",
            " 0.01857226 0.02263494 0.02959954 0.02901915 0.03017992 0.04410911\n",
            " 0.04933256 0.05397562 0.06732443 0.08531631 0.06674405 0.0615206\n",
            " 0.06268137 0.05629716 0.06210099 0.05455601 0.05629716 0.04991294\n",
            " 0.05455601 0.05513639 0.06790482 0.0684852  0.0615206  0.06790482\n",
            " 0.0684852  0.07777133 0.06674405 0.06790482 0.07022635 0.07370865\n",
            " 0.07777133 0.0719675  0.0754498  0.0754498  0.07312826 0.0719675\n",
            " 0.08879861 0.07254788 0.07312826 0.07951248 0.07951248 0.08589669\n",
            " 0.08647707 0.08705746 0.09866512 0.0992455  0.04178758 0.0307603\n",
            " 0.0377249  0.03482298 0.03540337 0.03830528 0.04062681 0.04004643\n",
            " 0.03598375 0.03482298 0.03250145 0.03366222 0.03366222 0.02959954\n",
            " 0.02263494 0.01973302 0.01799187 0.01625073 0.01741149 0.01915264\n",
            " 0.02205456 0.02205456 0.02031341 0.01799187 0.01567034 0.01392919\n",
            " 0.01218804 0.00928613 0.01044689 0.01450958 0.02089379 0.02147417\n",
            " 0.01334881 0.01160766 0.00986651 0.00812536 0.0034823  0.\n",
            " 0.01020262 0.00929213 0.00983526 0.0110245  0.01240516 0.01379458\n",
            " 0.01514129 0.01644185 0.01770606 0.01894624]\n",
            "10 day output [[0.02017442]]\n",
            "11 day input [0.03192107 0.01625073 0.01567034 0.02611724 0.02553685 0.01857226\n",
            " 0.02263494 0.02959954 0.02901915 0.03017992 0.04410911 0.04933256\n",
            " 0.05397562 0.06732443 0.08531631 0.06674405 0.0615206  0.06268137\n",
            " 0.05629716 0.06210099 0.05455601 0.05629716 0.04991294 0.05455601\n",
            " 0.05513639 0.06790482 0.0684852  0.0615206  0.06790482 0.0684852\n",
            " 0.07777133 0.06674405 0.06790482 0.07022635 0.07370865 0.07777133\n",
            " 0.0719675  0.0754498  0.0754498  0.07312826 0.0719675  0.08879861\n",
            " 0.07254788 0.07312826 0.07951248 0.07951248 0.08589669 0.08647707\n",
            " 0.08705746 0.09866512 0.0992455  0.04178758 0.0307603  0.0377249\n",
            " 0.03482298 0.03540337 0.03830528 0.04062681 0.04004643 0.03598375\n",
            " 0.03482298 0.03250145 0.03366222 0.03366222 0.02959954 0.02263494\n",
            " 0.01973302 0.01799187 0.01625073 0.01741149 0.01915264 0.02205456\n",
            " 0.02205456 0.02031341 0.01799187 0.01567034 0.01392919 0.01218804\n",
            " 0.00928613 0.01044689 0.01450958 0.02089379 0.02147417 0.01334881\n",
            " 0.01160766 0.00986651 0.00812536 0.0034823  0.         0.01020262\n",
            " 0.00929213 0.00983526 0.0110245  0.01240516 0.01379458 0.01514129\n",
            " 0.01644185 0.01770606 0.01894624 0.02017442]\n",
            "11 day output [[0.02140149]]\n",
            "12 day input [0.01625073 0.01567034 0.02611724 0.02553685 0.01857226 0.02263494\n",
            " 0.02959954 0.02901915 0.03017992 0.04410911 0.04933256 0.05397562\n",
            " 0.06732443 0.08531631 0.06674405 0.0615206  0.06268137 0.05629716\n",
            " 0.06210099 0.05455601 0.05629716 0.04991294 0.05455601 0.05513639\n",
            " 0.06790482 0.0684852  0.0615206  0.06790482 0.0684852  0.07777133\n",
            " 0.06674405 0.06790482 0.07022635 0.07370865 0.07777133 0.0719675\n",
            " 0.0754498  0.0754498  0.07312826 0.0719675  0.08879861 0.07254788\n",
            " 0.07312826 0.07951248 0.07951248 0.08589669 0.08647707 0.08705746\n",
            " 0.09866512 0.0992455  0.04178758 0.0307603  0.0377249  0.03482298\n",
            " 0.03540337 0.03830528 0.04062681 0.04004643 0.03598375 0.03482298\n",
            " 0.03250145 0.03366222 0.03366222 0.02959954 0.02263494 0.01973302\n",
            " 0.01799187 0.01625073 0.01741149 0.01915264 0.02205456 0.02205456\n",
            " 0.02031341 0.01799187 0.01567034 0.01392919 0.01218804 0.00928613\n",
            " 0.01044689 0.01450958 0.02089379 0.02147417 0.01334881 0.01160766\n",
            " 0.00986651 0.00812536 0.0034823  0.         0.01020262 0.00929213\n",
            " 0.00983526 0.0110245  0.01240516 0.01379458 0.01514129 0.01644185\n",
            " 0.01770606 0.01894624 0.02017442 0.02140149]\n",
            "12 day output [[0.02263668]]\n",
            "13 day input [0.01567034 0.02611724 0.02553685 0.01857226 0.02263494 0.02959954\n",
            " 0.02901915 0.03017992 0.04410911 0.04933256 0.05397562 0.06732443\n",
            " 0.08531631 0.06674405 0.0615206  0.06268137 0.05629716 0.06210099\n",
            " 0.05455601 0.05629716 0.04991294 0.05455601 0.05513639 0.06790482\n",
            " 0.0684852  0.0615206  0.06790482 0.0684852  0.07777133 0.06674405\n",
            " 0.06790482 0.07022635 0.07370865 0.07777133 0.0719675  0.0754498\n",
            " 0.0754498  0.07312826 0.0719675  0.08879861 0.07254788 0.07312826\n",
            " 0.07951248 0.07951248 0.08589669 0.08647707 0.08705746 0.09866512\n",
            " 0.0992455  0.04178758 0.0307603  0.0377249  0.03482298 0.03540337\n",
            " 0.03830528 0.04062681 0.04004643 0.03598375 0.03482298 0.03250145\n",
            " 0.03366222 0.03366222 0.02959954 0.02263494 0.01973302 0.01799187\n",
            " 0.01625073 0.01741149 0.01915264 0.02205456 0.02205456 0.02031341\n",
            " 0.01799187 0.01567034 0.01392919 0.01218804 0.00928613 0.01044689\n",
            " 0.01450958 0.02089379 0.02147417 0.01334881 0.01160766 0.00986651\n",
            " 0.00812536 0.0034823  0.         0.01020262 0.00929213 0.00983526\n",
            " 0.0110245  0.01240516 0.01379458 0.01514129 0.01644185 0.01770606\n",
            " 0.01894624 0.02017442 0.02140149 0.02263668]\n",
            "13 day output [[0.02388705]]\n",
            "14 day input [0.02611724 0.02553685 0.01857226 0.02263494 0.02959954 0.02901915\n",
            " 0.03017992 0.04410911 0.04933256 0.05397562 0.06732443 0.08531631\n",
            " 0.06674405 0.0615206  0.06268137 0.05629716 0.06210099 0.05455601\n",
            " 0.05629716 0.04991294 0.05455601 0.05513639 0.06790482 0.0684852\n",
            " 0.0615206  0.06790482 0.0684852  0.07777133 0.06674405 0.06790482\n",
            " 0.07022635 0.07370865 0.07777133 0.0719675  0.0754498  0.0754498\n",
            " 0.07312826 0.0719675  0.08879861 0.07254788 0.07312826 0.07951248\n",
            " 0.07951248 0.08589669 0.08647707 0.08705746 0.09866512 0.0992455\n",
            " 0.04178758 0.0307603  0.0377249  0.03482298 0.03540337 0.03830528\n",
            " 0.04062681 0.04004643 0.03598375 0.03482298 0.03250145 0.03366222\n",
            " 0.03366222 0.02959954 0.02263494 0.01973302 0.01799187 0.01625073\n",
            " 0.01741149 0.01915264 0.02205456 0.02205456 0.02031341 0.01799187\n",
            " 0.01567034 0.01392919 0.01218804 0.00928613 0.01044689 0.01450958\n",
            " 0.02089379 0.02147417 0.01334881 0.01160766 0.00986651 0.00812536\n",
            " 0.0034823  0.         0.01020262 0.00929213 0.00983526 0.0110245\n",
            " 0.01240516 0.01379458 0.01514129 0.01644185 0.01770606 0.01894624\n",
            " 0.02017442 0.02140149 0.02263668 0.02388705]\n",
            "14 day output [[0.02515737]]\n",
            "15 day input [0.02553685 0.01857226 0.02263494 0.02959954 0.02901915 0.03017992\n",
            " 0.04410911 0.04933256 0.05397562 0.06732443 0.08531631 0.06674405\n",
            " 0.0615206  0.06268137 0.05629716 0.06210099 0.05455601 0.05629716\n",
            " 0.04991294 0.05455601 0.05513639 0.06790482 0.0684852  0.0615206\n",
            " 0.06790482 0.0684852  0.07777133 0.06674405 0.06790482 0.07022635\n",
            " 0.07370865 0.07777133 0.0719675  0.0754498  0.0754498  0.07312826\n",
            " 0.0719675  0.08879861 0.07254788 0.07312826 0.07951248 0.07951248\n",
            " 0.08589669 0.08647707 0.08705746 0.09866512 0.0992455  0.04178758\n",
            " 0.0307603  0.0377249  0.03482298 0.03540337 0.03830528 0.04062681\n",
            " 0.04004643 0.03598375 0.03482298 0.03250145 0.03366222 0.03366222\n",
            " 0.02959954 0.02263494 0.01973302 0.01799187 0.01625073 0.01741149\n",
            " 0.01915264 0.02205456 0.02205456 0.02031341 0.01799187 0.01567034\n",
            " 0.01392919 0.01218804 0.00928613 0.01044689 0.01450958 0.02089379\n",
            " 0.02147417 0.01334881 0.01160766 0.00986651 0.00812536 0.0034823\n",
            " 0.         0.01020262 0.00929213 0.00983526 0.0110245  0.01240516\n",
            " 0.01379458 0.01514129 0.01644185 0.01770606 0.01894624 0.02017442\n",
            " 0.02140149 0.02263668 0.02388705 0.02515737]\n",
            "15 day output [[0.02645009]]\n",
            "16 day input [0.01857226 0.02263494 0.02959954 0.02901915 0.03017992 0.04410911\n",
            " 0.04933256 0.05397562 0.06732443 0.08531631 0.06674405 0.0615206\n",
            " 0.06268137 0.05629716 0.06210099 0.05455601 0.05629716 0.04991294\n",
            " 0.05455601 0.05513639 0.06790482 0.0684852  0.0615206  0.06790482\n",
            " 0.0684852  0.07777133 0.06674405 0.06790482 0.07022635 0.07370865\n",
            " 0.07777133 0.0719675  0.0754498  0.0754498  0.07312826 0.0719675\n",
            " 0.08879861 0.07254788 0.07312826 0.07951248 0.07951248 0.08589669\n",
            " 0.08647707 0.08705746 0.09866512 0.0992455  0.04178758 0.0307603\n",
            " 0.0377249  0.03482298 0.03540337 0.03830528 0.04062681 0.04004643\n",
            " 0.03598375 0.03482298 0.03250145 0.03366222 0.03366222 0.02959954\n",
            " 0.02263494 0.01973302 0.01799187 0.01625073 0.01741149 0.01915264\n",
            " 0.02205456 0.02205456 0.02031341 0.01799187 0.01567034 0.01392919\n",
            " 0.01218804 0.00928613 0.01044689 0.01450958 0.02089379 0.02147417\n",
            " 0.01334881 0.01160766 0.00986651 0.00812536 0.0034823  0.\n",
            " 0.01020262 0.00929213 0.00983526 0.0110245  0.01240516 0.01379458\n",
            " 0.01514129 0.01644185 0.01770606 0.01894624 0.02017442 0.02140149\n",
            " 0.02263668 0.02388705 0.02515737 0.02645009]\n",
            "16 day output [[0.02776567]]\n",
            "17 day input [0.02263494 0.02959954 0.02901915 0.03017992 0.04410911 0.04933256\n",
            " 0.05397562 0.06732443 0.08531631 0.06674405 0.0615206  0.06268137\n",
            " 0.05629716 0.06210099 0.05455601 0.05629716 0.04991294 0.05455601\n",
            " 0.05513639 0.06790482 0.0684852  0.0615206  0.06790482 0.0684852\n",
            " 0.07777133 0.06674405 0.06790482 0.07022635 0.07370865 0.07777133\n",
            " 0.0719675  0.0754498  0.0754498  0.07312826 0.0719675  0.08879861\n",
            " 0.07254788 0.07312826 0.07951248 0.07951248 0.08589669 0.08647707\n",
            " 0.08705746 0.09866512 0.0992455  0.04178758 0.0307603  0.0377249\n",
            " 0.03482298 0.03540337 0.03830528 0.04062681 0.04004643 0.03598375\n",
            " 0.03482298 0.03250145 0.03366222 0.03366222 0.02959954 0.02263494\n",
            " 0.01973302 0.01799187 0.01625073 0.01741149 0.01915264 0.02205456\n",
            " 0.02205456 0.02031341 0.01799187 0.01567034 0.01392919 0.01218804\n",
            " 0.00928613 0.01044689 0.01450958 0.02089379 0.02147417 0.01334881\n",
            " 0.01160766 0.00986651 0.00812536 0.0034823  0.         0.01020262\n",
            " 0.00929213 0.00983526 0.0110245  0.01240516 0.01379458 0.01514129\n",
            " 0.01644185 0.01770606 0.01894624 0.02017442 0.02140149 0.02263668\n",
            " 0.02388705 0.02515737 0.02645009 0.02776567]\n",
            "17 day output [[0.029103]]\n",
            "18 day input [0.02959954 0.02901915 0.03017992 0.04410911 0.04933256 0.05397562\n",
            " 0.06732443 0.08531631 0.06674405 0.0615206  0.06268137 0.05629716\n",
            " 0.06210099 0.05455601 0.05629716 0.04991294 0.05455601 0.05513639\n",
            " 0.06790482 0.0684852  0.0615206  0.06790482 0.0684852  0.07777133\n",
            " 0.06674405 0.06790482 0.07022635 0.07370865 0.07777133 0.0719675\n",
            " 0.0754498  0.0754498  0.07312826 0.0719675  0.08879861 0.07254788\n",
            " 0.07312826 0.07951248 0.07951248 0.08589669 0.08647707 0.08705746\n",
            " 0.09866512 0.0992455  0.04178758 0.0307603  0.0377249  0.03482298\n",
            " 0.03540337 0.03830528 0.04062681 0.04004643 0.03598375 0.03482298\n",
            " 0.03250145 0.03366222 0.03366222 0.02959954 0.02263494 0.01973302\n",
            " 0.01799187 0.01625073 0.01741149 0.01915264 0.02205456 0.02205456\n",
            " 0.02031341 0.01799187 0.01567034 0.01392919 0.01218804 0.00928613\n",
            " 0.01044689 0.01450958 0.02089379 0.02147417 0.01334881 0.01160766\n",
            " 0.00986651 0.00812536 0.0034823  0.         0.01020262 0.00929213\n",
            " 0.00983526 0.0110245  0.01240516 0.01379458 0.01514129 0.01644185\n",
            " 0.01770606 0.01894624 0.02017442 0.02140149 0.02263668 0.02388705\n",
            " 0.02515737 0.02645009 0.02776567 0.029103  ]\n",
            "18 day output [[0.03045991]]\n",
            "19 day input [0.02901915 0.03017992 0.04410911 0.04933256 0.05397562 0.06732443\n",
            " 0.08531631 0.06674405 0.0615206  0.06268137 0.05629716 0.06210099\n",
            " 0.05455601 0.05629716 0.04991294 0.05455601 0.05513639 0.06790482\n",
            " 0.0684852  0.0615206  0.06790482 0.0684852  0.07777133 0.06674405\n",
            " 0.06790482 0.07022635 0.07370865 0.07777133 0.0719675  0.0754498\n",
            " 0.0754498  0.07312826 0.0719675  0.08879861 0.07254788 0.07312826\n",
            " 0.07951248 0.07951248 0.08589669 0.08647707 0.08705746 0.09866512\n",
            " 0.0992455  0.04178758 0.0307603  0.0377249  0.03482298 0.03540337\n",
            " 0.03830528 0.04062681 0.04004643 0.03598375 0.03482298 0.03250145\n",
            " 0.03366222 0.03366222 0.02959954 0.02263494 0.01973302 0.01799187\n",
            " 0.01625073 0.01741149 0.01915264 0.02205456 0.02205456 0.02031341\n",
            " 0.01799187 0.01567034 0.01392919 0.01218804 0.00928613 0.01044689\n",
            " 0.01450958 0.02089379 0.02147417 0.01334881 0.01160766 0.00986651\n",
            " 0.00812536 0.0034823  0.         0.01020262 0.00929213 0.00983526\n",
            " 0.0110245  0.01240516 0.01379458 0.01514129 0.01644185 0.01770606\n",
            " 0.01894624 0.02017442 0.02140149 0.02263668 0.02388705 0.02515737\n",
            " 0.02645009 0.02776567 0.029103   0.03045991]\n",
            "19 day output [[0.03183352]]\n",
            "20 day input [0.03017992 0.04410911 0.04933256 0.05397562 0.06732443 0.08531631\n",
            " 0.06674405 0.0615206  0.06268137 0.05629716 0.06210099 0.05455601\n",
            " 0.05629716 0.04991294 0.05455601 0.05513639 0.06790482 0.0684852\n",
            " 0.0615206  0.06790482 0.0684852  0.07777133 0.06674405 0.06790482\n",
            " 0.07022635 0.07370865 0.07777133 0.0719675  0.0754498  0.0754498\n",
            " 0.07312826 0.0719675  0.08879861 0.07254788 0.07312826 0.07951248\n",
            " 0.07951248 0.08589669 0.08647707 0.08705746 0.09866512 0.0992455\n",
            " 0.04178758 0.0307603  0.0377249  0.03482298 0.03540337 0.03830528\n",
            " 0.04062681 0.04004643 0.03598375 0.03482298 0.03250145 0.03366222\n",
            " 0.03366222 0.02959954 0.02263494 0.01973302 0.01799187 0.01625073\n",
            " 0.01741149 0.01915264 0.02205456 0.02205456 0.02031341 0.01799187\n",
            " 0.01567034 0.01392919 0.01218804 0.00928613 0.01044689 0.01450958\n",
            " 0.02089379 0.02147417 0.01334881 0.01160766 0.00986651 0.00812536\n",
            " 0.0034823  0.         0.01020262 0.00929213 0.00983526 0.0110245\n",
            " 0.01240516 0.01379458 0.01514129 0.01644185 0.01770606 0.01894624\n",
            " 0.02017442 0.02140149 0.02263668 0.02388705 0.02515737 0.02645009\n",
            " 0.02776567 0.029103   0.03045991 0.03183352]\n",
            "20 day output [[0.03322076]]\n",
            "21 day input [0.04410911 0.04933256 0.05397562 0.06732443 0.08531631 0.06674405\n",
            " 0.0615206  0.06268137 0.05629716 0.06210099 0.05455601 0.05629716\n",
            " 0.04991294 0.05455601 0.05513639 0.06790482 0.0684852  0.0615206\n",
            " 0.06790482 0.0684852  0.07777133 0.06674405 0.06790482 0.07022635\n",
            " 0.07370865 0.07777133 0.0719675  0.0754498  0.0754498  0.07312826\n",
            " 0.0719675  0.08879861 0.07254788 0.07312826 0.07951248 0.07951248\n",
            " 0.08589669 0.08647707 0.08705746 0.09866512 0.0992455  0.04178758\n",
            " 0.0307603  0.0377249  0.03482298 0.03540337 0.03830528 0.04062681\n",
            " 0.04004643 0.03598375 0.03482298 0.03250145 0.03366222 0.03366222\n",
            " 0.02959954 0.02263494 0.01973302 0.01799187 0.01625073 0.01741149\n",
            " 0.01915264 0.02205456 0.02205456 0.02031341 0.01799187 0.01567034\n",
            " 0.01392919 0.01218804 0.00928613 0.01044689 0.01450958 0.02089379\n",
            " 0.02147417 0.01334881 0.01160766 0.00986651 0.00812536 0.0034823\n",
            " 0.         0.01020262 0.00929213 0.00983526 0.0110245  0.01240516\n",
            " 0.01379458 0.01514129 0.01644185 0.01770606 0.01894624 0.02017442\n",
            " 0.02140149 0.02263668 0.02388705 0.02515737 0.02645009 0.02776567\n",
            " 0.029103   0.03045991 0.03183352 0.03322076]\n",
            "21 day output [[0.0346186]]\n",
            "22 day input [0.04933256 0.05397562 0.06732443 0.08531631 0.06674405 0.0615206\n",
            " 0.06268137 0.05629716 0.06210099 0.05455601 0.05629716 0.04991294\n",
            " 0.05455601 0.05513639 0.06790482 0.0684852  0.0615206  0.06790482\n",
            " 0.0684852  0.07777133 0.06674405 0.06790482 0.07022635 0.07370865\n",
            " 0.07777133 0.0719675  0.0754498  0.0754498  0.07312826 0.0719675\n",
            " 0.08879861 0.07254788 0.07312826 0.07951248 0.07951248 0.08589669\n",
            " 0.08647707 0.08705746 0.09866512 0.0992455  0.04178758 0.0307603\n",
            " 0.0377249  0.03482298 0.03540337 0.03830528 0.04062681 0.04004643\n",
            " 0.03598375 0.03482298 0.03250145 0.03366222 0.03366222 0.02959954\n",
            " 0.02263494 0.01973302 0.01799187 0.01625073 0.01741149 0.01915264\n",
            " 0.02205456 0.02205456 0.02031341 0.01799187 0.01567034 0.01392919\n",
            " 0.01218804 0.00928613 0.01044689 0.01450958 0.02089379 0.02147417\n",
            " 0.01334881 0.01160766 0.00986651 0.00812536 0.0034823  0.\n",
            " 0.01020262 0.00929213 0.00983526 0.0110245  0.01240516 0.01379458\n",
            " 0.01514129 0.01644185 0.01770606 0.01894624 0.02017442 0.02140149\n",
            " 0.02263668 0.02388705 0.02515737 0.02645009 0.02776567 0.029103\n",
            " 0.03045991 0.03183352 0.03322076 0.0346186 ]\n",
            "22 day output [[0.03602424]]\n",
            "23 day input [0.05397562 0.06732443 0.08531631 0.06674405 0.0615206  0.06268137\n",
            " 0.05629716 0.06210099 0.05455601 0.05629716 0.04991294 0.05455601\n",
            " 0.05513639 0.06790482 0.0684852  0.0615206  0.06790482 0.0684852\n",
            " 0.07777133 0.06674405 0.06790482 0.07022635 0.07370865 0.07777133\n",
            " 0.0719675  0.0754498  0.0754498  0.07312826 0.0719675  0.08879861\n",
            " 0.07254788 0.07312826 0.07951248 0.07951248 0.08589669 0.08647707\n",
            " 0.08705746 0.09866512 0.0992455  0.04178758 0.0307603  0.0377249\n",
            " 0.03482298 0.03540337 0.03830528 0.04062681 0.04004643 0.03598375\n",
            " 0.03482298 0.03250145 0.03366222 0.03366222 0.02959954 0.02263494\n",
            " 0.01973302 0.01799187 0.01625073 0.01741149 0.01915264 0.02205456\n",
            " 0.02205456 0.02031341 0.01799187 0.01567034 0.01392919 0.01218804\n",
            " 0.00928613 0.01044689 0.01450958 0.02089379 0.02147417 0.01334881\n",
            " 0.01160766 0.00986651 0.00812536 0.0034823  0.         0.01020262\n",
            " 0.00929213 0.00983526 0.0110245  0.01240516 0.01379458 0.01514129\n",
            " 0.01644185 0.01770606 0.01894624 0.02017442 0.02140149 0.02263668\n",
            " 0.02388705 0.02515737 0.02645009 0.02776567 0.029103   0.03045991\n",
            " 0.03183352 0.03322076 0.0346186  0.03602424]\n",
            "23 day output [[0.03743532]]\n",
            "24 day input [0.06732443 0.08531631 0.06674405 0.0615206  0.06268137 0.05629716\n",
            " 0.06210099 0.05455601 0.05629716 0.04991294 0.05455601 0.05513639\n",
            " 0.06790482 0.0684852  0.0615206  0.06790482 0.0684852  0.07777133\n",
            " 0.06674405 0.06790482 0.07022635 0.07370865 0.07777133 0.0719675\n",
            " 0.0754498  0.0754498  0.07312826 0.0719675  0.08879861 0.07254788\n",
            " 0.07312826 0.07951248 0.07951248 0.08589669 0.08647707 0.08705746\n",
            " 0.09866512 0.0992455  0.04178758 0.0307603  0.0377249  0.03482298\n",
            " 0.03540337 0.03830528 0.04062681 0.04004643 0.03598375 0.03482298\n",
            " 0.03250145 0.03366222 0.03366222 0.02959954 0.02263494 0.01973302\n",
            " 0.01799187 0.01625073 0.01741149 0.01915264 0.02205456 0.02205456\n",
            " 0.02031341 0.01799187 0.01567034 0.01392919 0.01218804 0.00928613\n",
            " 0.01044689 0.01450958 0.02089379 0.02147417 0.01334881 0.01160766\n",
            " 0.00986651 0.00812536 0.0034823  0.         0.01020262 0.00929213\n",
            " 0.00983526 0.0110245  0.01240516 0.01379458 0.01514129 0.01644185\n",
            " 0.01770606 0.01894624 0.02017442 0.02140149 0.02263668 0.02388705\n",
            " 0.02515737 0.02645009 0.02776567 0.029103   0.03045991 0.03183352\n",
            " 0.03322076 0.0346186  0.03602424 0.03743532]\n",
            "24 day output [[0.03884999]]\n",
            "25 day input [0.08531631 0.06674405 0.0615206  0.06268137 0.05629716 0.06210099\n",
            " 0.05455601 0.05629716 0.04991294 0.05455601 0.05513639 0.06790482\n",
            " 0.0684852  0.0615206  0.06790482 0.0684852  0.07777133 0.06674405\n",
            " 0.06790482 0.07022635 0.07370865 0.07777133 0.0719675  0.0754498\n",
            " 0.0754498  0.07312826 0.0719675  0.08879861 0.07254788 0.07312826\n",
            " 0.07951248 0.07951248 0.08589669 0.08647707 0.08705746 0.09866512\n",
            " 0.0992455  0.04178758 0.0307603  0.0377249  0.03482298 0.03540337\n",
            " 0.03830528 0.04062681 0.04004643 0.03598375 0.03482298 0.03250145\n",
            " 0.03366222 0.03366222 0.02959954 0.02263494 0.01973302 0.01799187\n",
            " 0.01625073 0.01741149 0.01915264 0.02205456 0.02205456 0.02031341\n",
            " 0.01799187 0.01567034 0.01392919 0.01218804 0.00928613 0.01044689\n",
            " 0.01450958 0.02089379 0.02147417 0.01334881 0.01160766 0.00986651\n",
            " 0.00812536 0.0034823  0.         0.01020262 0.00929213 0.00983526\n",
            " 0.0110245  0.01240516 0.01379458 0.01514129 0.01644185 0.01770606\n",
            " 0.01894624 0.02017442 0.02140149 0.02263668 0.02388705 0.02515737\n",
            " 0.02645009 0.02776567 0.029103   0.03045991 0.03183352 0.03322076\n",
            " 0.0346186  0.03602424 0.03743532 0.03884999]\n",
            "25 day output [[0.04026679]]\n",
            "26 day input [0.06674405 0.0615206  0.06268137 0.05629716 0.06210099 0.05455601\n",
            " 0.05629716 0.04991294 0.05455601 0.05513639 0.06790482 0.0684852\n",
            " 0.0615206  0.06790482 0.0684852  0.07777133 0.06674405 0.06790482\n",
            " 0.07022635 0.07370865 0.07777133 0.0719675  0.0754498  0.0754498\n",
            " 0.07312826 0.0719675  0.08879861 0.07254788 0.07312826 0.07951248\n",
            " 0.07951248 0.08589669 0.08647707 0.08705746 0.09866512 0.0992455\n",
            " 0.04178758 0.0307603  0.0377249  0.03482298 0.03540337 0.03830528\n",
            " 0.04062681 0.04004643 0.03598375 0.03482298 0.03250145 0.03366222\n",
            " 0.03366222 0.02959954 0.02263494 0.01973302 0.01799187 0.01625073\n",
            " 0.01741149 0.01915264 0.02205456 0.02205456 0.02031341 0.01799187\n",
            " 0.01567034 0.01392919 0.01218804 0.00928613 0.01044689 0.01450958\n",
            " 0.02089379 0.02147417 0.01334881 0.01160766 0.00986651 0.00812536\n",
            " 0.0034823  0.         0.01020262 0.00929213 0.00983526 0.0110245\n",
            " 0.01240516 0.01379458 0.01514129 0.01644185 0.01770606 0.01894624\n",
            " 0.02017442 0.02140149 0.02263668 0.02388705 0.02515737 0.02645009\n",
            " 0.02776567 0.029103   0.03045991 0.03183352 0.03322076 0.0346186\n",
            " 0.03602424 0.03743532 0.03884999 0.04026679]\n",
            "26 day output [[0.04168471]]\n",
            "27 day input [0.0615206  0.06268137 0.05629716 0.06210099 0.05455601 0.05629716\n",
            " 0.04991294 0.05455601 0.05513639 0.06790482 0.0684852  0.0615206\n",
            " 0.06790482 0.0684852  0.07777133 0.06674405 0.06790482 0.07022635\n",
            " 0.07370865 0.07777133 0.0719675  0.0754498  0.0754498  0.07312826\n",
            " 0.0719675  0.08879861 0.07254788 0.07312826 0.07951248 0.07951248\n",
            " 0.08589669 0.08647707 0.08705746 0.09866512 0.0992455  0.04178758\n",
            " 0.0307603  0.0377249  0.03482298 0.03540337 0.03830528 0.04062681\n",
            " 0.04004643 0.03598375 0.03482298 0.03250145 0.03366222 0.03366222\n",
            " 0.02959954 0.02263494 0.01973302 0.01799187 0.01625073 0.01741149\n",
            " 0.01915264 0.02205456 0.02205456 0.02031341 0.01799187 0.01567034\n",
            " 0.01392919 0.01218804 0.00928613 0.01044689 0.01450958 0.02089379\n",
            " 0.02147417 0.01334881 0.01160766 0.00986651 0.00812536 0.0034823\n",
            " 0.         0.01020262 0.00929213 0.00983526 0.0110245  0.01240516\n",
            " 0.01379458 0.01514129 0.01644185 0.01770606 0.01894624 0.02017442\n",
            " 0.02140149 0.02263668 0.02388705 0.02515737 0.02645009 0.02776567\n",
            " 0.029103   0.03045991 0.03183352 0.03322076 0.0346186  0.03602424\n",
            " 0.03743532 0.03884999 0.04026679 0.04168471]\n",
            "27 day output [[0.04310311]]\n",
            "28 day input [0.06268137 0.05629716 0.06210099 0.05455601 0.05629716 0.04991294\n",
            " 0.05455601 0.05513639 0.06790482 0.0684852  0.0615206  0.06790482\n",
            " 0.0684852  0.07777133 0.06674405 0.06790482 0.07022635 0.07370865\n",
            " 0.07777133 0.0719675  0.0754498  0.0754498  0.07312826 0.0719675\n",
            " 0.08879861 0.07254788 0.07312826 0.07951248 0.07951248 0.08589669\n",
            " 0.08647707 0.08705746 0.09866512 0.0992455  0.04178758 0.0307603\n",
            " 0.0377249  0.03482298 0.03540337 0.03830528 0.04062681 0.04004643\n",
            " 0.03598375 0.03482298 0.03250145 0.03366222 0.03366222 0.02959954\n",
            " 0.02263494 0.01973302 0.01799187 0.01625073 0.01741149 0.01915264\n",
            " 0.02205456 0.02205456 0.02031341 0.01799187 0.01567034 0.01392919\n",
            " 0.01218804 0.00928613 0.01044689 0.01450958 0.02089379 0.02147417\n",
            " 0.01334881 0.01160766 0.00986651 0.00812536 0.0034823  0.\n",
            " 0.01020262 0.00929213 0.00983526 0.0110245  0.01240516 0.01379458\n",
            " 0.01514129 0.01644185 0.01770606 0.01894624 0.02017442 0.02140149\n",
            " 0.02263668 0.02388705 0.02515737 0.02645009 0.02776567 0.029103\n",
            " 0.03045991 0.03183352 0.03322076 0.0346186  0.03602424 0.03743532\n",
            " 0.03884999 0.04026679 0.04168471 0.04310311]\n",
            "28 day output [[0.04452171]]\n",
            "29 day input [0.05629716 0.06210099 0.05455601 0.05629716 0.04991294 0.05455601\n",
            " 0.05513639 0.06790482 0.0684852  0.0615206  0.06790482 0.0684852\n",
            " 0.07777133 0.06674405 0.06790482 0.07022635 0.07370865 0.07777133\n",
            " 0.0719675  0.0754498  0.0754498  0.07312826 0.0719675  0.08879861\n",
            " 0.07254788 0.07312826 0.07951248 0.07951248 0.08589669 0.08647707\n",
            " 0.08705746 0.09866512 0.0992455  0.04178758 0.0307603  0.0377249\n",
            " 0.03482298 0.03540337 0.03830528 0.04062681 0.04004643 0.03598375\n",
            " 0.03482298 0.03250145 0.03366222 0.03366222 0.02959954 0.02263494\n",
            " 0.01973302 0.01799187 0.01625073 0.01741149 0.01915264 0.02205456\n",
            " 0.02205456 0.02031341 0.01799187 0.01567034 0.01392919 0.01218804\n",
            " 0.00928613 0.01044689 0.01450958 0.02089379 0.02147417 0.01334881\n",
            " 0.01160766 0.00986651 0.00812536 0.0034823  0.         0.01020262\n",
            " 0.00929213 0.00983526 0.0110245  0.01240516 0.01379458 0.01514129\n",
            " 0.01644185 0.01770606 0.01894624 0.02017442 0.02140149 0.02263668\n",
            " 0.02388705 0.02515737 0.02645009 0.02776567 0.029103   0.03045991\n",
            " 0.03183352 0.03322076 0.0346186  0.03602424 0.03743532 0.03884999\n",
            " 0.04026679 0.04168471 0.04310311 0.04452171]\n",
            "29 day output [[0.04594032]]\n",
            "[[0.010202616453170776], [0.009292129427194595], [0.009835263714194298], [0.01102449744939804], [0.012405162677168846], [0.013794577680528164], [0.015141294337809086], [0.016441846266388893], [0.01770606078207493], [0.018946237862110138], [0.02017442137002945], [0.02140149287879467], [0.02263667620718479], [0.023887047544121742], [0.025157371535897255], [0.026450086385011673], [0.0277656689286232], [0.029103003442287445], [0.030459905043244362], [0.03183351829648018], [0.03322076424956322], [0.03461860120296478], [0.036024242639541626], [0.037435322999954224], [0.03884998708963394], [0.04026678949594498], [0.04168470948934555], [0.043103113770484924], [0.04452171176671982], [0.04594031721353531]]\n"
          ]
        }
      ]
    },
    {
      "cell_type": "code",
      "source": [
        "day_new = np.arange(1, 101)\n",
        "day_pred = np.arange(101, 131)"
      ],
      "metadata": {
        "id": "Nl9HdvZR7bA0"
      },
      "execution_count": 39,
      "outputs": []
    },
    {
      "cell_type": "code",
      "source": [
        "len(df_close)"
      ],
      "metadata": {
        "colab": {
          "base_uri": "https://localhost:8080/",
          "height": 0
        },
        "id": "_M1sm9qk_ow1",
        "outputId": "e3c41286-1805-45a4-8ec5-0550299d0195"
      },
      "execution_count": 40,
      "outputs": [
        {
          "output_type": "execute_result",
          "data": {
            "text/plain": [
              "1256"
            ]
          },
          "metadata": {},
          "execution_count": 40
        }
      ]
    },
    {
      "cell_type": "code",
      "source": [
        "plt.figure(figsize=(10,6))\n",
        "plt.plot(day_new, scaler.inverse_transform(df_close[len(df_close)-100:]))\n",
        "plt.plot(day_pred, scaler.inverse_transform(output))\n",
        "plt.legend(['Previous Data', 'Forecast'])"
      ],
      "metadata": {
        "colab": {
          "base_uri": "https://localhost:8080/",
          "height": 543
        },
        "id": "T_zHoKCe_yn8",
        "outputId": "ab4a0063-de20-41ba-ae57-7c2b6e1f0c73"
      },
      "execution_count": 41,
      "outputs": [
        {
          "output_type": "execute_result",
          "data": {
            "text/plain": [
              "<matplotlib.legend.Legend at 0x7fd18f275120>"
            ]
          },
          "metadata": {},
          "execution_count": 41
        },
        {
          "output_type": "display_data",
          "data": {
            "text/plain": [
              "<Figure size 1000x600 with 1 Axes>"
            ],
            "image/png": "[encoded data removed]"
          },
          "metadata": {}
        }
      ]
    },
    {
      "cell_type": "code",
      "source": [
        "df_new = df_close.tolist()\n",
        "df_new.extend(output)\n",
        "plt.figure(figsize=(10,6))\n",
        "plt.plot(df_new[1000:])"
      ],
      "metadata": {
        "colab": {
          "base_uri": "https://localhost:8080/",
          "height": 539
        },
        "id": "NbrRqY0KAuQi",
        "outputId": "2729e635-0765-4c1f-8a85-c5fe64f51f71"
      },
      "execution_count": 42,
      "outputs": [
        {
          "output_type": "execute_result",
          "data": {
            "text/plain": [
              "[<matplotlib.lines.Line2D at 0x7fd181bca3b0>]"
            ]
          },
          "metadata": {},
          "execution_count": 42
        },
        {
          "output_type": "display_data",
          "data": {
            "text/plain": [
              "<Figure size 1000x600 with 1 Axes>"
            ],
            "image/png": "[encoded data removed]"
          },
          "metadata": {}
        }
      ]
    },
    {
      "cell_type": "code",
      "source": [
        "df_new = scaler.inverse_transform(df_new).tolist()\n",
        "plt.figure(figsize=(10,6))\n",
        "plt.plot(df_new)"
      ],
      "metadata": {
        "colab": {
          "base_uri": "https://localhost:8080/",
          "height": 543
        },
        "id": "s5eWn3PmEZ28",
        "outputId": "7422cbcf-1e3a-428e-93b7-7a12e3f27c3b"
      },
      "execution_count": 43,
      "outputs": [
        {
          "output_type": "execute_result",
          "data": {
            "text/plain": [
              "[<matplotlib.lines.Line2D at 0x7fd18ef92d70>]"
            ]
          },
          "metadata": {},
          "execution_count": 43
        },
        {
          "output_type": "display_data",
          "data": {
            "text/plain": [
              "<Figure size 1000x600 with 1 Axes>"
            ],
            "image/png": "[encoded data removed]"
          },
          "metadata": {}
        }
      ]
    },
    {
      "cell_type": "markdown",
      "source": [
        "---"
      ],
      "metadata": {
        "id": "TtoS17sIFK6h"
      }
    }
  ]
}