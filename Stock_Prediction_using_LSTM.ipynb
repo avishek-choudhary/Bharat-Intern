{
  "nbformat": 4,
  "nbformat_minor": 0,
  "metadata": {
    "colab": {
      "provenance": [],
      "authorship_tag": "ABX9TyOXTGrPvJLktHS+t2GwWuVC",
      "include_colab_link": true
    },
    "kernelspec": {
      "name": "python3",
      "display_name": "Python 3"
    },
    "language_info": {
      "name": "python"
    }
  },
  "cells": [
    {
      "cell_type": "markdown",
      "metadata": {
        "id": "view-in-github",
        "colab_type": "text"
      },
      "source": [
        "<a href=\"https://colab.research.google.com/github/avishek-choudhary/Bharat-Intern/blob/main/Stock_Prediction_using_LSTM.ipynb\" target=\"_parent\"><img src=\"https://colab.research.google.com/assets/colab-badge.svg\" alt=\"Open In Colab\"/></a>"
      ]
    },
    {
      "cell_type": "markdown",
      "source": [
        "# TASK 1\n",
        "## Stock Prediction using LSTM\n",
        "## Author: *Avishek Choudhary*\n",
        "<a href=\"https://www.linkedin.com/in/avishek-choudhary\"> ![](https://img.shields.io/badge/LinkedIn-grey?style=for-the-badge&logo=linkedin&logoColor=blue)</a> <a href=\"https://www.github.com/avishek-choudhary\"> ![](https://img.shields.io/badge/Github-grey?style=for-the-badge&logo=github) </a>\n",
        "\n",
        "This is a time series forecasting problem. It is an attempt to forecasting the data by understanding the previous data.\n",
        "\n",
        "Steps in forecasting:\n",
        "\n",
        "    *Problem statement\n",
        "    *Data Collection\n",
        "    *Explore the data\n",
        "    *Pre-process the data\n",
        "    *Create a stacked LSTM model\n",
        "    *Predict and plot the test data\n",
        "    *Forecast for 30 days and plot the output\n",
        "    \n",
        "Stock data is a sequential data that is they need to be analysed according to the order by time.\n",
        "In Recurrent Neural Network RNN we are dealt with problem of vanishing gradient thus previous data will become less significant after long backpropagation. That is memory is not that deep. So we use Long short term memory LSTM. This is because stock prediction need long term memory."
      ],
      "metadata": {
        "id": "Kf07xbstXceU"
      }
    },
    {
      "cell_type": "markdown",
      "source": [
        "### 1. Problem Statement\n",
        "Take stock price of any company and predicts its price by using LSTM"
      ],
      "metadata": {
        "id": "o6-GQbgfjdQI"
      }
    },
    {
      "cell_type": "markdown",
      "source": [
        "\n",
        "\n",
        "---"
      ],
      "metadata": {
        "id": "NtLfeTz50MP-"
      }
    },
    {
      "cell_type": "markdown",
      "source": [
        "### 2. Data Collection\n",
        "Collecting the data from Tingo.com using Tiingo's API\n",
        "\n",
        "Here we are collecting Tata Consultancy Services (TCS) stocks data."
      ],
      "metadata": {
        "id": "GYzPargLSgOm"
      }
    },
    {
      "cell_type": "code",
      "execution_count": 44,
      "metadata": {
        "id": "HzvECREXNjoq"
      },
      "outputs": [],
      "source": [
        "#importing required libraries\n",
        "\n",
        "import numpy as np\n",
        "import pandas as pd\n",
        "import matplotlib.pyplot as plt\n",
        "import pandas_datareader as pdr\n",
        "import sklearn"
      ]
    },
    {
      "cell_type": "code",
      "source": [
        "df = pdr.get_data_tiingo('TCS', api_key = key)        #'key' stores the api key [!deleted]\n",
        "df.to_csv('TCS.csv')                                  #saving the data to CSV file"
      ],
      "metadata": {
        "colab": {
          "base_uri": "https://localhost:8080/"
        },
        "id": "r5OhemgESZeo",
        "outputId": "910a5a2c-d1d5-4896-8d8f-3d3b339808f5"
      },
      "execution_count": 11,
      "outputs": [
        {
          "output_type": "stream",
          "name": "stderr",
          "text": [
            "<ipython-input-11-7bfcab3382bf>:1: FutureWarning: In a future version of pandas all arguments of concat except for the argument 'objs' will be keyword-only.\n",
            "  df = pdr.get_data_tiingo('TCS', api_key = key)        #'key' store the api key\n"
          ]
        }
      ]
    },
    {
      "cell_type": "markdown",
      "source": [
        "\n",
        "\n",
        "---"
      ],
      "metadata": {
        "id": "wt9rwdgF0G8r"
      }
    },
    {
      "cell_type": "markdown",
      "source": [
        "### 3. Exploring the data"
      ],
      "metadata": {
        "id": "vln6_tBCq56w"
      }
    },
    {
      "cell_type": "code",
      "source": [
        "df = pd.read_csv('TCS.csv')\n",
        "df.head()"
      ],
      "metadata": {
        "colab": {
          "base_uri": "https://localhost:8080/",
          "height": 206
        },
        "id": "lX-rVi8fTJLm",
        "outputId": "98bb7e73-5bc0-4cc7-c210-c45d641bcad7"
      },
      "execution_count": 12,
      "outputs": [
        {
          "output_type": "execute_result",
          "data": {
            "text/plain": [
              "  symbol                       date  close   high      low   open  volume  \\\n",
              "0    TCS  2018-09-26 00:00:00+00:00  10.82  11.11  10.8100  10.90  202263   \n",
              "1    TCS  2018-09-27 00:00:00+00:00  10.93  10.97  10.7310  10.82  172309   \n",
              "2    TCS  2018-09-28 00:00:00+00:00  11.10  11.21  10.8400  10.89  433523   \n",
              "3    TCS  2018-10-01 00:00:00+00:00  10.44  11.13  10.3500  11.10  241074   \n",
              "4    TCS  2018-10-02 00:00:00+00:00  10.26  10.46  10.1301  10.41  224051   \n",
              "\n",
              "    adjClose    adjHigh     adjLow    adjOpen  adjVolume  divCash  splitFactor  \n",
              "0  10.179944  10.452789  10.170535  10.255211     202263      0.0          1.0  \n",
              "1  10.283437  10.321070  10.096208  10.179944     172309      0.0          1.0  \n",
              "2  10.443380  10.546873  10.198761  10.245803     433523      0.0          1.0  \n",
              "3   9.822423  10.471606   9.737746  10.443380     241074      0.0          1.0  \n",
              "4   9.653070   9.841239   9.530855   9.794197     224051      0.0          1.0  "
            ],
            "text/html": [
              "\n",
              "  <div id=\"df-1df63166-54c7-4179-ae6b-cd5fb3332800\" class=\"colab-df-container\">\n",
              "    <div>\n",
              "<style scoped>\n",
              "    .dataframe tbody tr th:only-of-type {\n",
              "        vertical-align: middle;\n",
              "    }\n",
              "\n",
              "    .dataframe tbody tr th {\n",
              "        vertical-align: top;\n",
              "    }\n",
              "\n",
              "    .dataframe thead th {\n",
              "        text-align: right;\n",
              "    }\n",
              "</style>\n",
              "<table border=\"1\" class=\"dataframe\">\n",
              "  <thead>\n",
              "    <tr style=\"text-align: right;\">\n",
              "      <th></th>\n",
              "      <th>symbol</th>\n",
              "      <th>date</th>\n",
              "      <th>close</th>\n",
              "      <th>high</th>\n",
              "      <th>low</th>\n",
              "      <th>open</th>\n",
              "      <th>volume</th>\n",
              "      <th>adjClose</th>\n",
              "      <th>adjHigh</th>\n",
              "      <th>adjLow</th>\n",
              "      <th>adjOpen</th>\n",
              "      <th>adjVolume</th>\n",
              "      <th>divCash</th>\n",
              "      <th>splitFactor</th>\n",
              "    </tr>\n",
              "  </thead>\n",
              "  <tbody>\n",
              "    <tr>\n",
              "      <th>0</th>\n",
              "      <td>TCS</td>\n",
              "      <td>2018-09-26 00:00:00+00:00</td>\n",
              "      <td>10.82</td>\n",
              "      <td>11.11</td>\n",
              "      <td>10.8100</td>\n",
              "      <td>10.90</td>\n",
              "      <td>202263</td>\n",
              "      <td>10.179944</td>\n",
              "      <td>10.452789</td>\n",
              "      <td>10.170535</td>\n",
              "      <td>10.255211</td>\n",
              "      <td>202263</td>\n",
              "      <td>0.0</td>\n",
              "      <td>1.0</td>\n",
              "    </tr>\n",
              "    <tr>\n",
              "      <th>1</th>\n",
              "      <td>TCS</td>\n",
              "      <td>2018-09-27 00:00:00+00:00</td>\n",
              "      <td>10.93</td>\n",
              "      <td>10.97</td>\n",
              "      <td>10.7310</td>\n",
              "      <td>10.82</td>\n",
              "      <td>172309</td>\n",
              "      <td>10.283437</td>\n",
              "      <td>10.321070</td>\n",
              "      <td>10.096208</td>\n",
              "      <td>10.179944</td>\n",
              "      <td>172309</td>\n",
              "      <td>0.0</td>\n",
              "      <td>1.0</td>\n",
              "    </tr>\n",
              "    <tr>\n",
              "      <th>2</th>\n",
              "      <td>TCS</td>\n",
              "      <td>2018-09-28 00:00:00+00:00</td>\n",
              "      <td>11.10</td>\n",
              "      <td>11.21</td>\n",
              "      <td>10.8400</td>\n",
              "      <td>10.89</td>\n",
              "      <td>433523</td>\n",
              "      <td>10.443380</td>\n",
              "      <td>10.546873</td>\n",
              "      <td>10.198761</td>\n",
              "      <td>10.245803</td>\n",
              "      <td>433523</td>\n",
              "      <td>0.0</td>\n",
              "      <td>1.0</td>\n",
              "    </tr>\n",
              "    <tr>\n",
              "      <th>3</th>\n",
              "      <td>TCS</td>\n",
              "      <td>2018-10-01 00:00:00+00:00</td>\n",
              "      <td>10.44</td>\n",
              "      <td>11.13</td>\n",
              "      <td>10.3500</td>\n",
              "      <td>11.10</td>\n",
              "      <td>241074</td>\n",
              "      <td>9.822423</td>\n",
              "      <td>10.471606</td>\n",
              "      <td>9.737746</td>\n",
              "      <td>10.443380</td>\n",
              "      <td>241074</td>\n",
              "      <td>0.0</td>\n",
              "      <td>1.0</td>\n",
              "    </tr>\n",
              "    <tr>\n",
              "      <th>4</th>\n",
              "      <td>TCS</td>\n",
              "      <td>2018-10-02 00:00:00+00:00</td>\n",
              "      <td>10.26</td>\n",
              "      <td>10.46</td>\n",
              "      <td>10.1301</td>\n",
              "      <td>10.41</td>\n",
              "      <td>224051</td>\n",
              "      <td>9.653070</td>\n",
              "      <td>9.841239</td>\n",
              "      <td>9.530855</td>\n",
              "      <td>9.794197</td>\n",
              "      <td>224051</td>\n",
              "      <td>0.0</td>\n",
              "      <td>1.0</td>\n",
              "    </tr>\n",
              "  </tbody>\n",
              "</table>\n",
              "</div>\n",
              "    <div class=\"colab-df-buttons\">\n",
              "\n",
              "  <div class=\"colab-df-container\">\n",
              "    <button class=\"colab-df-convert\" onclick=\"convertToInteractive('df-1df63166-54c7-4179-ae6b-cd5fb3332800')\"\n",
              "            title=\"Convert this dataframe to an interactive table.\"\n",
              "            style=\"display:none;\">\n",
              "\n",
              "  <svg xmlns=\"http://www.w3.org/2000/svg\" height=\"24px\" viewBox=\"0 -960 960 960\">\n",
              "    <path d=\"M120-120v-720h720v720H120Zm60-500h600v-160H180v160Zm220 220h160v-160H400v160Zm0 220h160v-160H400v160ZM180-400h160v-160H180v160Zm440 0h160v-160H620v160ZM180-180h160v-160H180v160Zm440 0h160v-160H620v160Z\"/>\n",
              "  </svg>\n",
              "    </button>\n",
              "\n",
              "  <style>\n",
              "    .colab-df-container {\n",
              "      display:flex;\n",
              "      gap: 12px;\n",
              "    }\n",
              "\n",
              "    .colab-df-convert {\n",
              "      background-color: #E8F0FE;\n",
              "      border: none;\n",
              "      border-radius: 50%;\n",
              "      cursor: pointer;\n",
              "      display: none;\n",
              "      fill: #1967D2;\n",
              "      height: 32px;\n",
              "      padding: 0 0 0 0;\n",
              "      width: 32px;\n",
              "    }\n",
              "\n",
              "    .colab-df-convert:hover {\n",
              "      background-color: #E2EBFA;\n",
              "      box-shadow: 0px 1px 2px rgba(60, 64, 67, 0.3), 0px 1px 3px 1px rgba(60, 64, 67, 0.15);\n",
              "      fill: #174EA6;\n",
              "    }\n",
              "\n",
              "    .colab-df-buttons div {\n",
              "      margin-bottom: 4px;\n",
              "    }\n",
              "\n",
              "    [theme=dark] .colab-df-convert {\n",
              "      background-color: #3B4455;\n",
              "      fill: #D2E3FC;\n",
              "    }\n",
              "\n",
              "    [theme=dark] .colab-df-convert:hover {\n",
              "      background-color: #434B5C;\n",
              "      box-shadow: 0px 1px 3px 1px rgba(0, 0, 0, 0.15);\n",
              "      filter: drop-shadow(0px 1px 2px rgba(0, 0, 0, 0.3));\n",
              "      fill: #FFFFFF;\n",
              "    }\n",
              "  </style>\n",
              "\n",
              "    <script>\n",
              "      const buttonEl =\n",
              "        document.querySelector('#df-1df63166-54c7-4179-ae6b-cd5fb3332800 button.colab-df-convert');\n",
              "      buttonEl.style.display =\n",
              "        google.colab.kernel.accessAllowed ? 'block' : 'none';\n",
              "\n",
              "      async function convertToInteractive(key) {\n",
              "        const element = document.querySelector('#df-1df63166-54c7-4179-ae6b-cd5fb3332800');\n",
              "        const dataTable =\n",
              "          await google.colab.kernel.invokeFunction('convertToInteractive',\n",
              "                                                    [key], {});\n",
              "        if (!dataTable) return;\n",
              "\n",
              "        const docLinkHtml = 'Like what you see? Visit the ' +\n",
              "          '<a target=\"_blank\" href=https://colab.research.google.com/notebooks/data_table.ipynb>data table notebook</a>'\n",
              "          + ' to learn more about interactive tables.';\n",
              "        element.innerHTML = '';\n",
              "        dataTable['output_type'] = 'display_data';\n",
              "        await google.colab.output.renderOutput(dataTable, element);\n",
              "        const docLink = document.createElement('div');\n",
              "        docLink.innerHTML = docLinkHtml;\n",
              "        element.appendChild(docLink);\n",
              "      }\n",
              "    </script>\n",
              "  </div>\n",
              "\n",
              "\n",
              "<div id=\"df-de6aa7ef-3f24-403c-b1cb-ad7cbde55641\">\n",
              "  <button class=\"colab-df-quickchart\" onclick=\"quickchart('df-de6aa7ef-3f24-403c-b1cb-ad7cbde55641')\"\n",
              "            title=\"Suggest charts.\"\n",
              "            style=\"display:none;\">\n",
              "\n",
              "<svg xmlns=\"http://www.w3.org/2000/svg\" height=\"24px\"viewBox=\"0 0 24 24\"\n",
              "     width=\"24px\">\n",
              "    <g>\n",
              "        <path d=\"M19 3H5c-1.1 0-2 .9-2 2v14c0 1.1.9 2 2 2h14c1.1 0 2-.9 2-2V5c0-1.1-.9-2-2-2zM9 17H7v-7h2v7zm4 0h-2V7h2v10zm4 0h-2v-4h2v4z\"/>\n",
              "    </g>\n",
              "</svg>\n",
              "  </button>\n",
              "\n",
              "<style>\n",
              "  .colab-df-quickchart {\n",
              "      --bg-color: #E8F0FE;\n",
              "      --fill-color: #1967D2;\n",
              "      --hover-bg-color: #E2EBFA;\n",
              "      --hover-fill-color: #174EA6;\n",
              "      --disabled-fill-color: #AAA;\n",
              "      --disabled-bg-color: #DDD;\n",
              "  }\n",
              "\n",
              "  [theme=dark] .colab-df-quickchart {\n",
              "      --bg-color: #3B4455;\n",
              "      --fill-color: #D2E3FC;\n",
              "      --hover-bg-color: #434B5C;\n",
              "      --hover-fill-color: #FFFFFF;\n",
              "      --disabled-bg-color: #3B4455;\n",
              "      --disabled-fill-color: #666;\n",
              "  }\n",
              "\n",
              "  .colab-df-quickchart {\n",
              "    background-color: var(--bg-color);\n",
              "    border: none;\n",
              "    border-radius: 50%;\n",
              "    cursor: pointer;\n",
              "    display: none;\n",
              "    fill: var(--fill-color);\n",
              "    height: 32px;\n",
              "    padding: 0;\n",
              "    width: 32px;\n",
              "  }\n",
              "\n",
              "  .colab-df-quickchart:hover {\n",
              "    background-color: var(--hover-bg-color);\n",
              "    box-shadow: 0 1px 2px rgba(60, 64, 67, 0.3), 0 1px 3px 1px rgba(60, 64, 67, 0.15);\n",
              "    fill: var(--button-hover-fill-color);\n",
              "  }\n",
              "\n",
              "  .colab-df-quickchart-complete:disabled,\n",
              "  .colab-df-quickchart-complete:disabled:hover {\n",
              "    background-color: var(--disabled-bg-color);\n",
              "    fill: var(--disabled-fill-color);\n",
              "    box-shadow: none;\n",
              "  }\n",
              "\n",
              "  .colab-df-spinner {\n",
              "    border: 2px solid var(--fill-color);\n",
              "    border-color: transparent;\n",
              "    border-bottom-color: var(--fill-color);\n",
              "    animation:\n",
              "      spin 1s steps(1) infinite;\n",
              "  }\n",
              "\n",
              "  @keyframes spin {\n",
              "    0% {\n",
              "      border-color: transparent;\n",
              "      border-bottom-color: var(--fill-color);\n",
              "      border-left-color: var(--fill-color);\n",
              "    }\n",
              "    20% {\n",
              "      border-color: transparent;\n",
              "      border-left-color: var(--fill-color);\n",
              "      border-top-color: var(--fill-color);\n",
              "    }\n",
              "    30% {\n",
              "      border-color: transparent;\n",
              "      border-left-color: var(--fill-color);\n",
              "      border-top-color: var(--fill-color);\n",
              "      border-right-color: var(--fill-color);\n",
              "    }\n",
              "    40% {\n",
              "      border-color: transparent;\n",
              "      border-right-color: var(--fill-color);\n",
              "      border-top-color: var(--fill-color);\n",
              "    }\n",
              "    60% {\n",
              "      border-color: transparent;\n",
              "      border-right-color: var(--fill-color);\n",
              "    }\n",
              "    80% {\n",
              "      border-color: transparent;\n",
              "      border-right-color: var(--fill-color);\n",
              "      border-bottom-color: var(--fill-color);\n",
              "    }\n",
              "    90% {\n",
              "      border-color: transparent;\n",
              "      border-bottom-color: var(--fill-color);\n",
              "    }\n",
              "  }\n",
              "</style>\n",
              "\n",
              "  <script>\n",
              "    async function quickchart(key) {\n",
              "      const quickchartButtonEl =\n",
              "        document.querySelector('#' + key + ' button');\n",
              "      quickchartButtonEl.disabled = true;  // To prevent multiple clicks.\n",
              "      quickchartButtonEl.classList.add('colab-df-spinner');\n",
              "      try {\n",
              "        const charts = await google.colab.kernel.invokeFunction(\n",
              "            'suggestCharts', [key], {});\n",
              "      } catch (error) {\n",
              "        console.error('Error during call to suggestCharts:', error);\n",
              "      }\n",
              "      quickchartButtonEl.classList.remove('colab-df-spinner');\n",
              "      quickchartButtonEl.classList.add('colab-df-quickchart-complete');\n",
              "    }\n",
              "    (() => {\n",
              "      let quickchartButtonEl =\n",
              "        document.querySelector('#df-de6aa7ef-3f24-403c-b1cb-ad7cbde55641 button');\n",
              "      quickchartButtonEl.style.display =\n",
              "        google.colab.kernel.accessAllowed ? 'block' : 'none';\n",
              "    })();\n",
              "  </script>\n",
              "</div>\n",
              "    </div>\n",
              "  </div>\n"
            ]
          },
          "metadata": {},
          "execution_count": 12
        }
      ]
    },
    {
      "cell_type": "code",
      "source": [
        "df = pd.read_csv('TCS.csv', parse_dates=True, index_col='date')\n",
        "df.head()"
      ],
      "metadata": {
        "colab": {
          "base_uri": "https://localhost:8080/",
          "height": 238
        },
        "id": "o1xR_aykaPGB",
        "outputId": "20fc2981-10ff-4075-e0de-a4cfbc51c75e"
      },
      "execution_count": 20,
      "outputs": [
        {
          "output_type": "execute_result",
          "data": {
            "text/plain": [
              "                          symbol  close   high      low   open  volume  \\\n",
              "date                                                                     \n",
              "2018-09-26 00:00:00+00:00    TCS  10.82  11.11  10.8100  10.90  202263   \n",
              "2018-09-27 00:00:00+00:00    TCS  10.93  10.97  10.7310  10.82  172309   \n",
              "2018-09-28 00:00:00+00:00    TCS  11.10  11.21  10.8400  10.89  433523   \n",
              "2018-10-01 00:00:00+00:00    TCS  10.44  11.13  10.3500  11.10  241074   \n",
              "2018-10-02 00:00:00+00:00    TCS  10.26  10.46  10.1301  10.41  224051   \n",
              "\n",
              "                            adjClose    adjHigh     adjLow    adjOpen  \\\n",
              "date                                                                    \n",
              "2018-09-26 00:00:00+00:00  10.179944  10.452789  10.170535  10.255211   \n",
              "2018-09-27 00:00:00+00:00  10.283437  10.321070  10.096208  10.179944   \n",
              "2018-09-28 00:00:00+00:00  10.443380  10.546873  10.198761  10.245803   \n",
              "2018-10-01 00:00:00+00:00   9.822423  10.471606   9.737746  10.443380   \n",
              "2018-10-02 00:00:00+00:00   9.653070   9.841239   9.530855   9.794197   \n",
              "\n",
              "                           adjVolume  divCash  splitFactor  \n",
              "date                                                        \n",
              "2018-09-26 00:00:00+00:00     202263      0.0          1.0  \n",
              "2018-09-27 00:00:00+00:00     172309      0.0          1.0  \n",
              "2018-09-28 00:00:00+00:00     433523      0.0          1.0  \n",
              "2018-10-01 00:00:00+00:00     241074      0.0          1.0  \n",
              "2018-10-02 00:00:00+00:00     224051      0.0          1.0  "
            ],
            "text/html": [
              "\n",
              "  <div id=\"df-2d8b4001-53a1-4b4d-88d9-b75ca4285285\" class=\"colab-df-container\">\n",
              "    <div>\n",
              "<style scoped>\n",
              "    .dataframe tbody tr th:only-of-type {\n",
              "        vertical-align: middle;\n",
              "    }\n",
              "\n",
              "    .dataframe tbody tr th {\n",
              "        vertical-align: top;\n",
              "    }\n",
              "\n",
              "    .dataframe thead th {\n",
              "        text-align: right;\n",
              "    }\n",
              "</style>\n",
              "<table border=\"1\" class=\"dataframe\">\n",
              "  <thead>\n",
              "    <tr style=\"text-align: right;\">\n",
              "      <th></th>\n",
              "      <th>symbol</th>\n",
              "      <th>close</th>\n",
              "      <th>high</th>\n",
              "      <th>low</th>\n",
              "      <th>open</th>\n",
              "      <th>volume</th>\n",
              "      <th>adjClose</th>\n",
              "      <th>adjHigh</th>\n",
              "      <th>adjLow</th>\n",
              "      <th>adjOpen</th>\n",
              "      <th>adjVolume</th>\n",
              "      <th>divCash</th>\n",
              "      <th>splitFactor</th>\n",
              "    </tr>\n",
              "    <tr>\n",
              "      <th>date</th>\n",
              "      <th></th>\n",
              "      <th></th>\n",
              "      <th></th>\n",
              "      <th></th>\n",
              "      <th></th>\n",
              "      <th></th>\n",
              "      <th></th>\n",
              "      <th></th>\n",
              "      <th></th>\n",
              "      <th></th>\n",
              "      <th></th>\n",
              "      <th></th>\n",
              "      <th></th>\n",
              "    </tr>\n",
              "  </thead>\n",
              "  <tbody>\n",
              "    <tr>\n",
              "      <th>2018-09-26 00:00:00+00:00</th>\n",
              "      <td>TCS</td>\n",
              "      <td>10.82</td>\n",
              "      <td>11.11</td>\n",
              "      <td>10.8100</td>\n",
              "      <td>10.90</td>\n",
              "      <td>202263</td>\n",
              "      <td>10.179944</td>\n",
              "      <td>10.452789</td>\n",
              "      <td>10.170535</td>\n",
              "      <td>10.255211</td>\n",
              "      <td>202263</td>\n",
              "      <td>0.0</td>\n",
              "      <td>1.0</td>\n",
              "    </tr>\n",
              "    <tr>\n",
              "      <th>2018-09-27 00:00:00+00:00</th>\n",
              "      <td>TCS</td>\n",
              "      <td>10.93</td>\n",
              "      <td>10.97</td>\n",
              "      <td>10.7310</td>\n",
              "      <td>10.82</td>\n",
              "      <td>172309</td>\n",
              "      <td>10.283437</td>\n",
              "      <td>10.321070</td>\n",
              "      <td>10.096208</td>\n",
              "      <td>10.179944</td>\n",
              "      <td>172309</td>\n",
              "      <td>0.0</td>\n",
              "      <td>1.0</td>\n",
              "    </tr>\n",
              "    <tr>\n",
              "      <th>2018-09-28 00:00:00+00:00</th>\n",
              "      <td>TCS</td>\n",
              "      <td>11.10</td>\n",
              "      <td>11.21</td>\n",
              "      <td>10.8400</td>\n",
              "      <td>10.89</td>\n",
              "      <td>433523</td>\n",
              "      <td>10.443380</td>\n",
              "      <td>10.546873</td>\n",
              "      <td>10.198761</td>\n",
              "      <td>10.245803</td>\n",
              "      <td>433523</td>\n",
              "      <td>0.0</td>\n",
              "      <td>1.0</td>\n",
              "    </tr>\n",
              "    <tr>\n",
              "      <th>2018-10-01 00:00:00+00:00</th>\n",
              "      <td>TCS</td>\n",
              "      <td>10.44</td>\n",
              "      <td>11.13</td>\n",
              "      <td>10.3500</td>\n",
              "      <td>11.10</td>\n",
              "      <td>241074</td>\n",
              "      <td>9.822423</td>\n",
              "      <td>10.471606</td>\n",
              "      <td>9.737746</td>\n",
              "      <td>10.443380</td>\n",
              "      <td>241074</td>\n",
              "      <td>0.0</td>\n",
              "      <td>1.0</td>\n",
              "    </tr>\n",
              "    <tr>\n",
              "      <th>2018-10-02 00:00:00+00:00</th>\n",
              "      <td>TCS</td>\n",
              "      <td>10.26</td>\n",
              "      <td>10.46</td>\n",
              "      <td>10.1301</td>\n",
              "      <td>10.41</td>\n",
              "      <td>224051</td>\n",
              "      <td>9.653070</td>\n",
              "      <td>9.841239</td>\n",
              "      <td>9.530855</td>\n",
              "      <td>9.794197</td>\n",
              "      <td>224051</td>\n",
              "      <td>0.0</td>\n",
              "      <td>1.0</td>\n",
              "    </tr>\n",
              "  </tbody>\n",
              "</table>\n",
              "</div>\n",
              "    <div class=\"colab-df-buttons\">\n",
              "\n",
              "  <div class=\"colab-df-container\">\n",
              "    <button class=\"colab-df-convert\" onclick=\"convertToInteractive('df-2d8b4001-53a1-4b4d-88d9-b75ca4285285')\"\n",
              "            title=\"Convert this dataframe to an interactive table.\"\n",
              "            style=\"display:none;\">\n",
              "\n",
              "  <svg xmlns=\"http://www.w3.org/2000/svg\" height=\"24px\" viewBox=\"0 -960 960 960\">\n",
              "    <path d=\"M120-120v-720h720v720H120Zm60-500h600v-160H180v160Zm220 220h160v-160H400v160Zm0 220h160v-160H400v160ZM180-400h160v-160H180v160Zm440 0h160v-160H620v160ZM180-180h160v-160H180v160Zm440 0h160v-160H620v160Z\"/>\n",
              "  </svg>\n",
              "    </button>\n",
              "\n",
              "  <style>\n",
              "    .colab-df-container {\n",
              "      display:flex;\n",
              "      gap: 12px;\n",
              "    }\n",
              "\n",
              "    .colab-df-convert {\n",
              "      background-color: #E8F0FE;\n",
              "      border: none;\n",
              "      border-radius: 50%;\n",
              "      cursor: pointer;\n",
              "      display: none;\n",
              "      fill: #1967D2;\n",
              "      height: 32px;\n",
              "      padding: 0 0 0 0;\n",
              "      width: 32px;\n",
              "    }\n",
              "\n",
              "    .colab-df-convert:hover {\n",
              "      background-color: #E2EBFA;\n",
              "      box-shadow: 0px 1px 2px rgba(60, 64, 67, 0.3), 0px 1px 3px 1px rgba(60, 64, 67, 0.15);\n",
              "      fill: #174EA6;\n",
              "    }\n",
              "\n",
              "    .colab-df-buttons div {\n",
              "      margin-bottom: 4px;\n",
              "    }\n",
              "\n",
              "    [theme=dark] .colab-df-convert {\n",
              "      background-color: #3B4455;\n",
              "      fill: #D2E3FC;\n",
              "    }\n",
              "\n",
              "    [theme=dark] .colab-df-convert:hover {\n",
              "      background-color: #434B5C;\n",
              "      box-shadow: 0px 1px 3px 1px rgba(0, 0, 0, 0.15);\n",
              "      filter: drop-shadow(0px 1px 2px rgba(0, 0, 0, 0.3));\n",
              "      fill: #FFFFFF;\n",
              "    }\n",
              "  </style>\n",
              "\n",
              "    <script>\n",
              "      const buttonEl =\n",
              "        document.querySelector('#df-2d8b4001-53a1-4b4d-88d9-b75ca4285285 button.colab-df-convert');\n",
              "      buttonEl.style.display =\n",
              "        google.colab.kernel.accessAllowed ? 'block' : 'none';\n",
              "\n",
              "      async function convertToInteractive(key) {\n",
              "        const element = document.querySelector('#df-2d8b4001-53a1-4b4d-88d9-b75ca4285285');\n",
              "        const dataTable =\n",
              "          await google.colab.kernel.invokeFunction('convertToInteractive',\n",
              "                                                    [key], {});\n",
              "        if (!dataTable) return;\n",
              "\n",
              "        const docLinkHtml = 'Like what you see? Visit the ' +\n",
              "          '<a target=\"_blank\" href=https://colab.research.google.com/notebooks/data_table.ipynb>data table notebook</a>'\n",
              "          + ' to learn more about interactive tables.';\n",
              "        element.innerHTML = '';\n",
              "        dataTable['output_type'] = 'display_data';\n",
              "        await google.colab.output.renderOutput(dataTable, element);\n",
              "        const docLink = document.createElement('div');\n",
              "        docLink.innerHTML = docLinkHtml;\n",
              "        element.appendChild(docLink);\n",
              "      }\n",
              "    </script>\n",
              "  </div>\n",
              "\n",
              "\n",
              "<div id=\"df-4745868a-7b5d-47d9-aec0-7201c60579d5\">\n",
              "  <button class=\"colab-df-quickchart\" onclick=\"quickchart('df-4745868a-7b5d-47d9-aec0-7201c60579d5')\"\n",
              "            title=\"Suggest charts.\"\n",
              "            style=\"display:none;\">\n",
              "\n",
              "<svg xmlns=\"http://www.w3.org/2000/svg\" height=\"24px\"viewBox=\"0 0 24 24\"\n",
              "     width=\"24px\">\n",
              "    <g>\n",
              "        <path d=\"M19 3H5c-1.1 0-2 .9-2 2v14c0 1.1.9 2 2 2h14c1.1 0 2-.9 2-2V5c0-1.1-.9-2-2-2zM9 17H7v-7h2v7zm4 0h-2V7h2v10zm4 0h-2v-4h2v4z\"/>\n",
              "    </g>\n",
              "</svg>\n",
              "  </button>\n",
              "\n",
              "<style>\n",
              "  .colab-df-quickchart {\n",
              "      --bg-color: #E8F0FE;\n",
              "      --fill-color: #1967D2;\n",
              "      --hover-bg-color: #E2EBFA;\n",
              "      --hover-fill-color: #174EA6;\n",
              "      --disabled-fill-color: #AAA;\n",
              "      --disabled-bg-color: #DDD;\n",
              "  }\n",
              "\n",
              "  [theme=dark] .colab-df-quickchart {\n",
              "      --bg-color: #3B4455;\n",
              "      --fill-color: #D2E3FC;\n",
              "      --hover-bg-color: #434B5C;\n",
              "      --hover-fill-color: #FFFFFF;\n",
              "      --disabled-bg-color: #3B4455;\n",
              "      --disabled-fill-color: #666;\n",
              "  }\n",
              "\n",
              "  .colab-df-quickchart {\n",
              "    background-color: var(--bg-color);\n",
              "    border: none;\n",
              "    border-radius: 50%;\n",
              "    cursor: pointer;\n",
              "    display: none;\n",
              "    fill: var(--fill-color);\n",
              "    height: 32px;\n",
              "    padding: 0;\n",
              "    width: 32px;\n",
              "  }\n",
              "\n",
              "  .colab-df-quickchart:hover {\n",
              "    background-color: var(--hover-bg-color);\n",
              "    box-shadow: 0 1px 2px rgba(60, 64, 67, 0.3), 0 1px 3px 1px rgba(60, 64, 67, 0.15);\n",
              "    fill: var(--button-hover-fill-color);\n",
              "  }\n",
              "\n",
              "  .colab-df-quickchart-complete:disabled,\n",
              "  .colab-df-quickchart-complete:disabled:hover {\n",
              "    background-color: var(--disabled-bg-color);\n",
              "    fill: var(--disabled-fill-color);\n",
              "    box-shadow: none;\n",
              "  }\n",
              "\n",
              "  .colab-df-spinner {\n",
              "    border: 2px solid var(--fill-color);\n",
              "    border-color: transparent;\n",
              "    border-bottom-color: var(--fill-color);\n",
              "    animation:\n",
              "      spin 1s steps(1) infinite;\n",
              "  }\n",
              "\n",
              "  @keyframes spin {\n",
              "    0% {\n",
              "      border-color: transparent;\n",
              "      border-bottom-color: var(--fill-color);\n",
              "      border-left-color: var(--fill-color);\n",
              "    }\n",
              "    20% {\n",
              "      border-color: transparent;\n",
              "      border-left-color: var(--fill-color);\n",
              "      border-top-color: var(--fill-color);\n",
              "    }\n",
              "    30% {\n",
              "      border-color: transparent;\n",
              "      border-left-color: var(--fill-color);\n",
              "      border-top-color: var(--fill-color);\n",
              "      border-right-color: var(--fill-color);\n",
              "    }\n",
              "    40% {\n",
              "      border-color: transparent;\n",
              "      border-right-color: var(--fill-color);\n",
              "      border-top-color: var(--fill-color);\n",
              "    }\n",
              "    60% {\n",
              "      border-color: transparent;\n",
              "      border-right-color: var(--fill-color);\n",
              "    }\n",
              "    80% {\n",
              "      border-color: transparent;\n",
              "      border-right-color: var(--fill-color);\n",
              "      border-bottom-color: var(--fill-color);\n",
              "    }\n",
              "    90% {\n",
              "      border-color: transparent;\n",
              "      border-bottom-color: var(--fill-color);\n",
              "    }\n",
              "  }\n",
              "</style>\n",
              "\n",
              "  <script>\n",
              "    async function quickchart(key) {\n",
              "      const quickchartButtonEl =\n",
              "        document.querySelector('#' + key + ' button');\n",
              "      quickchartButtonEl.disabled = true;  // To prevent multiple clicks.\n",
              "      quickchartButtonEl.classList.add('colab-df-spinner');\n",
              "      try {\n",
              "        const charts = await google.colab.kernel.invokeFunction(\n",
              "            'suggestCharts', [key], {});\n",
              "      } catch (error) {\n",
              "        console.error('Error during call to suggestCharts:', error);\n",
              "      }\n",
              "      quickchartButtonEl.classList.remove('colab-df-spinner');\n",
              "      quickchartButtonEl.classList.add('colab-df-quickchart-complete');\n",
              "    }\n",
              "    (() => {\n",
              "      let quickchartButtonEl =\n",
              "        document.querySelector('#df-4745868a-7b5d-47d9-aec0-7201c60579d5 button');\n",
              "      quickchartButtonEl.style.display =\n",
              "        google.colab.kernel.accessAllowed ? 'block' : 'none';\n",
              "    })();\n",
              "  </script>\n",
              "</div>\n",
              "    </div>\n",
              "  </div>\n"
            ]
          },
          "metadata": {},
          "execution_count": 20
        }
      ]
    },
    {
      "cell_type": "code",
      "source": [
        "df.info()"
      ],
      "metadata": {
        "colab": {
          "base_uri": "https://localhost:8080/"
        },
        "id": "-WI5KkOvZ_YC",
        "outputId": "3fc6c380-a889-4ff7-9723-62213560532d"
      },
      "execution_count": 21,
      "outputs": [
        {
          "output_type": "stream",
          "name": "stdout",
          "text": [
            "<class 'pandas.core.frame.DataFrame'>\n",
            "DatetimeIndex: 1256 entries, 2018-09-26 00:00:00+00:00 to 2023-09-22 00:00:00+00:00\n",
            "Data columns (total 13 columns):\n",
            " #   Column       Non-Null Count  Dtype  \n",
            "---  ------       --------------  -----  \n",
            " 0   symbol       1256 non-null   object \n",
            " 1   close        1256 non-null   float64\n",
            " 2   high         1256 non-null   float64\n",
            " 3   low          1256 non-null   float64\n",
            " 4   open         1256 non-null   float64\n",
            " 5   volume       1256 non-null   int64  \n",
            " 6   adjClose     1256 non-null   float64\n",
            " 7   adjHigh      1256 non-null   float64\n",
            " 8   adjLow       1256 non-null   float64\n",
            " 9   adjOpen      1256 non-null   float64\n",
            " 10  adjVolume    1256 non-null   int64  \n",
            " 11  divCash      1256 non-null   float64\n",
            " 12  splitFactor  1256 non-null   float64\n",
            "dtypes: float64(10), int64(2), object(1)\n",
            "memory usage: 137.4+ KB\n"
          ]
        }
      ]
    },
    {
      "cell_type": "markdown",
      "source": [
        "**Choosing** *close* column data for predictions"
      ],
      "metadata": {
        "id": "WbzlulDRI_CG"
      }
    },
    {
      "cell_type": "code",
      "source": [
        "df['close'].plot()"
      ],
      "metadata": {
        "colab": {
          "base_uri": "https://localhost:8080/",
          "height": 444
        },
        "id": "hBUthYsyat-4",
        "outputId": "7baddd30-3542-42eb-ba93-46dea180dfb5"
      },
      "execution_count": 22,
      "outputs": [
        {
          "output_type": "execute_result",
          "data": {
            "text/plain": [
              "<Axes: xlabel='date'>"
            ]
          },
          "metadata": {},
          "execution_count": 22
        },
        {
          "output_type": "display_data",
          "data": {
            "text/plain": [
              "<Figure size 640x480 with 1 Axes>"
            ],
            "image/png": "[encoded data removed]"
          },
          "metadata": {}
        }
      ]
    },
    {
      "cell_type": "code",
      "source": [
        "df_close = df['close']\n",
        "df_close"
      ],
      "metadata": {
        "colab": {
          "base_uri": "https://localhost:8080/"
        },
        "id": "QGlFl-AcUIe8",
        "outputId": "363e3342-6eec-4bf6-8672-a300ad0d1b33"
      },
      "execution_count": 26,
      "outputs": [
        {
          "output_type": "execute_result",
          "data": {
            "text/plain": [
              "date\n",
              "2018-09-26 00:00:00+00:00    10.82\n",
              "2018-09-27 00:00:00+00:00    10.93\n",
              "2018-09-28 00:00:00+00:00    11.10\n",
              "2018-10-01 00:00:00+00:00    10.44\n",
              "2018-10-02 00:00:00+00:00    10.26\n",
              "                             ...  \n",
              "2023-09-18 00:00:00+00:00     2.19\n",
              "2023-09-19 00:00:00+00:00     2.16\n",
              "2023-09-20 00:00:00+00:00     2.13\n",
              "2023-09-21 00:00:00+00:00     2.10\n",
              "2023-09-22 00:00:00+00:00     2.02\n",
              "Name: close, Length: 1256, dtype: float64"
            ]
          },
          "metadata": {},
          "execution_count": 26
        }
      ]
    },
    {
      "cell_type": "code",
      "source": [
        "df_close.reset_index(drop = True, inplace = True)"
      ],
      "metadata": {
        "id": "5HxymDg0Vh7w"
      },
      "execution_count": 29,
      "outputs": []
    },
    {
      "cell_type": "markdown",
      "source": [
        "\n",
        "\n",
        "---\n"
      ],
      "metadata": {
        "id": "zWEARq41z_wG"
      }
    },
    {
      "cell_type": "markdown",
      "source": [
        "### 4. Pre-processing the data"
      ],
      "metadata": {
        "id": "dAq1MZE5sZmy"
      }
    },
    {
      "cell_type": "markdown",
      "source": [
        "LSTM are sensitive to the scale of the data. So we apply MinMax scaler."
      ],
      "metadata": {
        "id": "j2VvWMFWdvlg"
      }
    },
    {
      "cell_type": "code",
      "source": [
        "from sklearn.preprocessing import MinMaxScaler\n",
        "scaler = MinMaxScaler(feature_range=(0, 1))\n",
        "df_close = scaler.fit_transform(np.array(df_close).reshape(-1, 1))"
      ],
      "metadata": {
        "id": "Hy9vA5WSZb70"
      },
      "execution_count": 30,
      "outputs": []
    },
    {
      "cell_type": "code",
      "source": [
        "df_close.shape"
      ],
      "metadata": {
        "colab": {
          "base_uri": "https://localhost:8080/"
        },
        "id": "OSIXvjk9eqGa",
        "outputId": "58b98f41-8880-4421-b3fd-403c9856c87b"
      },
      "execution_count": 32,
      "outputs": [
        {
          "output_type": "execute_result",
          "data": {
            "text/plain": [
              "(1256, 1)"
            ]
          },
          "metadata": {},
          "execution_count": 32
        }
      ]
    },
    {
      "cell_type": "markdown",
      "source": [
        "Splitting the dataset into Train and Test split"
      ],
      "metadata": {
        "id": "xInGurKLe9-4"
      }
    },
    {
      "cell_type": "code",
      "source": [
        "training_size = int(len(df_close) * 0.70)                   #training with 70% of data\n",
        "test_size = len(df_close) - training_size                   #testing with remaining 30%"
      ],
      "metadata": {
        "id": "PWFKWO-eessh"
      },
      "execution_count": 33,
      "outputs": []
    },
    {
      "cell_type": "code",
      "source": [
        "train_data = df_close[0:training_size,:]\n",
        "test_data = df_close[training_size:len(df_close),:1]"
      ],
      "metadata": {
        "id": "pbg8VPyQgNOs"
      },
      "execution_count": 34,
      "outputs": []
    },
    {
      "cell_type": "code",
      "source": [
        "#converting an array of values into a dataset matrix\n",
        "def create_dataset(dataset, time_step=1):\n",
        "  dataX, dataY = [], []\n",
        "  for i in range(len(dataset)-time_step-1):\n",
        "    a = dataset[i:(i+time_step), 0]\n",
        "    dataX.append(a)\n",
        "    dataY.append(dataset[i + time_step, 0])\n",
        "  return np.array(dataX), np.array(dataY)"
      ],
      "metadata": {
        "id": "JpFZmUTYg5xs"
      },
      "execution_count": 37,
      "outputs": []
    },
    {
      "cell_type": "code",
      "source": [
        "#reshape into X=t, t+1, t+2, t+3 and Y=t+4\n",
        "time_step = 100\n",
        "xtrain, ytrain = create_dataset(train_data, time_step)\n",
        "xtest, ytest = create_dataset(test_data, time_step)"
      ],
      "metadata": {
        "id": "gwMpAbh7muX8"
      },
      "execution_count": 38,
      "outputs": []
    },
    {
      "cell_type": "code",
      "source": [
        "xtrain.shape, ytrain.shape"
      ],
      "metadata": {
        "colab": {
          "base_uri": "https://localhost:8080/"
        },
        "id": "to-3piivnhe4",
        "outputId": "66bd5ed7-b086-4ebe-c331-8cca3f7e8359"
      },
      "execution_count": 39,
      "outputs": [
        {
          "output_type": "execute_result",
          "data": {
            "text/plain": [
              "((778, 100), (778,))"
            ]
          },
          "metadata": {},
          "execution_count": 39
        }
      ]
    },
    {
      "cell_type": "code",
      "source": [
        "xtest.shape, ytest.shape"
      ],
      "metadata": {
        "colab": {
          "base_uri": "https://localhost:8080/"
        },
        "id": "6wbzfd3Gn56b",
        "outputId": "5304d569-18d3-42cd-c396-581db351acde"
      },
      "execution_count": 40,
      "outputs": [
        {
          "output_type": "execute_result",
          "data": {
            "text/plain": [
              "((276, 100), (276,))"
            ]
          },
          "metadata": {},
          "execution_count": 40
        }
      ]
    },
    {
      "cell_type": "code",
      "source": [
        "#reshape the input to be [samples, time steps, features] which is required for LSTM\n",
        "xtrain = xtrain.reshape(xtrain.shape[0], xtrain.shape[1], 1)\n",
        "xtest = xtest.reshape(xtest.shape[0], xtest.shape[1], 1)"
      ],
      "metadata": {
        "id": "8IhO_8wzoCfn"
      },
      "execution_count": 45,
      "outputs": []
    },
    {
      "cell_type": "markdown",
      "source": [
        "---"
      ],
      "metadata": {
        "id": "yhrVHI6u0qDj"
      }
    },
    {
      "cell_type": "markdown",
      "source": [
        "### 5. Creating the LSTM model"
      ],
      "metadata": {
        "id": "luztuUrSsFJf"
      }
    },
    {
      "cell_type": "code",
      "source": [
        "#importing required libraries\n",
        "\n",
        "from tensorflow.keras.models import Sequential\n",
        "from tensorflow.keras.layers import Dense\n",
        "from tensorflow.keras.layers import LSTM"
      ],
      "metadata": {
        "id": "ZbKZz_hVsDnK"
      },
      "execution_count": 46,
      "outputs": []
    },
    {
      "cell_type": "code",
      "source": [
        "model = Sequential()\n",
        "model.add(LSTM(50, return_sequences=True, input_shape=(100, 1)))\n",
        "model.add(LSTM(50, return_sequences=True))\n",
        "model.add(LSTM(50))\n",
        "model.add(Dense(1))\n",
        "model.compile(loss='mean_squared_error', optimizer='adam')"
      ],
      "metadata": {
        "id": "1LLliAj9tr8f"
      },
      "execution_count": 47,
      "outputs": []
    },
    {
      "cell_type": "code",
      "source": [
        "model.summary()"
      ],
      "metadata": {
        "colab": {
          "base_uri": "https://localhost:8080/"
        },
        "id": "YSwMvyzHvWwP",
        "outputId": "ccb90cce-b2a9-4cce-9933-551ad34d1b50"
      },
      "execution_count": 48,
      "outputs": [
        {
          "output_type": "stream",
          "name": "stdout",
          "text": [
            "Model: \"sequential\"\n",
            "_________________________________________________________________\n",
            " Layer (type)                Output Shape              Param #   \n",
            "=================================================================\n",
            " lstm (LSTM)                 (None, 100, 50)           10400     \n",
            "                                                                 \n",
            " lstm_1 (LSTM)               (None, 100, 50)           20200     \n",
            "                                                                 \n",
            " lstm_2 (LSTM)               (None, 50)                20200     \n",
            "                                                                 \n",
            " dense (Dense)               (None, 1)                 51        \n",
            "                                                                 \n",
            "=================================================================\n",
            "Total params: 50851 (198.64 KB)\n",
            "Trainable params: 50851 (198.64 KB)\n",
            "Non-trainable params: 0 (0.00 Byte)\n",
            "_________________________________________________________________\n"
          ]
        }
      ]
    },
    {
      "cell_type": "code",
      "source": [
        "model.fit(xtrain, ytrain, validation_data=(xtest, ytest), epochs=100, batch_size=64, verbose=1)"
      ],
      "metadata": {
        "colab": {
          "base_uri": "https://localhost:8080/"
        },
        "id": "LRycOjN3vdPq",
        "outputId": "5278f465-ede4-4dc0-c33e-e30502b82200"
      },
      "execution_count": 49,
      "outputs": [
        {
          "output_type": "stream",
          "name": "stdout",
          "text": [
            "Epoch 1/100\n",
            "13/13 [==============================] - 6s 172ms/step - loss: 0.0586 - val_loss: 0.0042\n",
            "Epoch 2/100\n",
            "13/13 [==============================] - 1s 101ms/step - loss: 0.0115 - val_loss: 0.0077\n",
            "Epoch 3/100\n",
            "13/13 [==============================] - 1s 106ms/step - loss: 0.0045 - val_loss: 0.0019\n",
            "Epoch 4/100\n",
            "13/13 [==============================] - 2s 119ms/step - loss: 0.0048 - val_loss: 7.5302e-04\n",
            "Epoch 5/100\n",
            "13/13 [==============================] - 2s 137ms/step - loss: 0.0036 - val_loss: 8.0510e-04\n",
            "Epoch 6/100\n",
            "13/13 [==============================] - 1s 106ms/step - loss: 0.0032 - val_loss: 7.6556e-04\n",
            "Epoch 7/100\n",
            "13/13 [==============================] - 1s 107ms/step - loss: 0.0030 - val_loss: 8.5174e-04\n",
            "Epoch 8/100\n",
            "13/13 [==============================] - 1s 104ms/step - loss: 0.0029 - val_loss: 6.6435e-04\n",
            "Epoch 9/100\n",
            "13/13 [==============================] - 1s 105ms/step - loss: 0.0027 - val_loss: 7.0932e-04\n",
            "Epoch 10/100\n",
            "13/13 [==============================] - 1s 106ms/step - loss: 0.0024 - val_loss: 5.8615e-04\n",
            "Epoch 11/100\n",
            "13/13 [==============================] - 1s 105ms/step - loss: 0.0024 - val_loss: 6.5142e-04\n",
            "Epoch 12/100\n",
            "13/13 [==============================] - 1s 109ms/step - loss: 0.0022 - val_loss: 6.8364e-04\n",
            "Epoch 13/100\n",
            "13/13 [==============================] - 2s 146ms/step - loss: 0.0021 - val_loss: 7.0749e-04\n",
            "Epoch 14/100\n",
            "13/13 [==============================] - 1s 106ms/step - loss: 0.0021 - val_loss: 7.3870e-04\n",
            "Epoch 15/100\n",
            "13/13 [==============================] - 1s 104ms/step - loss: 0.0020 - val_loss: 4.9072e-04\n",
            "Epoch 16/100\n",
            "13/13 [==============================] - 1s 102ms/step - loss: 0.0020 - val_loss: 5.8739e-04\n",
            "Epoch 17/100\n",
            "13/13 [==============================] - 1s 107ms/step - loss: 0.0020 - val_loss: 5.7064e-04\n",
            "Epoch 18/100\n",
            "13/13 [==============================] - 1s 105ms/step - loss: 0.0019 - val_loss: 4.2870e-04\n",
            "Epoch 19/100\n",
            "13/13 [==============================] - 1s 105ms/step - loss: 0.0019 - val_loss: 0.0013\n",
            "Epoch 20/100\n",
            "13/13 [==============================] - 1s 105ms/step - loss: 0.0023 - val_loss: 4.3087e-04\n",
            "Epoch 21/100\n",
            "13/13 [==============================] - 2s 151ms/step - loss: 0.0019 - val_loss: 5.9780e-04\n",
            "Epoch 22/100\n",
            "13/13 [==============================] - 2s 116ms/step - loss: 0.0017 - val_loss: 7.0856e-04\n",
            "Epoch 23/100\n",
            "13/13 [==============================] - 2s 132ms/step - loss: 0.0020 - val_loss: 3.9878e-04\n",
            "Epoch 24/100\n",
            "13/13 [==============================] - 1s 105ms/step - loss: 0.0020 - val_loss: 8.8712e-04\n",
            "Epoch 25/100\n",
            "13/13 [==============================] - 1s 104ms/step - loss: 0.0018 - val_loss: 4.2424e-04\n",
            "Epoch 26/100\n",
            "13/13 [==============================] - 1s 109ms/step - loss: 0.0021 - val_loss: 5.0251e-04\n",
            "Epoch 27/100\n",
            "13/13 [==============================] - 1s 104ms/step - loss: 0.0019 - val_loss: 7.3160e-04\n",
            "Epoch 28/100\n",
            "13/13 [==============================] - 1s 106ms/step - loss: 0.0018 - val_loss: 3.8031e-04\n",
            "Epoch 29/100\n",
            "13/13 [==============================] - 2s 150ms/step - loss: 0.0017 - val_loss: 4.6027e-04\n",
            "Epoch 30/100\n",
            "13/13 [==============================] - 1s 105ms/step - loss: 0.0016 - val_loss: 5.7901e-04\n",
            "Epoch 31/100\n",
            "13/13 [==============================] - 1s 106ms/step - loss: 0.0016 - val_loss: 5.1012e-04\n",
            "Epoch 32/100\n",
            "13/13 [==============================] - 1s 104ms/step - loss: 0.0017 - val_loss: 6.3661e-04\n",
            "Epoch 33/100\n",
            "13/13 [==============================] - 1s 106ms/step - loss: 0.0015 - val_loss: 4.4237e-04\n",
            "Epoch 34/100\n",
            "13/13 [==============================] - 1s 105ms/step - loss: 0.0015 - val_loss: 7.5681e-04\n",
            "Epoch 35/100\n",
            "13/13 [==============================] - 1s 106ms/step - loss: 0.0018 - val_loss: 4.1389e-04\n",
            "Epoch 36/100\n",
            "13/13 [==============================] - 1s 105ms/step - loss: 0.0016 - val_loss: 4.6115e-04\n",
            "Epoch 37/100\n",
            "13/13 [==============================] - 2s 151ms/step - loss: 0.0015 - val_loss: 4.6518e-04\n",
            "Epoch 38/100\n",
            "13/13 [==============================] - 1s 106ms/step - loss: 0.0015 - val_loss: 4.0732e-04\n",
            "Epoch 39/100\n",
            "13/13 [==============================] - 1s 105ms/step - loss: 0.0014 - val_loss: 3.9226e-04\n",
            "Epoch 40/100\n",
            "13/13 [==============================] - 1s 107ms/step - loss: 0.0015 - val_loss: 4.9470e-04\n",
            "Epoch 41/100\n",
            "13/13 [==============================] - 1s 105ms/step - loss: 0.0015 - val_loss: 5.2624e-04\n",
            "Epoch 42/100\n",
            "13/13 [==============================] - 1s 106ms/step - loss: 0.0015 - val_loss: 4.0816e-04\n",
            "Epoch 43/100\n",
            "13/13 [==============================] - 1s 104ms/step - loss: 0.0015 - val_loss: 3.6553e-04\n",
            "Epoch 44/100\n",
            "13/13 [==============================] - 1s 104ms/step - loss: 0.0016 - val_loss: 5.8048e-04\n",
            "Epoch 45/100\n",
            "13/13 [==============================] - 2s 138ms/step - loss: 0.0015 - val_loss: 3.5893e-04\n",
            "Epoch 46/100\n",
            "13/13 [==============================] - 2s 118ms/step - loss: 0.0015 - val_loss: 3.7876e-04\n",
            "Epoch 47/100\n",
            "13/13 [==============================] - 1s 107ms/step - loss: 0.0014 - val_loss: 7.7828e-04\n",
            "Epoch 48/100\n",
            "13/13 [==============================] - 1s 106ms/step - loss: 0.0017 - val_loss: 3.3558e-04\n",
            "Epoch 49/100\n",
            "13/13 [==============================] - 1s 107ms/step - loss: 0.0014 - val_loss: 4.4852e-04\n",
            "Epoch 50/100\n",
            "13/13 [==============================] - 1s 105ms/step - loss: 0.0014 - val_loss: 3.4084e-04\n",
            "Epoch 51/100\n",
            "13/13 [==============================] - 1s 104ms/step - loss: 0.0014 - val_loss: 4.0636e-04\n",
            "Epoch 52/100\n",
            "13/13 [==============================] - 1s 105ms/step - loss: 0.0013 - val_loss: 3.9343e-04\n",
            "Epoch 53/100\n",
            "13/13 [==============================] - 2s 129ms/step - loss: 0.0013 - val_loss: 3.2956e-04\n",
            "Epoch 54/100\n",
            "13/13 [==============================] - 2s 126ms/step - loss: 0.0013 - val_loss: 6.1694e-04\n",
            "Epoch 55/100\n",
            "13/13 [==============================] - 1s 107ms/step - loss: 0.0017 - val_loss: 3.1299e-04\n",
            "Epoch 56/100\n",
            "13/13 [==============================] - 1s 103ms/step - loss: 0.0016 - val_loss: 5.9825e-04\n",
            "Epoch 57/100\n",
            "13/13 [==============================] - 1s 104ms/step - loss: 0.0017 - val_loss: 3.6980e-04\n",
            "Epoch 58/100\n",
            "13/13 [==============================] - 1s 104ms/step - loss: 0.0013 - val_loss: 3.1905e-04\n",
            "Epoch 59/100\n",
            "13/13 [==============================] - 1s 106ms/step - loss: 0.0012 - val_loss: 3.4123e-04\n",
            "Epoch 60/100\n",
            "13/13 [==============================] - 1s 106ms/step - loss: 0.0013 - val_loss: 3.0291e-04\n",
            "Epoch 61/100\n",
            "13/13 [==============================] - 2s 119ms/step - loss: 0.0013 - val_loss: 3.4840e-04\n",
            "Epoch 62/100\n",
            "13/13 [==============================] - 2s 138ms/step - loss: 0.0012 - val_loss: 3.5478e-04\n",
            "Epoch 63/100\n",
            "13/13 [==============================] - 1s 106ms/step - loss: 0.0012 - val_loss: 3.7693e-04\n",
            "Epoch 64/100\n",
            "13/13 [==============================] - 1s 103ms/step - loss: 0.0011 - val_loss: 3.0524e-04\n",
            "Epoch 65/100\n",
            "13/13 [==============================] - 1s 105ms/step - loss: 0.0011 - val_loss: 3.9153e-04\n",
            "Epoch 66/100\n",
            "13/13 [==============================] - 1s 106ms/step - loss: 0.0011 - val_loss: 3.0233e-04\n",
            "Epoch 67/100\n",
            "13/13 [==============================] - 1s 104ms/step - loss: 0.0011 - val_loss: 2.9747e-04\n",
            "Epoch 68/100\n",
            "13/13 [==============================] - 1s 105ms/step - loss: 0.0011 - val_loss: 3.0460e-04\n",
            "Epoch 69/100\n",
            "13/13 [==============================] - 2s 120ms/step - loss: 0.0011 - val_loss: 2.9453e-04\n",
            "Epoch 70/100\n",
            "13/13 [==============================] - 2s 141ms/step - loss: 0.0012 - val_loss: 4.6181e-04\n",
            "Epoch 71/100\n",
            "13/13 [==============================] - 1s 103ms/step - loss: 0.0012 - val_loss: 2.7759e-04\n",
            "Epoch 72/100\n",
            "13/13 [==============================] - 1s 104ms/step - loss: 0.0011 - val_loss: 6.6619e-04\n",
            "Epoch 73/100\n",
            "13/13 [==============================] - 1s 105ms/step - loss: 0.0013 - val_loss: 2.9696e-04\n",
            "Epoch 74/100\n",
            "13/13 [==============================] - 1s 104ms/step - loss: 0.0010 - val_loss: 3.7145e-04\n",
            "Epoch 75/100\n",
            "13/13 [==============================] - 1s 104ms/step - loss: 0.0011 - val_loss: 2.6977e-04\n",
            "Epoch 76/100\n",
            "13/13 [==============================] - 1s 104ms/step - loss: 0.0011 - val_loss: 3.0982e-04\n",
            "Epoch 77/100\n",
            "13/13 [==============================] - 1s 105ms/step - loss: 0.0010 - val_loss: 2.7877e-04\n",
            "Epoch 78/100\n",
            "13/13 [==============================] - 2s 157ms/step - loss: 0.0010 - val_loss: 3.0962e-04\n",
            "Epoch 79/100\n",
            "13/13 [==============================] - 1s 104ms/step - loss: 9.5130e-04 - val_loss: 2.9872e-04\n",
            "Epoch 80/100\n",
            "13/13 [==============================] - 1s 105ms/step - loss: 9.4463e-04 - val_loss: 2.6815e-04\n",
            "Epoch 81/100\n",
            "13/13 [==============================] - 1s 105ms/step - loss: 9.1581e-04 - val_loss: 3.3310e-04\n",
            "Epoch 82/100\n",
            "13/13 [==============================] - 1s 105ms/step - loss: 9.5775e-04 - val_loss: 2.5101e-04\n",
            "Epoch 83/100\n",
            "13/13 [==============================] - 1s 104ms/step - loss: 9.5530e-04 - val_loss: 2.7675e-04\n",
            "Epoch 84/100\n",
            "13/13 [==============================] - 1s 105ms/step - loss: 8.5863e-04 - val_loss: 2.6473e-04\n",
            "Epoch 85/100\n",
            "13/13 [==============================] - 1s 106ms/step - loss: 8.6424e-04 - val_loss: 3.4624e-04\n",
            "Epoch 86/100\n",
            "13/13 [==============================] - 2s 146ms/step - loss: 8.6099e-04 - val_loss: 2.6376e-04\n",
            "Epoch 87/100\n",
            "13/13 [==============================] - 1s 112ms/step - loss: 8.4358e-04 - val_loss: 2.5227e-04\n",
            "Epoch 88/100\n",
            "13/13 [==============================] - 1s 106ms/step - loss: 8.1599e-04 - val_loss: 2.9044e-04\n",
            "Epoch 89/100\n",
            "13/13 [==============================] - 1s 106ms/step - loss: 8.2855e-04 - val_loss: 2.4093e-04\n",
            "Epoch 90/100\n",
            "13/13 [==============================] - 1s 104ms/step - loss: 8.4687e-04 - val_loss: 3.5792e-04\n",
            "Epoch 91/100\n",
            "13/13 [==============================] - 1s 107ms/step - loss: 9.4710e-04 - val_loss: 2.4777e-04\n",
            "Epoch 92/100\n",
            "13/13 [==============================] - 1s 107ms/step - loss: 9.2742e-04 - val_loss: 2.2616e-04\n",
            "Epoch 93/100\n",
            "13/13 [==============================] - 1s 105ms/step - loss: 9.8098e-04 - val_loss: 2.5838e-04\n",
            "Epoch 94/100\n",
            "13/13 [==============================] - 2s 136ms/step - loss: 7.5405e-04 - val_loss: 2.2173e-04\n",
            "Epoch 95/100\n",
            "13/13 [==============================] - 2s 121ms/step - loss: 8.4330e-04 - val_loss: 2.8370e-04\n",
            "Epoch 96/100\n",
            "13/13 [==============================] - 1s 106ms/step - loss: 7.9705e-04 - val_loss: 2.2140e-04\n",
            "Epoch 97/100\n",
            "13/13 [==============================] - 1s 103ms/step - loss: 8.4769e-04 - val_loss: 2.5179e-04\n",
            "Epoch 98/100\n",
            "13/13 [==============================] - 1s 105ms/step - loss: 7.5515e-04 - val_loss: 2.4515e-04\n",
            "Epoch 99/100\n",
            "13/13 [==============================] - 1s 109ms/step - loss: 7.5345e-04 - val_loss: 2.1147e-04\n",
            "Epoch 100/100\n",
            "13/13 [==============================] - 1s 106ms/step - loss: 7.9450e-04 - val_loss: 2.6586e-04\n"
          ]
        },
        {
          "output_type": "execute_result",
          "data": {
            "text/plain": [
              "<keras.src.callbacks.History at 0x7c59bde87580>"
            ]
          },
          "metadata": {},
          "execution_count": 49
        }
      ]
    },
    {
      "cell_type": "markdown",
      "source": [
        "---"
      ],
      "metadata": {
        "id": "_wDzMePf-Xsw"
      }
    },
    {
      "cell_type": "markdown",
      "source": [
        "### 6. Predicting and plotting test data"
      ],
      "metadata": {
        "id": "PT43323b-OUt"
      }
    },
    {
      "cell_type": "code",
      "source": [
        "#predicting and checking performance metrics\n",
        "train_predict = model.predict(xtrain)\n",
        "test_predict = model.predict(xtest)"
      ],
      "metadata": {
        "colab": {
          "base_uri": "https://localhost:8080/"
        },
        "id": "FoTIQeXdxRdX",
        "outputId": "1290a930-a146-464e-fafd-6c66243480da"
      },
      "execution_count": 50,
      "outputs": [
        {
          "output_type": "stream",
          "name": "stdout",
          "text": [
            "25/25 [==============================] - 2s 21ms/step\n",
            "9/9 [==============================] - 0s 21ms/step\n"
          ]
        }
      ]
    },
    {
      "cell_type": "code",
      "source": [
        "#transforming back to original form\n",
        "train_predict = scaler.inverse_transform(train_predict)\n",
        "test_predict = scaler.inverse_transform(test_predict)"
      ],
      "metadata": {
        "id": "m1r2TnQ-yQi2"
      },
      "execution_count": 51,
      "outputs": []
    },
    {
      "cell_type": "markdown",
      "source": [
        "Calculating RMSE performance metrics"
      ],
      "metadata": {
        "id": "dK1niwXwzuoq"
      }
    },
    {
      "cell_type": "code",
      "source": [
        "import math\n",
        "from sklearn.metrics import mean_squared_error"
      ],
      "metadata": {
        "id": "2LerL2u2yl69"
      },
      "execution_count": 56,
      "outputs": []
    },
    {
      "cell_type": "code",
      "source": [
        "#Train data RMSE\n",
        "math.sqrt(mean_squared_error(ytrain, train_predict))"
      ],
      "metadata": {
        "colab": {
          "base_uri": "https://localhost:8080/"
        },
        "id": "Kj4Pe5oZzCjU",
        "outputId": "6a83d7ed-eade-4980-8a80-d24fb75df228"
      },
      "execution_count": 57,
      "outputs": [
        {
          "output_type": "execute_result",
          "data": {
            "text/plain": [
              "8.751301684029713"
            ]
          },
          "metadata": {},
          "execution_count": 57
        }
      ]
    },
    {
      "cell_type": "code",
      "source": [
        "#Test data RMSE\n",
        "math.sqrt(mean_squared_error(ytest, test_predict))"
      ],
      "metadata": {
        "colab": {
          "base_uri": "https://localhost:8080/"
        },
        "id": "G1bK3q1CzW77",
        "outputId": "9c8cb70a-2d0d-4f16-af84-082bf6d69fde"
      },
      "execution_count": 58,
      "outputs": [
        {
          "output_type": "execute_result",
          "data": {
            "text/plain": [
              "4.2511192725746225"
            ]
          },
          "metadata": {},
          "execution_count": 58
        }
      ]
    },
    {
      "cell_type": "code",
      "source": [
        "#shifting train predictions for plotting\n",
        "look_back = 100\n",
        "trainPredictPlot = np.empty_like(df_close)\n",
        "trainPredictPlot[:, :] = np.nan\n",
        "trainPredictPlot[look_back:len(train_predict)+look_back, :] = train_predict\n",
        "#shifting test predictions for plotting\n",
        "testPredictPlot = np.empty_like(df_close)\n",
        "testPredictPlot[:, :] = np.nan\n",
        "testPredictPlot[len(train_predict)+(look_back*2)+1:len(df_close)-1,:] = test_predict"
      ],
      "metadata": {
        "id": "cAjfdToCzc87"
      },
      "execution_count": 59,
      "outputs": []
    },
    {
      "cell_type": "code",
      "source": [
        "# plotting\n",
        "plt.plot(scaler.inverse_transform(df_close))\n",
        "plt.plot(trainPredictPlot)\n",
        "plt.plot(testPredictPlot)\n",
        "plt.legend(['Original Data', 'Train Data', 'Test Data'])\n",
        "plt.show()"
      ],
      "metadata": {
        "colab": {
          "base_uri": "https://localhost:8080/",
          "height": 434
        },
        "id": "S9U-7CH11118",
        "outputId": "a481dc48-d929-4777-ebb1-fc0b20a3dff2"
      },
      "execution_count": 67,
      "outputs": [
        {
          "output_type": "display_data",
          "data": {
            "text/plain": [
              "<Figure size 640x480 with 1 Axes>"
            ],
            "image/png": "[encoded data removed]"
          },
          "metadata": {}
        }
      ]
    },
    {
      "cell_type": "markdown",
      "source": [
        "---"
      ],
      "metadata": {
        "id": "A3CbCDPc-dG2"
      }
    },
    {
      "cell_type": "markdown",
      "source": [
        "### 7. Forecasting the data for 30 days"
      ],
      "metadata": {
        "id": "8lb5siwU7vp0"
      }
    },
    {
      "cell_type": "code",
      "source": [
        "len(test_data)"
      ],
      "metadata": {
        "colab": {
          "base_uri": "https://localhost:8080/"
        },
        "id": "Ng0GAWeW2EmO",
        "outputId": "06e20bbd-da3f-4d8e-af4b-94167c7d7c7f"
      },
      "execution_count": 68,
      "outputs": [
        {
          "output_type": "execute_result",
          "data": {
            "text/plain": [
              "377"
            ]
          },
          "metadata": {},
          "execution_count": 68
        }
      ]
    },
    {
      "cell_type": "code",
      "source": [
        "xinput = test_data[len(test_data)-100:].reshape(1, -1)\n",
        "xinput.shape"
      ],
      "metadata": {
        "colab": {
          "base_uri": "https://localhost:8080/"
        },
        "id": "APBXv6SC5jmh",
        "outputId": "2e908972-1439-4593-adc1-ea8a4210640e"
      },
      "execution_count": 69,
      "outputs": [
        {
          "output_type": "execute_result",
          "data": {
            "text/plain": [
              "(1, 100)"
            ]
          },
          "metadata": {},
          "execution_count": 69
        }
      ]
    },
    {
      "cell_type": "code",
      "source": [
        "#converting into list\n",
        "temp_ip = list(xinput)\n",
        "temp_ip = temp_ip[0].tolist()"
      ],
      "metadata": {
        "id": "aW6__Ubk6OMh"
      },
      "execution_count": 71,
      "outputs": []
    },
    {
      "cell_type": "code",
      "source": [
        "temp_ip"
      ],
      "metadata": {
        "colab": {
          "base_uri": "https://localhost:8080/"
        },
        "id": "DNmAaFnO6suO",
        "outputId": "05a8027f-cabd-4976-d663-eb965dc5b85c"
      },
      "execution_count": 72,
      "outputs": [
        {
          "output_type": "execute_result",
          "data": {
            "text/plain": [
              "[0.055232558139534885,\n",
              " 0.05,\n",
              " 0.04709302325581392,\n",
              " 0.055813953488372106,\n",
              " 0.059302325581395324,\n",
              " 0.059302325581395324,\n",
              " 0.05232558139534883,\n",
              " 0.057558139534883715,\n",
              " 0.04941860465116278,\n",
              " 0.05,\n",
              " 0.04186046511627907,\n",
              " 0.033139534883720914,\n",
              " 0.030232558139534862,\n",
              " 0.014534883720930244,\n",
              " 0.013953488372093023,\n",
              " 0.024418604651162787,\n",
              " 0.023837209302325565,\n",
              " 0.016860465116279047,\n",
              " 0.02093023255813954,\n",
              " 0.02790697674418606,\n",
              " 0.02732558139534884,\n",
              " 0.028488372093023254,\n",
              " 0.04244186046511629,\n",
              " 0.047674418604651145,\n",
              " 0.05232558139534883,\n",
              " 0.06569767441860465,\n",
              " 0.08372093023255812,\n",
              " 0.06511627906976743,\n",
              " 0.059883720930232545,\n",
              " 0.06104651162790696,\n",
              " 0.05465116279069766,\n",
              " 0.06046511627906974,\n",
              " 0.05290697674418603,\n",
              " 0.05465116279069766,\n",
              " 0.048255813953488366,\n",
              " 0.05290697674418603,\n",
              " 0.05348837209302325,\n",
              " 0.06627906976744184,\n",
              " 0.06686046511627906,\n",
              " 0.059883720930232545,\n",
              " 0.06627906976744184,\n",
              " 0.06686046511627906,\n",
              " 0.07616279069767438,\n",
              " 0.06511627906976743,\n",
              " 0.06627906976744184,\n",
              " 0.06860465116279067,\n",
              " 0.07209302325581395,\n",
              " 0.07616279069767438,\n",
              " 0.07034883720930234,\n",
              " 0.07383720930232555,\n",
              " 0.07383720930232555,\n",
              " 0.07151162790697675,\n",
              " 0.07034883720930234,\n",
              " 0.0872093023255814,\n",
              " 0.07093023255813953,\n",
              " 0.07151162790697675,\n",
              " 0.07790697674418605,\n",
              " 0.07790697674418605,\n",
              " 0.08430232558139535,\n",
              " 0.08488372093023257,\n",
              " 0.08546511627906976,\n",
              " 0.09709302325581394,\n",
              " 0.09767441860465113,\n",
              " 0.04011627906976743,\n",
              " 0.029069767441860475,\n",
              " 0.036046511627906966,\n",
              " 0.033139534883720914,\n",
              " 0.033720930232558136,\n",
              " 0.03662790697674419,\n",
              " 0.03895348837209302,\n",
              " 0.038372093023255796,\n",
              " 0.03430232558139536,\n",
              " 0.033139534883720914,\n",
              " 0.030813953488372084,\n",
              " 0.0319767441860465,\n",
              " 0.0319767441860465,\n",
              " 0.02790697674418606,\n",
              " 0.02093023255813954,\n",
              " 0.018023255813953462,\n",
              " 0.016279069767441853,\n",
              " 0.014534883720930244,\n",
              " 0.015697674418604632,\n",
              " 0.01744186046511627,\n",
              " 0.02034883720930232,\n",
              " 0.02034883720930232,\n",
              " 0.018604651162790684,\n",
              " 0.016279069767441853,\n",
              " 0.013953488372093023,\n",
              " 0.012209302325581414,\n",
              " 0.01046511627906975,\n",
              " 0.007558139534883726,\n",
              " 0.008720930232558141,\n",
              " 0.012790697674418608,\n",
              " 0.019186046511627905,\n",
              " 0.019767441860465126,\n",
              " 0.011627906976744193,\n",
              " 0.009883720930232556,\n",
              " 0.00813953488372092,\n",
              " 0.006395348837209311,\n",
              " 0.0017441860465116227]"
            ]
          },
          "metadata": {},
          "execution_count": 72
        }
      ]
    },
    {
      "cell_type": "code",
      "source": [
        "#forecasting data for 30 days\n",
        "output=[]\n",
        "n_steps = 100\n",
        "i = 0\n",
        "while(i<30):\n",
        "\n",
        "    if(len(temp_ip)>100):\n",
        "        #print(temp_ip)\n",
        "        xinput = np.array(temp_ip[1:])\n",
        "        print(\"{} day input {}\".format(i,xinput))\n",
        "        xinput = xinput.reshape(1,-1)\n",
        "        xinput = xinput.reshape((1, n_steps, 1))\n",
        "        #print(xinput)\n",
        "        yhat = model.predict(xinput, verbose=0)\n",
        "        print(\"{} day output {}\".format(i,yhat))\n",
        "        temp_ip.extend(yhat[0].tolist())\n",
        "        temp_ip = temp_ip[1:]\n",
        "        #print(temp_ip)\n",
        "        output.extend(yhat.tolist())\n",
        "        i=i+1\n",
        "    else:\n",
        "        xinput = xinput.reshape((1, n_steps,1))\n",
        "        yhat = model.predict(xinput, verbose=0)\n",
        "        print(yhat[0])\n",
        "        temp_ip.extend(yhat[0].tolist())\n",
        "        print(len(temp_ip))\n",
        "        output.extend(yhat.tolist())\n",
        "        i = i+1\n",
        "\n",
        "print(output)"
      ],
      "metadata": {
        "colab": {
          "base_uri": "https://localhost:8080/"
        },
        "id": "MxtS8uzP7InN",
        "outputId": "73e41c98-d1d7-4dd1-bf3f-765a5293bd00"
      },
      "execution_count": 91,
      "outputs": [
        {
          "output_type": "stream",
          "name": "stdout",
          "text": [
            "0 day input [0.10008953 0.10196476 0.10384255 0.10572316 0.10760679 0.1094937\n",
            " 0.11138413 0.11327835 0.11517657 0.11707906 0.11898612 0.12089799\n",
            " 0.12281496 0.12473729 0.12666528 0.12859918 0.13053931 0.13248594\n",
            " 0.13443939 0.13639989 0.13836783 0.14034346 0.14232711 0.14431903\n",
            " 0.14631963 0.14832914 0.15034799 0.15237631 0.15441464 0.15646319\n",
            " 0.15852238 0.16059245 0.16267385 0.16476688 0.16687182 0.16898918\n",
            " 0.17111918 0.17326225 0.17541879 0.1775891  0.17977357 0.18197265\n",
            " 0.1841867  0.18641602 0.18866114 0.19092238 0.1932002  0.19549496\n",
            " 0.19780709 0.20013699 0.20248519 0.20485198 0.20723787 0.20964329\n",
            " 0.21206871 0.21451458 0.21698129 0.21946941 0.22197928 0.22451144\n",
            " 0.22706637 0.22964455 0.23224646 0.23487256 0.23752336 0.24019937\n",
            " 0.24290107 0.245629   0.24838363 0.25116545 0.25397497 0.25681278\n",
            " 0.25967929 0.26257512 0.26550069 0.26845661 0.2714434  0.27446133\n",
            " 0.2775113  0.28059348 0.28370857 0.28685707 0.29003933 0.29325595\n",
            " 0.29650748 0.29979423 0.30311683 0.30647567 0.30987117 0.31330374\n",
            " 0.31677386 0.32028186 0.32382834 0.32741329 0.33103731 0.33470061\n",
            " 0.33840352 0.34214631 0.34592929 0.34975249]\n",
            "0 day output [[0.35361627]]\n",
            "1 day input [0.10196476 0.10384255 0.10572316 0.10760679 0.1094937  0.11138413\n",
            " 0.11327835 0.11517657 0.11707906 0.11898612 0.12089799 0.12281496\n",
            " 0.12473729 0.12666528 0.12859918 0.13053931 0.13248594 0.13443939\n",
            " 0.13639989 0.13836783 0.14034346 0.14232711 0.14431903 0.14631963\n",
            " 0.14832914 0.15034799 0.15237631 0.15441464 0.15646319 0.15852238\n",
            " 0.16059245 0.16267385 0.16476688 0.16687182 0.16898918 0.17111918\n",
            " 0.17326225 0.17541879 0.1775891  0.17977357 0.18197265 0.1841867\n",
            " 0.18641602 0.18866114 0.19092238 0.1932002  0.19549496 0.19780709\n",
            " 0.20013699 0.20248519 0.20485198 0.20723787 0.20964329 0.21206871\n",
            " 0.21451458 0.21698129 0.21946941 0.22197928 0.22451144 0.22706637\n",
            " 0.22964455 0.23224646 0.23487256 0.23752336 0.24019937 0.24290107\n",
            " 0.245629   0.24838363 0.25116545 0.25397497 0.25681278 0.25967929\n",
            " 0.26257512 0.26550069 0.26845661 0.2714434  0.27446133 0.2775113\n",
            " 0.28059348 0.28370857 0.28685707 0.29003933 0.29325595 0.29650748\n",
            " 0.29979423 0.30311683 0.30647567 0.30987117 0.31330374 0.31677386\n",
            " 0.32028186 0.32382834 0.32741329 0.33103731 0.33470061 0.33840352\n",
            " 0.34214631 0.34592929 0.34975249 0.35361627]\n",
            "1 day output [[0.35752064]]\n",
            "2 day input [0.10384255 0.10572316 0.10760679 0.1094937  0.11138413 0.11327835\n",
            " 0.11517657 0.11707906 0.11898612 0.12089799 0.12281496 0.12473729\n",
            " 0.12666528 0.12859918 0.13053931 0.13248594 0.13443939 0.13639989\n",
            " 0.13836783 0.14034346 0.14232711 0.14431903 0.14631963 0.14832914\n",
            " 0.15034799 0.15237631 0.15441464 0.15646319 0.15852238 0.16059245\n",
            " 0.16267385 0.16476688 0.16687182 0.16898918 0.17111918 0.17326225\n",
            " 0.17541879 0.1775891  0.17977357 0.18197265 0.1841867  0.18641602\n",
            " 0.18866114 0.19092238 0.1932002  0.19549496 0.19780709 0.20013699\n",
            " 0.20248519 0.20485198 0.20723787 0.20964329 0.21206871 0.21451458\n",
            " 0.21698129 0.21946941 0.22197928 0.22451144 0.22706637 0.22964455\n",
            " 0.23224646 0.23487256 0.23752336 0.24019937 0.24290107 0.245629\n",
            " 0.24838363 0.25116545 0.25397497 0.25681278 0.25967929 0.26257512\n",
            " 0.26550069 0.26845661 0.2714434  0.27446133 0.2775113  0.28059348\n",
            " 0.28370857 0.28685707 0.29003933 0.29325595 0.29650748 0.29979423\n",
            " 0.30311683 0.30647567 0.30987117 0.31330374 0.31677386 0.32028186\n",
            " 0.32382834 0.32741329 0.33103731 0.33470061 0.33840352 0.34214631\n",
            " 0.34592929 0.34975249 0.35361627 0.35752064]\n",
            "2 day output [[0.3614657]]\n",
            "3 day input [0.10572316 0.10760679 0.1094937  0.11138413 0.11327835 0.11517657\n",
            " 0.11707906 0.11898612 0.12089799 0.12281496 0.12473729 0.12666528\n",
            " 0.12859918 0.13053931 0.13248594 0.13443939 0.13639989 0.13836783\n",
            " 0.14034346 0.14232711 0.14431903 0.14631963 0.14832914 0.15034799\n",
            " 0.15237631 0.15441464 0.15646319 0.15852238 0.16059245 0.16267385\n",
            " 0.16476688 0.16687182 0.16898918 0.17111918 0.17326225 0.17541879\n",
            " 0.1775891  0.17977357 0.18197265 0.1841867  0.18641602 0.18866114\n",
            " 0.19092238 0.1932002  0.19549496 0.19780709 0.20013699 0.20248519\n",
            " 0.20485198 0.20723787 0.20964329 0.21206871 0.21451458 0.21698129\n",
            " 0.21946941 0.22197928 0.22451144 0.22706637 0.22964455 0.23224646\n",
            " 0.23487256 0.23752336 0.24019937 0.24290107 0.245629   0.24838363\n",
            " 0.25116545 0.25397497 0.25681278 0.25967929 0.26257512 0.26550069\n",
            " 0.26845661 0.2714434  0.27446133 0.2775113  0.28059348 0.28370857\n",
            " 0.28685707 0.29003933 0.29325595 0.29650748 0.29979423 0.30311683\n",
            " 0.30647567 0.30987117 0.31330374 0.31677386 0.32028186 0.32382834\n",
            " 0.32741329 0.33103731 0.33470061 0.33840352 0.34214631 0.34592929\n",
            " 0.34975249 0.35361627 0.35752064 0.36146569]\n",
            "3 day output [[0.36545154]]\n",
            "4 day input [0.10760679 0.1094937  0.11138413 0.11327835 0.11517657 0.11707906\n",
            " 0.11898612 0.12089799 0.12281496 0.12473729 0.12666528 0.12859918\n",
            " 0.13053931 0.13248594 0.13443939 0.13639989 0.13836783 0.14034346\n",
            " 0.14232711 0.14431903 0.14631963 0.14832914 0.15034799 0.15237631\n",
            " 0.15441464 0.15646319 0.15852238 0.16059245 0.16267385 0.16476688\n",
            " 0.16687182 0.16898918 0.17111918 0.17326225 0.17541879 0.1775891\n",
            " 0.17977357 0.18197265 0.1841867  0.18641602 0.18866114 0.19092238\n",
            " 0.1932002  0.19549496 0.19780709 0.20013699 0.20248519 0.20485198\n",
            " 0.20723787 0.20964329 0.21206871 0.21451458 0.21698129 0.21946941\n",
            " 0.22197928 0.22451144 0.22706637 0.22964455 0.23224646 0.23487256\n",
            " 0.23752336 0.24019937 0.24290107 0.245629   0.24838363 0.25116545\n",
            " 0.25397497 0.25681278 0.25967929 0.26257512 0.26550069 0.26845661\n",
            " 0.2714434  0.27446133 0.2775113  0.28059348 0.28370857 0.28685707\n",
            " 0.29003933 0.29325595 0.29650748 0.29979423 0.30311683 0.30647567\n",
            " 0.30987117 0.31330374 0.31677386 0.32028186 0.32382834 0.32741329\n",
            " 0.33103731 0.33470061 0.33840352 0.34214631 0.34592929 0.34975249\n",
            " 0.35361627 0.35752064 0.36146569 0.36545154]\n",
            "4 day output [[0.3694781]]\n",
            "5 day input [0.1094937  0.11138413 0.11327835 0.11517657 0.11707906 0.11898612\n",
            " 0.12089799 0.12281496 0.12473729 0.12666528 0.12859918 0.13053931\n",
            " 0.13248594 0.13443939 0.13639989 0.13836783 0.14034346 0.14232711\n",
            " 0.14431903 0.14631963 0.14832914 0.15034799 0.15237631 0.15441464\n",
            " 0.15646319 0.15852238 0.16059245 0.16267385 0.16476688 0.16687182\n",
            " 0.16898918 0.17111918 0.17326225 0.17541879 0.1775891  0.17977357\n",
            " 0.18197265 0.1841867  0.18641602 0.18866114 0.19092238 0.1932002\n",
            " 0.19549496 0.19780709 0.20013699 0.20248519 0.20485198 0.20723787\n",
            " 0.20964329 0.21206871 0.21451458 0.21698129 0.21946941 0.22197928\n",
            " 0.22451144 0.22706637 0.22964455 0.23224646 0.23487256 0.23752336\n",
            " 0.24019937 0.24290107 0.245629   0.24838363 0.25116545 0.25397497\n",
            " 0.25681278 0.25967929 0.26257512 0.26550069 0.26845661 0.2714434\n",
            " 0.27446133 0.2775113  0.28059348 0.28370857 0.28685707 0.29003933\n",
            " 0.29325595 0.29650748 0.29979423 0.30311683 0.30647567 0.30987117\n",
            " 0.31330374 0.31677386 0.32028186 0.32382834 0.32741329 0.33103731\n",
            " 0.33470061 0.33840352 0.34214631 0.34592929 0.34975249 0.35361627\n",
            " 0.35752064 0.36146569 0.36545154 0.36947811]\n",
            "5 day output [[0.3735456]]\n",
            "6 day input [0.11138413 0.11327835 0.11517657 0.11707906 0.11898612 0.12089799\n",
            " 0.12281496 0.12473729 0.12666528 0.12859918 0.13053931 0.13248594\n",
            " 0.13443939 0.13639989 0.13836783 0.14034346 0.14232711 0.14431903\n",
            " 0.14631963 0.14832914 0.15034799 0.15237631 0.15441464 0.15646319\n",
            " 0.15852238 0.16059245 0.16267385 0.16476688 0.16687182 0.16898918\n",
            " 0.17111918 0.17326225 0.17541879 0.1775891  0.17977357 0.18197265\n",
            " 0.1841867  0.18641602 0.18866114 0.19092238 0.1932002  0.19549496\n",
            " 0.19780709 0.20013699 0.20248519 0.20485198 0.20723787 0.20964329\n",
            " 0.21206871 0.21451458 0.21698129 0.21946941 0.22197928 0.22451144\n",
            " 0.22706637 0.22964455 0.23224646 0.23487256 0.23752336 0.24019937\n",
            " 0.24290107 0.245629   0.24838363 0.25116545 0.25397497 0.25681278\n",
            " 0.25967929 0.26257512 0.26550069 0.26845661 0.2714434  0.27446133\n",
            " 0.2775113  0.28059348 0.28370857 0.28685707 0.29003933 0.29325595\n",
            " 0.29650748 0.29979423 0.30311683 0.30647567 0.30987117 0.31330374\n",
            " 0.31677386 0.32028186 0.32382834 0.32741329 0.33103731 0.33470061\n",
            " 0.33840352 0.34214631 0.34592929 0.34975249 0.35361627 0.35752064\n",
            " 0.36146569 0.36545154 0.36947811 0.37354559]\n",
            "6 day output [[0.37765354]]\n",
            "7 day input [0.11327835 0.11517657 0.11707906 0.11898612 0.12089799 0.12281496\n",
            " 0.12473729 0.12666528 0.12859918 0.13053931 0.13248594 0.13443939\n",
            " 0.13639989 0.13836783 0.14034346 0.14232711 0.14431903 0.14631963\n",
            " 0.14832914 0.15034799 0.15237631 0.15441464 0.15646319 0.15852238\n",
            " 0.16059245 0.16267385 0.16476688 0.16687182 0.16898918 0.17111918\n",
            " 0.17326225 0.17541879 0.1775891  0.17977357 0.18197265 0.1841867\n",
            " 0.18641602 0.18866114 0.19092238 0.1932002  0.19549496 0.19780709\n",
            " 0.20013699 0.20248519 0.20485198 0.20723787 0.20964329 0.21206871\n",
            " 0.21451458 0.21698129 0.21946941 0.22197928 0.22451144 0.22706637\n",
            " 0.22964455 0.23224646 0.23487256 0.23752336 0.24019937 0.24290107\n",
            " 0.245629   0.24838363 0.25116545 0.25397497 0.25681278 0.25967929\n",
            " 0.26257512 0.26550069 0.26845661 0.2714434  0.27446133 0.2775113\n",
            " 0.28059348 0.28370857 0.28685707 0.29003933 0.29325595 0.29650748\n",
            " 0.29979423 0.30311683 0.30647567 0.30987117 0.31330374 0.31677386\n",
            " 0.32028186 0.32382834 0.32741329 0.33103731 0.33470061 0.33840352\n",
            " 0.34214631 0.34592929 0.34975249 0.35361627 0.35752064 0.36146569\n",
            " 0.36545154 0.36947811 0.37354559 0.37765354]\n",
            "7 day output [[0.38180226]]\n",
            "8 day input [0.11517657 0.11707906 0.11898612 0.12089799 0.12281496 0.12473729\n",
            " 0.12666528 0.12859918 0.13053931 0.13248594 0.13443939 0.13639989\n",
            " 0.13836783 0.14034346 0.14232711 0.14431903 0.14631963 0.14832914\n",
            " 0.15034799 0.15237631 0.15441464 0.15646319 0.15852238 0.16059245\n",
            " 0.16267385 0.16476688 0.16687182 0.16898918 0.17111918 0.17326225\n",
            " 0.17541879 0.1775891  0.17977357 0.18197265 0.1841867  0.18641602\n",
            " 0.18866114 0.19092238 0.1932002  0.19549496 0.19780709 0.20013699\n",
            " 0.20248519 0.20485198 0.20723787 0.20964329 0.21206871 0.21451458\n",
            " 0.21698129 0.21946941 0.22197928 0.22451144 0.22706637 0.22964455\n",
            " 0.23224646 0.23487256 0.23752336 0.24019937 0.24290107 0.245629\n",
            " 0.24838363 0.25116545 0.25397497 0.25681278 0.25967929 0.26257512\n",
            " 0.26550069 0.26845661 0.2714434  0.27446133 0.2775113  0.28059348\n",
            " 0.28370857 0.28685707 0.29003933 0.29325595 0.29650748 0.29979423\n",
            " 0.30311683 0.30647567 0.30987117 0.31330374 0.31677386 0.32028186\n",
            " 0.32382834 0.32741329 0.33103731 0.33470061 0.33840352 0.34214631\n",
            " 0.34592929 0.34975249 0.35361627 0.35752064 0.36146569 0.36545154\n",
            " 0.36947811 0.37354559 0.37765354 0.38180226]\n",
            "8 day output [[0.38599113]]\n",
            "9 day input [0.11707906 0.11898612 0.12089799 0.12281496 0.12473729 0.12666528\n",
            " 0.12859918 0.13053931 0.13248594 0.13443939 0.13639989 0.13836783\n",
            " 0.14034346 0.14232711 0.14431903 0.14631963 0.14832914 0.15034799\n",
            " 0.15237631 0.15441464 0.15646319 0.15852238 0.16059245 0.16267385\n",
            " 0.16476688 0.16687182 0.16898918 0.17111918 0.17326225 0.17541879\n",
            " 0.1775891  0.17977357 0.18197265 0.1841867  0.18641602 0.18866114\n",
            " 0.19092238 0.1932002  0.19549496 0.19780709 0.20013699 0.20248519\n",
            " 0.20485198 0.20723787 0.20964329 0.21206871 0.21451458 0.21698129\n",
            " 0.21946941 0.22197928 0.22451144 0.22706637 0.22964455 0.23224646\n",
            " 0.23487256 0.23752336 0.24019937 0.24290107 0.245629   0.24838363\n",
            " 0.25116545 0.25397497 0.25681278 0.25967929 0.26257512 0.26550069\n",
            " 0.26845661 0.2714434  0.27446133 0.2775113  0.28059348 0.28370857\n",
            " 0.28685707 0.29003933 0.29325595 0.29650748 0.29979423 0.30311683\n",
            " 0.30647567 0.30987117 0.31330374 0.31677386 0.32028186 0.32382834\n",
            " 0.32741329 0.33103731 0.33470061 0.33840352 0.34214631 0.34592929\n",
            " 0.34975249 0.35361627 0.35752064 0.36146569 0.36545154 0.36947811\n",
            " 0.37354559 0.37765354 0.38180226 0.38599113]\n",
            "9 day output [[0.39022034]]\n",
            "10 day input [0.11898612 0.12089799 0.12281496 0.12473729 0.12666528 0.12859918\n",
            " 0.13053931 0.13248594 0.13443939 0.13639989 0.13836783 0.14034346\n",
            " 0.14232711 0.14431903 0.14631963 0.14832914 0.15034799 0.15237631\n",
            " 0.15441464 0.15646319 0.15852238 0.16059245 0.16267385 0.16476688\n",
            " 0.16687182 0.16898918 0.17111918 0.17326225 0.17541879 0.1775891\n",
            " 0.17977357 0.18197265 0.1841867  0.18641602 0.18866114 0.19092238\n",
            " 0.1932002  0.19549496 0.19780709 0.20013699 0.20248519 0.20485198\n",
            " 0.20723787 0.20964329 0.21206871 0.21451458 0.21698129 0.21946941\n",
            " 0.22197928 0.22451144 0.22706637 0.22964455 0.23224646 0.23487256\n",
            " 0.23752336 0.24019937 0.24290107 0.245629   0.24838363 0.25116545\n",
            " 0.25397497 0.25681278 0.25967929 0.26257512 0.26550069 0.26845661\n",
            " 0.2714434  0.27446133 0.2775113  0.28059348 0.28370857 0.28685707\n",
            " 0.29003933 0.29325595 0.29650748 0.29979423 0.30311683 0.30647567\n",
            " 0.30987117 0.31330374 0.31677386 0.32028186 0.32382834 0.32741329\n",
            " 0.33103731 0.33470061 0.33840352 0.34214631 0.34592929 0.34975249\n",
            " 0.35361627 0.35752064 0.36146569 0.36545154 0.36947811 0.37354559\n",
            " 0.37765354 0.38180226 0.38599113 0.39022034]\n",
            "10 day output [[0.39448926]]\n",
            "11 day input [0.12089799 0.12281496 0.12473729 0.12666528 0.12859918 0.13053931\n",
            " 0.13248594 0.13443939 0.13639989 0.13836783 0.14034346 0.14232711\n",
            " 0.14431903 0.14631963 0.14832914 0.15034799 0.15237631 0.15441464\n",
            " 0.15646319 0.15852238 0.16059245 0.16267385 0.16476688 0.16687182\n",
            " 0.16898918 0.17111918 0.17326225 0.17541879 0.1775891  0.17977357\n",
            " 0.18197265 0.1841867  0.18641602 0.18866114 0.19092238 0.1932002\n",
            " 0.19549496 0.19780709 0.20013699 0.20248519 0.20485198 0.20723787\n",
            " 0.20964329 0.21206871 0.21451458 0.21698129 0.21946941 0.22197928\n",
            " 0.22451144 0.22706637 0.22964455 0.23224646 0.23487256 0.23752336\n",
            " 0.24019937 0.24290107 0.245629   0.24838363 0.25116545 0.25397497\n",
            " 0.25681278 0.25967929 0.26257512 0.26550069 0.26845661 0.2714434\n",
            " 0.27446133 0.2775113  0.28059348 0.28370857 0.28685707 0.29003933\n",
            " 0.29325595 0.29650748 0.29979423 0.30311683 0.30647567 0.30987117\n",
            " 0.31330374 0.31677386 0.32028186 0.32382834 0.32741329 0.33103731\n",
            " 0.33470061 0.33840352 0.34214631 0.34592929 0.34975249 0.35361627\n",
            " 0.35752064 0.36146569 0.36545154 0.36947811 0.37354559 0.37765354\n",
            " 0.38180226 0.38599113 0.39022034 0.39448926]\n",
            "11 day output [[0.39879772]]\n",
            "12 day input [0.12281496 0.12473729 0.12666528 0.12859918 0.13053931 0.13248594\n",
            " 0.13443939 0.13639989 0.13836783 0.14034346 0.14232711 0.14431903\n",
            " 0.14631963 0.14832914 0.15034799 0.15237631 0.15441464 0.15646319\n",
            " 0.15852238 0.16059245 0.16267385 0.16476688 0.16687182 0.16898918\n",
            " 0.17111918 0.17326225 0.17541879 0.1775891  0.17977357 0.18197265\n",
            " 0.1841867  0.18641602 0.18866114 0.19092238 0.1932002  0.19549496\n",
            " 0.19780709 0.20013699 0.20248519 0.20485198 0.20723787 0.20964329\n",
            " 0.21206871 0.21451458 0.21698129 0.21946941 0.22197928 0.22451144\n",
            " 0.22706637 0.22964455 0.23224646 0.23487256 0.23752336 0.24019937\n",
            " 0.24290107 0.245629   0.24838363 0.25116545 0.25397497 0.25681278\n",
            " 0.25967929 0.26257512 0.26550069 0.26845661 0.2714434  0.27446133\n",
            " 0.2775113  0.28059348 0.28370857 0.28685707 0.29003933 0.29325595\n",
            " 0.29650748 0.29979423 0.30311683 0.30647567 0.30987117 0.31330374\n",
            " 0.31677386 0.32028186 0.32382834 0.32741329 0.33103731 0.33470061\n",
            " 0.33840352 0.34214631 0.34592929 0.34975249 0.35361627 0.35752064\n",
            " 0.36146569 0.36545154 0.36947811 0.37354559 0.37765354 0.38180226\n",
            " 0.38599113 0.39022034 0.39448926 0.39879772]\n",
            "12 day output [[0.40314534]]\n",
            "13 day input [0.12473729 0.12666528 0.12859918 0.13053931 0.13248594 0.13443939\n",
            " 0.13639989 0.13836783 0.14034346 0.14232711 0.14431903 0.14631963\n",
            " 0.14832914 0.15034799 0.15237631 0.15441464 0.15646319 0.15852238\n",
            " 0.16059245 0.16267385 0.16476688 0.16687182 0.16898918 0.17111918\n",
            " 0.17326225 0.17541879 0.1775891  0.17977357 0.18197265 0.1841867\n",
            " 0.18641602 0.18866114 0.19092238 0.1932002  0.19549496 0.19780709\n",
            " 0.20013699 0.20248519 0.20485198 0.20723787 0.20964329 0.21206871\n",
            " 0.21451458 0.21698129 0.21946941 0.22197928 0.22451144 0.22706637\n",
            " 0.22964455 0.23224646 0.23487256 0.23752336 0.24019937 0.24290107\n",
            " 0.245629   0.24838363 0.25116545 0.25397497 0.25681278 0.25967929\n",
            " 0.26257512 0.26550069 0.26845661 0.2714434  0.27446133 0.2775113\n",
            " 0.28059348 0.28370857 0.28685707 0.29003933 0.29325595 0.29650748\n",
            " 0.29979423 0.30311683 0.30647567 0.30987117 0.31330374 0.31677386\n",
            " 0.32028186 0.32382834 0.32741329 0.33103731 0.33470061 0.33840352\n",
            " 0.34214631 0.34592929 0.34975249 0.35361627 0.35752064 0.36146569\n",
            " 0.36545154 0.36947811 0.37354559 0.37765354 0.38180226 0.38599113\n",
            " 0.39022034 0.39448926 0.39879772 0.40314534]\n",
            "13 day output [[0.40753138]]\n",
            "14 day input [0.12666528 0.12859918 0.13053931 0.13248594 0.13443939 0.13639989\n",
            " 0.13836783 0.14034346 0.14232711 0.14431903 0.14631963 0.14832914\n",
            " 0.15034799 0.15237631 0.15441464 0.15646319 0.15852238 0.16059245\n",
            " 0.16267385 0.16476688 0.16687182 0.16898918 0.17111918 0.17326225\n",
            " 0.17541879 0.1775891  0.17977357 0.18197265 0.1841867  0.18641602\n",
            " 0.18866114 0.19092238 0.1932002  0.19549496 0.19780709 0.20013699\n",
            " 0.20248519 0.20485198 0.20723787 0.20964329 0.21206871 0.21451458\n",
            " 0.21698129 0.21946941 0.22197928 0.22451144 0.22706637 0.22964455\n",
            " 0.23224646 0.23487256 0.23752336 0.24019937 0.24290107 0.245629\n",
            " 0.24838363 0.25116545 0.25397497 0.25681278 0.25967929 0.26257512\n",
            " 0.26550069 0.26845661 0.2714434  0.27446133 0.2775113  0.28059348\n",
            " 0.28370857 0.28685707 0.29003933 0.29325595 0.29650748 0.29979423\n",
            " 0.30311683 0.30647567 0.30987117 0.31330374 0.31677386 0.32028186\n",
            " 0.32382834 0.32741329 0.33103731 0.33470061 0.33840352 0.34214631\n",
            " 0.34592929 0.34975249 0.35361627 0.35752064 0.36146569 0.36545154\n",
            " 0.36947811 0.37354559 0.37765354 0.38180226 0.38599113 0.39022034\n",
            " 0.39448926 0.39879772 0.40314534 0.40753138]\n",
            "14 day output [[0.4119555]]\n",
            "15 day input [0.12859918 0.13053931 0.13248594 0.13443939 0.13639989 0.13836783\n",
            " 0.14034346 0.14232711 0.14431903 0.14631963 0.14832914 0.15034799\n",
            " 0.15237631 0.15441464 0.15646319 0.15852238 0.16059245 0.16267385\n",
            " 0.16476688 0.16687182 0.16898918 0.17111918 0.17326225 0.17541879\n",
            " 0.1775891  0.17977357 0.18197265 0.1841867  0.18641602 0.18866114\n",
            " 0.19092238 0.1932002  0.19549496 0.19780709 0.20013699 0.20248519\n",
            " 0.20485198 0.20723787 0.20964329 0.21206871 0.21451458 0.21698129\n",
            " 0.21946941 0.22197928 0.22451144 0.22706637 0.22964455 0.23224646\n",
            " 0.23487256 0.23752336 0.24019937 0.24290107 0.245629   0.24838363\n",
            " 0.25116545 0.25397497 0.25681278 0.25967929 0.26257512 0.26550069\n",
            " 0.26845661 0.2714434  0.27446133 0.2775113  0.28059348 0.28370857\n",
            " 0.28685707 0.29003933 0.29325595 0.29650748 0.29979423 0.30311683\n",
            " 0.30647567 0.30987117 0.31330374 0.31677386 0.32028186 0.32382834\n",
            " 0.32741329 0.33103731 0.33470061 0.33840352 0.34214631 0.34592929\n",
            " 0.34975249 0.35361627 0.35752064 0.36146569 0.36545154 0.36947811\n",
            " 0.37354559 0.37765354 0.38180226 0.38599113 0.39022034 0.39448926\n",
            " 0.39879772 0.40314534 0.40753138 0.41195551]\n",
            "15 day output [[0.4164173]]\n",
            "16 day input [0.13053931 0.13248594 0.13443939 0.13639989 0.13836783 0.14034346\n",
            " 0.14232711 0.14431903 0.14631963 0.14832914 0.15034799 0.15237631\n",
            " 0.15441464 0.15646319 0.15852238 0.16059245 0.16267385 0.16476688\n",
            " 0.16687182 0.16898918 0.17111918 0.17326225 0.17541879 0.1775891\n",
            " 0.17977357 0.18197265 0.1841867  0.18641602 0.18866114 0.19092238\n",
            " 0.1932002  0.19549496 0.19780709 0.20013699 0.20248519 0.20485198\n",
            " 0.20723787 0.20964329 0.21206871 0.21451458 0.21698129 0.21946941\n",
            " 0.22197928 0.22451144 0.22706637 0.22964455 0.23224646 0.23487256\n",
            " 0.23752336 0.24019937 0.24290107 0.245629   0.24838363 0.25116545\n",
            " 0.25397497 0.25681278 0.25967929 0.26257512 0.26550069 0.26845661\n",
            " 0.2714434  0.27446133 0.2775113  0.28059348 0.28370857 0.28685707\n",
            " 0.29003933 0.29325595 0.29650748 0.29979423 0.30311683 0.30647567\n",
            " 0.30987117 0.31330374 0.31677386 0.32028186 0.32382834 0.32741329\n",
            " 0.33103731 0.33470061 0.33840352 0.34214631 0.34592929 0.34975249\n",
            " 0.35361627 0.35752064 0.36146569 0.36545154 0.36947811 0.37354559\n",
            " 0.37765354 0.38180226 0.38599113 0.39022034 0.39448926 0.39879772\n",
            " 0.40314534 0.40753138 0.41195551 0.4164173 ]\n",
            "16 day output [[0.42091548]]\n",
            "17 day input [0.13248594 0.13443939 0.13639989 0.13836783 0.14034346 0.14232711\n",
            " 0.14431903 0.14631963 0.14832914 0.15034799 0.15237631 0.15441464\n",
            " 0.15646319 0.15852238 0.16059245 0.16267385 0.16476688 0.16687182\n",
            " 0.16898918 0.17111918 0.17326225 0.17541879 0.1775891  0.17977357\n",
            " 0.18197265 0.1841867  0.18641602 0.18866114 0.19092238 0.1932002\n",
            " 0.19549496 0.19780709 0.20013699 0.20248519 0.20485198 0.20723787\n",
            " 0.20964329 0.21206871 0.21451458 0.21698129 0.21946941 0.22197928\n",
            " 0.22451144 0.22706637 0.22964455 0.23224646 0.23487256 0.23752336\n",
            " 0.24019937 0.24290107 0.245629   0.24838363 0.25116545 0.25397497\n",
            " 0.25681278 0.25967929 0.26257512 0.26550069 0.26845661 0.2714434\n",
            " 0.27446133 0.2775113  0.28059348 0.28370857 0.28685707 0.29003933\n",
            " 0.29325595 0.29650748 0.29979423 0.30311683 0.30647567 0.30987117\n",
            " 0.31330374 0.31677386 0.32028186 0.32382834 0.32741329 0.33103731\n",
            " 0.33470061 0.33840352 0.34214631 0.34592929 0.34975249 0.35361627\n",
            " 0.35752064 0.36146569 0.36545154 0.36947811 0.37354559 0.37765354\n",
            " 0.38180226 0.38599113 0.39022034 0.39448926 0.39879772 0.40314534\n",
            " 0.40753138 0.41195551 0.4164173  0.42091548]\n",
            "17 day output [[0.42544973]]\n",
            "18 day input [0.13443939 0.13639989 0.13836783 0.14034346 0.14232711 0.14431903\n",
            " 0.14631963 0.14832914 0.15034799 0.15237631 0.15441464 0.15646319\n",
            " 0.15852238 0.16059245 0.16267385 0.16476688 0.16687182 0.16898918\n",
            " 0.17111918 0.17326225 0.17541879 0.1775891  0.17977357 0.18197265\n",
            " 0.1841867  0.18641602 0.18866114 0.19092238 0.1932002  0.19549496\n",
            " 0.19780709 0.20013699 0.20248519 0.20485198 0.20723787 0.20964329\n",
            " 0.21206871 0.21451458 0.21698129 0.21946941 0.22197928 0.22451144\n",
            " 0.22706637 0.22964455 0.23224646 0.23487256 0.23752336 0.24019937\n",
            " 0.24290107 0.245629   0.24838363 0.25116545 0.25397497 0.25681278\n",
            " 0.25967929 0.26257512 0.26550069 0.26845661 0.2714434  0.27446133\n",
            " 0.2775113  0.28059348 0.28370857 0.28685707 0.29003933 0.29325595\n",
            " 0.29650748 0.29979423 0.30311683 0.30647567 0.30987117 0.31330374\n",
            " 0.31677386 0.32028186 0.32382834 0.32741329 0.33103731 0.33470061\n",
            " 0.33840352 0.34214631 0.34592929 0.34975249 0.35361627 0.35752064\n",
            " 0.36146569 0.36545154 0.36947811 0.37354559 0.37765354 0.38180226\n",
            " 0.38599113 0.39022034 0.39448926 0.39879772 0.40314534 0.40753138\n",
            " 0.41195551 0.4164173  0.42091548 0.42544973]\n",
            "18 day output [[0.43001917]]\n",
            "19 day input [0.13639989 0.13836783 0.14034346 0.14232711 0.14431903 0.14631963\n",
            " 0.14832914 0.15034799 0.15237631 0.15441464 0.15646319 0.15852238\n",
            " 0.16059245 0.16267385 0.16476688 0.16687182 0.16898918 0.17111918\n",
            " 0.17326225 0.17541879 0.1775891  0.17977357 0.18197265 0.1841867\n",
            " 0.18641602 0.18866114 0.19092238 0.1932002  0.19549496 0.19780709\n",
            " 0.20013699 0.20248519 0.20485198 0.20723787 0.20964329 0.21206871\n",
            " 0.21451458 0.21698129 0.21946941 0.22197928 0.22451144 0.22706637\n",
            " 0.22964455 0.23224646 0.23487256 0.23752336 0.24019937 0.24290107\n",
            " 0.245629   0.24838363 0.25116545 0.25397497 0.25681278 0.25967929\n",
            " 0.26257512 0.26550069 0.26845661 0.2714434  0.27446133 0.2775113\n",
            " 0.28059348 0.28370857 0.28685707 0.29003933 0.29325595 0.29650748\n",
            " 0.29979423 0.30311683 0.30647567 0.30987117 0.31330374 0.31677386\n",
            " 0.32028186 0.32382834 0.32741329 0.33103731 0.33470061 0.33840352\n",
            " 0.34214631 0.34592929 0.34975249 0.35361627 0.35752064 0.36146569\n",
            " 0.36545154 0.36947811 0.37354559 0.37765354 0.38180226 0.38599113\n",
            " 0.39022034 0.39448926 0.39879772 0.40314534 0.40753138 0.41195551\n",
            " 0.4164173  0.42091548 0.42544973 0.43001917]\n",
            "19 day output [[0.43462276]]\n",
            "20 day input [0.13836783 0.14034346 0.14232711 0.14431903 0.14631963 0.14832914\n",
            " 0.15034799 0.15237631 0.15441464 0.15646319 0.15852238 0.16059245\n",
            " 0.16267385 0.16476688 0.16687182 0.16898918 0.17111918 0.17326225\n",
            " 0.17541879 0.1775891  0.17977357 0.18197265 0.1841867  0.18641602\n",
            " 0.18866114 0.19092238 0.1932002  0.19549496 0.19780709 0.20013699\n",
            " 0.20248519 0.20485198 0.20723787 0.20964329 0.21206871 0.21451458\n",
            " 0.21698129 0.21946941 0.22197928 0.22451144 0.22706637 0.22964455\n",
            " 0.23224646 0.23487256 0.23752336 0.24019937 0.24290107 0.245629\n",
            " 0.24838363 0.25116545 0.25397497 0.25681278 0.25967929 0.26257512\n",
            " 0.26550069 0.26845661 0.2714434  0.27446133 0.2775113  0.28059348\n",
            " 0.28370857 0.28685707 0.29003933 0.29325595 0.29650748 0.29979423\n",
            " 0.30311683 0.30647567 0.30987117 0.31330374 0.31677386 0.32028186\n",
            " 0.32382834 0.32741329 0.33103731 0.33470061 0.33840352 0.34214631\n",
            " 0.34592929 0.34975249 0.35361627 0.35752064 0.36146569 0.36545154\n",
            " 0.36947811 0.37354559 0.37765354 0.38180226 0.38599113 0.39022034\n",
            " 0.39448926 0.39879772 0.40314534 0.40753138 0.41195551 0.4164173\n",
            " 0.42091548 0.42544973 0.43001917 0.43462276]\n",
            "20 day output [[0.43925968]]\n",
            "21 day input [0.14034346 0.14232711 0.14431903 0.14631963 0.14832914 0.15034799\n",
            " 0.15237631 0.15441464 0.15646319 0.15852238 0.16059245 0.16267385\n",
            " 0.16476688 0.16687182 0.16898918 0.17111918 0.17326225 0.17541879\n",
            " 0.1775891  0.17977357 0.18197265 0.1841867  0.18641602 0.18866114\n",
            " 0.19092238 0.1932002  0.19549496 0.19780709 0.20013699 0.20248519\n",
            " 0.20485198 0.20723787 0.20964329 0.21206871 0.21451458 0.21698129\n",
            " 0.21946941 0.22197928 0.22451144 0.22706637 0.22964455 0.23224646\n",
            " 0.23487256 0.23752336 0.24019937 0.24290107 0.245629   0.24838363\n",
            " 0.25116545 0.25397497 0.25681278 0.25967929 0.26257512 0.26550069\n",
            " 0.26845661 0.2714434  0.27446133 0.2775113  0.28059348 0.28370857\n",
            " 0.28685707 0.29003933 0.29325595 0.29650748 0.29979423 0.30311683\n",
            " 0.30647567 0.30987117 0.31330374 0.31677386 0.32028186 0.32382834\n",
            " 0.32741329 0.33103731 0.33470061 0.33840352 0.34214631 0.34592929\n",
            " 0.34975249 0.35361627 0.35752064 0.36146569 0.36545154 0.36947811\n",
            " 0.37354559 0.37765354 0.38180226 0.38599113 0.39022034 0.39448926\n",
            " 0.39879772 0.40314534 0.40753138 0.41195551 0.4164173  0.42091548\n",
            " 0.42544973 0.43001917 0.43462276 0.43925968]\n",
            "21 day output [[0.44392863]]\n",
            "22 day input [0.14232711 0.14431903 0.14631963 0.14832914 0.15034799 0.15237631\n",
            " 0.15441464 0.15646319 0.15852238 0.16059245 0.16267385 0.16476688\n",
            " 0.16687182 0.16898918 0.17111918 0.17326225 0.17541879 0.1775891\n",
            " 0.17977357 0.18197265 0.1841867  0.18641602 0.18866114 0.19092238\n",
            " 0.1932002  0.19549496 0.19780709 0.20013699 0.20248519 0.20485198\n",
            " 0.20723787 0.20964329 0.21206871 0.21451458 0.21698129 0.21946941\n",
            " 0.22197928 0.22451144 0.22706637 0.22964455 0.23224646 0.23487256\n",
            " 0.23752336 0.24019937 0.24290107 0.245629   0.24838363 0.25116545\n",
            " 0.25397497 0.25681278 0.25967929 0.26257512 0.26550069 0.26845661\n",
            " 0.2714434  0.27446133 0.2775113  0.28059348 0.28370857 0.28685707\n",
            " 0.29003933 0.29325595 0.29650748 0.29979423 0.30311683 0.30647567\n",
            " 0.30987117 0.31330374 0.31677386 0.32028186 0.32382834 0.32741329\n",
            " 0.33103731 0.33470061 0.33840352 0.34214631 0.34592929 0.34975249\n",
            " 0.35361627 0.35752064 0.36146569 0.36545154 0.36947811 0.37354559\n",
            " 0.37765354 0.38180226 0.38599113 0.39022034 0.39448926 0.39879772\n",
            " 0.40314534 0.40753138 0.41195551 0.4164173  0.42091548 0.42544973\n",
            " 0.43001917 0.43462276 0.43925968 0.44392863]\n",
            "22 day output [[0.44862872]]\n",
            "23 day input [0.14431903 0.14631963 0.14832914 0.15034799 0.15237631 0.15441464\n",
            " 0.15646319 0.15852238 0.16059245 0.16267385 0.16476688 0.16687182\n",
            " 0.16898918 0.17111918 0.17326225 0.17541879 0.1775891  0.17977357\n",
            " 0.18197265 0.1841867  0.18641602 0.18866114 0.19092238 0.1932002\n",
            " 0.19549496 0.19780709 0.20013699 0.20248519 0.20485198 0.20723787\n",
            " 0.20964329 0.21206871 0.21451458 0.21698129 0.21946941 0.22197928\n",
            " 0.22451144 0.22706637 0.22964455 0.23224646 0.23487256 0.23752336\n",
            " 0.24019937 0.24290107 0.245629   0.24838363 0.25116545 0.25397497\n",
            " 0.25681278 0.25967929 0.26257512 0.26550069 0.26845661 0.2714434\n",
            " 0.27446133 0.2775113  0.28059348 0.28370857 0.28685707 0.29003933\n",
            " 0.29325595 0.29650748 0.29979423 0.30311683 0.30647567 0.30987117\n",
            " 0.31330374 0.31677386 0.32028186 0.32382834 0.32741329 0.33103731\n",
            " 0.33470061 0.33840352 0.34214631 0.34592929 0.34975249 0.35361627\n",
            " 0.35752064 0.36146569 0.36545154 0.36947811 0.37354559 0.37765354\n",
            " 0.38180226 0.38599113 0.39022034 0.39448926 0.39879772 0.40314534\n",
            " 0.40753138 0.41195551 0.4164173  0.42091548 0.42544973 0.43001917\n",
            " 0.43462276 0.43925968 0.44392863 0.44862872]\n",
            "23 day output [[0.4533585]]\n",
            "24 day input [0.14631963 0.14832914 0.15034799 0.15237631 0.15441464 0.15646319\n",
            " 0.15852238 0.16059245 0.16267385 0.16476688 0.16687182 0.16898918\n",
            " 0.17111918 0.17326225 0.17541879 0.1775891  0.17977357 0.18197265\n",
            " 0.1841867  0.18641602 0.18866114 0.19092238 0.1932002  0.19549496\n",
            " 0.19780709 0.20013699 0.20248519 0.20485198 0.20723787 0.20964329\n",
            " 0.21206871 0.21451458 0.21698129 0.21946941 0.22197928 0.22451144\n",
            " 0.22706637 0.22964455 0.23224646 0.23487256 0.23752336 0.24019937\n",
            " 0.24290107 0.245629   0.24838363 0.25116545 0.25397497 0.25681278\n",
            " 0.25967929 0.26257512 0.26550069 0.26845661 0.2714434  0.27446133\n",
            " 0.2775113  0.28059348 0.28370857 0.28685707 0.29003933 0.29325595\n",
            " 0.29650748 0.29979423 0.30311683 0.30647567 0.30987117 0.31330374\n",
            " 0.31677386 0.32028186 0.32382834 0.32741329 0.33103731 0.33470061\n",
            " 0.33840352 0.34214631 0.34592929 0.34975249 0.35361627 0.35752064\n",
            " 0.36146569 0.36545154 0.36947811 0.37354559 0.37765354 0.38180226\n",
            " 0.38599113 0.39022034 0.39448926 0.39879772 0.40314534 0.40753138\n",
            " 0.41195551 0.4164173  0.42091548 0.42544973 0.43001917 0.43462276\n",
            " 0.43925968 0.44392863 0.44862872 0.4533585 ]\n",
            "24 day output [[0.45811686]]\n",
            "25 day input [0.14832914 0.15034799 0.15237631 0.15441464 0.15646319 0.15852238\n",
            " 0.16059245 0.16267385 0.16476688 0.16687182 0.16898918 0.17111918\n",
            " 0.17326225 0.17541879 0.1775891  0.17977357 0.18197265 0.1841867\n",
            " 0.18641602 0.18866114 0.19092238 0.1932002  0.19549496 0.19780709\n",
            " 0.20013699 0.20248519 0.20485198 0.20723787 0.20964329 0.21206871\n",
            " 0.21451458 0.21698129 0.21946941 0.22197928 0.22451144 0.22706637\n",
            " 0.22964455 0.23224646 0.23487256 0.23752336 0.24019937 0.24290107\n",
            " 0.245629   0.24838363 0.25116545 0.25397497 0.25681278 0.25967929\n",
            " 0.26257512 0.26550069 0.26845661 0.2714434  0.27446133 0.2775113\n",
            " 0.28059348 0.28370857 0.28685707 0.29003933 0.29325595 0.29650748\n",
            " 0.29979423 0.30311683 0.30647567 0.30987117 0.31330374 0.31677386\n",
            " 0.32028186 0.32382834 0.32741329 0.33103731 0.33470061 0.33840352\n",
            " 0.34214631 0.34592929 0.34975249 0.35361627 0.35752064 0.36146569\n",
            " 0.36545154 0.36947811 0.37354559 0.37765354 0.38180226 0.38599113\n",
            " 0.39022034 0.39448926 0.39879772 0.40314534 0.40753138 0.41195551\n",
            " 0.4164173  0.42091548 0.42544973 0.43001917 0.43462276 0.43925968\n",
            " 0.44392863 0.44862872 0.4533585  0.45811686]\n",
            "25 day output [[0.46290222]]\n",
            "26 day input [0.15034799 0.15237631 0.15441464 0.15646319 0.15852238 0.16059245\n",
            " 0.16267385 0.16476688 0.16687182 0.16898918 0.17111918 0.17326225\n",
            " 0.17541879 0.1775891  0.17977357 0.18197265 0.1841867  0.18641602\n",
            " 0.18866114 0.19092238 0.1932002  0.19549496 0.19780709 0.20013699\n",
            " 0.20248519 0.20485198 0.20723787 0.20964329 0.21206871 0.21451458\n",
            " 0.21698129 0.21946941 0.22197928 0.22451144 0.22706637 0.22964455\n",
            " 0.23224646 0.23487256 0.23752336 0.24019937 0.24290107 0.245629\n",
            " 0.24838363 0.25116545 0.25397497 0.25681278 0.25967929 0.26257512\n",
            " 0.26550069 0.26845661 0.2714434  0.27446133 0.2775113  0.28059348\n",
            " 0.28370857 0.28685707 0.29003933 0.29325595 0.29650748 0.29979423\n",
            " 0.30311683 0.30647567 0.30987117 0.31330374 0.31677386 0.32028186\n",
            " 0.32382834 0.32741329 0.33103731 0.33470061 0.33840352 0.34214631\n",
            " 0.34592929 0.34975249 0.35361627 0.35752064 0.36146569 0.36545154\n",
            " 0.36947811 0.37354559 0.37765354 0.38180226 0.38599113 0.39022034\n",
            " 0.39448926 0.39879772 0.40314534 0.40753138 0.41195551 0.4164173\n",
            " 0.42091548 0.42544973 0.43001917 0.43462276 0.43925968 0.44392863\n",
            " 0.44862872 0.4533585  0.45811686 0.46290222]\n",
            "26 day output [[0.46771312]]\n",
            "27 day input [0.15237631 0.15441464 0.15646319 0.15852238 0.16059245 0.16267385\n",
            " 0.16476688 0.16687182 0.16898918 0.17111918 0.17326225 0.17541879\n",
            " 0.1775891  0.17977357 0.18197265 0.1841867  0.18641602 0.18866114\n",
            " 0.19092238 0.1932002  0.19549496 0.19780709 0.20013699 0.20248519\n",
            " 0.20485198 0.20723787 0.20964329 0.21206871 0.21451458 0.21698129\n",
            " 0.21946941 0.22197928 0.22451144 0.22706637 0.22964455 0.23224646\n",
            " 0.23487256 0.23752336 0.24019937 0.24290107 0.245629   0.24838363\n",
            " 0.25116545 0.25397497 0.25681278 0.25967929 0.26257512 0.26550069\n",
            " 0.26845661 0.2714434  0.27446133 0.2775113  0.28059348 0.28370857\n",
            " 0.28685707 0.29003933 0.29325595 0.29650748 0.29979423 0.30311683\n",
            " 0.30647567 0.30987117 0.31330374 0.31677386 0.32028186 0.32382834\n",
            " 0.32741329 0.33103731 0.33470061 0.33840352 0.34214631 0.34592929\n",
            " 0.34975249 0.35361627 0.35752064 0.36146569 0.36545154 0.36947811\n",
            " 0.37354559 0.37765354 0.38180226 0.38599113 0.39022034 0.39448926\n",
            " 0.39879772 0.40314534 0.40753138 0.41195551 0.4164173  0.42091548\n",
            " 0.42544973 0.43001917 0.43462276 0.43925968 0.44392863 0.44862872\n",
            " 0.4533585  0.45811686 0.46290222 0.46771312]\n",
            "27 day output [[0.47254834]]\n",
            "28 day input [0.15441464 0.15646319 0.15852238 0.16059245 0.16267385 0.16476688\n",
            " 0.16687182 0.16898918 0.17111918 0.17326225 0.17541879 0.1775891\n",
            " 0.17977357 0.18197265 0.1841867  0.18641602 0.18866114 0.19092238\n",
            " 0.1932002  0.19549496 0.19780709 0.20013699 0.20248519 0.20485198\n",
            " 0.20723787 0.20964329 0.21206871 0.21451458 0.21698129 0.21946941\n",
            " 0.22197928 0.22451144 0.22706637 0.22964455 0.23224646 0.23487256\n",
            " 0.23752336 0.24019937 0.24290107 0.245629   0.24838363 0.25116545\n",
            " 0.25397497 0.25681278 0.25967929 0.26257512 0.26550069 0.26845661\n",
            " 0.2714434  0.27446133 0.2775113  0.28059348 0.28370857 0.28685707\n",
            " 0.29003933 0.29325595 0.29650748 0.29979423 0.30311683 0.30647567\n",
            " 0.30987117 0.31330374 0.31677386 0.32028186 0.32382834 0.32741329\n",
            " 0.33103731 0.33470061 0.33840352 0.34214631 0.34592929 0.34975249\n",
            " 0.35361627 0.35752064 0.36146569 0.36545154 0.36947811 0.37354559\n",
            " 0.37765354 0.38180226 0.38599113 0.39022034 0.39448926 0.39879772\n",
            " 0.40314534 0.40753138 0.41195551 0.4164173  0.42091548 0.42544973\n",
            " 0.43001917 0.43462276 0.43925968 0.44392863 0.44862872 0.4533585\n",
            " 0.45811686 0.46290222 0.46771312 0.47254834]\n",
            "28 day output [[0.47740573]]\n",
            "29 day input [0.15646319 0.15852238 0.16059245 0.16267385 0.16476688 0.16687182\n",
            " 0.16898918 0.17111918 0.17326225 0.17541879 0.1775891  0.17977357\n",
            " 0.18197265 0.1841867  0.18641602 0.18866114 0.19092238 0.1932002\n",
            " 0.19549496 0.19780709 0.20013699 0.20248519 0.20485198 0.20723787\n",
            " 0.20964329 0.21206871 0.21451458 0.21698129 0.21946941 0.22197928\n",
            " 0.22451144 0.22706637 0.22964455 0.23224646 0.23487256 0.23752336\n",
            " 0.24019937 0.24290107 0.245629   0.24838363 0.25116545 0.25397497\n",
            " 0.25681278 0.25967929 0.26257512 0.26550069 0.26845661 0.2714434\n",
            " 0.27446133 0.2775113  0.28059348 0.28370857 0.28685707 0.29003933\n",
            " 0.29325595 0.29650748 0.29979423 0.30311683 0.30647567 0.30987117\n",
            " 0.31330374 0.31677386 0.32028186 0.32382834 0.32741329 0.33103731\n",
            " 0.33470061 0.33840352 0.34214631 0.34592929 0.34975249 0.35361627\n",
            " 0.35752064 0.36146569 0.36545154 0.36947811 0.37354559 0.37765354\n",
            " 0.38180226 0.38599113 0.39022034 0.39448926 0.39879772 0.40314534\n",
            " 0.40753138 0.41195551 0.4164173  0.42091548 0.42544973 0.43001917\n",
            " 0.43462276 0.43925968 0.44392863 0.44862872 0.4533585  0.45811686\n",
            " 0.46290222 0.46771312 0.47254834 0.47740573]\n",
            "29 day output [[0.482284]]\n",
            "[[0.35361626744270325], [0.3575206398963928], [0.3614656925201416], [0.36545154452323914], [0.36947810649871826], [0.3735455870628357], [0.3776535391807556], [0.3818022608757019], [0.3859911262989044], [0.3902203440666199], [0.39448925852775574], [0.3987977206707001], [0.40314534306526184], [0.40753138065338135], [0.41195550560951233], [0.41641730070114136], [0.42091548442840576], [0.4254497289657593], [0.43001917004585266], [0.43462276458740234], [0.43925967812538147], [0.44392862915992737], [0.4486287236213684], [0.4533585011959076], [0.4581168591976166], [0.4629022181034088], [0.4677131175994873], [0.47254833579063416], [0.47740572690963745], [0.4822840094566345]]\n"
          ]
        }
      ]
    },
    {
      "cell_type": "code",
      "source": [
        "day_new = np.arange(1, 101)\n",
        "day_pred = np.arange(101, 131)"
      ],
      "metadata": {
        "id": "Nl9HdvZR7bA0"
      },
      "execution_count": 79,
      "outputs": []
    },
    {
      "cell_type": "code",
      "source": [
        "len(df_close)"
      ],
      "metadata": {
        "colab": {
          "base_uri": "https://localhost:8080/"
        },
        "id": "_M1sm9qk_ow1",
        "outputId": "59996e04-f096-42f2-d451-bbd626514b1a"
      },
      "execution_count": 80,
      "outputs": [
        {
          "output_type": "execute_result",
          "data": {
            "text/plain": [
              "1256"
            ]
          },
          "metadata": {},
          "execution_count": 80
        }
      ]
    },
    {
      "cell_type": "code",
      "source": [
        "plt.plot(day_new, scaler.inverse_transform(df_close[len(df_close)-100:]))\n",
        "plt.plot(day_pred, scaler.inverse_transform(output))\n",
        "plt.legend(['Previous Data', 'Forecast'])"
      ],
      "metadata": {
        "colab": {
          "base_uri": "https://localhost:8080/",
          "height": 447
        },
        "id": "T_zHoKCe_yn8",
        "outputId": "42ae5d17-0dee-4b9e-db37-28f100f928c4"
      },
      "execution_count": 90,
      "outputs": [
        {
          "output_type": "execute_result",
          "data": {
            "text/plain": [
              "<matplotlib.legend.Legend at 0x7c59bdf38070>"
            ]
          },
          "metadata": {},
          "execution_count": 90
        },
        {
          "output_type": "display_data",
          "data": {
            "text/plain": [
              "<Figure size 640x480 with 1 Axes>"
            ],
            "image/png": "[encoded data removed]"
          },
          "metadata": {}
        }
      ]
    },
    {
      "cell_type": "code",
      "source": [
        "df_new = df_close.tolist()\n",
        "df_new.extend(output)\n",
        "plt.plot(df_new[1000:])"
      ],
      "metadata": {
        "colab": {
          "base_uri": "https://localhost:8080/",
          "height": 448
        },
        "id": "NbrRqY0KAuQi",
        "outputId": "b25eb9a8-d8b0-4581-d42b-c5d77e2eb7dc"
      },
      "execution_count": 94,
      "outputs": [
        {
          "output_type": "execute_result",
          "data": {
            "text/plain": [
              "[<matplotlib.lines.Line2D at 0x7c59b7a26e90>]"
            ]
          },
          "metadata": {},
          "execution_count": 94
        },
        {
          "output_type": "display_data",
          "data": {
            "text/plain": [
              "<Figure size 640x480 with 1 Axes>"
            ],
            "image/png": "[encoded data removed]"
          },
          "metadata": {}
        }
      ]
    },
    {
      "cell_type": "code",
      "source": [
        "df_new = scaler.inverse_transform(df_new).tolist()\n",
        "plt.plot(df_new)"
      ],
      "metadata": {
        "colab": {
          "base_uri": "https://localhost:8080/",
          "height": 451
        },
        "id": "s5eWn3PmEZ28",
        "outputId": "dc0943d9-e813-4406-f910-c233446a07c1"
      },
      "execution_count": 95,
      "outputs": [
        {
          "output_type": "execute_result",
          "data": {
            "text/plain": [
              "[<matplotlib.lines.Line2D at 0x7c59b789f0a0>]"
            ]
          },
          "metadata": {},
          "execution_count": 95
        },
        {
          "output_type": "display_data",
          "data": {
            "text/plain": [
              "<Figure size 640x480 with 1 Axes>"
            ],
            "image/png": "[encoded data removed]"
          },
          "metadata": {}
        }
      ]
    },
    {
      "cell_type": "markdown",
      "source": [
        "---"
      ],
      "metadata": {
        "id": "TtoS17sIFK6h"
      }
    }
  ]
}