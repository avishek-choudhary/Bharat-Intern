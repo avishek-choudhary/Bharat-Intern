{
  "nbformat": 4,
  "nbformat_minor": 0,
  "metadata": {
    "colab": {
      "provenance": []
    },
    "kernelspec": {
      "name": "python3",
      "display_name": "Python 3"
    },
    "language_info": {
      "name": "python"
    }
  },
  "cells": [
    {
      "cell_type": "markdown",
      "source": [
        "# TASK 1\n",
        "## Stock Prediction using LSTM\n",
        "## Author: *Avishek Choudhary*\n",
        "<a href=\"https://www.linkedin.com/in/avishek-choudhary\"> ![](https://img.shields.io/badge/LinkedIn-ffefdb?style=for-the-badge&logo=linkedin&logoColor=blue)</a> <a href=\"https://www.github.com/avishek-choudhary\"> ![](https://img.shields.io/badge/Github-ffefdb?style=for-the-badge&logo=github&logoColor=black) </a>\n",
        "\n",
        "This is a time series forecasting problem. It is an attempt to forecasting the data by understanding the previous data.\n",
        "\n",
        "Table of Contents:\n",
        "\n",
        "- [Problem Statement](#1)\n",
        "- [Data Collection](#2)\n",
        "- [Data Exploration](#3)\n",
        "- [Pre-process the Data](#4)\n",
        "- [Create a stacked LSTM model](#5)\n",
        "- [Predict and plot the test data](#6)\n",
        "- [Forecast for 30 days and plot the output](#7)\n",
        "    \n",
        "Stock data is a sequential data that is they need to be analysed according to the order by time.\n",
        "In Recurrent Neural Network RNN we are dealt with problem of vanishing gradient thus previous data will become less significant after long backpropagation. That is memory is not that deep. So we use Long short term memory LSTM. This is because stock prediction need long term memory."
      ],
      "metadata": {
        "id": "Kf07xbstXceU"
      }
    },
    {
      "cell_type": "markdown",
      "source": [
        "### 1. Problem Statement <a id=\"1\"></a>\n",
        "Take stock price of any company and predicts its price by using LSTM"
      ],
      "metadata": {
        "id": "o6-GQbgfjdQI"
      }
    },
    {
      "cell_type": "markdown",
      "source": [
        "\n",
        "\n",
        "---"
      ],
      "metadata": {
        "id": "NtLfeTz50MP-"
      }
    },
    {
      "cell_type": "markdown",
      "source": [
        "### 2. Data Collection <a id=\"2\"></a>\n",
        "Collecting the data from Tingo.com using Tiingo's API\n",
        "\n",
        "Here we are collecting Tata Consultancy Services (TCS) stocks data."
      ],
      "metadata": {
        "id": "GYzPargLSgOm"
      }
    },
    {
      "cell_type": "code",
      "execution_count": null,
      "metadata": {
        "id": "HzvECREXNjoq"
      },
      "outputs": [],
      "source": [
        "#importing required libraries\n",
        "\n",
        "import numpy as np\n",
        "import pandas as pd\n",
        "import matplotlib.pyplot as plt\n",
        "import pandas_datareader as pdr\n",
        "import sklearn"
      ]
    },
    {
      "cell_type": "code",
      "source": [
        "df = pdr.get_data_tiingo('TCS', api_key = key)        #'key' stores the api key [!deleted]\n",
        "df.to_csv('TCS.csv')                                  #saving the data to CSV file"
      ],
      "metadata": {
        "colab": {
          "base_uri": "https://localhost:8080/"
        },
        "id": "r5OhemgESZeo",
        "outputId": "3207e3e1-cecf-4fa4-af9c-f4429f1545f4"
      },
      "execution_count": null,
      "outputs": [
        {
          "output_type": "stream",
          "name": "stderr",
          "text": [
            "<ipython-input-50-3b5975519c38>:1: FutureWarning: In a future version of pandas all arguments of concat except for the argument 'objs' will be keyword-only.\n",
            "  df = pdr.get_data_tiingo('TCS', api_key = key)        #'key' stores the api key [!deleted]\n"
          ]
        }
      ]
    },
    {
      "cell_type": "markdown",
      "source": [
        "\n",
        "\n",
        "---"
      ],
      "metadata": {
        "id": "wt9rwdgF0G8r"
      }
    },
    {
      "cell_type": "markdown",
      "source": [
        "### 3. Data Exploration <a id=\"3\"></a>"
      ],
      "metadata": {
        "id": "vln6_tBCq56w"
      }
    },
    {
      "cell_type": "code",
      "source": [
        "df = pd.read_csv('TCS.csv')\n",
        "df.head()"
      ],
      "metadata": {
        "colab": {
          "base_uri": "https://localhost:8080/",
          "height": 206
        },
        "id": "lX-rVi8fTJLm",
        "outputId": "92b14549-5504-4e43-db1b-97537b83f1ba"
      },
      "execution_count": null,
      "outputs": [
        {
          "output_type": "execute_result",
          "data": {
            "text/plain": [
              "  symbol                       date  close   high      low   open  volume  \\\n",
              "0    TCS  2018-09-27 00:00:00+00:00  10.93  10.97  10.7310  10.82  172309   \n",
              "1    TCS  2018-09-28 00:00:00+00:00  11.10  11.21  10.8400  10.89  433523   \n",
              "2    TCS  2018-10-01 00:00:00+00:00  10.44  11.13  10.3500  11.10  241074   \n",
              "3    TCS  2018-10-02 00:00:00+00:00  10.26  10.46  10.1301  10.41  224051   \n",
              "4    TCS  2018-10-03 00:00:00+00:00  10.37  10.41  10.1700  10.29  177811   \n",
              "\n",
              "    adjClose    adjHigh     adjLow    adjOpen  adjVolume  divCash  splitFactor  \n",
              "0  10.283437  10.321070  10.096208  10.179944     172309      0.0          1.0  \n",
              "1  10.443380  10.546873  10.198761  10.245803     433523      0.0          1.0  \n",
              "2   9.822423  10.471606   9.737746  10.443380     241074      0.0          1.0  \n",
              "3   9.653070   9.841239   9.530855   9.794197     224051      0.0          1.0  \n",
              "4   9.756563   9.794197   9.568394   9.681296     177811      0.0          1.0  "
            ],
            "text/html": [
              "\n",
              "  <div id=\"df-35a0c9c6-9fea-419b-a997-a8b0dc74173d\" class=\"colab-df-container\">\n",
              "    <div>\n",
              "<style scoped>\n",
              "    .dataframe tbody tr th:only-of-type {\n",
              "        vertical-align: middle;\n",
              "    }\n",
              "\n",
              "    .dataframe tbody tr th {\n",
              "        vertical-align: top;\n",
              "    }\n",
              "\n",
              "    .dataframe thead th {\n",
              "        text-align: right;\n",
              "    }\n",
              "</style>\n",
              "<table border=\"1\" class=\"dataframe\">\n",
              "  <thead>\n",
              "    <tr style=\"text-align: right;\">\n",
              "      <th></th>\n",
              "      <th>symbol</th>\n",
              "      <th>date</th>\n",
              "      <th>close</th>\n",
              "      <th>high</th>\n",
              "      <th>low</th>\n",
              "      <th>open</th>\n",
              "      <th>volume</th>\n",
              "      <th>adjClose</th>\n",
              "      <th>adjHigh</th>\n",
              "      <th>adjLow</th>\n",
              "      <th>adjOpen</th>\n",
              "      <th>adjVolume</th>\n",
              "      <th>divCash</th>\n",
              "      <th>splitFactor</th>\n",
              "    </tr>\n",
              "  </thead>\n",
              "  <tbody>\n",
              "    <tr>\n",
              "      <th>0</th>\n",
              "      <td>TCS</td>\n",
              "      <td>2018-09-27 00:00:00+00:00</td>\n",
              "      <td>10.93</td>\n",
              "      <td>10.97</td>\n",
              "      <td>10.7310</td>\n",
              "      <td>10.82</td>\n",
              "      <td>172309</td>\n",
              "      <td>10.283437</td>\n",
              "      <td>10.321070</td>\n",
              "      <td>10.096208</td>\n",
              "      <td>10.179944</td>\n",
              "      <td>172309</td>\n",
              "      <td>0.0</td>\n",
              "      <td>1.0</td>\n",
              "    </tr>\n",
              "    <tr>\n",
              "      <th>1</th>\n",
              "      <td>TCS</td>\n",
              "      <td>2018-09-28 00:00:00+00:00</td>\n",
              "      <td>11.10</td>\n",
              "      <td>11.21</td>\n",
              "      <td>10.8400</td>\n",
              "      <td>10.89</td>\n",
              "      <td>433523</td>\n",
              "      <td>10.443380</td>\n",
              "      <td>10.546873</td>\n",
              "      <td>10.198761</td>\n",
              "      <td>10.245803</td>\n",
              "      <td>433523</td>\n",
              "      <td>0.0</td>\n",
              "      <td>1.0</td>\n",
              "    </tr>\n",
              "    <tr>\n",
              "      <th>2</th>\n",
              "      <td>TCS</td>\n",
              "      <td>2018-10-01 00:00:00+00:00</td>\n",
              "      <td>10.44</td>\n",
              "      <td>11.13</td>\n",
              "      <td>10.3500</td>\n",
              "      <td>11.10</td>\n",
              "      <td>241074</td>\n",
              "      <td>9.822423</td>\n",
              "      <td>10.471606</td>\n",
              "      <td>9.737746</td>\n",
              "      <td>10.443380</td>\n",
              "      <td>241074</td>\n",
              "      <td>0.0</td>\n",
              "      <td>1.0</td>\n",
              "    </tr>\n",
              "    <tr>\n",
              "      <th>3</th>\n",
              "      <td>TCS</td>\n",
              "      <td>2018-10-02 00:00:00+00:00</td>\n",
              "      <td>10.26</td>\n",
              "      <td>10.46</td>\n",
              "      <td>10.1301</td>\n",
              "      <td>10.41</td>\n",
              "      <td>224051</td>\n",
              "      <td>9.653070</td>\n",
              "      <td>9.841239</td>\n",
              "      <td>9.530855</td>\n",
              "      <td>9.794197</td>\n",
              "      <td>224051</td>\n",
              "      <td>0.0</td>\n",
              "      <td>1.0</td>\n",
              "    </tr>\n",
              "    <tr>\n",
              "      <th>4</th>\n",
              "      <td>TCS</td>\n",
              "      <td>2018-10-03 00:00:00+00:00</td>\n",
              "      <td>10.37</td>\n",
              "      <td>10.41</td>\n",
              "      <td>10.1700</td>\n",
              "      <td>10.29</td>\n",
              "      <td>177811</td>\n",
              "      <td>9.756563</td>\n",
              "      <td>9.794197</td>\n",
              "      <td>9.568394</td>\n",
              "      <td>9.681296</td>\n",
              "      <td>177811</td>\n",
              "      <td>0.0</td>\n",
              "      <td>1.0</td>\n",
              "    </tr>\n",
              "  </tbody>\n",
              "</table>\n",
              "</div>\n",
              "    <div class=\"colab-df-buttons\">\n",
              "\n",
              "  <div class=\"colab-df-container\">\n",
              "    <button class=\"colab-df-convert\" onclick=\"convertToInteractive('df-35a0c9c6-9fea-419b-a997-a8b0dc74173d')\"\n",
              "            title=\"Convert this dataframe to an interactive table.\"\n",
              "            style=\"display:none;\">\n",
              "\n",
              "  <svg xmlns=\"http://www.w3.org/2000/svg\" height=\"24px\" viewBox=\"0 -960 960 960\">\n",
              "    <path d=\"M120-120v-720h720v720H120Zm60-500h600v-160H180v160Zm220 220h160v-160H400v160Zm0 220h160v-160H400v160ZM180-400h160v-160H180v160Zm440 0h160v-160H620v160ZM180-180h160v-160H180v160Zm440 0h160v-160H620v160Z\"/>\n",
              "  </svg>\n",
              "    </button>\n",
              "\n",
              "  <style>\n",
              "    .colab-df-container {\n",
              "      display:flex;\n",
              "      gap: 12px;\n",
              "    }\n",
              "\n",
              "    .colab-df-convert {\n",
              "      background-color: #E8F0FE;\n",
              "      border: none;\n",
              "      border-radius: 50%;\n",
              "      cursor: pointer;\n",
              "      display: none;\n",
              "      fill: #1967D2;\n",
              "      height: 32px;\n",
              "      padding: 0 0 0 0;\n",
              "      width: 32px;\n",
              "    }\n",
              "\n",
              "    .colab-df-convert:hover {\n",
              "      background-color: #E2EBFA;\n",
              "      box-shadow: 0px 1px 2px rgba(60, 64, 67, 0.3), 0px 1px 3px 1px rgba(60, 64, 67, 0.15);\n",
              "      fill: #174EA6;\n",
              "    }\n",
              "\n",
              "    .colab-df-buttons div {\n",
              "      margin-bottom: 4px;\n",
              "    }\n",
              "\n",
              "    [theme=dark] .colab-df-convert {\n",
              "      background-color: #3B4455;\n",
              "      fill: #D2E3FC;\n",
              "    }\n",
              "\n",
              "    [theme=dark] .colab-df-convert:hover {\n",
              "      background-color: #434B5C;\n",
              "      box-shadow: 0px 1px 3px 1px rgba(0, 0, 0, 0.15);\n",
              "      filter: drop-shadow(0px 1px 2px rgba(0, 0, 0, 0.3));\n",
              "      fill: #FFFFFF;\n",
              "    }\n",
              "  </style>\n",
              "\n",
              "    <script>\n",
              "      const buttonEl =\n",
              "        document.querySelector('#df-35a0c9c6-9fea-419b-a997-a8b0dc74173d button.colab-df-convert');\n",
              "      buttonEl.style.display =\n",
              "        google.colab.kernel.accessAllowed ? 'block' : 'none';\n",
              "\n",
              "      async function convertToInteractive(key) {\n",
              "        const element = document.querySelector('#df-35a0c9c6-9fea-419b-a997-a8b0dc74173d');\n",
              "        const dataTable =\n",
              "          await google.colab.kernel.invokeFunction('convertToInteractive',\n",
              "                                                    [key], {});\n",
              "        if (!dataTable) return;\n",
              "\n",
              "        const docLinkHtml = 'Like what you see? Visit the ' +\n",
              "          '<a target=\"_blank\" href=https://colab.research.google.com/notebooks/data_table.ipynb>data table notebook</a>'\n",
              "          + ' to learn more about interactive tables.';\n",
              "        element.innerHTML = '';\n",
              "        dataTable['output_type'] = 'display_data';\n",
              "        await google.colab.output.renderOutput(dataTable, element);\n",
              "        const docLink = document.createElement('div');\n",
              "        docLink.innerHTML = docLinkHtml;\n",
              "        element.appendChild(docLink);\n",
              "      }\n",
              "    </script>\n",
              "  </div>\n",
              "\n",
              "\n",
              "<div id=\"df-64030b58-3033-458a-a335-eab6fd64d75f\">\n",
              "  <button class=\"colab-df-quickchart\" onclick=\"quickchart('df-64030b58-3033-458a-a335-eab6fd64d75f')\"\n",
              "            title=\"Suggest charts.\"\n",
              "            style=\"display:none;\">\n",
              "\n",
              "<svg xmlns=\"http://www.w3.org/2000/svg\" height=\"24px\"viewBox=\"0 0 24 24\"\n",
              "     width=\"24px\">\n",
              "    <g>\n",
              "        <path d=\"M19 3H5c-1.1 0-2 .9-2 2v14c0 1.1.9 2 2 2h14c1.1 0 2-.9 2-2V5c0-1.1-.9-2-2-2zM9 17H7v-7h2v7zm4 0h-2V7h2v10zm4 0h-2v-4h2v4z\"/>\n",
              "    </g>\n",
              "</svg>\n",
              "  </button>\n",
              "\n",
              "<style>\n",
              "  .colab-df-quickchart {\n",
              "      --bg-color: #E8F0FE;\n",
              "      --fill-color: #1967D2;\n",
              "      --hover-bg-color: #E2EBFA;\n",
              "      --hover-fill-color: #174EA6;\n",
              "      --disabled-fill-color: #AAA;\n",
              "      --disabled-bg-color: #DDD;\n",
              "  }\n",
              "\n",
              "  [theme=dark] .colab-df-quickchart {\n",
              "      --bg-color: #3B4455;\n",
              "      --fill-color: #D2E3FC;\n",
              "      --hover-bg-color: #434B5C;\n",
              "      --hover-fill-color: #FFFFFF;\n",
              "      --disabled-bg-color: #3B4455;\n",
              "      --disabled-fill-color: #666;\n",
              "  }\n",
              "\n",
              "  .colab-df-quickchart {\n",
              "    background-color: var(--bg-color);\n",
              "    border: none;\n",
              "    border-radius: 50%;\n",
              "    cursor: pointer;\n",
              "    display: none;\n",
              "    fill: var(--fill-color);\n",
              "    height: 32px;\n",
              "    padding: 0;\n",
              "    width: 32px;\n",
              "  }\n",
              "\n",
              "  .colab-df-quickchart:hover {\n",
              "    background-color: var(--hover-bg-color);\n",
              "    box-shadow: 0 1px 2px rgba(60, 64, 67, 0.3), 0 1px 3px 1px rgba(60, 64, 67, 0.15);\n",
              "    fill: var(--button-hover-fill-color);\n",
              "  }\n",
              "\n",
              "  .colab-df-quickchart-complete:disabled,\n",
              "  .colab-df-quickchart-complete:disabled:hover {\n",
              "    background-color: var(--disabled-bg-color);\n",
              "    fill: var(--disabled-fill-color);\n",
              "    box-shadow: none;\n",
              "  }\n",
              "\n",
              "  .colab-df-spinner {\n",
              "    border: 2px solid var(--fill-color);\n",
              "    border-color: transparent;\n",
              "    border-bottom-color: var(--fill-color);\n",
              "    animation:\n",
              "      spin 1s steps(1) infinite;\n",
              "  }\n",
              "\n",
              "  @keyframes spin {\n",
              "    0% {\n",
              "      border-color: transparent;\n",
              "      border-bottom-color: var(--fill-color);\n",
              "      border-left-color: var(--fill-color);\n",
              "    }\n",
              "    20% {\n",
              "      border-color: transparent;\n",
              "      border-left-color: var(--fill-color);\n",
              "      border-top-color: var(--fill-color);\n",
              "    }\n",
              "    30% {\n",
              "      border-color: transparent;\n",
              "      border-left-color: var(--fill-color);\n",
              "      border-top-color: var(--fill-color);\n",
              "      border-right-color: var(--fill-color);\n",
              "    }\n",
              "    40% {\n",
              "      border-color: transparent;\n",
              "      border-right-color: var(--fill-color);\n",
              "      border-top-color: var(--fill-color);\n",
              "    }\n",
              "    60% {\n",
              "      border-color: transparent;\n",
              "      border-right-color: var(--fill-color);\n",
              "    }\n",
              "    80% {\n",
              "      border-color: transparent;\n",
              "      border-right-color: var(--fill-color);\n",
              "      border-bottom-color: var(--fill-color);\n",
              "    }\n",
              "    90% {\n",
              "      border-color: transparent;\n",
              "      border-bottom-color: var(--fill-color);\n",
              "    }\n",
              "  }\n",
              "</style>\n",
              "\n",
              "  <script>\n",
              "    async function quickchart(key) {\n",
              "      const quickchartButtonEl =\n",
              "        document.querySelector('#' + key + ' button');\n",
              "      quickchartButtonEl.disabled = true;  // To prevent multiple clicks.\n",
              "      quickchartButtonEl.classList.add('colab-df-spinner');\n",
              "      try {\n",
              "        const charts = await google.colab.kernel.invokeFunction(\n",
              "            'suggestCharts', [key], {});\n",
              "      } catch (error) {\n",
              "        console.error('Error during call to suggestCharts:', error);\n",
              "      }\n",
              "      quickchartButtonEl.classList.remove('colab-df-spinner');\n",
              "      quickchartButtonEl.classList.add('colab-df-quickchart-complete');\n",
              "    }\n",
              "    (() => {\n",
              "      let quickchartButtonEl =\n",
              "        document.querySelector('#df-64030b58-3033-458a-a335-eab6fd64d75f button');\n",
              "      quickchartButtonEl.style.display =\n",
              "        google.colab.kernel.accessAllowed ? 'block' : 'none';\n",
              "    })();\n",
              "  </script>\n",
              "</div>\n",
              "    </div>\n",
              "  </div>\n"
            ]
          },
          "metadata": {},
          "execution_count": 51
        }
      ]
    },
    {
      "cell_type": "code",
      "source": [
        "df = pd.read_csv('TCS.csv', parse_dates=True, index_col='date')\n",
        "df.head()"
      ],
      "metadata": {
        "colab": {
          "base_uri": "https://localhost:8080/",
          "height": 238
        },
        "id": "o1xR_aykaPGB",
        "outputId": "1cf97a2a-6aa2-4d04-ee94-2ca52126ac9b"
      },
      "execution_count": null,
      "outputs": [
        {
          "output_type": "execute_result",
          "data": {
            "text/plain": [
              "                          symbol  close   high      low   open  volume  \\\n",
              "date                                                                     \n",
              "2018-09-27 00:00:00+00:00    TCS  10.93  10.97  10.7310  10.82  172309   \n",
              "2018-09-28 00:00:00+00:00    TCS  11.10  11.21  10.8400  10.89  433523   \n",
              "2018-10-01 00:00:00+00:00    TCS  10.44  11.13  10.3500  11.10  241074   \n",
              "2018-10-02 00:00:00+00:00    TCS  10.26  10.46  10.1301  10.41  224051   \n",
              "2018-10-03 00:00:00+00:00    TCS  10.37  10.41  10.1700  10.29  177811   \n",
              "\n",
              "                            adjClose    adjHigh     adjLow    adjOpen  \\\n",
              "date                                                                    \n",
              "2018-09-27 00:00:00+00:00  10.283437  10.321070  10.096208  10.179944   \n",
              "2018-09-28 00:00:00+00:00  10.443380  10.546873  10.198761  10.245803   \n",
              "2018-10-01 00:00:00+00:00   9.822423  10.471606   9.737746  10.443380   \n",
              "2018-10-02 00:00:00+00:00   9.653070   9.841239   9.530855   9.794197   \n",
              "2018-10-03 00:00:00+00:00   9.756563   9.794197   9.568394   9.681296   \n",
              "\n",
              "                           adjVolume  divCash  splitFactor  \n",
              "date                                                        \n",
              "2018-09-27 00:00:00+00:00     172309      0.0          1.0  \n",
              "2018-09-28 00:00:00+00:00     433523      0.0          1.0  \n",
              "2018-10-01 00:00:00+00:00     241074      0.0          1.0  \n",
              "2018-10-02 00:00:00+00:00     224051      0.0          1.0  \n",
              "2018-10-03 00:00:00+00:00     177811      0.0          1.0  "
            ],
            "text/html": [
              "\n",
              "  <div id=\"df-ffae44c7-4a7b-4cac-a6be-e5087dace85d\" class=\"colab-df-container\">\n",
              "    <div>\n",
              "<style scoped>\n",
              "    .dataframe tbody tr th:only-of-type {\n",
              "        vertical-align: middle;\n",
              "    }\n",
              "\n",
              "    .dataframe tbody tr th {\n",
              "        vertical-align: top;\n",
              "    }\n",
              "\n",
              "    .dataframe thead th {\n",
              "        text-align: right;\n",
              "    }\n",
              "</style>\n",
              "<table border=\"1\" class=\"dataframe\">\n",
              "  <thead>\n",
              "    <tr style=\"text-align: right;\">\n",
              "      <th></th>\n",
              "      <th>symbol</th>\n",
              "      <th>close</th>\n",
              "      <th>high</th>\n",
              "      <th>low</th>\n",
              "      <th>open</th>\n",
              "      <th>volume</th>\n",
              "      <th>adjClose</th>\n",
              "      <th>adjHigh</th>\n",
              "      <th>adjLow</th>\n",
              "      <th>adjOpen</th>\n",
              "      <th>adjVolume</th>\n",
              "      <th>divCash</th>\n",
              "      <th>splitFactor</th>\n",
              "    </tr>\n",
              "    <tr>\n",
              "      <th>date</th>\n",
              "      <th></th>\n",
              "      <th></th>\n",
              "      <th></th>\n",
              "      <th></th>\n",
              "      <th></th>\n",
              "      <th></th>\n",
              "      <th></th>\n",
              "      <th></th>\n",
              "      <th></th>\n",
              "      <th></th>\n",
              "      <th></th>\n",
              "      <th></th>\n",
              "      <th></th>\n",
              "    </tr>\n",
              "  </thead>\n",
              "  <tbody>\n",
              "    <tr>\n",
              "      <th>2018-09-27 00:00:00+00:00</th>\n",
              "      <td>TCS</td>\n",
              "      <td>10.93</td>\n",
              "      <td>10.97</td>\n",
              "      <td>10.7310</td>\n",
              "      <td>10.82</td>\n",
              "      <td>172309</td>\n",
              "      <td>10.283437</td>\n",
              "      <td>10.321070</td>\n",
              "      <td>10.096208</td>\n",
              "      <td>10.179944</td>\n",
              "      <td>172309</td>\n",
              "      <td>0.0</td>\n",
              "      <td>1.0</td>\n",
              "    </tr>\n",
              "    <tr>\n",
              "      <th>2018-09-28 00:00:00+00:00</th>\n",
              "      <td>TCS</td>\n",
              "      <td>11.10</td>\n",
              "      <td>11.21</td>\n",
              "      <td>10.8400</td>\n",
              "      <td>10.89</td>\n",
              "      <td>433523</td>\n",
              "      <td>10.443380</td>\n",
              "      <td>10.546873</td>\n",
              "      <td>10.198761</td>\n",
              "      <td>10.245803</td>\n",
              "      <td>433523</td>\n",
              "      <td>0.0</td>\n",
              "      <td>1.0</td>\n",
              "    </tr>\n",
              "    <tr>\n",
              "      <th>2018-10-01 00:00:00+00:00</th>\n",
              "      <td>TCS</td>\n",
              "      <td>10.44</td>\n",
              "      <td>11.13</td>\n",
              "      <td>10.3500</td>\n",
              "      <td>11.10</td>\n",
              "      <td>241074</td>\n",
              "      <td>9.822423</td>\n",
              "      <td>10.471606</td>\n",
              "      <td>9.737746</td>\n",
              "      <td>10.443380</td>\n",
              "      <td>241074</td>\n",
              "      <td>0.0</td>\n",
              "      <td>1.0</td>\n",
              "    </tr>\n",
              "    <tr>\n",
              "      <th>2018-10-02 00:00:00+00:00</th>\n",
              "      <td>TCS</td>\n",
              "      <td>10.26</td>\n",
              "      <td>10.46</td>\n",
              "      <td>10.1301</td>\n",
              "      <td>10.41</td>\n",
              "      <td>224051</td>\n",
              "      <td>9.653070</td>\n",
              "      <td>9.841239</td>\n",
              "      <td>9.530855</td>\n",
              "      <td>9.794197</td>\n",
              "      <td>224051</td>\n",
              "      <td>0.0</td>\n",
              "      <td>1.0</td>\n",
              "    </tr>\n",
              "    <tr>\n",
              "      <th>2018-10-03 00:00:00+00:00</th>\n",
              "      <td>TCS</td>\n",
              "      <td>10.37</td>\n",
              "      <td>10.41</td>\n",
              "      <td>10.1700</td>\n",
              "      <td>10.29</td>\n",
              "      <td>177811</td>\n",
              "      <td>9.756563</td>\n",
              "      <td>9.794197</td>\n",
              "      <td>9.568394</td>\n",
              "      <td>9.681296</td>\n",
              "      <td>177811</td>\n",
              "      <td>0.0</td>\n",
              "      <td>1.0</td>\n",
              "    </tr>\n",
              "  </tbody>\n",
              "</table>\n",
              "</div>\n",
              "    <div class=\"colab-df-buttons\">\n",
              "\n",
              "  <div class=\"colab-df-container\">\n",
              "    <button class=\"colab-df-convert\" onclick=\"convertToInteractive('df-ffae44c7-4a7b-4cac-a6be-e5087dace85d')\"\n",
              "            title=\"Convert this dataframe to an interactive table.\"\n",
              "            style=\"display:none;\">\n",
              "\n",
              "  <svg xmlns=\"http://www.w3.org/2000/svg\" height=\"24px\" viewBox=\"0 -960 960 960\">\n",
              "    <path d=\"M120-120v-720h720v720H120Zm60-500h600v-160H180v160Zm220 220h160v-160H400v160Zm0 220h160v-160H400v160ZM180-400h160v-160H180v160Zm440 0h160v-160H620v160ZM180-180h160v-160H180v160Zm440 0h160v-160H620v160Z\"/>\n",
              "  </svg>\n",
              "    </button>\n",
              "\n",
              "  <style>\n",
              "    .colab-df-container {\n",
              "      display:flex;\n",
              "      gap: 12px;\n",
              "    }\n",
              "\n",
              "    .colab-df-convert {\n",
              "      background-color: #E8F0FE;\n",
              "      border: none;\n",
              "      border-radius: 50%;\n",
              "      cursor: pointer;\n",
              "      display: none;\n",
              "      fill: #1967D2;\n",
              "      height: 32px;\n",
              "      padding: 0 0 0 0;\n",
              "      width: 32px;\n",
              "    }\n",
              "\n",
              "    .colab-df-convert:hover {\n",
              "      background-color: #E2EBFA;\n",
              "      box-shadow: 0px 1px 2px rgba(60, 64, 67, 0.3), 0px 1px 3px 1px rgba(60, 64, 67, 0.15);\n",
              "      fill: #174EA6;\n",
              "    }\n",
              "\n",
              "    .colab-df-buttons div {\n",
              "      margin-bottom: 4px;\n",
              "    }\n",
              "\n",
              "    [theme=dark] .colab-df-convert {\n",
              "      background-color: #3B4455;\n",
              "      fill: #D2E3FC;\n",
              "    }\n",
              "\n",
              "    [theme=dark] .colab-df-convert:hover {\n",
              "      background-color: #434B5C;\n",
              "      box-shadow: 0px 1px 3px 1px rgba(0, 0, 0, 0.15);\n",
              "      filter: drop-shadow(0px 1px 2px rgba(0, 0, 0, 0.3));\n",
              "      fill: #FFFFFF;\n",
              "    }\n",
              "  </style>\n",
              "\n",
              "    <script>\n",
              "      const buttonEl =\n",
              "        document.querySelector('#df-ffae44c7-4a7b-4cac-a6be-e5087dace85d button.colab-df-convert');\n",
              "      buttonEl.style.display =\n",
              "        google.colab.kernel.accessAllowed ? 'block' : 'none';\n",
              "\n",
              "      async function convertToInteractive(key) {\n",
              "        const element = document.querySelector('#df-ffae44c7-4a7b-4cac-a6be-e5087dace85d');\n",
              "        const dataTable =\n",
              "          await google.colab.kernel.invokeFunction('convertToInteractive',\n",
              "                                                    [key], {});\n",
              "        if (!dataTable) return;\n",
              "\n",
              "        const docLinkHtml = 'Like what you see? Visit the ' +\n",
              "          '<a target=\"_blank\" href=https://colab.research.google.com/notebooks/data_table.ipynb>data table notebook</a>'\n",
              "          + ' to learn more about interactive tables.';\n",
              "        element.innerHTML = '';\n",
              "        dataTable['output_type'] = 'display_data';\n",
              "        await google.colab.output.renderOutput(dataTable, element);\n",
              "        const docLink = document.createElement('div');\n",
              "        docLink.innerHTML = docLinkHtml;\n",
              "        element.appendChild(docLink);\n",
              "      }\n",
              "    </script>\n",
              "  </div>\n",
              "\n",
              "\n",
              "<div id=\"df-211b7111-7f47-4a4e-8aea-8e8c51dc728a\">\n",
              "  <button class=\"colab-df-quickchart\" onclick=\"quickchart('df-211b7111-7f47-4a4e-8aea-8e8c51dc728a')\"\n",
              "            title=\"Suggest charts.\"\n",
              "            style=\"display:none;\">\n",
              "\n",
              "<svg xmlns=\"http://www.w3.org/2000/svg\" height=\"24px\"viewBox=\"0 0 24 24\"\n",
              "     width=\"24px\">\n",
              "    <g>\n",
              "        <path d=\"M19 3H5c-1.1 0-2 .9-2 2v14c0 1.1.9 2 2 2h14c1.1 0 2-.9 2-2V5c0-1.1-.9-2-2-2zM9 17H7v-7h2v7zm4 0h-2V7h2v10zm4 0h-2v-4h2v4z\"/>\n",
              "    </g>\n",
              "</svg>\n",
              "  </button>\n",
              "\n",
              "<style>\n",
              "  .colab-df-quickchart {\n",
              "      --bg-color: #E8F0FE;\n",
              "      --fill-color: #1967D2;\n",
              "      --hover-bg-color: #E2EBFA;\n",
              "      --hover-fill-color: #174EA6;\n",
              "      --disabled-fill-color: #AAA;\n",
              "      --disabled-bg-color: #DDD;\n",
              "  }\n",
              "\n",
              "  [theme=dark] .colab-df-quickchart {\n",
              "      --bg-color: #3B4455;\n",
              "      --fill-color: #D2E3FC;\n",
              "      --hover-bg-color: #434B5C;\n",
              "      --hover-fill-color: #FFFFFF;\n",
              "      --disabled-bg-color: #3B4455;\n",
              "      --disabled-fill-color: #666;\n",
              "  }\n",
              "\n",
              "  .colab-df-quickchart {\n",
              "    background-color: var(--bg-color);\n",
              "    border: none;\n",
              "    border-radius: 50%;\n",
              "    cursor: pointer;\n",
              "    display: none;\n",
              "    fill: var(--fill-color);\n",
              "    height: 32px;\n",
              "    padding: 0;\n",
              "    width: 32px;\n",
              "  }\n",
              "\n",
              "  .colab-df-quickchart:hover {\n",
              "    background-color: var(--hover-bg-color);\n",
              "    box-shadow: 0 1px 2px rgba(60, 64, 67, 0.3), 0 1px 3px 1px rgba(60, 64, 67, 0.15);\n",
              "    fill: var(--button-hover-fill-color);\n",
              "  }\n",
              "\n",
              "  .colab-df-quickchart-complete:disabled,\n",
              "  .colab-df-quickchart-complete:disabled:hover {\n",
              "    background-color: var(--disabled-bg-color);\n",
              "    fill: var(--disabled-fill-color);\n",
              "    box-shadow: none;\n",
              "  }\n",
              "\n",
              "  .colab-df-spinner {\n",
              "    border: 2px solid var(--fill-color);\n",
              "    border-color: transparent;\n",
              "    border-bottom-color: var(--fill-color);\n",
              "    animation:\n",
              "      spin 1s steps(1) infinite;\n",
              "  }\n",
              "\n",
              "  @keyframes spin {\n",
              "    0% {\n",
              "      border-color: transparent;\n",
              "      border-bottom-color: var(--fill-color);\n",
              "      border-left-color: var(--fill-color);\n",
              "    }\n",
              "    20% {\n",
              "      border-color: transparent;\n",
              "      border-left-color: var(--fill-color);\n",
              "      border-top-color: var(--fill-color);\n",
              "    }\n",
              "    30% {\n",
              "      border-color: transparent;\n",
              "      border-left-color: var(--fill-color);\n",
              "      border-top-color: var(--fill-color);\n",
              "      border-right-color: var(--fill-color);\n",
              "    }\n",
              "    40% {\n",
              "      border-color: transparent;\n",
              "      border-right-color: var(--fill-color);\n",
              "      border-top-color: var(--fill-color);\n",
              "    }\n",
              "    60% {\n",
              "      border-color: transparent;\n",
              "      border-right-color: var(--fill-color);\n",
              "    }\n",
              "    80% {\n",
              "      border-color: transparent;\n",
              "      border-right-color: var(--fill-color);\n",
              "      border-bottom-color: var(--fill-color);\n",
              "    }\n",
              "    90% {\n",
              "      border-color: transparent;\n",
              "      border-bottom-color: var(--fill-color);\n",
              "    }\n",
              "  }\n",
              "</style>\n",
              "\n",
              "  <script>\n",
              "    async function quickchart(key) {\n",
              "      const quickchartButtonEl =\n",
              "        document.querySelector('#' + key + ' button');\n",
              "      quickchartButtonEl.disabled = true;  // To prevent multiple clicks.\n",
              "      quickchartButtonEl.classList.add('colab-df-spinner');\n",
              "      try {\n",
              "        const charts = await google.colab.kernel.invokeFunction(\n",
              "            'suggestCharts', [key], {});\n",
              "      } catch (error) {\n",
              "        console.error('Error during call to suggestCharts:', error);\n",
              "      }\n",
              "      quickchartButtonEl.classList.remove('colab-df-spinner');\n",
              "      quickchartButtonEl.classList.add('colab-df-quickchart-complete');\n",
              "    }\n",
              "    (() => {\n",
              "      let quickchartButtonEl =\n",
              "        document.querySelector('#df-211b7111-7f47-4a4e-8aea-8e8c51dc728a button');\n",
              "      quickchartButtonEl.style.display =\n",
              "        google.colab.kernel.accessAllowed ? 'block' : 'none';\n",
              "    })();\n",
              "  </script>\n",
              "</div>\n",
              "    </div>\n",
              "  </div>\n"
            ]
          },
          "metadata": {},
          "execution_count": 52
        }
      ]
    },
    {
      "cell_type": "code",
      "source": [
        "df.info()"
      ],
      "metadata": {
        "colab": {
          "base_uri": "https://localhost:8080/"
        },
        "id": "-WI5KkOvZ_YC",
        "outputId": "7588c8f8-ef84-4cc4-dec9-03076692d69c"
      },
      "execution_count": null,
      "outputs": [
        {
          "output_type": "stream",
          "name": "stdout",
          "text": [
            "<class 'pandas.core.frame.DataFrame'>\n",
            "DatetimeIndex: 1256 entries, 2018-09-27 00:00:00+00:00 to 2023-09-25 00:00:00+00:00\n",
            "Data columns (total 13 columns):\n",
            " #   Column       Non-Null Count  Dtype  \n",
            "---  ------       --------------  -----  \n",
            " 0   symbol       1256 non-null   object \n",
            " 1   close        1256 non-null   float64\n",
            " 2   high         1256 non-null   float64\n",
            " 3   low          1256 non-null   float64\n",
            " 4   open         1256 non-null   float64\n",
            " 5   volume       1256 non-null   int64  \n",
            " 6   adjClose     1256 non-null   float64\n",
            " 7   adjHigh      1256 non-null   float64\n",
            " 8   adjLow       1256 non-null   float64\n",
            " 9   adjOpen      1256 non-null   float64\n",
            " 10  adjVolume    1256 non-null   int64  \n",
            " 11  divCash      1256 non-null   float64\n",
            " 12  splitFactor  1256 non-null   float64\n",
            "dtypes: float64(10), int64(2), object(1)\n",
            "memory usage: 137.4+ KB\n"
          ]
        }
      ]
    },
    {
      "cell_type": "markdown",
      "source": [
        "**Choosing** *close* column data for predictions"
      ],
      "metadata": {
        "id": "WbzlulDRI_CG"
      }
    },
    {
      "cell_type": "code",
      "source": [
        "plt.figure(figsize=(10,6))\n",
        "plt.plot(df['close'])"
      ],
      "metadata": {
        "colab": {
          "base_uri": "https://localhost:8080/",
          "height": 543
        },
        "id": "hBUthYsyat-4",
        "outputId": "69fb2fba-bf87-4811-e921-729e1afea3bb"
      },
      "execution_count": null,
      "outputs": [
        {
          "output_type": "execute_result",
          "data": {
            "text/plain": [
              "[<matplotlib.lines.Line2D at 0x7fd18de04970>]"
            ]
          },
          "metadata": {},
          "execution_count": 54
        },
        {
          "output_type": "display_data",
          "data": {
            "text/plain": [
              "<Figure size 1000x600 with 1 Axes>"
            ],
            "image/png": "[encoded data removed]"
          },
          "metadata": {}
        }
      ]
    },
    {
      "cell_type": "code",
      "source": [
        "df_close = df['close']\n",
        "df_close"
      ],
      "metadata": {
        "colab": {
          "base_uri": "https://localhost:8080/"
        },
        "id": "QGlFl-AcUIe8",
        "outputId": "812ac895-db7c-4640-fc08-3259e99a2504"
      },
      "execution_count": null,
      "outputs": [
        {
          "output_type": "execute_result",
          "data": {
            "text/plain": [
              "date\n",
              "2018-09-27 00:00:00+00:00    10.93\n",
              "2018-09-28 00:00:00+00:00    11.10\n",
              "2018-10-01 00:00:00+00:00    10.44\n",
              "2018-10-02 00:00:00+00:00    10.26\n",
              "2018-10-03 00:00:00+00:00    10.37\n",
              "                             ...  \n",
              "2023-09-19 00:00:00+00:00     2.16\n",
              "2023-09-20 00:00:00+00:00     2.13\n",
              "2023-09-21 00:00:00+00:00     2.10\n",
              "2023-09-22 00:00:00+00:00     2.02\n",
              "2023-09-25 00:00:00+00:00     1.96\n",
              "Name: close, Length: 1256, dtype: float64"
            ]
          },
          "metadata": {},
          "execution_count": 55
        }
      ]
    },
    {
      "cell_type": "code",
      "source": [
        "df_close.reset_index(drop = True, inplace = True)"
      ],
      "metadata": {
        "id": "5HxymDg0Vh7w"
      },
      "execution_count": null,
      "outputs": []
    },
    {
      "cell_type": "markdown",
      "source": [
        "\n",
        "\n",
        "---\n"
      ],
      "metadata": {
        "id": "zWEARq41z_wG"
      }
    },
    {
      "cell_type": "markdown",
      "source": [
        "### 4. Pre-processing the data <a id=\"4\"></a>"
      ],
      "metadata": {
        "id": "dAq1MZE5sZmy"
      }
    },
    {
      "cell_type": "markdown",
      "source": [
        "LSTM are sensitive to the scale of the data. So we apply MinMax scaler."
      ],
      "metadata": {
        "id": "j2VvWMFWdvlg"
      }
    },
    {
      "cell_type": "code",
      "source": [
        "from sklearn.preprocessing import MinMaxScaler\n",
        "scaler = MinMaxScaler(feature_range=(0, 1))\n",
        "df_close = scaler.fit_transform(np.array(df_close).reshape(-1, 1))"
      ],
      "metadata": {
        "id": "Hy9vA5WSZb70"
      },
      "execution_count": null,
      "outputs": []
    },
    {
      "cell_type": "code",
      "source": [
        "df_close.shape"
      ],
      "metadata": {
        "colab": {
          "base_uri": "https://localhost:8080/"
        },
        "id": "OSIXvjk9eqGa",
        "outputId": "b1e84c5c-8c35-4024-f5ea-c99b442436ff"
      },
      "execution_count": null,
      "outputs": [
        {
          "output_type": "execute_result",
          "data": {
            "text/plain": [
              "(1256, 1)"
            ]
          },
          "metadata": {},
          "execution_count": 58
        }
      ]
    },
    {
      "cell_type": "markdown",
      "source": [
        "Splitting the dataset into Train and Test split"
      ],
      "metadata": {
        "id": "xInGurKLe9-4"
      }
    },
    {
      "cell_type": "code",
      "source": [
        "training_size = int(len(df_close) * 0.70)                   #training with 70% of data\n",
        "test_size = len(df_close) - training_size                   #testing the remaining 30%"
      ],
      "metadata": {
        "id": "PWFKWO-eessh"
      },
      "execution_count": null,
      "outputs": []
    },
    {
      "cell_type": "code",
      "source": [
        "train_data = df_close[0:training_size,:]\n",
        "test_data = df_close[training_size:len(df_close),:1]"
      ],
      "metadata": {
        "id": "pbg8VPyQgNOs"
      },
      "execution_count": null,
      "outputs": []
    },
    {
      "cell_type": "code",
      "source": [
        "#converting an array of values into a dataset matrix\n",
        "def create_dataset(dataset, time_step=1):\n",
        "  dataX, dataY = [], []\n",
        "  for i in range(len(dataset)-time_step-1):\n",
        "    a = dataset[i:(i+time_step), 0]\n",
        "    dataX.append(a)\n",
        "    dataY.append(dataset[i + time_step, 0])\n",
        "  return np.array(dataX), np.array(dataY)"
      ],
      "metadata": {
        "id": "JpFZmUTYg5xs"
      },
      "execution_count": null,
      "outputs": []
    },
    {
      "cell_type": "code",
      "source": [
        "#reshape into X=t, t+1, t+2, t+3 and Y=t+4\n",
        "time_step = 100\n",
        "xtrain, ytrain = create_dataset(train_data, time_step)\n",
        "xtest, ytest = create_dataset(test_data, time_step)"
      ],
      "metadata": {
        "id": "gwMpAbh7muX8"
      },
      "execution_count": null,
      "outputs": []
    },
    {
      "cell_type": "code",
      "source": [
        "xtrain.shape, ytrain.shape"
      ],
      "metadata": {
        "colab": {
          "base_uri": "https://localhost:8080/"
        },
        "id": "to-3piivnhe4",
        "outputId": "c427434e-4b7f-4bfa-c092-f9b7913bc4c0"
      },
      "execution_count": null,
      "outputs": [
        {
          "output_type": "execute_result",
          "data": {
            "text/plain": [
              "((778, 100), (778,))"
            ]
          },
          "metadata": {},
          "execution_count": 63
        }
      ]
    },
    {
      "cell_type": "code",
      "source": [
        "xtest.shape, ytest.shape"
      ],
      "metadata": {
        "colab": {
          "base_uri": "https://localhost:8080/"
        },
        "id": "6wbzfd3Gn56b",
        "outputId": "dc70c8d7-ae56-433f-a6db-bae4647353ec"
      },
      "execution_count": null,
      "outputs": [
        {
          "output_type": "execute_result",
          "data": {
            "text/plain": [
              "((276, 100), (276,))"
            ]
          },
          "metadata": {},
          "execution_count": 64
        }
      ]
    },
    {
      "cell_type": "code",
      "source": [
        "#reshape the input to be [samples, time steps, features] which is required for LSTM\n",
        "xtrain = xtrain.reshape(xtrain.shape[0], xtrain.shape[1], 1)\n",
        "xtest = xtest.reshape(xtest.shape[0], xtest.shape[1], 1)"
      ],
      "metadata": {
        "id": "8IhO_8wzoCfn"
      },
      "execution_count": null,
      "outputs": []
    },
    {
      "cell_type": "markdown",
      "source": [
        "---"
      ],
      "metadata": {
        "id": "yhrVHI6u0qDj"
      }
    },
    {
      "cell_type": "markdown",
      "source": [
        "### 5. Creating the LSTM model <a id=\"5\"></a>"
      ],
      "metadata": {
        "id": "luztuUrSsFJf"
      }
    },
    {
      "cell_type": "code",
      "source": [
        "#importing required libraries\n",
        "\n",
        "from tensorflow.keras.models import Sequential\n",
        "from tensorflow.keras.layers import Dense\n",
        "from tensorflow.keras.layers import LSTM"
      ],
      "metadata": {
        "id": "ZbKZz_hVsDnK"
      },
      "execution_count": null,
      "outputs": []
    },
    {
      "cell_type": "code",
      "source": [
        "model = Sequential()\n",
        "model.add(LSTM(50, return_sequences=True, input_shape=(100, 1)))\n",
        "model.add(LSTM(50, return_sequences=True))\n",
        "model.add(LSTM(50))\n",
        "model.add(Dense(1))\n",
        "model.compile(loss='mean_squared_error', optimizer='adam')"
      ],
      "metadata": {
        "id": "1LLliAj9tr8f"
      },
      "execution_count": null,
      "outputs": []
    },
    {
      "cell_type": "code",
      "source": [
        "model.summary()"
      ],
      "metadata": {
        "colab": {
          "base_uri": "https://localhost:8080/"
        },
        "id": "YSwMvyzHvWwP",
        "outputId": "1af50229-a26c-40d7-aa85-f34a5cf63113"
      },
      "execution_count": null,
      "outputs": [
        {
          "output_type": "stream",
          "name": "stdout",
          "text": [
            "Model: \"sequential_1\"\n",
            "_________________________________________________________________\n",
            " Layer (type)                Output Shape              Param #   \n",
            "=================================================================\n",
            " lstm_3 (LSTM)               (None, 100, 50)           10400     \n",
            "                                                                 \n",
            " lstm_4 (LSTM)               (None, 100, 50)           20200     \n",
            "                                                                 \n",
            " lstm_5 (LSTM)               (None, 50)                20200     \n",
            "                                                                 \n",
            " dense_1 (Dense)             (None, 1)                 51        \n",
            "                                                                 \n",
            "=================================================================\n",
            "Total params: 50851 (198.64 KB)\n",
            "Trainable params: 50851 (198.64 KB)\n",
            "Non-trainable params: 0 (0.00 Byte)\n",
            "_________________________________________________________________\n"
          ]
        }
      ]
    },
    {
      "cell_type": "code",
      "source": [
        "model.fit(xtrain, ytrain, validation_data=(xtest, ytest), epochs=100, batch_size=64, verbose=1)"
      ],
      "metadata": {
        "colab": {
          "base_uri": "https://localhost:8080/"
        },
        "id": "LRycOjN3vdPq",
        "outputId": "b89c4385-2dde-46b1-deac-99fb9f03ceb4"
      },
      "execution_count": null,
      "outputs": [
        {
          "output_type": "stream",
          "name": "stdout",
          "text": [
            "Epoch 1/100\n",
            "13/13 [==============================] - 7s 187ms/step - loss: 0.0519 - val_loss: 0.0040\n",
            "Epoch 2/100\n",
            "13/13 [==============================] - 1s 111ms/step - loss: 0.0113 - val_loss: 0.0103\n",
            "Epoch 3/100\n",
            "13/13 [==============================] - 1s 113ms/step - loss: 0.0052 - val_loss: 0.0012\n",
            "Epoch 4/100\n",
            "13/13 [==============================] - 2s 137ms/step - loss: 0.0033 - val_loss: 5.7145e-04\n",
            "Epoch 5/100\n",
            "13/13 [==============================] - 2s 133ms/step - loss: 0.0030 - val_loss: 8.4404e-04\n",
            "Epoch 6/100\n",
            "13/13 [==============================] - 1s 111ms/step - loss: 0.0028 - val_loss: 0.0012\n",
            "Epoch 7/100\n",
            "13/13 [==============================] - 1s 109ms/step - loss: 0.0028 - val_loss: 8.8566e-04\n",
            "Epoch 8/100\n",
            "13/13 [==============================] - 1s 109ms/step - loss: 0.0025 - val_loss: 0.0011\n",
            "Epoch 9/100\n",
            "13/13 [==============================] - 1s 109ms/step - loss: 0.0025 - val_loss: 7.4784e-04\n",
            "Epoch 10/100\n",
            "13/13 [==============================] - 1s 108ms/step - loss: 0.0023 - val_loss: 7.5095e-04\n",
            "Epoch 11/100\n",
            "13/13 [==============================] - 1s 109ms/step - loss: 0.0022 - val_loss: 5.0489e-04\n",
            "Epoch 12/100\n",
            "13/13 [==============================] - 2s 146ms/step - loss: 0.0021 - val_loss: 6.4152e-04\n",
            "Epoch 13/100\n",
            "13/13 [==============================] - 2s 117ms/step - loss: 0.0019 - val_loss: 7.2695e-04\n",
            "Epoch 14/100\n",
            "13/13 [==============================] - 1s 109ms/step - loss: 0.0021 - val_loss: 5.5217e-04\n",
            "Epoch 15/100\n",
            "13/13 [==============================] - 1s 107ms/step - loss: 0.0020 - val_loss: 7.2948e-04\n",
            "Epoch 16/100\n",
            "13/13 [==============================] - 1s 111ms/step - loss: 0.0020 - val_loss: 6.7967e-04\n",
            "Epoch 17/100\n",
            "13/13 [==============================] - 1s 109ms/step - loss: 0.0019 - val_loss: 5.6570e-04\n",
            "Epoch 18/100\n",
            "13/13 [==============================] - 1s 105ms/step - loss: 0.0018 - val_loss: 4.9100e-04\n",
            "Epoch 19/100\n",
            "13/13 [==============================] - 1s 107ms/step - loss: 0.0019 - val_loss: 5.6846e-04\n",
            "Epoch 20/100\n",
            "13/13 [==============================] - 2s 141ms/step - loss: 0.0018 - val_loss: 4.2966e-04\n",
            "Epoch 21/100\n",
            "13/13 [==============================] - 2s 119ms/step - loss: 0.0021 - val_loss: 8.2049e-04\n",
            "Epoch 22/100\n",
            "13/13 [==============================] - 1s 108ms/step - loss: 0.0020 - val_loss: 4.0310e-04\n",
            "Epoch 23/100\n",
            "13/13 [==============================] - 1s 107ms/step - loss: 0.0020 - val_loss: 6.6910e-04\n",
            "Epoch 24/100\n",
            "13/13 [==============================] - 1s 108ms/step - loss: 0.0017 - val_loss: 4.9849e-04\n",
            "Epoch 25/100\n",
            "13/13 [==============================] - 1s 107ms/step - loss: 0.0016 - val_loss: 4.8082e-04\n",
            "Epoch 26/100\n",
            "13/13 [==============================] - 1s 108ms/step - loss: 0.0016 - val_loss: 3.7027e-04\n",
            "Epoch 27/100\n",
            "13/13 [==============================] - 1s 106ms/step - loss: 0.0020 - val_loss: 6.2695e-04\n",
            "Epoch 28/100\n",
            "13/13 [==============================] - 2s 147ms/step - loss: 0.0016 - val_loss: 4.4991e-04\n",
            "Epoch 29/100\n",
            "13/13 [==============================] - 2s 115ms/step - loss: 0.0016 - val_loss: 4.2739e-04\n",
            "Epoch 30/100\n",
            "13/13 [==============================] - 1s 109ms/step - loss: 0.0016 - val_loss: 7.7088e-04\n",
            "Epoch 31/100\n",
            "13/13 [==============================] - 1s 107ms/step - loss: 0.0017 - val_loss: 3.6587e-04\n",
            "Epoch 32/100\n",
            "13/13 [==============================] - 1s 107ms/step - loss: 0.0016 - val_loss: 4.2758e-04\n",
            "Epoch 33/100\n",
            "13/13 [==============================] - 1s 108ms/step - loss: 0.0015 - val_loss: 4.2732e-04\n",
            "Epoch 34/100\n",
            "13/13 [==============================] - 1s 110ms/step - loss: 0.0015 - val_loss: 4.3039e-04\n",
            "Epoch 35/100\n",
            "13/13 [==============================] - 1s 106ms/step - loss: 0.0015 - val_loss: 3.7853e-04\n",
            "Epoch 36/100\n",
            "13/13 [==============================] - 2s 148ms/step - loss: 0.0017 - val_loss: 8.6107e-04\n",
            "Epoch 37/100\n",
            "13/13 [==============================] - 1s 112ms/step - loss: 0.0021 - val_loss: 4.2067e-04\n",
            "Epoch 38/100\n",
            "13/13 [==============================] - 1s 107ms/step - loss: 0.0015 - val_loss: 5.0206e-04\n",
            "Epoch 39/100\n",
            "13/13 [==============================] - 1s 107ms/step - loss: 0.0014 - val_loss: 3.9655e-04\n",
            "Epoch 40/100\n",
            "13/13 [==============================] - 1s 108ms/step - loss: 0.0015 - val_loss: 3.8656e-04\n",
            "Epoch 41/100\n",
            "13/13 [==============================] - 1s 108ms/step - loss: 0.0015 - val_loss: 5.3466e-04\n",
            "Epoch 42/100\n",
            "13/13 [==============================] - 1s 107ms/step - loss: 0.0015 - val_loss: 3.3233e-04\n",
            "Epoch 43/100\n",
            "13/13 [==============================] - 1s 107ms/step - loss: 0.0015 - val_loss: 3.7739e-04\n",
            "Epoch 44/100\n",
            "13/13 [==============================] - 2s 146ms/step - loss: 0.0016 - val_loss: 4.3313e-04\n",
            "Epoch 45/100\n",
            "13/13 [==============================] - 2s 117ms/step - loss: 0.0014 - val_loss: 4.4107e-04\n",
            "Epoch 46/100\n",
            "13/13 [==============================] - 1s 111ms/step - loss: 0.0013 - val_loss: 3.4603e-04\n",
            "Epoch 47/100\n",
            "13/13 [==============================] - 1s 107ms/step - loss: 0.0016 - val_loss: 6.3940e-04\n",
            "Epoch 48/100\n",
            "13/13 [==============================] - 1s 108ms/step - loss: 0.0014 - val_loss: 3.6984e-04\n",
            "Epoch 49/100\n",
            "13/13 [==============================] - 1s 108ms/step - loss: 0.0013 - val_loss: 4.4512e-04\n",
            "Epoch 50/100\n",
            "13/13 [==============================] - 1s 108ms/step - loss: 0.0013 - val_loss: 3.2605e-04\n",
            "Epoch 51/100\n",
            "13/13 [==============================] - 1s 108ms/step - loss: 0.0016 - val_loss: 4.9940e-04\n",
            "Epoch 52/100\n",
            "13/13 [==============================] - 2s 157ms/step - loss: 0.0016 - val_loss: 4.7537e-04\n",
            "Epoch 53/100\n",
            "13/13 [==============================] - 1s 108ms/step - loss: 0.0014 - val_loss: 3.3792e-04\n",
            "Epoch 54/100\n",
            "13/13 [==============================] - 1s 109ms/step - loss: 0.0014 - val_loss: 4.1526e-04\n",
            "Epoch 55/100\n",
            "13/13 [==============================] - 1s 110ms/step - loss: 0.0012 - val_loss: 3.5837e-04\n",
            "Epoch 56/100\n",
            "13/13 [==============================] - 1s 109ms/step - loss: 0.0013 - val_loss: 3.4736e-04\n",
            "Epoch 57/100\n",
            "13/13 [==============================] - 1s 109ms/step - loss: 0.0012 - val_loss: 3.2422e-04\n",
            "Epoch 58/100\n",
            "13/13 [==============================] - 1s 109ms/step - loss: 0.0012 - val_loss: 4.4186e-04\n",
            "Epoch 59/100\n",
            "13/13 [==============================] - 1s 108ms/step - loss: 0.0013 - val_loss: 3.2489e-04\n",
            "Epoch 60/100\n",
            "13/13 [==============================] - 2s 160ms/step - loss: 0.0012 - val_loss: 4.5481e-04\n",
            "Epoch 61/100\n",
            "13/13 [==============================] - 1s 108ms/step - loss: 0.0012 - val_loss: 3.1997e-04\n",
            "Epoch 62/100\n",
            "13/13 [==============================] - 1s 112ms/step - loss: 0.0012 - val_loss: 3.9088e-04\n",
            "Epoch 63/100\n",
            "13/13 [==============================] - 1s 109ms/step - loss: 0.0012 - val_loss: 3.0174e-04\n",
            "Epoch 64/100\n",
            "13/13 [==============================] - 1s 107ms/step - loss: 0.0012 - val_loss: 4.2634e-04\n",
            "Epoch 65/100\n",
            "13/13 [==============================] - 1s 110ms/step - loss: 0.0011 - val_loss: 3.7394e-04\n",
            "Epoch 66/100\n",
            "13/13 [==============================] - 1s 110ms/step - loss: 0.0011 - val_loss: 3.4281e-04\n",
            "Epoch 67/100\n",
            "13/13 [==============================] - 1s 109ms/step - loss: 0.0011 - val_loss: 3.3052e-04\n",
            "Epoch 68/100\n",
            "13/13 [==============================] - 2s 155ms/step - loss: 0.0010 - val_loss: 2.9578e-04\n",
            "Epoch 69/100\n",
            "13/13 [==============================] - 1s 108ms/step - loss: 0.0011 - val_loss: 3.3188e-04\n",
            "Epoch 70/100\n",
            "13/13 [==============================] - 1s 108ms/step - loss: 0.0011 - val_loss: 3.1294e-04\n",
            "Epoch 71/100\n",
            "13/13 [==============================] - 1s 110ms/step - loss: 0.0010 - val_loss: 3.4113e-04\n",
            "Epoch 72/100\n",
            "13/13 [==============================] - 1s 109ms/step - loss: 0.0012 - val_loss: 5.0769e-04\n",
            "Epoch 73/100\n",
            "13/13 [==============================] - 1s 109ms/step - loss: 0.0011 - val_loss: 2.8661e-04\n",
            "Epoch 74/100\n",
            "13/13 [==============================] - 1s 107ms/step - loss: 0.0011 - val_loss: 3.7869e-04\n",
            "Epoch 75/100\n",
            "13/13 [==============================] - 2s 116ms/step - loss: 0.0010 - val_loss: 2.7051e-04\n",
            "Epoch 76/100\n",
            "13/13 [==============================] - 2s 150ms/step - loss: 9.7512e-04 - val_loss: 2.8877e-04\n",
            "Epoch 77/100\n",
            "13/13 [==============================] - 1s 109ms/step - loss: 0.0010 - val_loss: 2.6456e-04\n",
            "Epoch 78/100\n",
            "13/13 [==============================] - 1s 109ms/step - loss: 0.0011 - val_loss: 4.8412e-04\n",
            "Epoch 79/100\n",
            "13/13 [==============================] - 1s 113ms/step - loss: 0.0010 - val_loss: 2.6199e-04\n",
            "Epoch 80/100\n",
            "13/13 [==============================] - 1s 111ms/step - loss: 9.0924e-04 - val_loss: 2.8406e-04\n",
            "Epoch 81/100\n",
            "13/13 [==============================] - 1s 111ms/step - loss: 8.8239e-04 - val_loss: 2.6389e-04\n",
            "Epoch 82/100\n",
            "13/13 [==============================] - 1s 109ms/step - loss: 9.0435e-04 - val_loss: 2.9683e-04\n",
            "Epoch 83/100\n",
            "13/13 [==============================] - 2s 123ms/step - loss: 9.0001e-04 - val_loss: 4.1493e-04\n",
            "Epoch 84/100\n",
            "13/13 [==============================] - 2s 141ms/step - loss: 8.5410e-04 - val_loss: 2.6738e-04\n",
            "Epoch 85/100\n",
            "13/13 [==============================] - 1s 108ms/step - loss: 8.1337e-04 - val_loss: 2.5103e-04\n",
            "Epoch 86/100\n",
            "13/13 [==============================] - 1s 109ms/step - loss: 8.1471e-04 - val_loss: 3.1188e-04\n",
            "Epoch 87/100\n",
            "13/13 [==============================] - 1s 108ms/step - loss: 8.5907e-04 - val_loss: 3.1821e-04\n",
            "Epoch 88/100\n",
            "13/13 [==============================] - 1s 108ms/step - loss: 8.0768e-04 - val_loss: 2.8328e-04\n",
            "Epoch 89/100\n",
            "13/13 [==============================] - 1s 111ms/step - loss: 8.1590e-04 - val_loss: 2.3997e-04\n",
            "Epoch 90/100\n",
            "13/13 [==============================] - 1s 107ms/step - loss: 9.9221e-04 - val_loss: 2.3141e-04\n",
            "Epoch 91/100\n",
            "13/13 [==============================] - 2s 128ms/step - loss: 8.0020e-04 - val_loss: 2.9530e-04\n",
            "Epoch 92/100\n",
            "13/13 [==============================] - 2s 137ms/step - loss: 8.1043e-04 - val_loss: 2.7659e-04\n",
            "Epoch 93/100\n",
            "13/13 [==============================] - 1s 107ms/step - loss: 7.9316e-04 - val_loss: 2.7640e-04\n",
            "Epoch 94/100\n",
            "13/13 [==============================] - 1s 109ms/step - loss: 7.8892e-04 - val_loss: 2.2549e-04\n",
            "Epoch 95/100\n",
            "13/13 [==============================] - 1s 107ms/step - loss: 7.5025e-04 - val_loss: 2.4384e-04\n",
            "Epoch 96/100\n",
            "13/13 [==============================] - 1s 111ms/step - loss: 7.1227e-04 - val_loss: 2.1698e-04\n",
            "Epoch 97/100\n",
            "13/13 [==============================] - 1s 111ms/step - loss: 7.6362e-04 - val_loss: 2.1243e-04\n",
            "Epoch 98/100\n",
            "13/13 [==============================] - 1s 110ms/step - loss: 7.7936e-04 - val_loss: 2.5576e-04\n",
            "Epoch 99/100\n",
            "13/13 [==============================] - 2s 133ms/step - loss: 6.9791e-04 - val_loss: 2.6279e-04\n",
            "Epoch 100/100\n",
            "13/13 [==============================] - 2s 131ms/step - loss: 7.3318e-04 - val_loss: 2.0825e-04\n"
          ]
        },
        {
          "output_type": "execute_result",
          "data": {
            "text/plain": [
              "<keras.src.callbacks.History at 0x7fd1812a7bb0>"
            ]
          },
          "metadata": {},
          "execution_count": 69
        }
      ]
    },
    {
      "cell_type": "markdown",
      "source": [
        "---"
      ],
      "metadata": {
        "id": "_wDzMePf-Xsw"
      }
    },
    {
      "cell_type": "markdown",
      "source": [
        "### 6. Predicting and plotting test data <a id=\"6\"></a>"
      ],
      "metadata": {
        "id": "PT43323b-OUt"
      }
    },
    {
      "cell_type": "code",
      "source": [
        "#predicting and checking performance metrics\n",
        "train_predict = model.predict(xtrain)\n",
        "test_predict = model.predict(xtest)"
      ],
      "metadata": {
        "colab": {
          "base_uri": "https://localhost:8080/"
        },
        "id": "FoTIQeXdxRdX",
        "outputId": "5de4698a-1e38-4a01-aa57-cfa99daaed69"
      },
      "execution_count": null,
      "outputs": [
        {
          "output_type": "stream",
          "name": "stdout",
          "text": [
            "25/25 [==============================] - 1s 21ms/step\n",
            "9/9 [==============================] - 0s 21ms/step\n"
          ]
        }
      ]
    },
    {
      "cell_type": "code",
      "source": [
        "#transforming back to original form\n",
        "train_predict = scaler.inverse_transform(train_predict)\n",
        "test_predict = scaler.inverse_transform(test_predict)"
      ],
      "metadata": {
        "id": "m1r2TnQ-yQi2"
      },
      "execution_count": null,
      "outputs": []
    },
    {
      "cell_type": "markdown",
      "source": [
        "Calculating RMSE performance metrics"
      ],
      "metadata": {
        "id": "dK1niwXwzuoq"
      }
    },
    {
      "cell_type": "code",
      "source": [
        "import math\n",
        "from sklearn.metrics import mean_squared_error"
      ],
      "metadata": {
        "id": "2LerL2u2yl69"
      },
      "execution_count": null,
      "outputs": []
    },
    {
      "cell_type": "code",
      "source": [
        "#Train data RMSE\n",
        "math.sqrt(mean_squared_error(ytrain, train_predict))"
      ],
      "metadata": {
        "colab": {
          "base_uri": "https://localhost:8080/"
        },
        "id": "Kj4Pe5oZzCjU",
        "outputId": "eede416d-6c88-49bb-9e08-f4a07cafff0d"
      },
      "execution_count": null,
      "outputs": [
        {
          "output_type": "execute_result",
          "data": {
            "text/plain": [
              "8.541630312783568"
            ]
          },
          "metadata": {},
          "execution_count": 73
        }
      ]
    },
    {
      "cell_type": "code",
      "source": [
        "#Test data RMSE\n",
        "math.sqrt(mean_squared_error(ytest, test_predict))"
      ],
      "metadata": {
        "colab": {
          "base_uri": "https://localhost:8080/"
        },
        "id": "G1bK3q1CzW77",
        "outputId": "5341e933-098a-456b-ebf3-93485e333312"
      },
      "execution_count": null,
      "outputs": [
        {
          "output_type": "execute_result",
          "data": {
            "text/plain": [
              "4.133766679609836"
            ]
          },
          "metadata": {},
          "execution_count": 74
        }
      ]
    },
    {
      "cell_type": "code",
      "source": [
        "#shifting train predictions for plotting\n",
        "look_back = 100\n",
        "trainPredictPlot = np.empty_like(df_close)\n",
        "trainPredictPlot[:, :] = np.nan\n",
        "trainPredictPlot[look_back:len(train_predict)+look_back, :] = train_predict\n",
        "#shifting test predictions for plotting\n",
        "testPredictPlot = np.empty_like(df_close)\n",
        "testPredictPlot[:, :] = np.nan\n",
        "testPredictPlot[len(train_predict)+(look_back*2)+1:len(df_close)-1,:] = test_predict"
      ],
      "metadata": {
        "id": "cAjfdToCzc87"
      },
      "execution_count": null,
      "outputs": []
    },
    {
      "cell_type": "code",
      "source": [
        "# plotting\n",
        "plt.figure(figsize=(10,6))\n",
        "plt.plot(scaler.inverse_transform(df_close))\n",
        "plt.plot(trainPredictPlot)\n",
        "plt.plot(testPredictPlot)\n",
        "plt.legend(['Original Data', 'Train Data', 'Test Data'])\n",
        "plt.show()"
      ],
      "metadata": {
        "colab": {
          "base_uri": "https://localhost:8080/",
          "height": 526
        },
        "id": "S9U-7CH11118",
        "outputId": "a38b6276-77e8-4bf9-a8fb-46055b1ff3d3"
      },
      "execution_count": null,
      "outputs": [
        {
          "output_type": "display_data",
          "data": {
            "text/plain": [
              "<Figure size 1000x600 with 1 Axes>"
            ],
            "image/png": "[encoded data removed]"
          },
          "metadata": {}
        }
      ]
    },
    {
      "cell_type": "markdown",
      "source": [
        "---"
      ],
      "metadata": {
        "id": "A3CbCDPc-dG2"
      }
    },
    {
      "cell_type": "markdown",
      "source": [
        "### 7. Forecasting the data for 30 days <a id=\"7\"></a>"
      ],
      "metadata": {
        "id": "8lb5siwU7vp0"
      }
    },
    {
      "cell_type": "code",
      "source": [
        "len(test_data)"
      ],
      "metadata": {
        "colab": {
          "base_uri": "https://localhost:8080/"
        },
        "id": "Ng0GAWeW2EmO",
        "outputId": "50821dd1-e8bf-4840-8ca1-cf0bea4fbf4f"
      },
      "execution_count": null,
      "outputs": [
        {
          "output_type": "execute_result",
          "data": {
            "text/plain": [
              "377"
            ]
          },
          "metadata": {},
          "execution_count": 77
        }
      ]
    },
    {
      "cell_type": "code",
      "source": [
        "xinput = test_data[len(test_data)-100:].reshape(1, -1)\n",
        "xinput.shape"
      ],
      "metadata": {
        "colab": {
          "base_uri": "https://localhost:8080/"
        },
        "id": "APBXv6SC5jmh",
        "outputId": "2a1253d1-daa3-4ab5-8a93-1b5e5842a25c"
      },
      "execution_count": null,
      "outputs": [
        {
          "output_type": "execute_result",
          "data": {
            "text/plain": [
              "(1, 100)"
            ]
          },
          "metadata": {},
          "execution_count": 78
        }
      ]
    },
    {
      "cell_type": "code",
      "source": [
        "#converting into list\n",
        "temp_ip = list(xinput)\n",
        "temp_ip = temp_ip[0].tolist()"
      ],
      "metadata": {
        "id": "aW6__Ubk6OMh"
      },
      "execution_count": null,
      "outputs": []
    },
    {
      "cell_type": "code",
      "source": [
        "temp_ip"
      ],
      "metadata": {
        "colab": {
          "base_uri": "https://localhost:8080/"
        },
        "id": "DNmAaFnO6suO",
        "outputId": "2924156d-d438-4a3f-c0b1-59c8c3341030"
      },
      "execution_count": null,
      "outputs": [
        {
          "output_type": "execute_result",
          "data": {
            "text/plain": [
              "[0.051654091700522334,\n",
              " 0.04875217643644804,\n",
              " 0.057457922228670924,\n",
              " 0.060940220545560045,\n",
              " 0.060940220545560045,\n",
              " 0.053975623911781775,\n",
              " 0.059199071387115484,\n",
              " 0.05107370864770748,\n",
              " 0.051654091700522334,\n",
              " 0.04352872896111433,\n",
              " 0.03482298316889147,\n",
              " 0.03192106790481715,\n",
              " 0.016250725478816022,\n",
              " 0.01567034242600117,\n",
              " 0.026117237376668614,\n",
              " 0.025536854323853733,\n",
              " 0.018572257690075436,\n",
              " 0.022634939059779466,\n",
              " 0.029599535693557763,\n",
              " 0.029019152640742882,\n",
              " 0.03017991874637259,\n",
              " 0.04410911201392921,\n",
              " 0.04933255948926292,\n",
              " 0.053975623911781775,\n",
              " 0.06732443412652352,\n",
              " 0.08531630876378409,\n",
              " 0.06674405107370864,\n",
              " 0.061520603598374926,\n",
              " 0.06268136970400463,\n",
              " 0.05629715612304122,\n",
              " 0.06210098665118978,\n",
              " 0.05455600696459663,\n",
              " 0.05629715612304122,\n",
              " 0.049912942542077746,\n",
              " 0.05455600696459663,\n",
              " 0.05513639001741148,\n",
              " 0.06790481717933834,\n",
              " 0.06848520023215322,\n",
              " 0.061520603598374926,\n",
              " 0.06790481717933834,\n",
              " 0.06848520023215322,\n",
              " 0.07777132907719093,\n",
              " 0.06674405107370864,\n",
              " 0.06790481717933834,\n",
              " 0.07022634939059778,\n",
              " 0.07370864770748693,\n",
              " 0.07777132907719093,\n",
              " 0.07196749854904237,\n",
              " 0.07544979686593149,\n",
              " 0.07544979686593149,\n",
              " 0.07312826465467208,\n",
              " 0.07196749854904237,\n",
              " 0.08879860708067326,\n",
              " 0.07254788160185723,\n",
              " 0.07312826465467208,\n",
              " 0.07951247823563552,\n",
              " 0.07951247823563552,\n",
              " 0.08589669181659894,\n",
              " 0.08647707486941382,\n",
              " 0.08705745792222867,\n",
              " 0.09866511897852583,\n",
              " 0.09924550203134068,\n",
              " 0.04178757980266977,\n",
              " 0.03076030179918747,\n",
              " 0.03772489843296574,\n",
              " 0.03482298316889147,\n",
              " 0.035403366221706326,\n",
              " 0.03830528148578062,\n",
              " 0.04062681369704006,\n",
              " 0.04004643064422518,\n",
              " 0.03598374927452118,\n",
              " 0.03482298316889147,\n",
              " 0.03250145095763203,\n",
              " 0.03366221706326174,\n",
              " 0.03366221706326174,\n",
              " 0.029599535693557763,\n",
              " 0.022634939059779466,\n",
              " 0.019733023795705143,\n",
              " 0.017991874637260583,\n",
              " 0.016250725478816022,\n",
              " 0.01741149158444573,\n",
              " 0.019152640742890317,\n",
              " 0.022054556006964585,\n",
              " 0.022054556006964585,\n",
              " 0.020313406848520024,\n",
              " 0.017991874637260583,\n",
              " 0.01567034242600117,\n",
              " 0.01392919326755658,\n",
              " 0.012188044109111992,\n",
              " 0.009286128845037725,\n",
              " 0.010446894950667446,\n",
              " 0.014509576320371434,\n",
              " 0.020893789901334878,\n",
              " 0.02147417295414973,\n",
              " 0.013348810214741727,\n",
              " 0.011607661056297167,\n",
              " 0.009866511897852578,\n",
              " 0.008125362739408004,\n",
              " 0.0034822983168891486,\n",
              " 0.0]"
            ]
          },
          "metadata": {},
          "execution_count": 80
        }
      ]
    },
    {
      "cell_type": "code",
      "source": [
        "#forecasting data for 30 days\n",
        "output=[]\n",
        "n_steps = 100\n",
        "i = 0\n",
        "while(i<30):\n",
        "\n",
        "    if(len(temp_ip)>100):\n",
        "        #print(temp_ip)\n",
        "        xinput = np.array(temp_ip[1:])\n",
        "        print(\"{} day input {}\".format(i,xinput))\n",
        "        xinput = xinput.reshape(1,-1)\n",
        "        xinput = xinput.reshape((1, n_steps, 1))\n",
        "        #print(xinput)\n",
        "        yhat = model.predict(xinput, verbose=0)\n",
        "        print(\"{} day output {}\".format(i,yhat))\n",
        "        temp_ip.extend(yhat[0].tolist())\n",
        "        temp_ip = temp_ip[1:]\n",
        "        #print(temp_ip)\n",
        "        output.extend(yhat.tolist())\n",
        "        i=i+1\n",
        "    else:\n",
        "        xinput = xinput.reshape((1, n_steps,1))\n",
        "        yhat = model.predict(xinput, verbose=0)\n",
        "        print(yhat[0])\n",
        "        temp_ip.extend(yhat[0].tolist())\n",
        "        print(len(temp_ip))\n",
        "        output.extend(yhat.tolist())\n",
        "        i = i+1\n",
        "\n",
        "print(output)"
      ],
      "metadata": {
        "colab": {
          "base_uri": "https://localhost:8080/"
        },
        "id": "MxtS8uzP7InN",
        "outputId": "12426c84-a54d-447e-c2b5-55b27f0849c8"
      },
      "execution_count": null,
      "outputs": [
        {
          "output_type": "stream",
          "name": "stdout",
          "text": [
            "[0.0126213]\n",
            "101\n",
            "1 day input [0.04875218 0.05745792 0.06094022 0.06094022 0.05397562 0.05919907\n",
            " 0.05107371 0.05165409 0.04352873 0.03482298 0.03192107 0.01625073\n",
            " 0.01567034 0.02611724 0.02553685 0.01857226 0.02263494 0.02959954\n",
            " 0.02901915 0.03017992 0.04410911 0.04933256 0.05397562 0.06732443\n",
            " 0.08531631 0.06674405 0.0615206  0.06268137 0.05629716 0.06210099\n",
            " 0.05455601 0.05629716 0.04991294 0.05455601 0.05513639 0.06790482\n",
            " 0.0684852  0.0615206  0.06790482 0.0684852  0.07777133 0.06674405\n",
            " 0.06790482 0.07022635 0.07370865 0.07777133 0.0719675  0.0754498\n",
            " 0.0754498  0.07312826 0.0719675  0.08879861 0.07254788 0.07312826\n",
            " 0.07951248 0.07951248 0.08589669 0.08647707 0.08705746 0.09866512\n",
            " 0.0992455  0.04178758 0.0307603  0.0377249  0.03482298 0.03540337\n",
            " 0.03830528 0.04062681 0.04004643 0.03598375 0.03482298 0.03250145\n",
            " 0.03366222 0.03366222 0.02959954 0.02263494 0.01973302 0.01799187\n",
            " 0.01625073 0.01741149 0.01915264 0.02205456 0.02205456 0.02031341\n",
            " 0.01799187 0.01567034 0.01392919 0.01218804 0.00928613 0.01044689\n",
            " 0.01450958 0.02089379 0.02147417 0.01334881 0.01160766 0.00986651\n",
            " 0.00812536 0.0034823  0.         0.0126213 ]\n",
            "1 day output [[0.01155189]]\n",
            "2 day input [0.05745792 0.06094022 0.06094022 0.05397562 0.05919907 0.05107371\n",
            " 0.05165409 0.04352873 0.03482298 0.03192107 0.01625073 0.01567034\n",
            " 0.02611724 0.02553685 0.01857226 0.02263494 0.02959954 0.02901915\n",
            " 0.03017992 0.04410911 0.04933256 0.05397562 0.06732443 0.08531631\n",
            " 0.06674405 0.0615206  0.06268137 0.05629716 0.06210099 0.05455601\n",
            " 0.05629716 0.04991294 0.05455601 0.05513639 0.06790482 0.0684852\n",
            " 0.0615206  0.06790482 0.0684852  0.07777133 0.06674405 0.06790482\n",
            " 0.07022635 0.07370865 0.07777133 0.0719675  0.0754498  0.0754498\n",
            " 0.07312826 0.0719675  0.08879861 0.07254788 0.07312826 0.07951248\n",
            " 0.07951248 0.08589669 0.08647707 0.08705746 0.09866512 0.0992455\n",
            " 0.04178758 0.0307603  0.0377249  0.03482298 0.03540337 0.03830528\n",
            " 0.04062681 0.04004643 0.03598375 0.03482298 0.03250145 0.03366222\n",
            " 0.03366222 0.02959954 0.02263494 0.01973302 0.01799187 0.01625073\n",
            " 0.01741149 0.01915264 0.02205456 0.02205456 0.02031341 0.01799187\n",
            " 0.01567034 0.01392919 0.01218804 0.00928613 0.01044689 0.01450958\n",
            " 0.02089379 0.02147417 0.01334881 0.01160766 0.00986651 0.00812536\n",
            " 0.0034823  0.         0.0126213  0.01155189]\n",
            "2 day output [[0.01175062]]\n",
            "3 day input [0.06094022 0.06094022 0.05397562 0.05919907 0.05107371 0.05165409\n",
            " 0.04352873 0.03482298 0.03192107 0.01625073 0.01567034 0.02611724\n",
            " 0.02553685 0.01857226 0.02263494 0.02959954 0.02901915 0.03017992\n",
            " 0.04410911 0.04933256 0.05397562 0.06732443 0.08531631 0.06674405\n",
            " 0.0615206  0.06268137 0.05629716 0.06210099 0.05455601 0.05629716\n",
            " 0.04991294 0.05455601 0.05513639 0.06790482 0.0684852  0.0615206\n",
            " 0.06790482 0.0684852  0.07777133 0.06674405 0.06790482 0.07022635\n",
            " 0.07370865 0.07777133 0.0719675  0.0754498  0.0754498  0.07312826\n",
            " 0.0719675  0.08879861 0.07254788 0.07312826 0.07951248 0.07951248\n",
            " 0.08589669 0.08647707 0.08705746 0.09866512 0.0992455  0.04178758\n",
            " 0.0307603  0.0377249  0.03482298 0.03540337 0.03830528 0.04062681\n",
            " 0.04004643 0.03598375 0.03482298 0.03250145 0.03366222 0.03366222\n",
            " 0.02959954 0.02263494 0.01973302 0.01799187 0.01625073 0.01741149\n",
            " 0.01915264 0.02205456 0.02205456 0.02031341 0.01799187 0.01567034\n",
            " 0.01392919 0.01218804 0.00928613 0.01044689 0.01450958 0.02089379\n",
            " 0.02147417 0.01334881 0.01160766 0.00986651 0.00812536 0.0034823\n",
            " 0.         0.0126213  0.01155189 0.01175062]\n",
            "3 day output [[0.01267587]]\n",
            "4 day input [0.06094022 0.05397562 0.05919907 0.05107371 0.05165409 0.04352873\n",
            " 0.03482298 0.03192107 0.01625073 0.01567034 0.02611724 0.02553685\n",
            " 0.01857226 0.02263494 0.02959954 0.02901915 0.03017992 0.04410911\n",
            " 0.04933256 0.05397562 0.06732443 0.08531631 0.06674405 0.0615206\n",
            " 0.06268137 0.05629716 0.06210099 0.05455601 0.05629716 0.04991294\n",
            " 0.05455601 0.05513639 0.06790482 0.0684852  0.0615206  0.06790482\n",
            " 0.0684852  0.07777133 0.06674405 0.06790482 0.07022635 0.07370865\n",
            " 0.07777133 0.0719675  0.0754498  0.0754498  0.07312826 0.0719675\n",
            " 0.08879861 0.07254788 0.07312826 0.07951248 0.07951248 0.08589669\n",
            " 0.08647707 0.08705746 0.09866512 0.0992455  0.04178758 0.0307603\n",
            " 0.0377249  0.03482298 0.03540337 0.03830528 0.04062681 0.04004643\n",
            " 0.03598375 0.03482298 0.03250145 0.03366222 0.03366222 0.02959954\n",
            " 0.02263494 0.01973302 0.01799187 0.01625073 0.01741149 0.01915264\n",
            " 0.02205456 0.02205456 0.02031341 0.01799187 0.01567034 0.01392919\n",
            " 0.01218804 0.00928613 0.01044689 0.01450958 0.02089379 0.02147417\n",
            " 0.01334881 0.01160766 0.00986651 0.00812536 0.0034823  0.\n",
            " 0.0126213  0.01155189 0.01175062 0.01267587]\n",
            "4 day output [[0.01393999]]\n",
            "5 day input [0.05397562 0.05919907 0.05107371 0.05165409 0.04352873 0.03482298\n",
            " 0.03192107 0.01625073 0.01567034 0.02611724 0.02553685 0.01857226\n",
            " 0.02263494 0.02959954 0.02901915 0.03017992 0.04410911 0.04933256\n",
            " 0.05397562 0.06732443 0.08531631 0.06674405 0.0615206  0.06268137\n",
            " 0.05629716 0.06210099 0.05455601 0.05629716 0.04991294 0.05455601\n",
            " 0.05513639 0.06790482 0.0684852  0.0615206  0.06790482 0.0684852\n",
            " 0.07777133 0.06674405 0.06790482 0.07022635 0.07370865 0.07777133\n",
            " 0.0719675  0.0754498  0.0754498  0.07312826 0.0719675  0.08879861\n",
            " 0.07254788 0.07312826 0.07951248 0.07951248 0.08589669 0.08647707\n",
            " 0.08705746 0.09866512 0.0992455  0.04178758 0.0307603  0.0377249\n",
            " 0.03482298 0.03540337 0.03830528 0.04062681 0.04004643 0.03598375\n",
            " 0.03482298 0.03250145 0.03366222 0.03366222 0.02959954 0.02263494\n",
            " 0.01973302 0.01799187 0.01625073 0.01741149 0.01915264 0.02205456\n",
            " 0.02205456 0.02031341 0.01799187 0.01567034 0.01392919 0.01218804\n",
            " 0.00928613 0.01044689 0.01450958 0.02089379 0.02147417 0.01334881\n",
            " 0.01160766 0.00986651 0.00812536 0.0034823  0.         0.0126213\n",
            " 0.01155189 0.01175062 0.01267587 0.01393999]\n",
            "5 day output [[0.01533633]]\n",
            "6 day input [0.05919907 0.05107371 0.05165409 0.04352873 0.03482298 0.03192107\n",
            " 0.01625073 0.01567034 0.02611724 0.02553685 0.01857226 0.02263494\n",
            " 0.02959954 0.02901915 0.03017992 0.04410911 0.04933256 0.05397562\n",
            " 0.06732443 0.08531631 0.06674405 0.0615206  0.06268137 0.05629716\n",
            " 0.06210099 0.05455601 0.05629716 0.04991294 0.05455601 0.05513639\n",
            " 0.06790482 0.0684852  0.0615206  0.06790482 0.0684852  0.07777133\n",
            " 0.06674405 0.06790482 0.07022635 0.07370865 0.07777133 0.0719675\n",
            " 0.0754498  0.0754498  0.07312826 0.0719675  0.08879861 0.07254788\n",
            " 0.07312826 0.07951248 0.07951248 0.08589669 0.08647707 0.08705746\n",
            " 0.09866512 0.0992455  0.04178758 0.0307603  0.0377249  0.03482298\n",
            " 0.03540337 0.03830528 0.04062681 0.04004643 0.03598375 0.03482298\n",
            " 0.03250145 0.03366222 0.03366222 0.02959954 0.02263494 0.01973302\n",
            " 0.01799187 0.01625073 0.01741149 0.01915264 0.02205456 0.02205456\n",
            " 0.02031341 0.01799187 0.01567034 0.01392919 0.01218804 0.00928613\n",
            " 0.01044689 0.01450958 0.02089379 0.02147417 0.01334881 0.01160766\n",
            " 0.00986651 0.00812536 0.0034823  0.         0.0126213  0.01155189\n",
            " 0.01175062 0.01267587 0.01393999 0.01533633]\n",
            "6 day output [[0.01677648]]\n",
            "7 day input [0.05107371 0.05165409 0.04352873 0.03482298 0.03192107 0.01625073\n",
            " 0.01567034 0.02611724 0.02553685 0.01857226 0.02263494 0.02959954\n",
            " 0.02901915 0.03017992 0.04410911 0.04933256 0.05397562 0.06732443\n",
            " 0.08531631 0.06674405 0.0615206  0.06268137 0.05629716 0.06210099\n",
            " 0.05455601 0.05629716 0.04991294 0.05455601 0.05513639 0.06790482\n",
            " 0.0684852  0.0615206  0.06790482 0.0684852  0.07777133 0.06674405\n",
            " 0.06790482 0.07022635 0.07370865 0.07777133 0.0719675  0.0754498\n",
            " 0.0754498  0.07312826 0.0719675  0.08879861 0.07254788 0.07312826\n",
            " 0.07951248 0.07951248 0.08589669 0.08647707 0.08705746 0.09866512\n",
            " 0.0992455  0.04178758 0.0307603  0.0377249  0.03482298 0.03540337\n",
            " 0.03830528 0.04062681 0.04004643 0.03598375 0.03482298 0.03250145\n",
            " 0.03366222 0.03366222 0.02959954 0.02263494 0.01973302 0.01799187\n",
            " 0.01625073 0.01741149 0.01915264 0.02205456 0.02205456 0.02031341\n",
            " 0.01799187 0.01567034 0.01392919 0.01218804 0.00928613 0.01044689\n",
            " 0.01450958 0.02089379 0.02147417 0.01334881 0.01160766 0.00986651\n",
            " 0.00812536 0.0034823  0.         0.0126213  0.01155189 0.01175062\n",
            " 0.01267587 0.01393999 0.01533633 0.01677648]\n",
            "7 day output [[0.01823162]]\n",
            "8 day input [0.05165409 0.04352873 0.03482298 0.03192107 0.01625073 0.01567034\n",
            " 0.02611724 0.02553685 0.01857226 0.02263494 0.02959954 0.02901915\n",
            " 0.03017992 0.04410911 0.04933256 0.05397562 0.06732443 0.08531631\n",
            " 0.06674405 0.0615206  0.06268137 0.05629716 0.06210099 0.05455601\n",
            " 0.05629716 0.04991294 0.05455601 0.05513639 0.06790482 0.0684852\n",
            " 0.0615206  0.06790482 0.0684852  0.07777133 0.06674405 0.06790482\n",
            " 0.07022635 0.07370865 0.07777133 0.0719675  0.0754498  0.0754498\n",
            " 0.07312826 0.0719675  0.08879861 0.07254788 0.07312826 0.07951248\n",
            " 0.07951248 0.08589669 0.08647707 0.08705746 0.09866512 0.0992455\n",
            " 0.04178758 0.0307603  0.0377249  0.03482298 0.03540337 0.03830528\n",
            " 0.04062681 0.04004643 0.03598375 0.03482298 0.03250145 0.03366222\n",
            " 0.03366222 0.02959954 0.02263494 0.01973302 0.01799187 0.01625073\n",
            " 0.01741149 0.01915264 0.02205456 0.02205456 0.02031341 0.01799187\n",
            " 0.01567034 0.01392919 0.01218804 0.00928613 0.01044689 0.01450958\n",
            " 0.02089379 0.02147417 0.01334881 0.01160766 0.00986651 0.00812536\n",
            " 0.0034823  0.         0.0126213  0.01155189 0.01175062 0.01267587\n",
            " 0.01393999 0.01533633 0.01677648 0.01823162]\n",
            "8 day output [[0.01969747]]\n",
            "9 day input [0.04352873 0.03482298 0.03192107 0.01625073 0.01567034 0.02611724\n",
            " 0.02553685 0.01857226 0.02263494 0.02959954 0.02901915 0.03017992\n",
            " 0.04410911 0.04933256 0.05397562 0.06732443 0.08531631 0.06674405\n",
            " 0.0615206  0.06268137 0.05629716 0.06210099 0.05455601 0.05629716\n",
            " 0.04991294 0.05455601 0.05513639 0.06790482 0.0684852  0.0615206\n",
            " 0.06790482 0.0684852  0.07777133 0.06674405 0.06790482 0.07022635\n",
            " 0.07370865 0.07777133 0.0719675  0.0754498  0.0754498  0.07312826\n",
            " 0.0719675  0.08879861 0.07254788 0.07312826 0.07951248 0.07951248\n",
            " 0.08589669 0.08647707 0.08705746 0.09866512 0.0992455  0.04178758\n",
            " 0.0307603  0.0377249  0.03482298 0.03540337 0.03830528 0.04062681\n",
            " 0.04004643 0.03598375 0.03482298 0.03250145 0.03366222 0.03366222\n",
            " 0.02959954 0.02263494 0.01973302 0.01799187 0.01625073 0.01741149\n",
            " 0.01915264 0.02205456 0.02205456 0.02031341 0.01799187 0.01567034\n",
            " 0.01392919 0.01218804 0.00928613 0.01044689 0.01450958 0.02089379\n",
            " 0.02147417 0.01334881 0.01160766 0.00986651 0.00812536 0.0034823\n",
            " 0.         0.0126213  0.01155189 0.01175062 0.01267587 0.01393999\n",
            " 0.01533633 0.01677648 0.01823162 0.01969747]\n",
            "9 day output [[0.02117744]]\n",
            "10 day input [0.03482298 0.03192107 0.01625073 0.01567034 0.02611724 0.02553685\n",
            " 0.01857226 0.02263494 0.02959954 0.02901915 0.03017992 0.04410911\n",
            " 0.04933256 0.05397562 0.06732443 0.08531631 0.06674405 0.0615206\n",
            " 0.06268137 0.05629716 0.06210099 0.05455601 0.05629716 0.04991294\n",
            " 0.05455601 0.05513639 0.06790482 0.0684852  0.0615206  0.06790482\n",
            " 0.0684852  0.07777133 0.06674405 0.06790482 0.07022635 0.07370865\n",
            " 0.07777133 0.0719675  0.0754498  0.0754498  0.07312826 0.0719675\n",
            " 0.08879861 0.07254788 0.07312826 0.07951248 0.07951248 0.08589669\n",
            " 0.08647707 0.08705746 0.09866512 0.0992455  0.04178758 0.0307603\n",
            " 0.0377249  0.03482298 0.03540337 0.03830528 0.04062681 0.04004643\n",
            " 0.03598375 0.03482298 0.03250145 0.03366222 0.03366222 0.02959954\n",
            " 0.02263494 0.01973302 0.01799187 0.01625073 0.01741149 0.01915264\n",
            " 0.02205456 0.02205456 0.02031341 0.01799187 0.01567034 0.01392919\n",
            " 0.01218804 0.00928613 0.01044689 0.01450958 0.02089379 0.02147417\n",
            " 0.01334881 0.01160766 0.00986651 0.00812536 0.0034823  0.\n",
            " 0.0126213  0.01155189 0.01175062 0.01267587 0.01393999 0.01533633\n",
            " 0.01677648 0.01823162 0.01969747 0.02117744]\n",
            "10 day output [[0.02267626]]\n",
            "11 day input [0.03192107 0.01625073 0.01567034 0.02611724 0.02553685 0.01857226\n",
            " 0.02263494 0.02959954 0.02901915 0.03017992 0.04410911 0.04933256\n",
            " 0.05397562 0.06732443 0.08531631 0.06674405 0.0615206  0.06268137\n",
            " 0.05629716 0.06210099 0.05455601 0.05629716 0.04991294 0.05455601\n",
            " 0.05513639 0.06790482 0.0684852  0.0615206  0.06790482 0.0684852\n",
            " 0.07777133 0.06674405 0.06790482 0.07022635 0.07370865 0.07777133\n",
            " 0.0719675  0.0754498  0.0754498  0.07312826 0.0719675  0.08879861\n",
            " 0.07254788 0.07312826 0.07951248 0.07951248 0.08589669 0.08647707\n",
            " 0.08705746 0.09866512 0.0992455  0.04178758 0.0307603  0.0377249\n",
            " 0.03482298 0.03540337 0.03830528 0.04062681 0.04004643 0.03598375\n",
            " 0.03482298 0.03250145 0.03366222 0.03366222 0.02959954 0.02263494\n",
            " 0.01973302 0.01799187 0.01625073 0.01741149 0.01915264 0.02205456\n",
            " 0.02205456 0.02031341 0.01799187 0.01567034 0.01392919 0.01218804\n",
            " 0.00928613 0.01044689 0.01450958 0.02089379 0.02147417 0.01334881\n",
            " 0.01160766 0.00986651 0.00812536 0.0034823  0.         0.0126213\n",
            " 0.01155189 0.01175062 0.01267587 0.01393999 0.01533633 0.01677648\n",
            " 0.01823162 0.01969747 0.02117744 0.02267626]\n",
            "11 day output [[0.02419787]]\n",
            "12 day input [0.01625073 0.01567034 0.02611724 0.02553685 0.01857226 0.02263494\n",
            " 0.02959954 0.02901915 0.03017992 0.04410911 0.04933256 0.05397562\n",
            " 0.06732443 0.08531631 0.06674405 0.0615206  0.06268137 0.05629716\n",
            " 0.06210099 0.05455601 0.05629716 0.04991294 0.05455601 0.05513639\n",
            " 0.06790482 0.0684852  0.0615206  0.06790482 0.0684852  0.07777133\n",
            " 0.06674405 0.06790482 0.07022635 0.07370865 0.07777133 0.0719675\n",
            " 0.0754498  0.0754498  0.07312826 0.0719675  0.08879861 0.07254788\n",
            " 0.07312826 0.07951248 0.07951248 0.08589669 0.08647707 0.08705746\n",
            " 0.09866512 0.0992455  0.04178758 0.0307603  0.0377249  0.03482298\n",
            " 0.03540337 0.03830528 0.04062681 0.04004643 0.03598375 0.03482298\n",
            " 0.03250145 0.03366222 0.03366222 0.02959954 0.02263494 0.01973302\n",
            " 0.01799187 0.01625073 0.01741149 0.01915264 0.02205456 0.02205456\n",
            " 0.02031341 0.01799187 0.01567034 0.01392919 0.01218804 0.00928613\n",
            " 0.01044689 0.01450958 0.02089379 0.02147417 0.01334881 0.01160766\n",
            " 0.00986651 0.00812536 0.0034823  0.         0.0126213  0.01155189\n",
            " 0.01175062 0.01267587 0.01393999 0.01533633 0.01677648 0.01823162\n",
            " 0.01969747 0.02117744 0.02267626 0.02419787]\n",
            "12 day output [[0.02574506]]\n",
            "13 day input [0.01567034 0.02611724 0.02553685 0.01857226 0.02263494 0.02959954\n",
            " 0.02901915 0.03017992 0.04410911 0.04933256 0.05397562 0.06732443\n",
            " 0.08531631 0.06674405 0.0615206  0.06268137 0.05629716 0.06210099\n",
            " 0.05455601 0.05629716 0.04991294 0.05455601 0.05513639 0.06790482\n",
            " 0.0684852  0.0615206  0.06790482 0.0684852  0.07777133 0.06674405\n",
            " 0.06790482 0.07022635 0.07370865 0.07777133 0.0719675  0.0754498\n",
            " 0.0754498  0.07312826 0.0719675  0.08879861 0.07254788 0.07312826\n",
            " 0.07951248 0.07951248 0.08589669 0.08647707 0.08705746 0.09866512\n",
            " 0.0992455  0.04178758 0.0307603  0.0377249  0.03482298 0.03540337\n",
            " 0.03830528 0.04062681 0.04004643 0.03598375 0.03482298 0.03250145\n",
            " 0.03366222 0.03366222 0.02959954 0.02263494 0.01973302 0.01799187\n",
            " 0.01625073 0.01741149 0.01915264 0.02205456 0.02205456 0.02031341\n",
            " 0.01799187 0.01567034 0.01392919 0.01218804 0.00928613 0.01044689\n",
            " 0.01450958 0.02089379 0.02147417 0.01334881 0.01160766 0.00986651\n",
            " 0.00812536 0.0034823  0.         0.0126213  0.01155189 0.01175062\n",
            " 0.01267587 0.01393999 0.01533633 0.01677648 0.01823162 0.01969747\n",
            " 0.02117744 0.02267626 0.02419787 0.02574506]\n",
            "13 day output [[0.02731946]]\n",
            "14 day input [0.02611724 0.02553685 0.01857226 0.02263494 0.02959954 0.02901915\n",
            " 0.03017992 0.04410911 0.04933256 0.05397562 0.06732443 0.08531631\n",
            " 0.06674405 0.0615206  0.06268137 0.05629716 0.06210099 0.05455601\n",
            " 0.05629716 0.04991294 0.05455601 0.05513639 0.06790482 0.0684852\n",
            " 0.0615206  0.06790482 0.0684852  0.07777133 0.06674405 0.06790482\n",
            " 0.07022635 0.07370865 0.07777133 0.0719675  0.0754498  0.0754498\n",
            " 0.07312826 0.0719675  0.08879861 0.07254788 0.07312826 0.07951248\n",
            " 0.07951248 0.08589669 0.08647707 0.08705746 0.09866512 0.0992455\n",
            " 0.04178758 0.0307603  0.0377249  0.03482298 0.03540337 0.03830528\n",
            " 0.04062681 0.04004643 0.03598375 0.03482298 0.03250145 0.03366222\n",
            " 0.03366222 0.02959954 0.02263494 0.01973302 0.01799187 0.01625073\n",
            " 0.01741149 0.01915264 0.02205456 0.02205456 0.02031341 0.01799187\n",
            " 0.01567034 0.01392919 0.01218804 0.00928613 0.01044689 0.01450958\n",
            " 0.02089379 0.02147417 0.01334881 0.01160766 0.00986651 0.00812536\n",
            " 0.0034823  0.         0.0126213  0.01155189 0.01175062 0.01267587\n",
            " 0.01393999 0.01533633 0.01677648 0.01823162 0.01969747 0.02117744\n",
            " 0.02267626 0.02419787 0.02574506 0.02731946]\n",
            "14 day output [[0.0289216]]\n",
            "15 day input [0.02553685 0.01857226 0.02263494 0.02959954 0.02901915 0.03017992\n",
            " 0.04410911 0.04933256 0.05397562 0.06732443 0.08531631 0.06674405\n",
            " 0.0615206  0.06268137 0.05629716 0.06210099 0.05455601 0.05629716\n",
            " 0.04991294 0.05455601 0.05513639 0.06790482 0.0684852  0.0615206\n",
            " 0.06790482 0.0684852  0.07777133 0.06674405 0.06790482 0.07022635\n",
            " 0.07370865 0.07777133 0.0719675  0.0754498  0.0754498  0.07312826\n",
            " 0.0719675  0.08879861 0.07254788 0.07312826 0.07951248 0.07951248\n",
            " 0.08589669 0.08647707 0.08705746 0.09866512 0.0992455  0.04178758\n",
            " 0.0307603  0.0377249  0.03482298 0.03540337 0.03830528 0.04062681\n",
            " 0.04004643 0.03598375 0.03482298 0.03250145 0.03366222 0.03366222\n",
            " 0.02959954 0.02263494 0.01973302 0.01799187 0.01625073 0.01741149\n",
            " 0.01915264 0.02205456 0.02205456 0.02031341 0.01799187 0.01567034\n",
            " 0.01392919 0.01218804 0.00928613 0.01044689 0.01450958 0.02089379\n",
            " 0.02147417 0.01334881 0.01160766 0.00986651 0.00812536 0.0034823\n",
            " 0.         0.0126213  0.01155189 0.01175062 0.01267587 0.01393999\n",
            " 0.01533633 0.01677648 0.01823162 0.01969747 0.02117744 0.02267626\n",
            " 0.02419787 0.02574506 0.02731946 0.0289216 ]\n",
            "15 day output [[0.030551]]\n",
            "16 day input [0.01857226 0.02263494 0.02959954 0.02901915 0.03017992 0.04410911\n",
            " 0.04933256 0.05397562 0.06732443 0.08531631 0.06674405 0.0615206\n",
            " 0.06268137 0.05629716 0.06210099 0.05455601 0.05629716 0.04991294\n",
            " 0.05455601 0.05513639 0.06790482 0.0684852  0.0615206  0.06790482\n",
            " 0.0684852  0.07777133 0.06674405 0.06790482 0.07022635 0.07370865\n",
            " 0.07777133 0.0719675  0.0754498  0.0754498  0.07312826 0.0719675\n",
            " 0.08879861 0.07254788 0.07312826 0.07951248 0.07951248 0.08589669\n",
            " 0.08647707 0.08705746 0.09866512 0.0992455  0.04178758 0.0307603\n",
            " 0.0377249  0.03482298 0.03540337 0.03830528 0.04062681 0.04004643\n",
            " 0.03598375 0.03482298 0.03250145 0.03366222 0.03366222 0.02959954\n",
            " 0.02263494 0.01973302 0.01799187 0.01625073 0.01741149 0.01915264\n",
            " 0.02205456 0.02205456 0.02031341 0.01799187 0.01567034 0.01392919\n",
            " 0.01218804 0.00928613 0.01044689 0.01450958 0.02089379 0.02147417\n",
            " 0.01334881 0.01160766 0.00986651 0.00812536 0.0034823  0.\n",
            " 0.0126213  0.01155189 0.01175062 0.01267587 0.01393999 0.01533633\n",
            " 0.01677648 0.01823162 0.01969747 0.02117744 0.02267626 0.02419787\n",
            " 0.02574506 0.02731946 0.0289216  0.030551  ]\n",
            "16 day output [[0.03220629]]\n",
            "17 day input [0.02263494 0.02959954 0.02901915 0.03017992 0.04410911 0.04933256\n",
            " 0.05397562 0.06732443 0.08531631 0.06674405 0.0615206  0.06268137\n",
            " 0.05629716 0.06210099 0.05455601 0.05629716 0.04991294 0.05455601\n",
            " 0.05513639 0.06790482 0.0684852  0.0615206  0.06790482 0.0684852\n",
            " 0.07777133 0.06674405 0.06790482 0.07022635 0.07370865 0.07777133\n",
            " 0.0719675  0.0754498  0.0754498  0.07312826 0.0719675  0.08879861\n",
            " 0.07254788 0.07312826 0.07951248 0.07951248 0.08589669 0.08647707\n",
            " 0.08705746 0.09866512 0.0992455  0.04178758 0.0307603  0.0377249\n",
            " 0.03482298 0.03540337 0.03830528 0.04062681 0.04004643 0.03598375\n",
            " 0.03482298 0.03250145 0.03366222 0.03366222 0.02959954 0.02263494\n",
            " 0.01973302 0.01799187 0.01625073 0.01741149 0.01915264 0.02205456\n",
            " 0.02205456 0.02031341 0.01799187 0.01567034 0.01392919 0.01218804\n",
            " 0.00928613 0.01044689 0.01450958 0.02089379 0.02147417 0.01334881\n",
            " 0.01160766 0.00986651 0.00812536 0.0034823  0.         0.0126213\n",
            " 0.01155189 0.01175062 0.01267587 0.01393999 0.01533633 0.01677648\n",
            " 0.01823162 0.01969747 0.02117744 0.02267626 0.02419787 0.02574506\n",
            " 0.02731946 0.0289216  0.030551   0.03220629]\n",
            "17 day output [[0.03388534]]\n",
            "18 day input [0.02959954 0.02901915 0.03017992 0.04410911 0.04933256 0.05397562\n",
            " 0.06732443 0.08531631 0.06674405 0.0615206  0.06268137 0.05629716\n",
            " 0.06210099 0.05455601 0.05629716 0.04991294 0.05455601 0.05513639\n",
            " 0.06790482 0.0684852  0.0615206  0.06790482 0.0684852  0.07777133\n",
            " 0.06674405 0.06790482 0.07022635 0.07370865 0.07777133 0.0719675\n",
            " 0.0754498  0.0754498  0.07312826 0.0719675  0.08879861 0.07254788\n",
            " 0.07312826 0.07951248 0.07951248 0.08589669 0.08647707 0.08705746\n",
            " 0.09866512 0.0992455  0.04178758 0.0307603  0.0377249  0.03482298\n",
            " 0.03540337 0.03830528 0.04062681 0.04004643 0.03598375 0.03482298\n",
            " 0.03250145 0.03366222 0.03366222 0.02959954 0.02263494 0.01973302\n",
            " 0.01799187 0.01625073 0.01741149 0.01915264 0.02205456 0.02205456\n",
            " 0.02031341 0.01799187 0.01567034 0.01392919 0.01218804 0.00928613\n",
            " 0.01044689 0.01450958 0.02089379 0.02147417 0.01334881 0.01160766\n",
            " 0.00986651 0.00812536 0.0034823  0.         0.0126213  0.01155189\n",
            " 0.01175062 0.01267587 0.01393999 0.01533633 0.01677648 0.01823162\n",
            " 0.01969747 0.02117744 0.02267626 0.02419787 0.02574506 0.02731946\n",
            " 0.0289216  0.030551   0.03220629 0.03388534]\n",
            "18 day output [[0.03558539]]\n",
            "19 day input [0.02901915 0.03017992 0.04410911 0.04933256 0.05397562 0.06732443\n",
            " 0.08531631 0.06674405 0.0615206  0.06268137 0.05629716 0.06210099\n",
            " 0.05455601 0.05629716 0.04991294 0.05455601 0.05513639 0.06790482\n",
            " 0.0684852  0.0615206  0.06790482 0.0684852  0.07777133 0.06674405\n",
            " 0.06790482 0.07022635 0.07370865 0.07777133 0.0719675  0.0754498\n",
            " 0.0754498  0.07312826 0.0719675  0.08879861 0.07254788 0.07312826\n",
            " 0.07951248 0.07951248 0.08589669 0.08647707 0.08705746 0.09866512\n",
            " 0.0992455  0.04178758 0.0307603  0.0377249  0.03482298 0.03540337\n",
            " 0.03830528 0.04062681 0.04004643 0.03598375 0.03482298 0.03250145\n",
            " 0.03366222 0.03366222 0.02959954 0.02263494 0.01973302 0.01799187\n",
            " 0.01625073 0.01741149 0.01915264 0.02205456 0.02205456 0.02031341\n",
            " 0.01799187 0.01567034 0.01392919 0.01218804 0.00928613 0.01044689\n",
            " 0.01450958 0.02089379 0.02147417 0.01334881 0.01160766 0.00986651\n",
            " 0.00812536 0.0034823  0.         0.0126213  0.01155189 0.01175062\n",
            " 0.01267587 0.01393999 0.01533633 0.01677648 0.01823162 0.01969747\n",
            " 0.02117744 0.02267626 0.02419787 0.02574506 0.02731946 0.0289216\n",
            " 0.030551   0.03220629 0.03388534 0.03558539]\n",
            "19 day output [[0.03730328]]\n",
            "20 day input [0.03017992 0.04410911 0.04933256 0.05397562 0.06732443 0.08531631\n",
            " 0.06674405 0.0615206  0.06268137 0.05629716 0.06210099 0.05455601\n",
            " 0.05629716 0.04991294 0.05455601 0.05513639 0.06790482 0.0684852\n",
            " 0.0615206  0.06790482 0.0684852  0.07777133 0.06674405 0.06790482\n",
            " 0.07022635 0.07370865 0.07777133 0.0719675  0.0754498  0.0754498\n",
            " 0.07312826 0.0719675  0.08879861 0.07254788 0.07312826 0.07951248\n",
            " 0.07951248 0.08589669 0.08647707 0.08705746 0.09866512 0.0992455\n",
            " 0.04178758 0.0307603  0.0377249  0.03482298 0.03540337 0.03830528\n",
            " 0.04062681 0.04004643 0.03598375 0.03482298 0.03250145 0.03366222\n",
            " 0.03366222 0.02959954 0.02263494 0.01973302 0.01799187 0.01625073\n",
            " 0.01741149 0.01915264 0.02205456 0.02205456 0.02031341 0.01799187\n",
            " 0.01567034 0.01392919 0.01218804 0.00928613 0.01044689 0.01450958\n",
            " 0.02089379 0.02147417 0.01334881 0.01160766 0.00986651 0.00812536\n",
            " 0.0034823  0.         0.0126213  0.01155189 0.01175062 0.01267587\n",
            " 0.01393999 0.01533633 0.01677648 0.01823162 0.01969747 0.02117744\n",
            " 0.02267626 0.02419787 0.02574506 0.02731946 0.0289216  0.030551\n",
            " 0.03220629 0.03388534 0.03558539 0.03730328]\n",
            "20 day output [[0.03903561]]\n",
            "21 day input [0.04410911 0.04933256 0.05397562 0.06732443 0.08531631 0.06674405\n",
            " 0.0615206  0.06268137 0.05629716 0.06210099 0.05455601 0.05629716\n",
            " 0.04991294 0.05455601 0.05513639 0.06790482 0.0684852  0.0615206\n",
            " 0.06790482 0.0684852  0.07777133 0.06674405 0.06790482 0.07022635\n",
            " 0.07370865 0.07777133 0.0719675  0.0754498  0.0754498  0.07312826\n",
            " 0.0719675  0.08879861 0.07254788 0.07312826 0.07951248 0.07951248\n",
            " 0.08589669 0.08647707 0.08705746 0.09866512 0.0992455  0.04178758\n",
            " 0.0307603  0.0377249  0.03482298 0.03540337 0.03830528 0.04062681\n",
            " 0.04004643 0.03598375 0.03482298 0.03250145 0.03366222 0.03366222\n",
            " 0.02959954 0.02263494 0.01973302 0.01799187 0.01625073 0.01741149\n",
            " 0.01915264 0.02205456 0.02205456 0.02031341 0.01799187 0.01567034\n",
            " 0.01392919 0.01218804 0.00928613 0.01044689 0.01450958 0.02089379\n",
            " 0.02147417 0.01334881 0.01160766 0.00986651 0.00812536 0.0034823\n",
            " 0.         0.0126213  0.01155189 0.01175062 0.01267587 0.01393999\n",
            " 0.01533633 0.01677648 0.01823162 0.01969747 0.02117744 0.02267626\n",
            " 0.02419787 0.02574506 0.02731946 0.0289216  0.030551   0.03220629\n",
            " 0.03388534 0.03558539 0.03730328 0.03903561]\n",
            "21 day output [[0.04077893]]\n",
            "22 day input [0.04933256 0.05397562 0.06732443 0.08531631 0.06674405 0.0615206\n",
            " 0.06268137 0.05629716 0.06210099 0.05455601 0.05629716 0.04991294\n",
            " 0.05455601 0.05513639 0.06790482 0.0684852  0.0615206  0.06790482\n",
            " 0.0684852  0.07777133 0.06674405 0.06790482 0.07022635 0.07370865\n",
            " 0.07777133 0.0719675  0.0754498  0.0754498  0.07312826 0.0719675\n",
            " 0.08879861 0.07254788 0.07312826 0.07951248 0.07951248 0.08589669\n",
            " 0.08647707 0.08705746 0.09866512 0.0992455  0.04178758 0.0307603\n",
            " 0.0377249  0.03482298 0.03540337 0.03830528 0.04062681 0.04004643\n",
            " 0.03598375 0.03482298 0.03250145 0.03366222 0.03366222 0.02959954\n",
            " 0.02263494 0.01973302 0.01799187 0.01625073 0.01741149 0.01915264\n",
            " 0.02205456 0.02205456 0.02031341 0.01799187 0.01567034 0.01392919\n",
            " 0.01218804 0.00928613 0.01044689 0.01450958 0.02089379 0.02147417\n",
            " 0.01334881 0.01160766 0.00986651 0.00812536 0.0034823  0.\n",
            " 0.0126213  0.01155189 0.01175062 0.01267587 0.01393999 0.01533633\n",
            " 0.01677648 0.01823162 0.01969747 0.02117744 0.02267626 0.02419787\n",
            " 0.02574506 0.02731946 0.0289216  0.030551   0.03220629 0.03388534\n",
            " 0.03558539 0.03730328 0.03903561 0.04077893]\n",
            "22 day output [[0.0425298]]\n",
            "23 day input [0.05397562 0.06732443 0.08531631 0.06674405 0.0615206  0.06268137\n",
            " 0.05629716 0.06210099 0.05455601 0.05629716 0.04991294 0.05455601\n",
            " 0.05513639 0.06790482 0.0684852  0.0615206  0.06790482 0.0684852\n",
            " 0.07777133 0.06674405 0.06790482 0.07022635 0.07370865 0.07777133\n",
            " 0.0719675  0.0754498  0.0754498  0.07312826 0.0719675  0.08879861\n",
            " 0.07254788 0.07312826 0.07951248 0.07951248 0.08589669 0.08647707\n",
            " 0.08705746 0.09866512 0.0992455  0.04178758 0.0307603  0.0377249\n",
            " 0.03482298 0.03540337 0.03830528 0.04062681 0.04004643 0.03598375\n",
            " 0.03482298 0.03250145 0.03366222 0.03366222 0.02959954 0.02263494\n",
            " 0.01973302 0.01799187 0.01625073 0.01741149 0.01915264 0.02205456\n",
            " 0.02205456 0.02031341 0.01799187 0.01567034 0.01392919 0.01218804\n",
            " 0.00928613 0.01044689 0.01450958 0.02089379 0.02147417 0.01334881\n",
            " 0.01160766 0.00986651 0.00812536 0.0034823  0.         0.0126213\n",
            " 0.01155189 0.01175062 0.01267587 0.01393999 0.01533633 0.01677648\n",
            " 0.01823162 0.01969747 0.02117744 0.02267626 0.02419787 0.02574506\n",
            " 0.02731946 0.0289216  0.030551   0.03220629 0.03388534 0.03558539\n",
            " 0.03730328 0.03903561 0.04077893 0.0425298 ]\n",
            "23 day output [[0.04428493]]\n",
            "24 day input [0.06732443 0.08531631 0.06674405 0.0615206  0.06268137 0.05629716\n",
            " 0.06210099 0.05455601 0.05629716 0.04991294 0.05455601 0.05513639\n",
            " 0.06790482 0.0684852  0.0615206  0.06790482 0.0684852  0.07777133\n",
            " 0.06674405 0.06790482 0.07022635 0.07370865 0.07777133 0.0719675\n",
            " 0.0754498  0.0754498  0.07312826 0.0719675  0.08879861 0.07254788\n",
            " 0.07312826 0.07951248 0.07951248 0.08589669 0.08647707 0.08705746\n",
            " 0.09866512 0.0992455  0.04178758 0.0307603  0.0377249  0.03482298\n",
            " 0.03540337 0.03830528 0.04062681 0.04004643 0.03598375 0.03482298\n",
            " 0.03250145 0.03366222 0.03366222 0.02959954 0.02263494 0.01973302\n",
            " 0.01799187 0.01625073 0.01741149 0.01915264 0.02205456 0.02205456\n",
            " 0.02031341 0.01799187 0.01567034 0.01392919 0.01218804 0.00928613\n",
            " 0.01044689 0.01450958 0.02089379 0.02147417 0.01334881 0.01160766\n",
            " 0.00986651 0.00812536 0.0034823  0.         0.0126213  0.01155189\n",
            " 0.01175062 0.01267587 0.01393999 0.01533633 0.01677648 0.01823162\n",
            " 0.01969747 0.02117744 0.02267626 0.02419787 0.02574506 0.02731946\n",
            " 0.0289216  0.030551   0.03220629 0.03388534 0.03558539 0.03730328\n",
            " 0.03903561 0.04077893 0.0425298  0.04428493]\n",
            "24 day output [[0.04604125]]\n",
            "25 day input [0.08531631 0.06674405 0.0615206  0.06268137 0.05629716 0.06210099\n",
            " 0.05455601 0.05629716 0.04991294 0.05455601 0.05513639 0.06790482\n",
            " 0.0684852  0.0615206  0.06790482 0.0684852  0.07777133 0.06674405\n",
            " 0.06790482 0.07022635 0.07370865 0.07777133 0.0719675  0.0754498\n",
            " 0.0754498  0.07312826 0.0719675  0.08879861 0.07254788 0.07312826\n",
            " 0.07951248 0.07951248 0.08589669 0.08647707 0.08705746 0.09866512\n",
            " 0.0992455  0.04178758 0.0307603  0.0377249  0.03482298 0.03540337\n",
            " 0.03830528 0.04062681 0.04004643 0.03598375 0.03482298 0.03250145\n",
            " 0.03366222 0.03366222 0.02959954 0.02263494 0.01973302 0.01799187\n",
            " 0.01625073 0.01741149 0.01915264 0.02205456 0.02205456 0.02031341\n",
            " 0.01799187 0.01567034 0.01392919 0.01218804 0.00928613 0.01044689\n",
            " 0.01450958 0.02089379 0.02147417 0.01334881 0.01160766 0.00986651\n",
            " 0.00812536 0.0034823  0.         0.0126213  0.01155189 0.01175062\n",
            " 0.01267587 0.01393999 0.01533633 0.01677648 0.01823162 0.01969747\n",
            " 0.02117744 0.02267626 0.02419787 0.02574506 0.02731946 0.0289216\n",
            " 0.030551   0.03220629 0.03388534 0.03558539 0.03730328 0.03903561\n",
            " 0.04077893 0.0425298  0.04428493 0.04604125]\n",
            "25 day output [[0.04779596]]\n",
            "26 day input [0.06674405 0.0615206  0.06268137 0.05629716 0.06210099 0.05455601\n",
            " 0.05629716 0.04991294 0.05455601 0.05513639 0.06790482 0.0684852\n",
            " 0.0615206  0.06790482 0.0684852  0.07777133 0.06674405 0.06790482\n",
            " 0.07022635 0.07370865 0.07777133 0.0719675  0.0754498  0.0754498\n",
            " 0.07312826 0.0719675  0.08879861 0.07254788 0.07312826 0.07951248\n",
            " 0.07951248 0.08589669 0.08647707 0.08705746 0.09866512 0.0992455\n",
            " 0.04178758 0.0307603  0.0377249  0.03482298 0.03540337 0.03830528\n",
            " 0.04062681 0.04004643 0.03598375 0.03482298 0.03250145 0.03366222\n",
            " 0.03366222 0.02959954 0.02263494 0.01973302 0.01799187 0.01625073\n",
            " 0.01741149 0.01915264 0.02205456 0.02205456 0.02031341 0.01799187\n",
            " 0.01567034 0.01392919 0.01218804 0.00928613 0.01044689 0.01450958\n",
            " 0.02089379 0.02147417 0.01334881 0.01160766 0.00986651 0.00812536\n",
            " 0.0034823  0.         0.0126213  0.01155189 0.01175062 0.01267587\n",
            " 0.01393999 0.01533633 0.01677648 0.01823162 0.01969747 0.02117744\n",
            " 0.02267626 0.02419787 0.02574506 0.02731946 0.0289216  0.030551\n",
            " 0.03220629 0.03388534 0.03558539 0.03730328 0.03903561 0.04077893\n",
            " 0.0425298  0.04428493 0.04604125 0.04779596]\n",
            "26 day output [[0.0495465]]\n",
            "27 day input [0.0615206  0.06268137 0.05629716 0.06210099 0.05455601 0.05629716\n",
            " 0.04991294 0.05455601 0.05513639 0.06790482 0.0684852  0.0615206\n",
            " 0.06790482 0.0684852  0.07777133 0.06674405 0.06790482 0.07022635\n",
            " 0.07370865 0.07777133 0.0719675  0.0754498  0.0754498  0.07312826\n",
            " 0.0719675  0.08879861 0.07254788 0.07312826 0.07951248 0.07951248\n",
            " 0.08589669 0.08647707 0.08705746 0.09866512 0.0992455  0.04178758\n",
            " 0.0307603  0.0377249  0.03482298 0.03540337 0.03830528 0.04062681\n",
            " 0.04004643 0.03598375 0.03482298 0.03250145 0.03366222 0.03366222\n",
            " 0.02959954 0.02263494 0.01973302 0.01799187 0.01625073 0.01741149\n",
            " 0.01915264 0.02205456 0.02205456 0.02031341 0.01799187 0.01567034\n",
            " 0.01392919 0.01218804 0.00928613 0.01044689 0.01450958 0.02089379\n",
            " 0.02147417 0.01334881 0.01160766 0.00986651 0.00812536 0.0034823\n",
            " 0.         0.0126213  0.01155189 0.01175062 0.01267587 0.01393999\n",
            " 0.01533633 0.01677648 0.01823162 0.01969747 0.02117744 0.02267626\n",
            " 0.02419787 0.02574506 0.02731946 0.0289216  0.030551   0.03220629\n",
            " 0.03388534 0.03558539 0.03730328 0.03903561 0.04077893 0.0425298\n",
            " 0.04428493 0.04604125 0.04779596 0.0495465 ]\n",
            "27 day output [[0.05129055]]\n",
            "28 day input [0.06268137 0.05629716 0.06210099 0.05455601 0.05629716 0.04991294\n",
            " 0.05455601 0.05513639 0.06790482 0.0684852  0.0615206  0.06790482\n",
            " 0.0684852  0.07777133 0.06674405 0.06790482 0.07022635 0.07370865\n",
            " 0.07777133 0.0719675  0.0754498  0.0754498  0.07312826 0.0719675\n",
            " 0.08879861 0.07254788 0.07312826 0.07951248 0.07951248 0.08589669\n",
            " 0.08647707 0.08705746 0.09866512 0.0992455  0.04178758 0.0307603\n",
            " 0.0377249  0.03482298 0.03540337 0.03830528 0.04062681 0.04004643\n",
            " 0.03598375 0.03482298 0.03250145 0.03366222 0.03366222 0.02959954\n",
            " 0.02263494 0.01973302 0.01799187 0.01625073 0.01741149 0.01915264\n",
            " 0.02205456 0.02205456 0.02031341 0.01799187 0.01567034 0.01392919\n",
            " 0.01218804 0.00928613 0.01044689 0.01450958 0.02089379 0.02147417\n",
            " 0.01334881 0.01160766 0.00986651 0.00812536 0.0034823  0.\n",
            " 0.0126213  0.01155189 0.01175062 0.01267587 0.01393999 0.01533633\n",
            " 0.01677648 0.01823162 0.01969747 0.02117744 0.02267626 0.02419787\n",
            " 0.02574506 0.02731946 0.0289216  0.030551   0.03220629 0.03388534\n",
            " 0.03558539 0.03730328 0.03903561 0.04077893 0.0425298  0.04428493\n",
            " 0.04604125 0.04779596 0.0495465  0.05129055]\n",
            "28 day output [[0.05302615]]\n",
            "29 day input [0.05629716 0.06210099 0.05455601 0.05629716 0.04991294 0.05455601\n",
            " 0.05513639 0.06790482 0.0684852  0.0615206  0.06790482 0.0684852\n",
            " 0.07777133 0.06674405 0.06790482 0.07022635 0.07370865 0.07777133\n",
            " 0.0719675  0.0754498  0.0754498  0.07312826 0.0719675  0.08879861\n",
            " 0.07254788 0.07312826 0.07951248 0.07951248 0.08589669 0.08647707\n",
            " 0.08705746 0.09866512 0.0992455  0.04178758 0.0307603  0.0377249\n",
            " 0.03482298 0.03540337 0.03830528 0.04062681 0.04004643 0.03598375\n",
            " 0.03482298 0.03250145 0.03366222 0.03366222 0.02959954 0.02263494\n",
            " 0.01973302 0.01799187 0.01625073 0.01741149 0.01915264 0.02205456\n",
            " 0.02205456 0.02031341 0.01799187 0.01567034 0.01392919 0.01218804\n",
            " 0.00928613 0.01044689 0.01450958 0.02089379 0.02147417 0.01334881\n",
            " 0.01160766 0.00986651 0.00812536 0.0034823  0.         0.0126213\n",
            " 0.01155189 0.01175062 0.01267587 0.01393999 0.01533633 0.01677648\n",
            " 0.01823162 0.01969747 0.02117744 0.02267626 0.02419787 0.02574506\n",
            " 0.02731946 0.0289216  0.030551   0.03220629 0.03388534 0.03558539\n",
            " 0.03730328 0.03903561 0.04077893 0.0425298  0.04428493 0.04604125\n",
            " 0.04779596 0.0495465  0.05129055 0.05302615]\n",
            "29 day output [[0.05475145]]\n",
            "[[0.012621295638382435], [0.011551891453564167], [0.011750615201890469], [0.012675871141254902], [0.013939985074102879], [0.015336327254772186], [0.016776476055383682], [0.018231624737381935], [0.019697465002536774], [0.021177437156438828], [0.022676263004541397], [0.02419787272810936], [0.025745056569576263], [0.02731945738196373], [0.028921596705913544], [0.030550997704267502], [0.03220628947019577], [0.03388534486293793], [0.03558538854122162], [0.03730327636003494], [0.0390356071293354], [0.040778931230306625], [0.04252979904413223], [0.04428493231534958], [0.046041253954172134], [0.04779595881700516], [0.0495464988052845], [0.05129054933786392], [0.05302615091204643], [0.054751452058553696]]\n"
          ]
        }
      ]
    },
    {
      "cell_type": "code",
      "source": [
        "day_new = np.arange(1, 101)\n",
        "day_pred = np.arange(101, 131)"
      ],
      "metadata": {
        "id": "Nl9HdvZR7bA0"
      },
      "execution_count": null,
      "outputs": []
    },
    {
      "cell_type": "code",
      "source": [
        "len(df_close)"
      ],
      "metadata": {
        "colab": {
          "base_uri": "https://localhost:8080/"
        },
        "id": "_M1sm9qk_ow1",
        "outputId": "1d3fba29-fc95-4ea1-abb7-f7a07fc268f7"
      },
      "execution_count": null,
      "outputs": [
        {
          "output_type": "execute_result",
          "data": {
            "text/plain": [
              "1256"
            ]
          },
          "metadata": {},
          "execution_count": 83
        }
      ]
    },
    {
      "cell_type": "code",
      "source": [
        "plt.figure(figsize=(10,6))\n",
        "plt.plot(day_new, scaler.inverse_transform(df_close[len(df_close)-100:]))\n",
        "plt.plot(day_pred, scaler.inverse_transform(output))\n",
        "plt.legend(['Previous Data', 'Forecast'])"
      ],
      "metadata": {
        "colab": {
          "base_uri": "https://localhost:8080/",
          "height": 543
        },
        "id": "T_zHoKCe_yn8",
        "outputId": "d660e247-a888-4976-dbac-442a7296bf3c"
      },
      "execution_count": null,
      "outputs": [
        {
          "output_type": "execute_result",
          "data": {
            "text/plain": [
              "<matplotlib.legend.Legend at 0x7fd18d174df0>"
            ]
          },
          "metadata": {},
          "execution_count": 84
        },
        {
          "output_type": "display_data",
          "data": {
            "text/plain": [
              "<Figure size 1000x600 with 1 Axes>"
            ],
            "image/png": "[encoded data removed]"
          },
          "metadata": {}
        }
      ]
    },
    {
      "cell_type": "code",
      "source": [
        "df_new = df_close.tolist()\n",
        "df_new.extend(output)\n",
        "plt.figure(figsize=(10,6))\n",
        "plt.plot(df_new[1000:])"
      ],
      "metadata": {
        "colab": {
          "base_uri": "https://localhost:8080/",
          "height": 539
        },
        "id": "NbrRqY0KAuQi",
        "outputId": "22b6ef0d-666c-409c-fae0-4239c81eee41"
      },
      "execution_count": null,
      "outputs": [
        {
          "output_type": "execute_result",
          "data": {
            "text/plain": [
              "[<matplotlib.lines.Line2D at 0x7fd18c801750>]"
            ]
          },
          "metadata": {},
          "execution_count": 85
        },
        {
          "output_type": "display_data",
          "data": {
            "text/plain": [
              "<Figure size 1000x600 with 1 Axes>"
            ],
            "image/png": "[encoded data removed]"
          },
          "metadata": {}
        }
      ]
    },
    {
      "cell_type": "code",
      "source": [
        "df_new = scaler.inverse_transform(df_new).tolist()\n",
        "plt.figure(figsize=(10,6))\n",
        "plt.plot(df_new)"
      ],
      "metadata": {
        "colab": {
          "base_uri": "https://localhost:8080/",
          "height": 543
        },
        "id": "s5eWn3PmEZ28",
        "outputId": "eb16c24b-f5e4-4460-c1e5-f0df979d07ed"
      },
      "execution_count": null,
      "outputs": [
        {
          "output_type": "execute_result",
          "data": {
            "text/plain": [
              "[<matplotlib.lines.Line2D at 0x7fd18c717100>]"
            ]
          },
          "metadata": {},
          "execution_count": 86
        },
        {
          "output_type": "display_data",
          "data": {
            "text/plain": [
              "<Figure size 1000x600 with 1 Axes>"
            ],
            "image/png": "[encoded data removed]"
          },
          "metadata": {}
        }
      ]
    },
    {
      "cell_type": "markdown",
      "source": [
        "---"
      ],
      "metadata": {
        "id": "TtoS17sIFK6h"
      }
    }
  ]
}