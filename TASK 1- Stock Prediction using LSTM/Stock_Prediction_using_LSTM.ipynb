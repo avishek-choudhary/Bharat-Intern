{
  "nbformat": 4,
  "nbformat_minor": 0,
  "metadata": {
    "colab": {
      "provenance": [],
      "authorship_tag": "ABX9TyMjLKXBLkKVhXjmpramOrrK"
    },
    "kernelspec": {
      "name": "python3",
      "display_name": "Python 3"
    },
    "language_info": {
      "name": "python"
    }
  },
  "cells": [
    {
      "cell_type": "markdown",
      "source": [
        "# TASK 1\n",
        "## Stock Prediction using LSTM\n",
        "## Author: *Avishek Choudhary*\n",
        "<a href=\"https://www.linkedin.com/in/avishek-choudhary\"> ![](https://img.shields.io/badge/LinkedIn-ffefdb?style=for-the-badge&logo=linkedin&logoColor=blue)</a> <a href=\"https://www.github.com/avishek-choudhary\"> ![](https://img.shields.io/badge/Github-ffefdb?style=for-the-badge&logo=github&logoColor=black) </a>\n",
        "\n",
        "This is a time series forecasting problem. It is an attempt to forecasting the data by understanding the previous data.\n",
        "\n",
        "Stock data is a sequential data that is they need to be analysed according to the order by time. In Recurrent Neural Network RNN we are dealt with problem of vanishing gradient thus previous data will become less significant after long backpropagation. This means it's memory is not that deep.\n",
        "\n",
        "Long short term memory (LSTM) is a model that increases the memory of recurrent neural networks. Recurrent neural networks hold short term memory in that they allow earlier determining information to be employed in the current neural networks. For immediate tasks, the earlier data is used. We may not possess a list of all of the earlier information for the neural node. In RNNs, LSTMs are very widely used in Neural networks. So we use Long short term memory LSTM. This is because stock prediction need long term memory.\n",
        "\n",
        "**Table of Contents:**\n",
        "\n",
        "- [Problem Statement](#1)\n",
        "- [Data Collection](#2)\n",
        "- [Data Exploration](#3)\n",
        "- [Data Pre-processing](#4)\n",
        "- [Creating a stacked LSTM model](#5)\n",
        "- [Prediction and plot of the test data](#6)\n",
        "- [Forecast for 30 days](#7)"
      ],
      "metadata": {
        "id": "Kf07xbstXceU"
      }
    },
    {
      "cell_type": "markdown",
      "source": [
        "### 1. Problem Statement <a id=\"1\"></a>\n",
        "Take stock price of any company and predicts its price by using LSTM."
      ],
      "metadata": {
        "id": "o6-GQbgfjdQI"
      }
    },
    {
      "cell_type": "markdown",
      "source": [
        "\n",
        "\n",
        "---"
      ],
      "metadata": {
        "id": "NtLfeTz50MP-"
      }
    },
    {
      "cell_type": "markdown",
      "source": [
        "### 2. Data Collection <a id=\"2\"></a>\n",
        "Here I'm using Tata Motors (TTM) stocks data.\n",
        "\n",
        "Collecting data from Tiingo.com using it's API."
      ],
      "metadata": {
        "id": "GYzPargLSgOm"
      }
    },
    {
      "cell_type": "code",
      "execution_count": 98,
      "metadata": {
        "id": "HzvECREXNjoq"
      },
      "outputs": [],
      "source": [
        "#importing required libraries\n",
        "\n",
        "import numpy as np\n",
        "import pandas as pd\n",
        "import matplotlib.pyplot as plt\n",
        "import pandas_datareader as pdr\n",
        "import sklearn"
      ]
    },
    {
      "cell_type": "code",
      "source": [
        "df = pdr.get_data_tiingo('TTM', api_key = key)        #'key' store the API-key [!deleted]\n",
        "df.to_csv('TTM.csv')                                  #saving the data to CSV file"
      ],
      "metadata": {
        "id": "r5OhemgESZeo"
      },
      "execution_count": null,
      "outputs": []
    },
    {
      "cell_type": "markdown",
      "source": [
        "\n",
        "\n",
        "---"
      ],
      "metadata": {
        "id": "wt9rwdgF0G8r"
      }
    },
    {
      "cell_type": "markdown",
      "source": [
        "### 3. Data Exploration <a id=\"3\"></a>"
      ],
      "metadata": {
        "id": "vln6_tBCq56w"
      }
    },
    {
      "cell_type": "code",
      "source": [
        "df = pd.read_csv('TTM.csv')\n",
        "df.head()"
      ],
      "metadata": {
        "colab": {
          "base_uri": "https://localhost:8080/",
          "height": 206
        },
        "id": "lX-rVi8fTJLm",
        "outputId": "790248f7-8961-43df-8e00-a705fe9e2142"
      },
      "execution_count": 100,
      "outputs": [
        {
          "output_type": "execute_result",
          "data": {
            "text/plain": [
              "  symbol                       date  close   high    low   open   volume  \\\n",
              "0    TTM  2018-10-01 00:00:00+00:00  15.57  15.76  15.50  15.68  1261243   \n",
              "1    TTM  2018-10-02 00:00:00+00:00  15.52  15.70  15.43  15.65  1118683   \n",
              "2    TTM  2018-10-03 00:00:00+00:00  15.38  15.58  15.33  15.50   917886   \n",
              "3    TTM  2018-10-04 00:00:00+00:00  14.93  15.26  14.82  15.26  1977704   \n",
              "4    TTM  2018-10-05 00:00:00+00:00  14.52  14.70  14.23  14.70  2157804   \n",
              "\n",
              "   adjClose  adjHigh  adjLow  adjOpen  adjVolume  divCash  splitFactor  \n",
              "0     15.57    15.76   15.50    15.68    1261243      0.0          1.0  \n",
              "1     15.52    15.70   15.43    15.65    1118683      0.0          1.0  \n",
              "2     15.38    15.58   15.33    15.50     917886      0.0          1.0  \n",
              "3     14.93    15.26   14.82    15.26    1977704      0.0          1.0  \n",
              "4     14.52    14.70   14.23    14.70    2157804      0.0          1.0  "
            ],
            "text/html": [
              "\n",
              "  <div id=\"df-45f152a5-fe0c-4423-9a92-11494e3cada8\" class=\"colab-df-container\">\n",
              "    <div>\n",
              "<style scoped>\n",
              "    .dataframe tbody tr th:only-of-type {\n",
              "        vertical-align: middle;\n",
              "    }\n",
              "\n",
              "    .dataframe tbody tr th {\n",
              "        vertical-align: top;\n",
              "    }\n",
              "\n",
              "    .dataframe thead th {\n",
              "        text-align: right;\n",
              "    }\n",
              "</style>\n",
              "<table border=\"1\" class=\"dataframe\">\n",
              "  <thead>\n",
              "    <tr style=\"text-align: right;\">\n",
              "      <th></th>\n",
              "      <th>symbol</th>\n",
              "      <th>date</th>\n",
              "      <th>close</th>\n",
              "      <th>high</th>\n",
              "      <th>low</th>\n",
              "      <th>open</th>\n",
              "      <th>volume</th>\n",
              "      <th>adjClose</th>\n",
              "      <th>adjHigh</th>\n",
              "      <th>adjLow</th>\n",
              "      <th>adjOpen</th>\n",
              "      <th>adjVolume</th>\n",
              "      <th>divCash</th>\n",
              "      <th>splitFactor</th>\n",
              "    </tr>\n",
              "  </thead>\n",
              "  <tbody>\n",
              "    <tr>\n",
              "      <th>0</th>\n",
              "      <td>TTM</td>\n",
              "      <td>2018-10-01 00:00:00+00:00</td>\n",
              "      <td>15.57</td>\n",
              "      <td>15.76</td>\n",
              "      <td>15.50</td>\n",
              "      <td>15.68</td>\n",
              "      <td>1261243</td>\n",
              "      <td>15.57</td>\n",
              "      <td>15.76</td>\n",
              "      <td>15.50</td>\n",
              "      <td>15.68</td>\n",
              "      <td>1261243</td>\n",
              "      <td>0.0</td>\n",
              "      <td>1.0</td>\n",
              "    </tr>\n",
              "    <tr>\n",
              "      <th>1</th>\n",
              "      <td>TTM</td>\n",
              "      <td>2018-10-02 00:00:00+00:00</td>\n",
              "      <td>15.52</td>\n",
              "      <td>15.70</td>\n",
              "      <td>15.43</td>\n",
              "      <td>15.65</td>\n",
              "      <td>1118683</td>\n",
              "      <td>15.52</td>\n",
              "      <td>15.70</td>\n",
              "      <td>15.43</td>\n",
              "      <td>15.65</td>\n",
              "      <td>1118683</td>\n",
              "      <td>0.0</td>\n",
              "      <td>1.0</td>\n",
              "    </tr>\n",
              "    <tr>\n",
              "      <th>2</th>\n",
              "      <td>TTM</td>\n",
              "      <td>2018-10-03 00:00:00+00:00</td>\n",
              "      <td>15.38</td>\n",
              "      <td>15.58</td>\n",
              "      <td>15.33</td>\n",
              "      <td>15.50</td>\n",
              "      <td>917886</td>\n",
              "      <td>15.38</td>\n",
              "      <td>15.58</td>\n",
              "      <td>15.33</td>\n",
              "      <td>15.50</td>\n",
              "      <td>917886</td>\n",
              "      <td>0.0</td>\n",
              "      <td>1.0</td>\n",
              "    </tr>\n",
              "    <tr>\n",
              "      <th>3</th>\n",
              "      <td>TTM</td>\n",
              "      <td>2018-10-04 00:00:00+00:00</td>\n",
              "      <td>14.93</td>\n",
              "      <td>15.26</td>\n",
              "      <td>14.82</td>\n",
              "      <td>15.26</td>\n",
              "      <td>1977704</td>\n",
              "      <td>14.93</td>\n",
              "      <td>15.26</td>\n",
              "      <td>14.82</td>\n",
              "      <td>15.26</td>\n",
              "      <td>1977704</td>\n",
              "      <td>0.0</td>\n",
              "      <td>1.0</td>\n",
              "    </tr>\n",
              "    <tr>\n",
              "      <th>4</th>\n",
              "      <td>TTM</td>\n",
              "      <td>2018-10-05 00:00:00+00:00</td>\n",
              "      <td>14.52</td>\n",
              "      <td>14.70</td>\n",
              "      <td>14.23</td>\n",
              "      <td>14.70</td>\n",
              "      <td>2157804</td>\n",
              "      <td>14.52</td>\n",
              "      <td>14.70</td>\n",
              "      <td>14.23</td>\n",
              "      <td>14.70</td>\n",
              "      <td>2157804</td>\n",
              "      <td>0.0</td>\n",
              "      <td>1.0</td>\n",
              "    </tr>\n",
              "  </tbody>\n",
              "</table>\n",
              "</div>\n",
              "    <div class=\"colab-df-buttons\">\n",
              "\n",
              "  <div class=\"colab-df-container\">\n",
              "    <button class=\"colab-df-convert\" onclick=\"convertToInteractive('df-45f152a5-fe0c-4423-9a92-11494e3cada8')\"\n",
              "            title=\"Convert this dataframe to an interactive table.\"\n",
              "            style=\"display:none;\">\n",
              "\n",
              "  <svg xmlns=\"http://www.w3.org/2000/svg\" height=\"24px\" viewBox=\"0 -960 960 960\">\n",
              "    <path d=\"M120-120v-720h720v720H120Zm60-500h600v-160H180v160Zm220 220h160v-160H400v160Zm0 220h160v-160H400v160ZM180-400h160v-160H180v160Zm440 0h160v-160H620v160ZM180-180h160v-160H180v160Zm440 0h160v-160H620v160Z\"/>\n",
              "  </svg>\n",
              "    </button>\n",
              "\n",
              "  <style>\n",
              "    .colab-df-container {\n",
              "      display:flex;\n",
              "      gap: 12px;\n",
              "    }\n",
              "\n",
              "    .colab-df-convert {\n",
              "      background-color: #E8F0FE;\n",
              "      border: none;\n",
              "      border-radius: 50%;\n",
              "      cursor: pointer;\n",
              "      display: none;\n",
              "      fill: #1967D2;\n",
              "      height: 32px;\n",
              "      padding: 0 0 0 0;\n",
              "      width: 32px;\n",
              "    }\n",
              "\n",
              "    .colab-df-convert:hover {\n",
              "      background-color: #E2EBFA;\n",
              "      box-shadow: 0px 1px 2px rgba(60, 64, 67, 0.3), 0px 1px 3px 1px rgba(60, 64, 67, 0.15);\n",
              "      fill: #174EA6;\n",
              "    }\n",
              "\n",
              "    .colab-df-buttons div {\n",
              "      margin-bottom: 4px;\n",
              "    }\n",
              "\n",
              "    [theme=dark] .colab-df-convert {\n",
              "      background-color: #3B4455;\n",
              "      fill: #D2E3FC;\n",
              "    }\n",
              "\n",
              "    [theme=dark] .colab-df-convert:hover {\n",
              "      background-color: #434B5C;\n",
              "      box-shadow: 0px 1px 3px 1px rgba(0, 0, 0, 0.15);\n",
              "      filter: drop-shadow(0px 1px 2px rgba(0, 0, 0, 0.3));\n",
              "      fill: #FFFFFF;\n",
              "    }\n",
              "  </style>\n",
              "\n",
              "    <script>\n",
              "      const buttonEl =\n",
              "        document.querySelector('#df-45f152a5-fe0c-4423-9a92-11494e3cada8 button.colab-df-convert');\n",
              "      buttonEl.style.display =\n",
              "        google.colab.kernel.accessAllowed ? 'block' : 'none';\n",
              "\n",
              "      async function convertToInteractive(key) {\n",
              "        const element = document.querySelector('#df-45f152a5-fe0c-4423-9a92-11494e3cada8');\n",
              "        const dataTable =\n",
              "          await google.colab.kernel.invokeFunction('convertToInteractive',\n",
              "                                                    [key], {});\n",
              "        if (!dataTable) return;\n",
              "\n",
              "        const docLinkHtml = 'Like what you see? Visit the ' +\n",
              "          '<a target=\"_blank\" href=https://colab.research.google.com/notebooks/data_table.ipynb>data table notebook</a>'\n",
              "          + ' to learn more about interactive tables.';\n",
              "        element.innerHTML = '';\n",
              "        dataTable['output_type'] = 'display_data';\n",
              "        await google.colab.output.renderOutput(dataTable, element);\n",
              "        const docLink = document.createElement('div');\n",
              "        docLink.innerHTML = docLinkHtml;\n",
              "        element.appendChild(docLink);\n",
              "      }\n",
              "    </script>\n",
              "  </div>\n",
              "\n",
              "\n",
              "<div id=\"df-1dcc6bc0-c4f5-4e8e-abcb-068d1f6ca1e5\">\n",
              "  <button class=\"colab-df-quickchart\" onclick=\"quickchart('df-1dcc6bc0-c4f5-4e8e-abcb-068d1f6ca1e5')\"\n",
              "            title=\"Suggest charts.\"\n",
              "            style=\"display:none;\">\n",
              "\n",
              "<svg xmlns=\"http://www.w3.org/2000/svg\" height=\"24px\"viewBox=\"0 0 24 24\"\n",
              "     width=\"24px\">\n",
              "    <g>\n",
              "        <path d=\"M19 3H5c-1.1 0-2 .9-2 2v14c0 1.1.9 2 2 2h14c1.1 0 2-.9 2-2V5c0-1.1-.9-2-2-2zM9 17H7v-7h2v7zm4 0h-2V7h2v10zm4 0h-2v-4h2v4z\"/>\n",
              "    </g>\n",
              "</svg>\n",
              "  </button>\n",
              "\n",
              "<style>\n",
              "  .colab-df-quickchart {\n",
              "      --bg-color: #E8F0FE;\n",
              "      --fill-color: #1967D2;\n",
              "      --hover-bg-color: #E2EBFA;\n",
              "      --hover-fill-color: #174EA6;\n",
              "      --disabled-fill-color: #AAA;\n",
              "      --disabled-bg-color: #DDD;\n",
              "  }\n",
              "\n",
              "  [theme=dark] .colab-df-quickchart {\n",
              "      --bg-color: #3B4455;\n",
              "      --fill-color: #D2E3FC;\n",
              "      --hover-bg-color: #434B5C;\n",
              "      --hover-fill-color: #FFFFFF;\n",
              "      --disabled-bg-color: #3B4455;\n",
              "      --disabled-fill-color: #666;\n",
              "  }\n",
              "\n",
              "  .colab-df-quickchart {\n",
              "    background-color: var(--bg-color);\n",
              "    border: none;\n",
              "    border-radius: 50%;\n",
              "    cursor: pointer;\n",
              "    display: none;\n",
              "    fill: var(--fill-color);\n",
              "    height: 32px;\n",
              "    padding: 0;\n",
              "    width: 32px;\n",
              "  }\n",
              "\n",
              "  .colab-df-quickchart:hover {\n",
              "    background-color: var(--hover-bg-color);\n",
              "    box-shadow: 0 1px 2px rgba(60, 64, 67, 0.3), 0 1px 3px 1px rgba(60, 64, 67, 0.15);\n",
              "    fill: var(--button-hover-fill-color);\n",
              "  }\n",
              "\n",
              "  .colab-df-quickchart-complete:disabled,\n",
              "  .colab-df-quickchart-complete:disabled:hover {\n",
              "    background-color: var(--disabled-bg-color);\n",
              "    fill: var(--disabled-fill-color);\n",
              "    box-shadow: none;\n",
              "  }\n",
              "\n",
              "  .colab-df-spinner {\n",
              "    border: 2px solid var(--fill-color);\n",
              "    border-color: transparent;\n",
              "    border-bottom-color: var(--fill-color);\n",
              "    animation:\n",
              "      spin 1s steps(1) infinite;\n",
              "  }\n",
              "\n",
              "  @keyframes spin {\n",
              "    0% {\n",
              "      border-color: transparent;\n",
              "      border-bottom-color: var(--fill-color);\n",
              "      border-left-color: var(--fill-color);\n",
              "    }\n",
              "    20% {\n",
              "      border-color: transparent;\n",
              "      border-left-color: var(--fill-color);\n",
              "      border-top-color: var(--fill-color);\n",
              "    }\n",
              "    30% {\n",
              "      border-color: transparent;\n",
              "      border-left-color: var(--fill-color);\n",
              "      border-top-color: var(--fill-color);\n",
              "      border-right-color: var(--fill-color);\n",
              "    }\n",
              "    40% {\n",
              "      border-color: transparent;\n",
              "      border-right-color: var(--fill-color);\n",
              "      border-top-color: var(--fill-color);\n",
              "    }\n",
              "    60% {\n",
              "      border-color: transparent;\n",
              "      border-right-color: var(--fill-color);\n",
              "    }\n",
              "    80% {\n",
              "      border-color: transparent;\n",
              "      border-right-color: var(--fill-color);\n",
              "      border-bottom-color: var(--fill-color);\n",
              "    }\n",
              "    90% {\n",
              "      border-color: transparent;\n",
              "      border-bottom-color: var(--fill-color);\n",
              "    }\n",
              "  }\n",
              "</style>\n",
              "\n",
              "  <script>\n",
              "    async function quickchart(key) {\n",
              "      const quickchartButtonEl =\n",
              "        document.querySelector('#' + key + ' button');\n",
              "      quickchartButtonEl.disabled = true;  // To prevent multiple clicks.\n",
              "      quickchartButtonEl.classList.add('colab-df-spinner');\n",
              "      try {\n",
              "        const charts = await google.colab.kernel.invokeFunction(\n",
              "            'suggestCharts', [key], {});\n",
              "      } catch (error) {\n",
              "        console.error('Error during call to suggestCharts:', error);\n",
              "      }\n",
              "      quickchartButtonEl.classList.remove('colab-df-spinner');\n",
              "      quickchartButtonEl.classList.add('colab-df-quickchart-complete');\n",
              "    }\n",
              "    (() => {\n",
              "      let quickchartButtonEl =\n",
              "        document.querySelector('#df-1dcc6bc0-c4f5-4e8e-abcb-068d1f6ca1e5 button');\n",
              "      quickchartButtonEl.style.display =\n",
              "        google.colab.kernel.accessAllowed ? 'block' : 'none';\n",
              "    })();\n",
              "  </script>\n",
              "</div>\n",
              "    </div>\n",
              "  </div>\n"
            ]
          },
          "metadata": {},
          "execution_count": 100
        }
      ]
    },
    {
      "cell_type": "code",
      "source": [
        "df.info()"
      ],
      "metadata": {
        "colab": {
          "base_uri": "https://localhost:8080/"
        },
        "id": "-WI5KkOvZ_YC",
        "outputId": "cd012f45-b376-4004-bdfe-9971a728350c"
      },
      "execution_count": 101,
      "outputs": [
        {
          "output_type": "stream",
          "name": "stdout",
          "text": [
            "<class 'pandas.core.frame.DataFrame'>\n",
            "RangeIndex: 1162 entries, 0 to 1161\n",
            "Data columns (total 14 columns):\n",
            " #   Column       Non-Null Count  Dtype  \n",
            "---  ------       --------------  -----  \n",
            " 0   symbol       1162 non-null   object \n",
            " 1   date         1162 non-null   object \n",
            " 2   close        1162 non-null   float64\n",
            " 3   high         1162 non-null   float64\n",
            " 4   low          1162 non-null   float64\n",
            " 5   open         1162 non-null   float64\n",
            " 6   volume       1162 non-null   int64  \n",
            " 7   adjClose     1162 non-null   float64\n",
            " 8   adjHigh      1162 non-null   float64\n",
            " 9   adjLow       1162 non-null   float64\n",
            " 10  adjOpen      1162 non-null   float64\n",
            " 11  adjVolume    1162 non-null   int64  \n",
            " 12  divCash      1162 non-null   float64\n",
            " 13  splitFactor  1162 non-null   float64\n",
            "dtypes: float64(10), int64(2), object(2)\n",
            "memory usage: 127.2+ KB\n"
          ]
        }
      ]
    },
    {
      "cell_type": "markdown",
      "source": [
        "The dataset contains 14 columns associated with time series like the date and the different variables like close, high, low and volume.\n",
        "\n",
        "We will use **close** column values for our experimentation of time series with LSTM."
      ],
      "metadata": {
        "id": "WbzlulDRI_CG"
      }
    },
    {
      "cell_type": "code",
      "source": [
        "df = pd.read_csv('TTM.csv', parse_dates=True, index_col='date')\n",
        "df.head()"
      ],
      "metadata": {
        "colab": {
          "base_uri": "https://localhost:8080/",
          "height": 238
        },
        "id": "o1xR_aykaPGB",
        "outputId": "0319af43-8743-45b5-af3e-e3b8a64ba56c"
      },
      "execution_count": 102,
      "outputs": [
        {
          "output_type": "execute_result",
          "data": {
            "text/plain": [
              "                          symbol  close   high    low   open   volume  \\\n",
              "date                                                                    \n",
              "2018-10-01 00:00:00+00:00    TTM  15.57  15.76  15.50  15.68  1261243   \n",
              "2018-10-02 00:00:00+00:00    TTM  15.52  15.70  15.43  15.65  1118683   \n",
              "2018-10-03 00:00:00+00:00    TTM  15.38  15.58  15.33  15.50   917886   \n",
              "2018-10-04 00:00:00+00:00    TTM  14.93  15.26  14.82  15.26  1977704   \n",
              "2018-10-05 00:00:00+00:00    TTM  14.52  14.70  14.23  14.70  2157804   \n",
              "\n",
              "                           adjClose  adjHigh  adjLow  adjOpen  adjVolume  \\\n",
              "date                                                                       \n",
              "2018-10-01 00:00:00+00:00     15.57    15.76   15.50    15.68    1261243   \n",
              "2018-10-02 00:00:00+00:00     15.52    15.70   15.43    15.65    1118683   \n",
              "2018-10-03 00:00:00+00:00     15.38    15.58   15.33    15.50     917886   \n",
              "2018-10-04 00:00:00+00:00     14.93    15.26   14.82    15.26    1977704   \n",
              "2018-10-05 00:00:00+00:00     14.52    14.70   14.23    14.70    2157804   \n",
              "\n",
              "                           divCash  splitFactor  \n",
              "date                                             \n",
              "2018-10-01 00:00:00+00:00      0.0          1.0  \n",
              "2018-10-02 00:00:00+00:00      0.0          1.0  \n",
              "2018-10-03 00:00:00+00:00      0.0          1.0  \n",
              "2018-10-04 00:00:00+00:00      0.0          1.0  \n",
              "2018-10-05 00:00:00+00:00      0.0          1.0  "
            ],
            "text/html": [
              "\n",
              "  <div id=\"df-34def7c5-b1cd-4f81-886e-4e9ecb77f20a\" class=\"colab-df-container\">\n",
              "    <div>\n",
              "<style scoped>\n",
              "    .dataframe tbody tr th:only-of-type {\n",
              "        vertical-align: middle;\n",
              "    }\n",
              "\n",
              "    .dataframe tbody tr th {\n",
              "        vertical-align: top;\n",
              "    }\n",
              "\n",
              "    .dataframe thead th {\n",
              "        text-align: right;\n",
              "    }\n",
              "</style>\n",
              "<table border=\"1\" class=\"dataframe\">\n",
              "  <thead>\n",
              "    <tr style=\"text-align: right;\">\n",
              "      <th></th>\n",
              "      <th>symbol</th>\n",
              "      <th>close</th>\n",
              "      <th>high</th>\n",
              "      <th>low</th>\n",
              "      <th>open</th>\n",
              "      <th>volume</th>\n",
              "      <th>adjClose</th>\n",
              "      <th>adjHigh</th>\n",
              "      <th>adjLow</th>\n",
              "      <th>adjOpen</th>\n",
              "      <th>adjVolume</th>\n",
              "      <th>divCash</th>\n",
              "      <th>splitFactor</th>\n",
              "    </tr>\n",
              "    <tr>\n",
              "      <th>date</th>\n",
              "      <th></th>\n",
              "      <th></th>\n",
              "      <th></th>\n",
              "      <th></th>\n",
              "      <th></th>\n",
              "      <th></th>\n",
              "      <th></th>\n",
              "      <th></th>\n",
              "      <th></th>\n",
              "      <th></th>\n",
              "      <th></th>\n",
              "      <th></th>\n",
              "      <th></th>\n",
              "    </tr>\n",
              "  </thead>\n",
              "  <tbody>\n",
              "    <tr>\n",
              "      <th>2018-10-01 00:00:00+00:00</th>\n",
              "      <td>TTM</td>\n",
              "      <td>15.57</td>\n",
              "      <td>15.76</td>\n",
              "      <td>15.50</td>\n",
              "      <td>15.68</td>\n",
              "      <td>1261243</td>\n",
              "      <td>15.57</td>\n",
              "      <td>15.76</td>\n",
              "      <td>15.50</td>\n",
              "      <td>15.68</td>\n",
              "      <td>1261243</td>\n",
              "      <td>0.0</td>\n",
              "      <td>1.0</td>\n",
              "    </tr>\n",
              "    <tr>\n",
              "      <th>2018-10-02 00:00:00+00:00</th>\n",
              "      <td>TTM</td>\n",
              "      <td>15.52</td>\n",
              "      <td>15.70</td>\n",
              "      <td>15.43</td>\n",
              "      <td>15.65</td>\n",
              "      <td>1118683</td>\n",
              "      <td>15.52</td>\n",
              "      <td>15.70</td>\n",
              "      <td>15.43</td>\n",
              "      <td>15.65</td>\n",
              "      <td>1118683</td>\n",
              "      <td>0.0</td>\n",
              "      <td>1.0</td>\n",
              "    </tr>\n",
              "    <tr>\n",
              "      <th>2018-10-03 00:00:00+00:00</th>\n",
              "      <td>TTM</td>\n",
              "      <td>15.38</td>\n",
              "      <td>15.58</td>\n",
              "      <td>15.33</td>\n",
              "      <td>15.50</td>\n",
              "      <td>917886</td>\n",
              "      <td>15.38</td>\n",
              "      <td>15.58</td>\n",
              "      <td>15.33</td>\n",
              "      <td>15.50</td>\n",
              "      <td>917886</td>\n",
              "      <td>0.0</td>\n",
              "      <td>1.0</td>\n",
              "    </tr>\n",
              "    <tr>\n",
              "      <th>2018-10-04 00:00:00+00:00</th>\n",
              "      <td>TTM</td>\n",
              "      <td>14.93</td>\n",
              "      <td>15.26</td>\n",
              "      <td>14.82</td>\n",
              "      <td>15.26</td>\n",
              "      <td>1977704</td>\n",
              "      <td>14.93</td>\n",
              "      <td>15.26</td>\n",
              "      <td>14.82</td>\n",
              "      <td>15.26</td>\n",
              "      <td>1977704</td>\n",
              "      <td>0.0</td>\n",
              "      <td>1.0</td>\n",
              "    </tr>\n",
              "    <tr>\n",
              "      <th>2018-10-05 00:00:00+00:00</th>\n",
              "      <td>TTM</td>\n",
              "      <td>14.52</td>\n",
              "      <td>14.70</td>\n",
              "      <td>14.23</td>\n",
              "      <td>14.70</td>\n",
              "      <td>2157804</td>\n",
              "      <td>14.52</td>\n",
              "      <td>14.70</td>\n",
              "      <td>14.23</td>\n",
              "      <td>14.70</td>\n",
              "      <td>2157804</td>\n",
              "      <td>0.0</td>\n",
              "      <td>1.0</td>\n",
              "    </tr>\n",
              "  </tbody>\n",
              "</table>\n",
              "</div>\n",
              "    <div class=\"colab-df-buttons\">\n",
              "\n",
              "  <div class=\"colab-df-container\">\n",
              "    <button class=\"colab-df-convert\" onclick=\"convertToInteractive('df-34def7c5-b1cd-4f81-886e-4e9ecb77f20a')\"\n",
              "            title=\"Convert this dataframe to an interactive table.\"\n",
              "            style=\"display:none;\">\n",
              "\n",
              "  <svg xmlns=\"http://www.w3.org/2000/svg\" height=\"24px\" viewBox=\"0 -960 960 960\">\n",
              "    <path d=\"M120-120v-720h720v720H120Zm60-500h600v-160H180v160Zm220 220h160v-160H400v160Zm0 220h160v-160H400v160ZM180-400h160v-160H180v160Zm440 0h160v-160H620v160ZM180-180h160v-160H180v160Zm440 0h160v-160H620v160Z\"/>\n",
              "  </svg>\n",
              "    </button>\n",
              "\n",
              "  <style>\n",
              "    .colab-df-container {\n",
              "      display:flex;\n",
              "      gap: 12px;\n",
              "    }\n",
              "\n",
              "    .colab-df-convert {\n",
              "      background-color: #E8F0FE;\n",
              "      border: none;\n",
              "      border-radius: 50%;\n",
              "      cursor: pointer;\n",
              "      display: none;\n",
              "      fill: #1967D2;\n",
              "      height: 32px;\n",
              "      padding: 0 0 0 0;\n",
              "      width: 32px;\n",
              "    }\n",
              "\n",
              "    .colab-df-convert:hover {\n",
              "      background-color: #E2EBFA;\n",
              "      box-shadow: 0px 1px 2px rgba(60, 64, 67, 0.3), 0px 1px 3px 1px rgba(60, 64, 67, 0.15);\n",
              "      fill: #174EA6;\n",
              "    }\n",
              "\n",
              "    .colab-df-buttons div {\n",
              "      margin-bottom: 4px;\n",
              "    }\n",
              "\n",
              "    [theme=dark] .colab-df-convert {\n",
              "      background-color: #3B4455;\n",
              "      fill: #D2E3FC;\n",
              "    }\n",
              "\n",
              "    [theme=dark] .colab-df-convert:hover {\n",
              "      background-color: #434B5C;\n",
              "      box-shadow: 0px 1px 3px 1px rgba(0, 0, 0, 0.15);\n",
              "      filter: drop-shadow(0px 1px 2px rgba(0, 0, 0, 0.3));\n",
              "      fill: #FFFFFF;\n",
              "    }\n",
              "  </style>\n",
              "\n",
              "    <script>\n",
              "      const buttonEl =\n",
              "        document.querySelector('#df-34def7c5-b1cd-4f81-886e-4e9ecb77f20a button.colab-df-convert');\n",
              "      buttonEl.style.display =\n",
              "        google.colab.kernel.accessAllowed ? 'block' : 'none';\n",
              "\n",
              "      async function convertToInteractive(key) {\n",
              "        const element = document.querySelector('#df-34def7c5-b1cd-4f81-886e-4e9ecb77f20a');\n",
              "        const dataTable =\n",
              "          await google.colab.kernel.invokeFunction('convertToInteractive',\n",
              "                                                    [key], {});\n",
              "        if (!dataTable) return;\n",
              "\n",
              "        const docLinkHtml = 'Like what you see? Visit the ' +\n",
              "          '<a target=\"_blank\" href=https://colab.research.google.com/notebooks/data_table.ipynb>data table notebook</a>'\n",
              "          + ' to learn more about interactive tables.';\n",
              "        element.innerHTML = '';\n",
              "        dataTable['output_type'] = 'display_data';\n",
              "        await google.colab.output.renderOutput(dataTable, element);\n",
              "        const docLink = document.createElement('div');\n",
              "        docLink.innerHTML = docLinkHtml;\n",
              "        element.appendChild(docLink);\n",
              "      }\n",
              "    </script>\n",
              "  </div>\n",
              "\n",
              "\n",
              "<div id=\"df-e03428d9-38c0-4674-bf49-15b30c49b0df\">\n",
              "  <button class=\"colab-df-quickchart\" onclick=\"quickchart('df-e03428d9-38c0-4674-bf49-15b30c49b0df')\"\n",
              "            title=\"Suggest charts.\"\n",
              "            style=\"display:none;\">\n",
              "\n",
              "<svg xmlns=\"http://www.w3.org/2000/svg\" height=\"24px\"viewBox=\"0 0 24 24\"\n",
              "     width=\"24px\">\n",
              "    <g>\n",
              "        <path d=\"M19 3H5c-1.1 0-2 .9-2 2v14c0 1.1.9 2 2 2h14c1.1 0 2-.9 2-2V5c0-1.1-.9-2-2-2zM9 17H7v-7h2v7zm4 0h-2V7h2v10zm4 0h-2v-4h2v4z\"/>\n",
              "    </g>\n",
              "</svg>\n",
              "  </button>\n",
              "\n",
              "<style>\n",
              "  .colab-df-quickchart {\n",
              "      --bg-color: #E8F0FE;\n",
              "      --fill-color: #1967D2;\n",
              "      --hover-bg-color: #E2EBFA;\n",
              "      --hover-fill-color: #174EA6;\n",
              "      --disabled-fill-color: #AAA;\n",
              "      --disabled-bg-color: #DDD;\n",
              "  }\n",
              "\n",
              "  [theme=dark] .colab-df-quickchart {\n",
              "      --bg-color: #3B4455;\n",
              "      --fill-color: #D2E3FC;\n",
              "      --hover-bg-color: #434B5C;\n",
              "      --hover-fill-color: #FFFFFF;\n",
              "      --disabled-bg-color: #3B4455;\n",
              "      --disabled-fill-color: #666;\n",
              "  }\n",
              "\n",
              "  .colab-df-quickchart {\n",
              "    background-color: var(--bg-color);\n",
              "    border: none;\n",
              "    border-radius: 50%;\n",
              "    cursor: pointer;\n",
              "    display: none;\n",
              "    fill: var(--fill-color);\n",
              "    height: 32px;\n",
              "    padding: 0;\n",
              "    width: 32px;\n",
              "  }\n",
              "\n",
              "  .colab-df-quickchart:hover {\n",
              "    background-color: var(--hover-bg-color);\n",
              "    box-shadow: 0 1px 2px rgba(60, 64, 67, 0.3), 0 1px 3px 1px rgba(60, 64, 67, 0.15);\n",
              "    fill: var(--button-hover-fill-color);\n",
              "  }\n",
              "\n",
              "  .colab-df-quickchart-complete:disabled,\n",
              "  .colab-df-quickchart-complete:disabled:hover {\n",
              "    background-color: var(--disabled-bg-color);\n",
              "    fill: var(--disabled-fill-color);\n",
              "    box-shadow: none;\n",
              "  }\n",
              "\n",
              "  .colab-df-spinner {\n",
              "    border: 2px solid var(--fill-color);\n",
              "    border-color: transparent;\n",
              "    border-bottom-color: var(--fill-color);\n",
              "    animation:\n",
              "      spin 1s steps(1) infinite;\n",
              "  }\n",
              "\n",
              "  @keyframes spin {\n",
              "    0% {\n",
              "      border-color: transparent;\n",
              "      border-bottom-color: var(--fill-color);\n",
              "      border-left-color: var(--fill-color);\n",
              "    }\n",
              "    20% {\n",
              "      border-color: transparent;\n",
              "      border-left-color: var(--fill-color);\n",
              "      border-top-color: var(--fill-color);\n",
              "    }\n",
              "    30% {\n",
              "      border-color: transparent;\n",
              "      border-left-color: var(--fill-color);\n",
              "      border-top-color: var(--fill-color);\n",
              "      border-right-color: var(--fill-color);\n",
              "    }\n",
              "    40% {\n",
              "      border-color: transparent;\n",
              "      border-right-color: var(--fill-color);\n",
              "      border-top-color: var(--fill-color);\n",
              "    }\n",
              "    60% {\n",
              "      border-color: transparent;\n",
              "      border-right-color: var(--fill-color);\n",
              "    }\n",
              "    80% {\n",
              "      border-color: transparent;\n",
              "      border-right-color: var(--fill-color);\n",
              "      border-bottom-color: var(--fill-color);\n",
              "    }\n",
              "    90% {\n",
              "      border-color: transparent;\n",
              "      border-bottom-color: var(--fill-color);\n",
              "    }\n",
              "  }\n",
              "</style>\n",
              "\n",
              "  <script>\n",
              "    async function quickchart(key) {\n",
              "      const quickchartButtonEl =\n",
              "        document.querySelector('#' + key + ' button');\n",
              "      quickchartButtonEl.disabled = true;  // To prevent multiple clicks.\n",
              "      quickchartButtonEl.classList.add('colab-df-spinner');\n",
              "      try {\n",
              "        const charts = await google.colab.kernel.invokeFunction(\n",
              "            'suggestCharts', [key], {});\n",
              "      } catch (error) {\n",
              "        console.error('Error during call to suggestCharts:', error);\n",
              "      }\n",
              "      quickchartButtonEl.classList.remove('colab-df-spinner');\n",
              "      quickchartButtonEl.classList.add('colab-df-quickchart-complete');\n",
              "    }\n",
              "    (() => {\n",
              "      let quickchartButtonEl =\n",
              "        document.querySelector('#df-e03428d9-38c0-4674-bf49-15b30c49b0df button');\n",
              "      quickchartButtonEl.style.display =\n",
              "        google.colab.kernel.accessAllowed ? 'block' : 'none';\n",
              "    })();\n",
              "  </script>\n",
              "</div>\n",
              "    </div>\n",
              "  </div>\n"
            ]
          },
          "metadata": {},
          "execution_count": 102
        }
      ]
    },
    {
      "cell_type": "code",
      "source": [
        "plt.figure(figsize=(10,6))\n",
        "plt.xlabel('Date')\n",
        "plt.ylabel('Stock Price')\n",
        "plt.plot(df['close'])"
      ],
      "metadata": {
        "colab": {
          "base_uri": "https://localhost:8080/",
          "height": 559
        },
        "id": "hBUthYsyat-4",
        "outputId": "6d413e3d-eff0-453e-e7a1-0d6d5d9bd83a"
      },
      "execution_count": 103,
      "outputs": [
        {
          "output_type": "execute_result",
          "data": {
            "text/plain": [
              "[<matplotlib.lines.Line2D at 0x79caead58640>]"
            ]
          },
          "metadata": {},
          "execution_count": 103
        },
        {
          "output_type": "display_data",
          "data": {
            "text/plain": [
              "<Figure size 1000x600 with 1 Axes>"
            ],
            "image/png": "[encoded data removed]"
          },
          "metadata": {}
        }
      ]
    },
    {
      "cell_type": "code",
      "source": [
        "df_close = df['close']\n",
        "df_close"
      ],
      "metadata": {
        "colab": {
          "base_uri": "https://localhost:8080/"
        },
        "id": "QGlFl-AcUIe8",
        "outputId": "8977cede-0e53-4e2e-a3d5-c58e80fec54c"
      },
      "execution_count": 104,
      "outputs": [
        {
          "output_type": "execute_result",
          "data": {
            "text/plain": [
              "date\n",
              "2018-10-01 00:00:00+00:00    15.57\n",
              "2018-10-02 00:00:00+00:00    15.52\n",
              "2018-10-03 00:00:00+00:00    15.38\n",
              "2018-10-04 00:00:00+00:00    14.93\n",
              "2018-10-05 00:00:00+00:00    14.52\n",
              "                             ...  \n",
              "2023-05-08 00:00:00+00:00    25.14\n",
              "2023-05-09 00:00:00+00:00    25.14\n",
              "2023-05-10 00:00:00+00:00    25.14\n",
              "2023-05-11 00:00:00+00:00    25.14\n",
              "2023-05-12 00:00:00+00:00    25.14\n",
              "Name: close, Length: 1162, dtype: float64"
            ]
          },
          "metadata": {},
          "execution_count": 104
        }
      ]
    },
    {
      "cell_type": "code",
      "source": [
        "df_close.reset_index(drop = True, inplace = True)"
      ],
      "metadata": {
        "id": "5HxymDg0Vh7w"
      },
      "execution_count": 105,
      "outputs": []
    },
    {
      "cell_type": "markdown",
      "source": [
        "\n",
        "\n",
        "---\n"
      ],
      "metadata": {
        "id": "zWEARq41z_wG"
      }
    },
    {
      "cell_type": "markdown",
      "source": [
        "### 4. Pre-processing the data <a id=\"4\"></a>"
      ],
      "metadata": {
        "id": "dAq1MZE5sZmy"
      }
    },
    {
      "cell_type": "markdown",
      "source": [
        "LSTM are sensitive to the scale of the data. So we apply MinMax scaler. Min-max scaler is used for scaling the data so that we can bring all the price values to a common scale."
      ],
      "metadata": {
        "id": "j2VvWMFWdvlg"
      }
    },
    {
      "cell_type": "code",
      "source": [
        "from sklearn.preprocessing import MinMaxScaler\n",
        "scaler = MinMaxScaler(feature_range=(0, 1))\n",
        "df_close = scaler.fit_transform(np.array(df_close).reshape(-1, 1))"
      ],
      "metadata": {
        "id": "Hy9vA5WSZb70"
      },
      "execution_count": 106,
      "outputs": []
    },
    {
      "cell_type": "code",
      "source": [
        "df_close.shape"
      ],
      "metadata": {
        "colab": {
          "base_uri": "https://localhost:8080/"
        },
        "id": "OSIXvjk9eqGa",
        "outputId": "e9fcccfb-7fd5-4bec-e2c6-7fdf1d2a4a5b"
      },
      "execution_count": 107,
      "outputs": [
        {
          "output_type": "execute_result",
          "data": {
            "text/plain": [
              "(1162, 1)"
            ]
          },
          "metadata": {},
          "execution_count": 107
        }
      ]
    },
    {
      "cell_type": "markdown",
      "source": [
        "Splitting the dataset into Train and Test split"
      ],
      "metadata": {
        "id": "xInGurKLe9-4"
      }
    },
    {
      "cell_type": "code",
      "source": [
        "training_size = int(len(df_close) * 0.70)                   #training with 70% of data\n",
        "test_size = len(df_close) - training_size                   #testing the remaining 30%"
      ],
      "metadata": {
        "id": "PWFKWO-eessh"
      },
      "execution_count": 108,
      "outputs": []
    },
    {
      "cell_type": "code",
      "source": [
        "train_data = df_close[0:training_size,:]\n",
        "test_data = df_close[training_size:len(df_close),:1]"
      ],
      "metadata": {
        "id": "pbg8VPyQgNOs"
      },
      "execution_count": 109,
      "outputs": []
    },
    {
      "cell_type": "code",
      "source": [
        "#converting an array of values into a dataset matrix\n",
        "def create_dataset(dataset, time_step=1):\n",
        "  dataX, dataY = [], []\n",
        "  for i in range(len(dataset)-time_step-1):\n",
        "    a = dataset[i:(i+time_step), 0]\n",
        "    dataX.append(a)\n",
        "    dataY.append(dataset[i + time_step, 0])\n",
        "  return np.array(dataX), np.array(dataY)"
      ],
      "metadata": {
        "id": "JpFZmUTYg5xs"
      },
      "execution_count": 110,
      "outputs": []
    },
    {
      "cell_type": "code",
      "source": [
        "#reshape into X=t, t+1, t+2, t+3 and Y=t+4\n",
        "time_step = 100\n",
        "xtrain, ytrain = create_dataset(train_data, time_step)\n",
        "xtest, ytest = create_dataset(test_data, time_step)"
      ],
      "metadata": {
        "id": "gwMpAbh7muX8"
      },
      "execution_count": 111,
      "outputs": []
    },
    {
      "cell_type": "code",
      "source": [
        "xtrain.shape, ytrain.shape"
      ],
      "metadata": {
        "colab": {
          "base_uri": "https://localhost:8080/"
        },
        "id": "to-3piivnhe4",
        "outputId": "40755626-9148-413b-d693-6d6650a7c8a8"
      },
      "execution_count": 112,
      "outputs": [
        {
          "output_type": "execute_result",
          "data": {
            "text/plain": [
              "((712, 100), (712,))"
            ]
          },
          "metadata": {},
          "execution_count": 112
        }
      ]
    },
    {
      "cell_type": "code",
      "source": [
        "xtest.shape, ytest.shape"
      ],
      "metadata": {
        "colab": {
          "base_uri": "https://localhost:8080/"
        },
        "id": "6wbzfd3Gn56b",
        "outputId": "8bd64d13-d4bc-409f-c5d6-a924dbadabe6"
      },
      "execution_count": 113,
      "outputs": [
        {
          "output_type": "execute_result",
          "data": {
            "text/plain": [
              "((248, 100), (248,))"
            ]
          },
          "metadata": {},
          "execution_count": 113
        }
      ]
    },
    {
      "cell_type": "code",
      "source": [
        "#reshape the input to be [samples, time steps, features] which is required for LSTM\n",
        "xtrain = xtrain.reshape(xtrain.shape[0], xtrain.shape[1], 1)\n",
        "xtest = xtest.reshape(xtest.shape[0], xtest.shape[1], 1)"
      ],
      "metadata": {
        "id": "8IhO_8wzoCfn"
      },
      "execution_count": 114,
      "outputs": []
    },
    {
      "cell_type": "markdown",
      "source": [
        "---"
      ],
      "metadata": {
        "id": "yhrVHI6u0qDj"
      }
    },
    {
      "cell_type": "markdown",
      "source": [
        "### 5. Creating the LSTM model <a id=\"5\"></a>"
      ],
      "metadata": {
        "id": "luztuUrSsFJf"
      }
    },
    {
      "cell_type": "code",
      "source": [
        "#importing required libraries\n",
        "\n",
        "from tensorflow.keras.models import Sequential\n",
        "from tensorflow.keras.layers import Dense\n",
        "from tensorflow.keras.layers import LSTM"
      ],
      "metadata": {
        "id": "ZbKZz_hVsDnK"
      },
      "execution_count": 115,
      "outputs": []
    },
    {
      "cell_type": "code",
      "source": [
        "model = Sequential()\n",
        "model.add(LSTM(50, return_sequences=True, input_shape=(100, 1)))\n",
        "model.add(LSTM(50, return_sequences=True))\n",
        "model.add(LSTM(50))\n",
        "model.add(Dense(1))\n",
        "model.compile(loss='mean_squared_error', optimizer='adam')"
      ],
      "metadata": {
        "id": "1LLliAj9tr8f"
      },
      "execution_count": 116,
      "outputs": []
    },
    {
      "cell_type": "code",
      "source": [
        "model.summary()"
      ],
      "metadata": {
        "colab": {
          "base_uri": "https://localhost:8080/"
        },
        "id": "YSwMvyzHvWwP",
        "outputId": "fdb59bf0-edc6-4c34-feb7-be3b05eda996"
      },
      "execution_count": 117,
      "outputs": [
        {
          "output_type": "stream",
          "name": "stdout",
          "text": [
            "Model: \"sequential_2\"\n",
            "_________________________________________________________________\n",
            " Layer (type)                Output Shape              Param #   \n",
            "=================================================================\n",
            " lstm_6 (LSTM)               (None, 100, 50)           10400     \n",
            "                                                                 \n",
            " lstm_7 (LSTM)               (None, 100, 50)           20200     \n",
            "                                                                 \n",
            " lstm_8 (LSTM)               (None, 50)                20200     \n",
            "                                                                 \n",
            " dense_2 (Dense)             (None, 1)                 51        \n",
            "                                                                 \n",
            "=================================================================\n",
            "Total params: 50851 (198.64 KB)\n",
            "Trainable params: 50851 (198.64 KB)\n",
            "Non-trainable params: 0 (0.00 Byte)\n",
            "_________________________________________________________________\n"
          ]
        }
      ]
    },
    {
      "cell_type": "code",
      "source": [
        "model.fit(xtrain, ytrain, validation_data=(xtest, ytest), epochs=100, batch_size=64, verbose=1)"
      ],
      "metadata": {
        "colab": {
          "base_uri": "https://localhost:8080/"
        },
        "id": "LRycOjN3vdPq",
        "outputId": "ad9195b1-1f4a-4847-e71a-4df554de84dd"
      },
      "execution_count": 118,
      "outputs": [
        {
          "output_type": "stream",
          "name": "stdout",
          "text": [
            "Epoch 1/100\n",
            "12/12 [==============================] - 11s 358ms/step - loss: 0.0684 - val_loss: 0.0066\n",
            "Epoch 2/100\n",
            "12/12 [==============================] - 3s 211ms/step - loss: 0.0125 - val_loss: 0.0039\n",
            "Epoch 3/100\n",
            "12/12 [==============================] - 4s 328ms/step - loss: 0.0064 - val_loss: 0.0059\n",
            "Epoch 4/100\n",
            "12/12 [==============================] - 3s 219ms/step - loss: 0.0042 - val_loss: 0.0042\n",
            "Epoch 5/100\n",
            "12/12 [==============================] - 3s 219ms/step - loss: 0.0036 - val_loss: 0.0048\n",
            "Epoch 6/100\n",
            "12/12 [==============================] - 3s 223ms/step - loss: 0.0031 - val_loss: 0.0017\n",
            "Epoch 7/100\n",
            "12/12 [==============================] - 3s 270ms/step - loss: 0.0029 - val_loss: 0.0013\n",
            "Epoch 8/100\n",
            "12/12 [==============================] - 3s 266ms/step - loss: 0.0028 - val_loss: 0.0014\n",
            "Epoch 9/100\n",
            "12/12 [==============================] - 3s 221ms/step - loss: 0.0026 - val_loss: 0.0012\n",
            "Epoch 10/100\n",
            "12/12 [==============================] - 3s 228ms/step - loss: 0.0025 - val_loss: 0.0012\n",
            "Epoch 11/100\n",
            "12/12 [==============================] - 3s 224ms/step - loss: 0.0022 - val_loss: 0.0012\n",
            "Epoch 12/100\n",
            "12/12 [==============================] - 4s 323ms/step - loss: 0.0021 - val_loss: 0.0012\n",
            "Epoch 13/100\n",
            "12/12 [==============================] - 3s 216ms/step - loss: 0.0020 - val_loss: 0.0012\n",
            "Epoch 14/100\n",
            "12/12 [==============================] - 3s 217ms/step - loss: 0.0019 - val_loss: 0.0012\n",
            "Epoch 15/100\n",
            "12/12 [==============================] - 3s 218ms/step - loss: 0.0019 - val_loss: 0.0035\n",
            "Epoch 16/100\n",
            "12/12 [==============================] - 3s 285ms/step - loss: 0.0022 - val_loss: 0.0018\n",
            "Epoch 17/100\n",
            "12/12 [==============================] - 3s 246ms/step - loss: 0.0020 - val_loss: 0.0035\n",
            "Epoch 18/100\n",
            "12/12 [==============================] - 3s 218ms/step - loss: 0.0021 - val_loss: 0.0013\n",
            "Epoch 19/100\n",
            "12/12 [==============================] - 3s 223ms/step - loss: 0.0018 - val_loss: 0.0011\n",
            "Epoch 20/100\n",
            "12/12 [==============================] - 3s 227ms/step - loss: 0.0017 - val_loss: 0.0010\n",
            "Epoch 21/100\n",
            "12/12 [==============================] - 4s 315ms/step - loss: 0.0018 - val_loss: 0.0029\n",
            "Epoch 22/100\n",
            "12/12 [==============================] - 3s 218ms/step - loss: 0.0020 - val_loss: 0.0011\n",
            "Epoch 23/100\n",
            "12/12 [==============================] - 3s 223ms/step - loss: 0.0017 - val_loss: 0.0010\n",
            "Epoch 24/100\n",
            "12/12 [==============================] - 3s 225ms/step - loss: 0.0018 - val_loss: 9.5123e-04\n",
            "Epoch 25/100\n",
            "12/12 [==============================] - 3s 296ms/step - loss: 0.0015 - val_loss: 0.0014\n",
            "Epoch 26/100\n",
            "12/12 [==============================] - 3s 223ms/step - loss: 0.0016 - val_loss: 8.5348e-04\n",
            "Epoch 27/100\n",
            "12/12 [==============================] - 3s 212ms/step - loss: 0.0014 - val_loss: 0.0011\n",
            "Epoch 28/100\n",
            "12/12 [==============================] - 3s 222ms/step - loss: 0.0016 - val_loss: 0.0019\n",
            "Epoch 29/100\n",
            "12/12 [==============================] - 3s 219ms/step - loss: 0.0017 - val_loss: 0.0019\n",
            "Epoch 30/100\n",
            "12/12 [==============================] - 4s 298ms/step - loss: 0.0016 - val_loss: 0.0013\n",
            "Epoch 31/100\n",
            "12/12 [==============================] - 3s 212ms/step - loss: 0.0014 - val_loss: 8.2037e-04\n",
            "Epoch 32/100\n",
            "12/12 [==============================] - 3s 220ms/step - loss: 0.0013 - val_loss: 0.0010\n",
            "Epoch 33/100\n",
            "12/12 [==============================] - 3s 215ms/step - loss: 0.0016 - val_loss: 0.0023\n",
            "Epoch 34/100\n",
            "12/12 [==============================] - 4s 315ms/step - loss: 0.0014 - val_loss: 0.0012\n",
            "Epoch 35/100\n",
            "12/12 [==============================] - 3s 217ms/step - loss: 0.0013 - val_loss: 8.8389e-04\n",
            "Epoch 36/100\n",
            "12/12 [==============================] - 3s 220ms/step - loss: 0.0013 - val_loss: 6.7316e-04\n",
            "Epoch 37/100\n",
            "12/12 [==============================] - 3s 215ms/step - loss: 0.0013 - val_loss: 9.6170e-04\n",
            "Epoch 38/100\n",
            "12/12 [==============================] - 3s 259ms/step - loss: 0.0012 - val_loss: 0.0013\n",
            "Epoch 39/100\n",
            "12/12 [==============================] - 3s 267ms/step - loss: 0.0012 - val_loss: 6.7564e-04\n",
            "Epoch 40/100\n",
            "12/12 [==============================] - 3s 219ms/step - loss: 0.0012 - val_loss: 8.8519e-04\n",
            "Epoch 41/100\n",
            "12/12 [==============================] - 3s 226ms/step - loss: 0.0010 - val_loss: 6.2161e-04\n",
            "Epoch 42/100\n",
            "12/12 [==============================] - 3s 211ms/step - loss: 0.0010 - val_loss: 0.0025\n",
            "Epoch 43/100\n",
            "12/12 [==============================] - 4s 330ms/step - loss: 0.0014 - val_loss: 5.8089e-04\n",
            "Epoch 44/100\n",
            "12/12 [==============================] - 3s 212ms/step - loss: 0.0011 - val_loss: 0.0019\n",
            "Epoch 45/100\n",
            "12/12 [==============================] - 3s 212ms/step - loss: 0.0011 - val_loss: 7.9799e-04\n",
            "Epoch 46/100\n",
            "12/12 [==============================] - 3s 216ms/step - loss: 0.0010 - val_loss: 5.8655e-04\n",
            "Epoch 47/100\n",
            "12/12 [==============================] - 3s 256ms/step - loss: 9.5511e-04 - val_loss: 6.5548e-04\n",
            "Epoch 48/100\n",
            "12/12 [==============================] - 3s 278ms/step - loss: 9.3903e-04 - val_loss: 7.3751e-04\n",
            "Epoch 49/100\n",
            "12/12 [==============================] - 3s 218ms/step - loss: 9.6630e-04 - val_loss: 0.0017\n",
            "Epoch 50/100\n",
            "12/12 [==============================] - 3s 216ms/step - loss: 9.2244e-04 - val_loss: 6.3709e-04\n",
            "Epoch 51/100\n",
            "12/12 [==============================] - 3s 220ms/step - loss: 8.8898e-04 - val_loss: 6.1168e-04\n",
            "Epoch 52/100\n",
            "12/12 [==============================] - 4s 332ms/step - loss: 8.5816e-04 - val_loss: 6.2708e-04\n",
            "Epoch 53/100\n",
            "12/12 [==============================] - 3s 217ms/step - loss: 8.7673e-04 - val_loss: 8.1315e-04\n",
            "Epoch 54/100\n",
            "12/12 [==============================] - 3s 220ms/step - loss: 8.4449e-04 - val_loss: 8.2559e-04\n",
            "Epoch 55/100\n",
            "12/12 [==============================] - 3s 219ms/step - loss: 8.7591e-04 - val_loss: 5.1259e-04\n",
            "Epoch 56/100\n",
            "12/12 [==============================] - 3s 247ms/step - loss: 7.8795e-04 - val_loss: 6.7534e-04\n",
            "Epoch 57/100\n",
            "12/12 [==============================] - 3s 270ms/step - loss: 7.8367e-04 - val_loss: 6.0180e-04\n",
            "Epoch 58/100\n",
            "12/12 [==============================] - 3s 219ms/step - loss: 7.7231e-04 - val_loss: 5.7458e-04\n",
            "Epoch 59/100\n",
            "12/12 [==============================] - 3s 219ms/step - loss: 8.3997e-04 - val_loss: 6.1374e-04\n",
            "Epoch 60/100\n",
            "12/12 [==============================] - 2s 209ms/step - loss: 7.4064e-04 - val_loss: 6.5237e-04\n",
            "Epoch 61/100\n",
            "12/12 [==============================] - 4s 327ms/step - loss: 8.3592e-04 - val_loss: 0.0017\n",
            "Epoch 62/100\n",
            "12/12 [==============================] - 3s 218ms/step - loss: 7.6685e-04 - val_loss: 7.2469e-04\n",
            "Epoch 63/100\n",
            "12/12 [==============================] - 3s 222ms/step - loss: 7.8301e-04 - val_loss: 5.5968e-04\n",
            "Epoch 64/100\n",
            "12/12 [==============================] - 3s 217ms/step - loss: 7.4201e-04 - val_loss: 4.6914e-04\n",
            "Epoch 65/100\n",
            "12/12 [==============================] - 3s 240ms/step - loss: 7.0668e-04 - val_loss: 7.5745e-04\n",
            "Epoch 66/100\n",
            "12/12 [==============================] - 3s 285ms/step - loss: 6.7445e-04 - val_loss: 4.6933e-04\n",
            "Epoch 67/100\n",
            "12/12 [==============================] - 3s 267ms/step - loss: 6.5360e-04 - val_loss: 5.0250e-04\n",
            "Epoch 68/100\n",
            "12/12 [==============================] - 3s 219ms/step - loss: 6.6097e-04 - val_loss: 4.7457e-04\n",
            "Epoch 69/100\n",
            "12/12 [==============================] - 3s 228ms/step - loss: 6.5754e-04 - val_loss: 7.8726e-04\n",
            "Epoch 70/100\n",
            "12/12 [==============================] - 4s 318ms/step - loss: 8.0974e-04 - val_loss: 0.0033\n",
            "Epoch 71/100\n",
            "12/12 [==============================] - 3s 216ms/step - loss: 8.6384e-04 - val_loss: 6.5302e-04\n",
            "Epoch 72/100\n",
            "12/12 [==============================] - 3s 221ms/step - loss: 6.6574e-04 - val_loss: 5.7273e-04\n",
            "Epoch 73/100\n",
            "12/12 [==============================] - 3s 221ms/step - loss: 6.2714e-04 - val_loss: 5.8502e-04\n",
            "Epoch 74/100\n",
            "12/12 [==============================] - 3s 282ms/step - loss: 6.6353e-04 - val_loss: 7.5178e-04\n",
            "Epoch 75/100\n",
            "12/12 [==============================] - 3s 237ms/step - loss: 6.3481e-04 - val_loss: 4.7701e-04\n",
            "Epoch 76/100\n",
            "12/12 [==============================] - 3s 211ms/step - loss: 7.4189e-04 - val_loss: 5.0968e-04\n",
            "Epoch 77/100\n",
            "12/12 [==============================] - 3s 217ms/step - loss: 6.1925e-04 - val_loss: 8.9223e-04\n",
            "Epoch 78/100\n",
            "12/12 [==============================] - 3s 214ms/step - loss: 6.3014e-04 - val_loss: 5.1719e-04\n",
            "Epoch 79/100\n",
            "12/12 [==============================] - 4s 316ms/step - loss: 5.9421e-04 - val_loss: 4.9632e-04\n",
            "Epoch 80/100\n",
            "12/12 [==============================] - 3s 220ms/step - loss: 5.9260e-04 - val_loss: 8.7617e-04\n",
            "Epoch 81/100\n",
            "12/12 [==============================] - 3s 222ms/step - loss: 6.2091e-04 - val_loss: 4.8440e-04\n",
            "Epoch 82/100\n",
            "12/12 [==============================] - 3s 222ms/step - loss: 5.6397e-04 - val_loss: 4.5653e-04\n",
            "Epoch 83/100\n",
            "12/12 [==============================] - 3s 255ms/step - loss: 5.4320e-04 - val_loss: 5.1590e-04\n",
            "Epoch 84/100\n",
            "12/12 [==============================] - 3s 264ms/step - loss: 5.8429e-04 - val_loss: 9.5968e-04\n",
            "Epoch 85/100\n",
            "12/12 [==============================] - 3s 222ms/step - loss: 6.6661e-04 - val_loss: 0.0012\n",
            "Epoch 86/100\n",
            "12/12 [==============================] - 3s 219ms/step - loss: 5.9701e-04 - val_loss: 3.9849e-04\n",
            "Epoch 87/100\n",
            "12/12 [==============================] - 3s 216ms/step - loss: 5.4802e-04 - val_loss: 9.0754e-04\n",
            "Epoch 88/100\n",
            "12/12 [==============================] - 4s 314ms/step - loss: 5.6342e-04 - val_loss: 5.3398e-04\n",
            "Epoch 89/100\n",
            "12/12 [==============================] - 3s 222ms/step - loss: 5.2283e-04 - val_loss: 7.5501e-04\n",
            "Epoch 90/100\n",
            "12/12 [==============================] - 3s 218ms/step - loss: 5.3280e-04 - val_loss: 4.9119e-04\n",
            "Epoch 91/100\n",
            "12/12 [==============================] - 3s 219ms/step - loss: 5.4109e-04 - val_loss: 4.6716e-04\n",
            "Epoch 92/100\n",
            "12/12 [==============================] - 3s 234ms/step - loss: 5.3185e-04 - val_loss: 5.3643e-04\n",
            "Epoch 93/100\n",
            "12/12 [==============================] - 3s 283ms/step - loss: 6.0687e-04 - val_loss: 0.0014\n",
            "Epoch 94/100\n",
            "12/12 [==============================] - 3s 224ms/step - loss: 5.9614e-04 - val_loss: 5.2781e-04\n",
            "Epoch 95/100\n",
            "12/12 [==============================] - 3s 217ms/step - loss: 6.0421e-04 - val_loss: 7.0684e-04\n",
            "Epoch 96/100\n",
            "12/12 [==============================] - 3s 215ms/step - loss: 5.1696e-04 - val_loss: 3.7931e-04\n",
            "Epoch 97/100\n",
            "12/12 [==============================] - 4s 325ms/step - loss: 5.0339e-04 - val_loss: 4.3682e-04\n",
            "Epoch 98/100\n",
            "12/12 [==============================] - 3s 218ms/step - loss: 4.9019e-04 - val_loss: 0.0012\n",
            "Epoch 99/100\n",
            "12/12 [==============================] - 3s 217ms/step - loss: 7.4411e-04 - val_loss: 5.7389e-04\n",
            "Epoch 100/100\n",
            "12/12 [==============================] - 3s 220ms/step - loss: 5.1391e-04 - val_loss: 3.9411e-04\n"
          ]
        },
        {
          "output_type": "execute_result",
          "data": {
            "text/plain": [
              "<keras.src.callbacks.History at 0x79cad9402a10>"
            ]
          },
          "metadata": {},
          "execution_count": 118
        }
      ]
    },
    {
      "cell_type": "markdown",
      "source": [
        "---"
      ],
      "metadata": {
        "id": "_wDzMePf-Xsw"
      }
    },
    {
      "cell_type": "markdown",
      "source": [
        "### 6. Predicting and plotting test data <a id=\"6\"></a>"
      ],
      "metadata": {
        "id": "PT43323b-OUt"
      }
    },
    {
      "cell_type": "code",
      "source": [
        "#predicting and checking performance metrics\n",
        "train_predict = model.predict(xtrain)\n",
        "test_predict = model.predict(xtest)"
      ],
      "metadata": {
        "colab": {
          "base_uri": "https://localhost:8080/"
        },
        "id": "FoTIQeXdxRdX",
        "outputId": "3fd43b3d-4781-4fe3-f861-8ab0ea5767d6"
      },
      "execution_count": 119,
      "outputs": [
        {
          "output_type": "stream",
          "name": "stdout",
          "text": [
            "23/23 [==============================] - 2s 42ms/step\n",
            "8/8 [==============================] - 0s 42ms/step\n"
          ]
        }
      ]
    },
    {
      "cell_type": "code",
      "source": [
        "#transforming back to original form\n",
        "train_predict = scaler.inverse_transform(train_predict)\n",
        "test_predict = scaler.inverse_transform(test_predict)"
      ],
      "metadata": {
        "id": "m1r2TnQ-yQi2"
      },
      "execution_count": 120,
      "outputs": []
    },
    {
      "cell_type": "markdown",
      "source": [
        "Calculating RMSE performance metrics"
      ],
      "metadata": {
        "id": "dK1niwXwzuoq"
      }
    },
    {
      "cell_type": "code",
      "source": [
        "import math\n",
        "from sklearn.metrics import mean_squared_error"
      ],
      "metadata": {
        "id": "2LerL2u2yl69"
      },
      "execution_count": 121,
      "outputs": []
    },
    {
      "cell_type": "code",
      "source": [
        "#Train data RMSE\n",
        "math.sqrt(mean_squared_error(ytrain, train_predict))"
      ],
      "metadata": {
        "colab": {
          "base_uri": "https://localhost:8080/"
        },
        "id": "Kj4Pe5oZzCjU",
        "outputId": "0364120c-82d4-487c-e8a4-45a60782743b"
      },
      "execution_count": 122,
      "outputs": [
        {
          "output_type": "execute_result",
          "data": {
            "text/plain": [
              "15.657481412975232"
            ]
          },
          "metadata": {},
          "execution_count": 122
        }
      ]
    },
    {
      "cell_type": "code",
      "source": [
        "#Test data RMSE\n",
        "math.sqrt(mean_squared_error(ytest, test_predict))"
      ],
      "metadata": {
        "colab": {
          "base_uri": "https://localhost:8080/"
        },
        "id": "G1bK3q1CzW77",
        "outputId": "79aa0ef0-bf74-4396-f00a-60d4597c76a4"
      },
      "execution_count": 123,
      "outputs": [
        {
          "output_type": "execute_result",
          "data": {
            "text/plain": [
              "25.206072971879532"
            ]
          },
          "metadata": {},
          "execution_count": 123
        }
      ]
    },
    {
      "cell_type": "code",
      "source": [
        "#shifting train predictions for plotting\n",
        "look_back = 100\n",
        "trainPredictPlot = np.empty_like(df_close)\n",
        "trainPredictPlot[:, :] = np.nan\n",
        "trainPredictPlot[look_back:len(train_predict)+look_back, :] = train_predict\n",
        "#shifting test predictions for plotting\n",
        "testPredictPlot = np.empty_like(df_close)\n",
        "testPredictPlot[:, :] = np.nan\n",
        "testPredictPlot[len(train_predict)+(look_back*2)+1:len(df_close)-1,:] = test_predict"
      ],
      "metadata": {
        "id": "cAjfdToCzc87"
      },
      "execution_count": 124,
      "outputs": []
    },
    {
      "cell_type": "code",
      "source": [
        "# plotting\n",
        "plt.figure(figsize=(10,6))\n",
        "plt.plot(scaler.inverse_transform(df_close))\n",
        "plt.plot(trainPredictPlot)\n",
        "plt.plot(testPredictPlot)\n",
        "plt.legend(['Original Data', 'Train Data', 'Test Data'])\n",
        "plt.show()"
      ],
      "metadata": {
        "colab": {
          "base_uri": "https://localhost:8080/",
          "height": 522
        },
        "id": "S9U-7CH11118",
        "outputId": "3f9f3b02-2326-443f-ec97-1f864bda7ad1"
      },
      "execution_count": 125,
      "outputs": [
        {
          "output_type": "display_data",
          "data": {
            "text/plain": [
              "<Figure size 1000x600 with 1 Axes>"
            ],
            "image/png": "[encoded data removed]"
          },
          "metadata": {}
        }
      ]
    },
    {
      "cell_type": "markdown",
      "source": [
        "---"
      ],
      "metadata": {
        "id": "A3CbCDPc-dG2"
      }
    },
    {
      "cell_type": "markdown",
      "source": [
        "### 7. Forecasting the data for 30 days <a id=\"7\"></a>"
      ],
      "metadata": {
        "id": "8lb5siwU7vp0"
      }
    },
    {
      "cell_type": "code",
      "source": [
        "len(test_data)"
      ],
      "metadata": {
        "colab": {
          "base_uri": "https://localhost:8080/"
        },
        "id": "Ng0GAWeW2EmO",
        "outputId": "3da54cd4-f5b3-49b4-fb9e-c99ff21a0804"
      },
      "execution_count": 126,
      "outputs": [
        {
          "output_type": "execute_result",
          "data": {
            "text/plain": [
              "349"
            ]
          },
          "metadata": {},
          "execution_count": 126
        }
      ]
    },
    {
      "cell_type": "code",
      "source": [
        "xinput = test_data[len(test_data)-100:].reshape(1, -1)\n",
        "xinput.shape"
      ],
      "metadata": {
        "colab": {
          "base_uri": "https://localhost:8080/"
        },
        "id": "APBXv6SC5jmh",
        "outputId": "6ca685fa-5c41-4e35-a35c-62279a1be6d8"
      },
      "execution_count": 127,
      "outputs": [
        {
          "output_type": "execute_result",
          "data": {
            "text/plain": [
              "(1, 100)"
            ]
          },
          "metadata": {},
          "execution_count": 127
        }
      ]
    },
    {
      "cell_type": "code",
      "source": [
        "#converting into list\n",
        "temp_ip = list(xinput)\n",
        "temp_ip = temp_ip[0].tolist()"
      ],
      "metadata": {
        "id": "aW6__Ubk6OMh"
      },
      "execution_count": 128,
      "outputs": []
    },
    {
      "cell_type": "code",
      "source": [
        "temp_ip"
      ],
      "metadata": {
        "colab": {
          "base_uri": "https://localhost:8080/"
        },
        "id": "DNmAaFnO6suO",
        "outputId": "440bcd22-870e-43ff-d5bd-25f263fe8022"
      },
      "execution_count": 129,
      "outputs": [
        {
          "output_type": "execute_result",
          "data": {
            "text/plain": [
              "[0.663642255346727,\n",
              " 0.6701231367465976,\n",
              " 0.6461438755670771,\n",
              " 0.6085547634478289,\n",
              " 0.5920285158781594,\n",
              " 0.6215165262475697,\n",
              " 0.6231367465975373,\n",
              " 0.6198963058976021,\n",
              " 0.6166558651976669,\n",
              " 0.6318859364873622,\n",
              " 0.6182760855476345,\n",
              " 0.6127673363577446,\n",
              " 0.6237848347375242,\n",
              " 0.6464679196370706,\n",
              " 0.6837329876863253,\n",
              " 0.695398574206092,\n",
              " 0.6824368114063513,\n",
              " 0.6749837977965003,\n",
              " 0.671095268956578,\n",
              " 0.6584575502268308,\n",
              " 0.6555411535968891,\n",
              " 0.6740116655865197,\n",
              " 0.6824368114063513,\n",
              " 0.6824368114063513,\n",
              " 0.6824368114063513,\n",
              " 0.6824368114063513,\n",
              " 0.6824368114063513,\n",
              " 0.6824368114063513,\n",
              " 0.6824368114063513,\n",
              " 0.6824368114063513,\n",
              " 0.6824368114063513,\n",
              " 0.6824368114063513,\n",
              " 0.6824368114063513,\n",
              " 0.6824368114063513,\n",
              " 0.6824368114063513,\n",
              " 0.6824368114063513,\n",
              " 0.6824368114063513,\n",
              " 0.6824368114063513,\n",
              " 0.6824368114063513,\n",
              " 0.6824368114063513,\n",
              " 0.6824368114063513,\n",
              " 0.6824368114063513,\n",
              " 0.6824368114063513,\n",
              " 0.6824368114063513,\n",
              " 0.6824368114063513,\n",
              " 0.6824368114063513,\n",
              " 0.6824368114063513,\n",
              " 0.6824368114063513,\n",
              " 0.6824368114063513,\n",
              " 0.6824368114063513,\n",
              " 0.6824368114063513,\n",
              " 0.6824368114063513,\n",
              " 0.6824368114063513,\n",
              " 0.6824368114063513,\n",
              " 0.6824368114063513,\n",
              " 0.6824368114063513,\n",
              " 0.6824368114063513,\n",
              " 0.6824368114063513,\n",
              " 0.6824368114063513,\n",
              " 0.6824368114063513,\n",
              " 0.6824368114063513,\n",
              " 0.6824368114063513,\n",
              " 0.6824368114063513,\n",
              " 0.6824368114063513,\n",
              " 0.6824368114063513,\n",
              " 0.6824368114063513,\n",
              " 0.6824368114063513,\n",
              " 0.6824368114063513,\n",
              " 0.6824368114063513,\n",
              " 0.6824368114063513,\n",
              " 0.6824368114063513,\n",
              " 0.6824368114063513,\n",
              " 0.6824368114063513,\n",
              " 0.6824368114063513,\n",
              " 0.6824368114063513,\n",
              " 0.6824368114063513,\n",
              " 0.6824368114063513,\n",
              " 0.6824368114063513,\n",
              " 0.6824368114063513,\n",
              " 0.6824368114063513,\n",
              " 0.6824368114063513,\n",
              " 0.6824368114063513,\n",
              " 0.6824368114063513,\n",
              " 0.6824368114063513,\n",
              " 0.6824368114063513,\n",
              " 0.6824368114063513,\n",
              " 0.6824368114063513,\n",
              " 0.6824368114063513,\n",
              " 0.6824368114063513,\n",
              " 0.6824368114063513,\n",
              " 0.6824368114063513,\n",
              " 0.6824368114063513,\n",
              " 0.6824368114063513,\n",
              " 0.6824368114063513,\n",
              " 0.6824368114063513,\n",
              " 0.6824368114063513,\n",
              " 0.6824368114063513,\n",
              " 0.6824368114063513,\n",
              " 0.6824368114063513,\n",
              " 0.6824368114063513]"
            ]
          },
          "metadata": {},
          "execution_count": 129
        }
      ]
    },
    {
      "cell_type": "code",
      "source": [
        "#forecasting data for 30 days\n",
        "output=[]\n",
        "n_steps = 100\n",
        "i = 0\n",
        "while(i<30):\n",
        "\n",
        "    if(len(temp_ip)>100):\n",
        "        #print(temp_ip)\n",
        "        xinput = np.array(temp_ip[1:])\n",
        "        print(\"{} day input {}\".format(i,xinput))\n",
        "        xinput = xinput.reshape(1,-1)\n",
        "        xinput = xinput.reshape((1, n_steps, 1))\n",
        "        #print(xinput)\n",
        "        yhat = model.predict(xinput, verbose=0)\n",
        "        print(\"{} day output {}\".format(i,yhat))\n",
        "        temp_ip.extend(yhat[0].tolist())\n",
        "        temp_ip = temp_ip[1:]\n",
        "        #print(temp_ip)\n",
        "        output.extend(yhat.tolist())\n",
        "        i=i+1\n",
        "    else:\n",
        "        xinput = xinput.reshape((1, n_steps,1))\n",
        "        yhat = model.predict(xinput, verbose=0)\n",
        "        print(yhat[0])\n",
        "        temp_ip.extend(yhat[0].tolist())\n",
        "        print(len(temp_ip))\n",
        "        output.extend(yhat.tolist())\n",
        "        i = i+1\n",
        "\n",
        "print(output)"
      ],
      "metadata": {
        "colab": {
          "base_uri": "https://localhost:8080/"
        },
        "id": "MxtS8uzP7InN",
        "outputId": "789716bf-b8a2-4f2b-b5c1-bb72bca48cae"
      },
      "execution_count": 130,
      "outputs": [
        {
          "output_type": "stream",
          "name": "stdout",
          "text": [
            "[0.6777132]\n",
            "101\n",
            "1 day input [0.67012314 0.64614388 0.60855476 0.59202852 0.62151653 0.62313675\n",
            " 0.61989631 0.61665587 0.63188594 0.61827609 0.61276734 0.62378483\n",
            " 0.64646792 0.68373299 0.69539857 0.68243681 0.6749838  0.67109527\n",
            " 0.65845755 0.65554115 0.67401167 0.68243681 0.68243681 0.68243681\n",
            " 0.68243681 0.68243681 0.68243681 0.68243681 0.68243681 0.68243681\n",
            " 0.68243681 0.68243681 0.68243681 0.68243681 0.68243681 0.68243681\n",
            " 0.68243681 0.68243681 0.68243681 0.68243681 0.68243681 0.68243681\n",
            " 0.68243681 0.68243681 0.68243681 0.68243681 0.68243681 0.68243681\n",
            " 0.68243681 0.68243681 0.68243681 0.68243681 0.68243681 0.68243681\n",
            " 0.68243681 0.68243681 0.68243681 0.68243681 0.68243681 0.68243681\n",
            " 0.68243681 0.68243681 0.68243681 0.68243681 0.68243681 0.68243681\n",
            " 0.68243681 0.68243681 0.68243681 0.68243681 0.68243681 0.68243681\n",
            " 0.68243681 0.68243681 0.68243681 0.68243681 0.68243681 0.68243681\n",
            " 0.68243681 0.68243681 0.68243681 0.68243681 0.68243681 0.68243681\n",
            " 0.68243681 0.68243681 0.68243681 0.68243681 0.68243681 0.68243681\n",
            " 0.68243681 0.68243681 0.68243681 0.68243681 0.68243681 0.68243681\n",
            " 0.68243681 0.68243681 0.68243681 0.67771322]\n",
            "1 day output [[0.6756882]]\n",
            "2 day input [0.64614388 0.60855476 0.59202852 0.62151653 0.62313675 0.61989631\n",
            " 0.61665587 0.63188594 0.61827609 0.61276734 0.62378483 0.64646792\n",
            " 0.68373299 0.69539857 0.68243681 0.6749838  0.67109527 0.65845755\n",
            " 0.65554115 0.67401167 0.68243681 0.68243681 0.68243681 0.68243681\n",
            " 0.68243681 0.68243681 0.68243681 0.68243681 0.68243681 0.68243681\n",
            " 0.68243681 0.68243681 0.68243681 0.68243681 0.68243681 0.68243681\n",
            " 0.68243681 0.68243681 0.68243681 0.68243681 0.68243681 0.68243681\n",
            " 0.68243681 0.68243681 0.68243681 0.68243681 0.68243681 0.68243681\n",
            " 0.68243681 0.68243681 0.68243681 0.68243681 0.68243681 0.68243681\n",
            " 0.68243681 0.68243681 0.68243681 0.68243681 0.68243681 0.68243681\n",
            " 0.68243681 0.68243681 0.68243681 0.68243681 0.68243681 0.68243681\n",
            " 0.68243681 0.68243681 0.68243681 0.68243681 0.68243681 0.68243681\n",
            " 0.68243681 0.68243681 0.68243681 0.68243681 0.68243681 0.68243681\n",
            " 0.68243681 0.68243681 0.68243681 0.68243681 0.68243681 0.68243681\n",
            " 0.68243681 0.68243681 0.68243681 0.68243681 0.68243681 0.68243681\n",
            " 0.68243681 0.68243681 0.68243681 0.68243681 0.68243681 0.68243681\n",
            " 0.68243681 0.68243681 0.67771322 0.67568821]\n",
            "2 day output [[0.6726977]]\n",
            "3 day input [0.60855476 0.59202852 0.62151653 0.62313675 0.61989631 0.61665587\n",
            " 0.63188594 0.61827609 0.61276734 0.62378483 0.64646792 0.68373299\n",
            " 0.69539857 0.68243681 0.6749838  0.67109527 0.65845755 0.65554115\n",
            " 0.67401167 0.68243681 0.68243681 0.68243681 0.68243681 0.68243681\n",
            " 0.68243681 0.68243681 0.68243681 0.68243681 0.68243681 0.68243681\n",
            " 0.68243681 0.68243681 0.68243681 0.68243681 0.68243681 0.68243681\n",
            " 0.68243681 0.68243681 0.68243681 0.68243681 0.68243681 0.68243681\n",
            " 0.68243681 0.68243681 0.68243681 0.68243681 0.68243681 0.68243681\n",
            " 0.68243681 0.68243681 0.68243681 0.68243681 0.68243681 0.68243681\n",
            " 0.68243681 0.68243681 0.68243681 0.68243681 0.68243681 0.68243681\n",
            " 0.68243681 0.68243681 0.68243681 0.68243681 0.68243681 0.68243681\n",
            " 0.68243681 0.68243681 0.68243681 0.68243681 0.68243681 0.68243681\n",
            " 0.68243681 0.68243681 0.68243681 0.68243681 0.68243681 0.68243681\n",
            " 0.68243681 0.68243681 0.68243681 0.68243681 0.68243681 0.68243681\n",
            " 0.68243681 0.68243681 0.68243681 0.68243681 0.68243681 0.68243681\n",
            " 0.68243681 0.68243681 0.68243681 0.68243681 0.68243681 0.68243681\n",
            " 0.68243681 0.67771322 0.67568821 0.67269772]\n",
            "3 day output [[0.6694807]]\n",
            "4 day input [0.59202852 0.62151653 0.62313675 0.61989631 0.61665587 0.63188594\n",
            " 0.61827609 0.61276734 0.62378483 0.64646792 0.68373299 0.69539857\n",
            " 0.68243681 0.6749838  0.67109527 0.65845755 0.65554115 0.67401167\n",
            " 0.68243681 0.68243681 0.68243681 0.68243681 0.68243681 0.68243681\n",
            " 0.68243681 0.68243681 0.68243681 0.68243681 0.68243681 0.68243681\n",
            " 0.68243681 0.68243681 0.68243681 0.68243681 0.68243681 0.68243681\n",
            " 0.68243681 0.68243681 0.68243681 0.68243681 0.68243681 0.68243681\n",
            " 0.68243681 0.68243681 0.68243681 0.68243681 0.68243681 0.68243681\n",
            " 0.68243681 0.68243681 0.68243681 0.68243681 0.68243681 0.68243681\n",
            " 0.68243681 0.68243681 0.68243681 0.68243681 0.68243681 0.68243681\n",
            " 0.68243681 0.68243681 0.68243681 0.68243681 0.68243681 0.68243681\n",
            " 0.68243681 0.68243681 0.68243681 0.68243681 0.68243681 0.68243681\n",
            " 0.68243681 0.68243681 0.68243681 0.68243681 0.68243681 0.68243681\n",
            " 0.68243681 0.68243681 0.68243681 0.68243681 0.68243681 0.68243681\n",
            " 0.68243681 0.68243681 0.68243681 0.68243681 0.68243681 0.68243681\n",
            " 0.68243681 0.68243681 0.68243681 0.68243681 0.68243681 0.68243681\n",
            " 0.67771322 0.67568821 0.67269772 0.66948068]\n",
            "4 day output [[0.6662784]]\n",
            "5 day input [0.62151653 0.62313675 0.61989631 0.61665587 0.63188594 0.61827609\n",
            " 0.61276734 0.62378483 0.64646792 0.68373299 0.69539857 0.68243681\n",
            " 0.6749838  0.67109527 0.65845755 0.65554115 0.67401167 0.68243681\n",
            " 0.68243681 0.68243681 0.68243681 0.68243681 0.68243681 0.68243681\n",
            " 0.68243681 0.68243681 0.68243681 0.68243681 0.68243681 0.68243681\n",
            " 0.68243681 0.68243681 0.68243681 0.68243681 0.68243681 0.68243681\n",
            " 0.68243681 0.68243681 0.68243681 0.68243681 0.68243681 0.68243681\n",
            " 0.68243681 0.68243681 0.68243681 0.68243681 0.68243681 0.68243681\n",
            " 0.68243681 0.68243681 0.68243681 0.68243681 0.68243681 0.68243681\n",
            " 0.68243681 0.68243681 0.68243681 0.68243681 0.68243681 0.68243681\n",
            " 0.68243681 0.68243681 0.68243681 0.68243681 0.68243681 0.68243681\n",
            " 0.68243681 0.68243681 0.68243681 0.68243681 0.68243681 0.68243681\n",
            " 0.68243681 0.68243681 0.68243681 0.68243681 0.68243681 0.68243681\n",
            " 0.68243681 0.68243681 0.68243681 0.68243681 0.68243681 0.68243681\n",
            " 0.68243681 0.68243681 0.68243681 0.68243681 0.68243681 0.68243681\n",
            " 0.68243681 0.68243681 0.68243681 0.68243681 0.68243681 0.67771322\n",
            " 0.67568821 0.67269772 0.66948068 0.66627842]\n",
            "5 day output [[0.6631579]]\n",
            "6 day input [0.62313675 0.61989631 0.61665587 0.63188594 0.61827609 0.61276734\n",
            " 0.62378483 0.64646792 0.68373299 0.69539857 0.68243681 0.6749838\n",
            " 0.67109527 0.65845755 0.65554115 0.67401167 0.68243681 0.68243681\n",
            " 0.68243681 0.68243681 0.68243681 0.68243681 0.68243681 0.68243681\n",
            " 0.68243681 0.68243681 0.68243681 0.68243681 0.68243681 0.68243681\n",
            " 0.68243681 0.68243681 0.68243681 0.68243681 0.68243681 0.68243681\n",
            " 0.68243681 0.68243681 0.68243681 0.68243681 0.68243681 0.68243681\n",
            " 0.68243681 0.68243681 0.68243681 0.68243681 0.68243681 0.68243681\n",
            " 0.68243681 0.68243681 0.68243681 0.68243681 0.68243681 0.68243681\n",
            " 0.68243681 0.68243681 0.68243681 0.68243681 0.68243681 0.68243681\n",
            " 0.68243681 0.68243681 0.68243681 0.68243681 0.68243681 0.68243681\n",
            " 0.68243681 0.68243681 0.68243681 0.68243681 0.68243681 0.68243681\n",
            " 0.68243681 0.68243681 0.68243681 0.68243681 0.68243681 0.68243681\n",
            " 0.68243681 0.68243681 0.68243681 0.68243681 0.68243681 0.68243681\n",
            " 0.68243681 0.68243681 0.68243681 0.68243681 0.68243681 0.68243681\n",
            " 0.68243681 0.68243681 0.68243681 0.68243681 0.67771322 0.67568821\n",
            " 0.67269772 0.66948068 0.66627842 0.66315788]\n",
            "6 day output [[0.6601401]]\n",
            "7 day input [0.61989631 0.61665587 0.63188594 0.61827609 0.61276734 0.62378483\n",
            " 0.64646792 0.68373299 0.69539857 0.68243681 0.6749838  0.67109527\n",
            " 0.65845755 0.65554115 0.67401167 0.68243681 0.68243681 0.68243681\n",
            " 0.68243681 0.68243681 0.68243681 0.68243681 0.68243681 0.68243681\n",
            " 0.68243681 0.68243681 0.68243681 0.68243681 0.68243681 0.68243681\n",
            " 0.68243681 0.68243681 0.68243681 0.68243681 0.68243681 0.68243681\n",
            " 0.68243681 0.68243681 0.68243681 0.68243681 0.68243681 0.68243681\n",
            " 0.68243681 0.68243681 0.68243681 0.68243681 0.68243681 0.68243681\n",
            " 0.68243681 0.68243681 0.68243681 0.68243681 0.68243681 0.68243681\n",
            " 0.68243681 0.68243681 0.68243681 0.68243681 0.68243681 0.68243681\n",
            " 0.68243681 0.68243681 0.68243681 0.68243681 0.68243681 0.68243681\n",
            " 0.68243681 0.68243681 0.68243681 0.68243681 0.68243681 0.68243681\n",
            " 0.68243681 0.68243681 0.68243681 0.68243681 0.68243681 0.68243681\n",
            " 0.68243681 0.68243681 0.68243681 0.68243681 0.68243681 0.68243681\n",
            " 0.68243681 0.68243681 0.68243681 0.68243681 0.68243681 0.68243681\n",
            " 0.68243681 0.68243681 0.68243681 0.67771322 0.67568821 0.67269772\n",
            " 0.66948068 0.66627842 0.66315788 0.6601401 ]\n",
            "7 day output [[0.6572218]]\n",
            "8 day input [0.61665587 0.63188594 0.61827609 0.61276734 0.62378483 0.64646792\n",
            " 0.68373299 0.69539857 0.68243681 0.6749838  0.67109527 0.65845755\n",
            " 0.65554115 0.67401167 0.68243681 0.68243681 0.68243681 0.68243681\n",
            " 0.68243681 0.68243681 0.68243681 0.68243681 0.68243681 0.68243681\n",
            " 0.68243681 0.68243681 0.68243681 0.68243681 0.68243681 0.68243681\n",
            " 0.68243681 0.68243681 0.68243681 0.68243681 0.68243681 0.68243681\n",
            " 0.68243681 0.68243681 0.68243681 0.68243681 0.68243681 0.68243681\n",
            " 0.68243681 0.68243681 0.68243681 0.68243681 0.68243681 0.68243681\n",
            " 0.68243681 0.68243681 0.68243681 0.68243681 0.68243681 0.68243681\n",
            " 0.68243681 0.68243681 0.68243681 0.68243681 0.68243681 0.68243681\n",
            " 0.68243681 0.68243681 0.68243681 0.68243681 0.68243681 0.68243681\n",
            " 0.68243681 0.68243681 0.68243681 0.68243681 0.68243681 0.68243681\n",
            " 0.68243681 0.68243681 0.68243681 0.68243681 0.68243681 0.68243681\n",
            " 0.68243681 0.68243681 0.68243681 0.68243681 0.68243681 0.68243681\n",
            " 0.68243681 0.68243681 0.68243681 0.68243681 0.68243681 0.68243681\n",
            " 0.68243681 0.68243681 0.67771322 0.67568821 0.67269772 0.66948068\n",
            " 0.66627842 0.66315788 0.6601401  0.65722179]\n",
            "8 day output [[0.6543812]]\n",
            "9 day input [0.63188594 0.61827609 0.61276734 0.62378483 0.64646792 0.68373299\n",
            " 0.69539857 0.68243681 0.6749838  0.67109527 0.65845755 0.65554115\n",
            " 0.67401167 0.68243681 0.68243681 0.68243681 0.68243681 0.68243681\n",
            " 0.68243681 0.68243681 0.68243681 0.68243681 0.68243681 0.68243681\n",
            " 0.68243681 0.68243681 0.68243681 0.68243681 0.68243681 0.68243681\n",
            " 0.68243681 0.68243681 0.68243681 0.68243681 0.68243681 0.68243681\n",
            " 0.68243681 0.68243681 0.68243681 0.68243681 0.68243681 0.68243681\n",
            " 0.68243681 0.68243681 0.68243681 0.68243681 0.68243681 0.68243681\n",
            " 0.68243681 0.68243681 0.68243681 0.68243681 0.68243681 0.68243681\n",
            " 0.68243681 0.68243681 0.68243681 0.68243681 0.68243681 0.68243681\n",
            " 0.68243681 0.68243681 0.68243681 0.68243681 0.68243681 0.68243681\n",
            " 0.68243681 0.68243681 0.68243681 0.68243681 0.68243681 0.68243681\n",
            " 0.68243681 0.68243681 0.68243681 0.68243681 0.68243681 0.68243681\n",
            " 0.68243681 0.68243681 0.68243681 0.68243681 0.68243681 0.68243681\n",
            " 0.68243681 0.68243681 0.68243681 0.68243681 0.68243681 0.68243681\n",
            " 0.68243681 0.67771322 0.67568821 0.67269772 0.66948068 0.66627842\n",
            " 0.66315788 0.6601401  0.65722179 0.65438122]\n",
            "9 day output [[0.6515851]]\n",
            "10 day input [0.61827609 0.61276734 0.62378483 0.64646792 0.68373299 0.69539857\n",
            " 0.68243681 0.6749838  0.67109527 0.65845755 0.65554115 0.67401167\n",
            " 0.68243681 0.68243681 0.68243681 0.68243681 0.68243681 0.68243681\n",
            " 0.68243681 0.68243681 0.68243681 0.68243681 0.68243681 0.68243681\n",
            " 0.68243681 0.68243681 0.68243681 0.68243681 0.68243681 0.68243681\n",
            " 0.68243681 0.68243681 0.68243681 0.68243681 0.68243681 0.68243681\n",
            " 0.68243681 0.68243681 0.68243681 0.68243681 0.68243681 0.68243681\n",
            " 0.68243681 0.68243681 0.68243681 0.68243681 0.68243681 0.68243681\n",
            " 0.68243681 0.68243681 0.68243681 0.68243681 0.68243681 0.68243681\n",
            " 0.68243681 0.68243681 0.68243681 0.68243681 0.68243681 0.68243681\n",
            " 0.68243681 0.68243681 0.68243681 0.68243681 0.68243681 0.68243681\n",
            " 0.68243681 0.68243681 0.68243681 0.68243681 0.68243681 0.68243681\n",
            " 0.68243681 0.68243681 0.68243681 0.68243681 0.68243681 0.68243681\n",
            " 0.68243681 0.68243681 0.68243681 0.68243681 0.68243681 0.68243681\n",
            " 0.68243681 0.68243681 0.68243681 0.68243681 0.68243681 0.68243681\n",
            " 0.67771322 0.67568821 0.67269772 0.66948068 0.66627842 0.66315788\n",
            " 0.6601401  0.65722179 0.65438122 0.6515851 ]\n",
            "10 day output [[0.6487968]]\n",
            "11 day input [0.61276734 0.62378483 0.64646792 0.68373299 0.69539857 0.68243681\n",
            " 0.6749838  0.67109527 0.65845755 0.65554115 0.67401167 0.68243681\n",
            " 0.68243681 0.68243681 0.68243681 0.68243681 0.68243681 0.68243681\n",
            " 0.68243681 0.68243681 0.68243681 0.68243681 0.68243681 0.68243681\n",
            " 0.68243681 0.68243681 0.68243681 0.68243681 0.68243681 0.68243681\n",
            " 0.68243681 0.68243681 0.68243681 0.68243681 0.68243681 0.68243681\n",
            " 0.68243681 0.68243681 0.68243681 0.68243681 0.68243681 0.68243681\n",
            " 0.68243681 0.68243681 0.68243681 0.68243681 0.68243681 0.68243681\n",
            " 0.68243681 0.68243681 0.68243681 0.68243681 0.68243681 0.68243681\n",
            " 0.68243681 0.68243681 0.68243681 0.68243681 0.68243681 0.68243681\n",
            " 0.68243681 0.68243681 0.68243681 0.68243681 0.68243681 0.68243681\n",
            " 0.68243681 0.68243681 0.68243681 0.68243681 0.68243681 0.68243681\n",
            " 0.68243681 0.68243681 0.68243681 0.68243681 0.68243681 0.68243681\n",
            " 0.68243681 0.68243681 0.68243681 0.68243681 0.68243681 0.68243681\n",
            " 0.68243681 0.68243681 0.68243681 0.68243681 0.68243681 0.67771322\n",
            " 0.67568821 0.67269772 0.66948068 0.66627842 0.66315788 0.6601401\n",
            " 0.65722179 0.65438122 0.6515851  0.6487968 ]\n",
            "11 day output [[0.6459829]]\n",
            "12 day input [0.62378483 0.64646792 0.68373299 0.69539857 0.68243681 0.6749838\n",
            " 0.67109527 0.65845755 0.65554115 0.67401167 0.68243681 0.68243681\n",
            " 0.68243681 0.68243681 0.68243681 0.68243681 0.68243681 0.68243681\n",
            " 0.68243681 0.68243681 0.68243681 0.68243681 0.68243681 0.68243681\n",
            " 0.68243681 0.68243681 0.68243681 0.68243681 0.68243681 0.68243681\n",
            " 0.68243681 0.68243681 0.68243681 0.68243681 0.68243681 0.68243681\n",
            " 0.68243681 0.68243681 0.68243681 0.68243681 0.68243681 0.68243681\n",
            " 0.68243681 0.68243681 0.68243681 0.68243681 0.68243681 0.68243681\n",
            " 0.68243681 0.68243681 0.68243681 0.68243681 0.68243681 0.68243681\n",
            " 0.68243681 0.68243681 0.68243681 0.68243681 0.68243681 0.68243681\n",
            " 0.68243681 0.68243681 0.68243681 0.68243681 0.68243681 0.68243681\n",
            " 0.68243681 0.68243681 0.68243681 0.68243681 0.68243681 0.68243681\n",
            " 0.68243681 0.68243681 0.68243681 0.68243681 0.68243681 0.68243681\n",
            " 0.68243681 0.68243681 0.68243681 0.68243681 0.68243681 0.68243681\n",
            " 0.68243681 0.68243681 0.68243681 0.68243681 0.67771322 0.67568821\n",
            " 0.67269772 0.66948068 0.66627842 0.66315788 0.6601401  0.65722179\n",
            " 0.65438122 0.6515851  0.6487968  0.64598292]\n",
            "12 day output [[0.64311826]]\n",
            "13 day input [0.64646792 0.68373299 0.69539857 0.68243681 0.6749838  0.67109527\n",
            " 0.65845755 0.65554115 0.67401167 0.68243681 0.68243681 0.68243681\n",
            " 0.68243681 0.68243681 0.68243681 0.68243681 0.68243681 0.68243681\n",
            " 0.68243681 0.68243681 0.68243681 0.68243681 0.68243681 0.68243681\n",
            " 0.68243681 0.68243681 0.68243681 0.68243681 0.68243681 0.68243681\n",
            " 0.68243681 0.68243681 0.68243681 0.68243681 0.68243681 0.68243681\n",
            " 0.68243681 0.68243681 0.68243681 0.68243681 0.68243681 0.68243681\n",
            " 0.68243681 0.68243681 0.68243681 0.68243681 0.68243681 0.68243681\n",
            " 0.68243681 0.68243681 0.68243681 0.68243681 0.68243681 0.68243681\n",
            " 0.68243681 0.68243681 0.68243681 0.68243681 0.68243681 0.68243681\n",
            " 0.68243681 0.68243681 0.68243681 0.68243681 0.68243681 0.68243681\n",
            " 0.68243681 0.68243681 0.68243681 0.68243681 0.68243681 0.68243681\n",
            " 0.68243681 0.68243681 0.68243681 0.68243681 0.68243681 0.68243681\n",
            " 0.68243681 0.68243681 0.68243681 0.68243681 0.68243681 0.68243681\n",
            " 0.68243681 0.68243681 0.68243681 0.67771322 0.67568821 0.67269772\n",
            " 0.66948068 0.66627842 0.66315788 0.6601401  0.65722179 0.65438122\n",
            " 0.6515851  0.6487968  0.64598292 0.64311826]\n",
            "13 day output [[0.64018613]]\n",
            "14 day input [0.68373299 0.69539857 0.68243681 0.6749838  0.67109527 0.65845755\n",
            " 0.65554115 0.67401167 0.68243681 0.68243681 0.68243681 0.68243681\n",
            " 0.68243681 0.68243681 0.68243681 0.68243681 0.68243681 0.68243681\n",
            " 0.68243681 0.68243681 0.68243681 0.68243681 0.68243681 0.68243681\n",
            " 0.68243681 0.68243681 0.68243681 0.68243681 0.68243681 0.68243681\n",
            " 0.68243681 0.68243681 0.68243681 0.68243681 0.68243681 0.68243681\n",
            " 0.68243681 0.68243681 0.68243681 0.68243681 0.68243681 0.68243681\n",
            " 0.68243681 0.68243681 0.68243681 0.68243681 0.68243681 0.68243681\n",
            " 0.68243681 0.68243681 0.68243681 0.68243681 0.68243681 0.68243681\n",
            " 0.68243681 0.68243681 0.68243681 0.68243681 0.68243681 0.68243681\n",
            " 0.68243681 0.68243681 0.68243681 0.68243681 0.68243681 0.68243681\n",
            " 0.68243681 0.68243681 0.68243681 0.68243681 0.68243681 0.68243681\n",
            " 0.68243681 0.68243681 0.68243681 0.68243681 0.68243681 0.68243681\n",
            " 0.68243681 0.68243681 0.68243681 0.68243681 0.68243681 0.68243681\n",
            " 0.68243681 0.68243681 0.67771322 0.67568821 0.67269772 0.66948068\n",
            " 0.66627842 0.66315788 0.6601401  0.65722179 0.65438122 0.6515851\n",
            " 0.6487968  0.64598292 0.64311826 0.64018613]\n",
            "14 day output [[0.63718015]]\n",
            "15 day input [0.69539857 0.68243681 0.6749838  0.67109527 0.65845755 0.65554115\n",
            " 0.67401167 0.68243681 0.68243681 0.68243681 0.68243681 0.68243681\n",
            " 0.68243681 0.68243681 0.68243681 0.68243681 0.68243681 0.68243681\n",
            " 0.68243681 0.68243681 0.68243681 0.68243681 0.68243681 0.68243681\n",
            " 0.68243681 0.68243681 0.68243681 0.68243681 0.68243681 0.68243681\n",
            " 0.68243681 0.68243681 0.68243681 0.68243681 0.68243681 0.68243681\n",
            " 0.68243681 0.68243681 0.68243681 0.68243681 0.68243681 0.68243681\n",
            " 0.68243681 0.68243681 0.68243681 0.68243681 0.68243681 0.68243681\n",
            " 0.68243681 0.68243681 0.68243681 0.68243681 0.68243681 0.68243681\n",
            " 0.68243681 0.68243681 0.68243681 0.68243681 0.68243681 0.68243681\n",
            " 0.68243681 0.68243681 0.68243681 0.68243681 0.68243681 0.68243681\n",
            " 0.68243681 0.68243681 0.68243681 0.68243681 0.68243681 0.68243681\n",
            " 0.68243681 0.68243681 0.68243681 0.68243681 0.68243681 0.68243681\n",
            " 0.68243681 0.68243681 0.68243681 0.68243681 0.68243681 0.68243681\n",
            " 0.68243681 0.67771322 0.67568821 0.67269772 0.66948068 0.66627842\n",
            " 0.66315788 0.6601401  0.65722179 0.65438122 0.6515851  0.6487968\n",
            " 0.64598292 0.64311826 0.64018613 0.63718015]\n",
            "15 day output [[0.63410145]]\n",
            "16 day input [0.68243681 0.6749838  0.67109527 0.65845755 0.65554115 0.67401167\n",
            " 0.68243681 0.68243681 0.68243681 0.68243681 0.68243681 0.68243681\n",
            " 0.68243681 0.68243681 0.68243681 0.68243681 0.68243681 0.68243681\n",
            " 0.68243681 0.68243681 0.68243681 0.68243681 0.68243681 0.68243681\n",
            " 0.68243681 0.68243681 0.68243681 0.68243681 0.68243681 0.68243681\n",
            " 0.68243681 0.68243681 0.68243681 0.68243681 0.68243681 0.68243681\n",
            " 0.68243681 0.68243681 0.68243681 0.68243681 0.68243681 0.68243681\n",
            " 0.68243681 0.68243681 0.68243681 0.68243681 0.68243681 0.68243681\n",
            " 0.68243681 0.68243681 0.68243681 0.68243681 0.68243681 0.68243681\n",
            " 0.68243681 0.68243681 0.68243681 0.68243681 0.68243681 0.68243681\n",
            " 0.68243681 0.68243681 0.68243681 0.68243681 0.68243681 0.68243681\n",
            " 0.68243681 0.68243681 0.68243681 0.68243681 0.68243681 0.68243681\n",
            " 0.68243681 0.68243681 0.68243681 0.68243681 0.68243681 0.68243681\n",
            " 0.68243681 0.68243681 0.68243681 0.68243681 0.68243681 0.68243681\n",
            " 0.67771322 0.67568821 0.67269772 0.66948068 0.66627842 0.66315788\n",
            " 0.6601401  0.65722179 0.65438122 0.6515851  0.6487968  0.64598292\n",
            " 0.64311826 0.64018613 0.63718015 0.63410145]\n",
            "16 day output [[0.63095796]]\n",
            "17 day input [0.6749838  0.67109527 0.65845755 0.65554115 0.67401167 0.68243681\n",
            " 0.68243681 0.68243681 0.68243681 0.68243681 0.68243681 0.68243681\n",
            " 0.68243681 0.68243681 0.68243681 0.68243681 0.68243681 0.68243681\n",
            " 0.68243681 0.68243681 0.68243681 0.68243681 0.68243681 0.68243681\n",
            " 0.68243681 0.68243681 0.68243681 0.68243681 0.68243681 0.68243681\n",
            " 0.68243681 0.68243681 0.68243681 0.68243681 0.68243681 0.68243681\n",
            " 0.68243681 0.68243681 0.68243681 0.68243681 0.68243681 0.68243681\n",
            " 0.68243681 0.68243681 0.68243681 0.68243681 0.68243681 0.68243681\n",
            " 0.68243681 0.68243681 0.68243681 0.68243681 0.68243681 0.68243681\n",
            " 0.68243681 0.68243681 0.68243681 0.68243681 0.68243681 0.68243681\n",
            " 0.68243681 0.68243681 0.68243681 0.68243681 0.68243681 0.68243681\n",
            " 0.68243681 0.68243681 0.68243681 0.68243681 0.68243681 0.68243681\n",
            " 0.68243681 0.68243681 0.68243681 0.68243681 0.68243681 0.68243681\n",
            " 0.68243681 0.68243681 0.68243681 0.68243681 0.68243681 0.67771322\n",
            " 0.67568821 0.67269772 0.66948068 0.66627842 0.66315788 0.6601401\n",
            " 0.65722179 0.65438122 0.6515851  0.6487968  0.64598292 0.64311826\n",
            " 0.64018613 0.63718015 0.63410145 0.63095796]\n",
            "17 day output [[0.62776154]]\n",
            "18 day input [0.67109527 0.65845755 0.65554115 0.67401167 0.68243681 0.68243681\n",
            " 0.68243681 0.68243681 0.68243681 0.68243681 0.68243681 0.68243681\n",
            " 0.68243681 0.68243681 0.68243681 0.68243681 0.68243681 0.68243681\n",
            " 0.68243681 0.68243681 0.68243681 0.68243681 0.68243681 0.68243681\n",
            " 0.68243681 0.68243681 0.68243681 0.68243681 0.68243681 0.68243681\n",
            " 0.68243681 0.68243681 0.68243681 0.68243681 0.68243681 0.68243681\n",
            " 0.68243681 0.68243681 0.68243681 0.68243681 0.68243681 0.68243681\n",
            " 0.68243681 0.68243681 0.68243681 0.68243681 0.68243681 0.68243681\n",
            " 0.68243681 0.68243681 0.68243681 0.68243681 0.68243681 0.68243681\n",
            " 0.68243681 0.68243681 0.68243681 0.68243681 0.68243681 0.68243681\n",
            " 0.68243681 0.68243681 0.68243681 0.68243681 0.68243681 0.68243681\n",
            " 0.68243681 0.68243681 0.68243681 0.68243681 0.68243681 0.68243681\n",
            " 0.68243681 0.68243681 0.68243681 0.68243681 0.68243681 0.68243681\n",
            " 0.68243681 0.68243681 0.68243681 0.68243681 0.67771322 0.67568821\n",
            " 0.67269772 0.66948068 0.66627842 0.66315788 0.6601401  0.65722179\n",
            " 0.65438122 0.6515851  0.6487968  0.64598292 0.64311826 0.64018613\n",
            " 0.63718015 0.63410145 0.63095796 0.62776154]\n",
            "18 day output [[0.62452614]]\n",
            "19 day input [0.65845755 0.65554115 0.67401167 0.68243681 0.68243681 0.68243681\n",
            " 0.68243681 0.68243681 0.68243681 0.68243681 0.68243681 0.68243681\n",
            " 0.68243681 0.68243681 0.68243681 0.68243681 0.68243681 0.68243681\n",
            " 0.68243681 0.68243681 0.68243681 0.68243681 0.68243681 0.68243681\n",
            " 0.68243681 0.68243681 0.68243681 0.68243681 0.68243681 0.68243681\n",
            " 0.68243681 0.68243681 0.68243681 0.68243681 0.68243681 0.68243681\n",
            " 0.68243681 0.68243681 0.68243681 0.68243681 0.68243681 0.68243681\n",
            " 0.68243681 0.68243681 0.68243681 0.68243681 0.68243681 0.68243681\n",
            " 0.68243681 0.68243681 0.68243681 0.68243681 0.68243681 0.68243681\n",
            " 0.68243681 0.68243681 0.68243681 0.68243681 0.68243681 0.68243681\n",
            " 0.68243681 0.68243681 0.68243681 0.68243681 0.68243681 0.68243681\n",
            " 0.68243681 0.68243681 0.68243681 0.68243681 0.68243681 0.68243681\n",
            " 0.68243681 0.68243681 0.68243681 0.68243681 0.68243681 0.68243681\n",
            " 0.68243681 0.68243681 0.68243681 0.67771322 0.67568821 0.67269772\n",
            " 0.66948068 0.66627842 0.66315788 0.6601401  0.65722179 0.65438122\n",
            " 0.6515851  0.6487968  0.64598292 0.64311826 0.64018613 0.63718015\n",
            " 0.63410145 0.63095796 0.62776154 0.62452614]\n",
            "19 day output [[0.62126577]]\n",
            "20 day input [0.65554115 0.67401167 0.68243681 0.68243681 0.68243681 0.68243681\n",
            " 0.68243681 0.68243681 0.68243681 0.68243681 0.68243681 0.68243681\n",
            " 0.68243681 0.68243681 0.68243681 0.68243681 0.68243681 0.68243681\n",
            " 0.68243681 0.68243681 0.68243681 0.68243681 0.68243681 0.68243681\n",
            " 0.68243681 0.68243681 0.68243681 0.68243681 0.68243681 0.68243681\n",
            " 0.68243681 0.68243681 0.68243681 0.68243681 0.68243681 0.68243681\n",
            " 0.68243681 0.68243681 0.68243681 0.68243681 0.68243681 0.68243681\n",
            " 0.68243681 0.68243681 0.68243681 0.68243681 0.68243681 0.68243681\n",
            " 0.68243681 0.68243681 0.68243681 0.68243681 0.68243681 0.68243681\n",
            " 0.68243681 0.68243681 0.68243681 0.68243681 0.68243681 0.68243681\n",
            " 0.68243681 0.68243681 0.68243681 0.68243681 0.68243681 0.68243681\n",
            " 0.68243681 0.68243681 0.68243681 0.68243681 0.68243681 0.68243681\n",
            " 0.68243681 0.68243681 0.68243681 0.68243681 0.68243681 0.68243681\n",
            " 0.68243681 0.68243681 0.67771322 0.67568821 0.67269772 0.66948068\n",
            " 0.66627842 0.66315788 0.6601401  0.65722179 0.65438122 0.6515851\n",
            " 0.6487968  0.64598292 0.64311826 0.64018613 0.63718015 0.63410145\n",
            " 0.63095796 0.62776154 0.62452614 0.62126577]\n",
            "20 day output [[0.61799306]]\n",
            "21 day input [0.67401167 0.68243681 0.68243681 0.68243681 0.68243681 0.68243681\n",
            " 0.68243681 0.68243681 0.68243681 0.68243681 0.68243681 0.68243681\n",
            " 0.68243681 0.68243681 0.68243681 0.68243681 0.68243681 0.68243681\n",
            " 0.68243681 0.68243681 0.68243681 0.68243681 0.68243681 0.68243681\n",
            " 0.68243681 0.68243681 0.68243681 0.68243681 0.68243681 0.68243681\n",
            " 0.68243681 0.68243681 0.68243681 0.68243681 0.68243681 0.68243681\n",
            " 0.68243681 0.68243681 0.68243681 0.68243681 0.68243681 0.68243681\n",
            " 0.68243681 0.68243681 0.68243681 0.68243681 0.68243681 0.68243681\n",
            " 0.68243681 0.68243681 0.68243681 0.68243681 0.68243681 0.68243681\n",
            " 0.68243681 0.68243681 0.68243681 0.68243681 0.68243681 0.68243681\n",
            " 0.68243681 0.68243681 0.68243681 0.68243681 0.68243681 0.68243681\n",
            " 0.68243681 0.68243681 0.68243681 0.68243681 0.68243681 0.68243681\n",
            " 0.68243681 0.68243681 0.68243681 0.68243681 0.68243681 0.68243681\n",
            " 0.68243681 0.67771322 0.67568821 0.67269772 0.66948068 0.66627842\n",
            " 0.66315788 0.6601401  0.65722179 0.65438122 0.6515851  0.6487968\n",
            " 0.64598292 0.64311826 0.64018613 0.63718015 0.63410145 0.63095796\n",
            " 0.62776154 0.62452614 0.62126577 0.61799306]\n",
            "21 day output [[0.61471856]]\n",
            "22 day input [0.68243681 0.68243681 0.68243681 0.68243681 0.68243681 0.68243681\n",
            " 0.68243681 0.68243681 0.68243681 0.68243681 0.68243681 0.68243681\n",
            " 0.68243681 0.68243681 0.68243681 0.68243681 0.68243681 0.68243681\n",
            " 0.68243681 0.68243681 0.68243681 0.68243681 0.68243681 0.68243681\n",
            " 0.68243681 0.68243681 0.68243681 0.68243681 0.68243681 0.68243681\n",
            " 0.68243681 0.68243681 0.68243681 0.68243681 0.68243681 0.68243681\n",
            " 0.68243681 0.68243681 0.68243681 0.68243681 0.68243681 0.68243681\n",
            " 0.68243681 0.68243681 0.68243681 0.68243681 0.68243681 0.68243681\n",
            " 0.68243681 0.68243681 0.68243681 0.68243681 0.68243681 0.68243681\n",
            " 0.68243681 0.68243681 0.68243681 0.68243681 0.68243681 0.68243681\n",
            " 0.68243681 0.68243681 0.68243681 0.68243681 0.68243681 0.68243681\n",
            " 0.68243681 0.68243681 0.68243681 0.68243681 0.68243681 0.68243681\n",
            " 0.68243681 0.68243681 0.68243681 0.68243681 0.68243681 0.68243681\n",
            " 0.67771322 0.67568821 0.67269772 0.66948068 0.66627842 0.66315788\n",
            " 0.6601401  0.65722179 0.65438122 0.6515851  0.6487968  0.64598292\n",
            " 0.64311826 0.64018613 0.63718015 0.63410145 0.63095796 0.62776154\n",
            " 0.62452614 0.62126577 0.61799306 0.61471856]\n",
            "22 day output [[0.61145043]]\n",
            "23 day input [0.68243681 0.68243681 0.68243681 0.68243681 0.68243681 0.68243681\n",
            " 0.68243681 0.68243681 0.68243681 0.68243681 0.68243681 0.68243681\n",
            " 0.68243681 0.68243681 0.68243681 0.68243681 0.68243681 0.68243681\n",
            " 0.68243681 0.68243681 0.68243681 0.68243681 0.68243681 0.68243681\n",
            " 0.68243681 0.68243681 0.68243681 0.68243681 0.68243681 0.68243681\n",
            " 0.68243681 0.68243681 0.68243681 0.68243681 0.68243681 0.68243681\n",
            " 0.68243681 0.68243681 0.68243681 0.68243681 0.68243681 0.68243681\n",
            " 0.68243681 0.68243681 0.68243681 0.68243681 0.68243681 0.68243681\n",
            " 0.68243681 0.68243681 0.68243681 0.68243681 0.68243681 0.68243681\n",
            " 0.68243681 0.68243681 0.68243681 0.68243681 0.68243681 0.68243681\n",
            " 0.68243681 0.68243681 0.68243681 0.68243681 0.68243681 0.68243681\n",
            " 0.68243681 0.68243681 0.68243681 0.68243681 0.68243681 0.68243681\n",
            " 0.68243681 0.68243681 0.68243681 0.68243681 0.68243681 0.67771322\n",
            " 0.67568821 0.67269772 0.66948068 0.66627842 0.66315788 0.6601401\n",
            " 0.65722179 0.65438122 0.6515851  0.6487968  0.64598292 0.64311826\n",
            " 0.64018613 0.63718015 0.63410145 0.63095796 0.62776154 0.62452614\n",
            " 0.62126577 0.61799306 0.61471856 0.61145043]\n",
            "23 day output [[0.6081938]]\n",
            "24 day input [0.68243681 0.68243681 0.68243681 0.68243681 0.68243681 0.68243681\n",
            " 0.68243681 0.68243681 0.68243681 0.68243681 0.68243681 0.68243681\n",
            " 0.68243681 0.68243681 0.68243681 0.68243681 0.68243681 0.68243681\n",
            " 0.68243681 0.68243681 0.68243681 0.68243681 0.68243681 0.68243681\n",
            " 0.68243681 0.68243681 0.68243681 0.68243681 0.68243681 0.68243681\n",
            " 0.68243681 0.68243681 0.68243681 0.68243681 0.68243681 0.68243681\n",
            " 0.68243681 0.68243681 0.68243681 0.68243681 0.68243681 0.68243681\n",
            " 0.68243681 0.68243681 0.68243681 0.68243681 0.68243681 0.68243681\n",
            " 0.68243681 0.68243681 0.68243681 0.68243681 0.68243681 0.68243681\n",
            " 0.68243681 0.68243681 0.68243681 0.68243681 0.68243681 0.68243681\n",
            " 0.68243681 0.68243681 0.68243681 0.68243681 0.68243681 0.68243681\n",
            " 0.68243681 0.68243681 0.68243681 0.68243681 0.68243681 0.68243681\n",
            " 0.68243681 0.68243681 0.68243681 0.68243681 0.67771322 0.67568821\n",
            " 0.67269772 0.66948068 0.66627842 0.66315788 0.6601401  0.65722179\n",
            " 0.65438122 0.6515851  0.6487968  0.64598292 0.64311826 0.64018613\n",
            " 0.63718015 0.63410145 0.63095796 0.62776154 0.62452614 0.62126577\n",
            " 0.61799306 0.61471856 0.61145043 0.60819381]\n",
            "24 day output [[0.60495174]]\n",
            "25 day input [0.68243681 0.68243681 0.68243681 0.68243681 0.68243681 0.68243681\n",
            " 0.68243681 0.68243681 0.68243681 0.68243681 0.68243681 0.68243681\n",
            " 0.68243681 0.68243681 0.68243681 0.68243681 0.68243681 0.68243681\n",
            " 0.68243681 0.68243681 0.68243681 0.68243681 0.68243681 0.68243681\n",
            " 0.68243681 0.68243681 0.68243681 0.68243681 0.68243681 0.68243681\n",
            " 0.68243681 0.68243681 0.68243681 0.68243681 0.68243681 0.68243681\n",
            " 0.68243681 0.68243681 0.68243681 0.68243681 0.68243681 0.68243681\n",
            " 0.68243681 0.68243681 0.68243681 0.68243681 0.68243681 0.68243681\n",
            " 0.68243681 0.68243681 0.68243681 0.68243681 0.68243681 0.68243681\n",
            " 0.68243681 0.68243681 0.68243681 0.68243681 0.68243681 0.68243681\n",
            " 0.68243681 0.68243681 0.68243681 0.68243681 0.68243681 0.68243681\n",
            " 0.68243681 0.68243681 0.68243681 0.68243681 0.68243681 0.68243681\n",
            " 0.68243681 0.68243681 0.68243681 0.67771322 0.67568821 0.67269772\n",
            " 0.66948068 0.66627842 0.66315788 0.6601401  0.65722179 0.65438122\n",
            " 0.6515851  0.6487968  0.64598292 0.64311826 0.64018613 0.63718015\n",
            " 0.63410145 0.63095796 0.62776154 0.62452614 0.62126577 0.61799306\n",
            " 0.61471856 0.61145043 0.60819381 0.60495174]\n",
            "25 day output [[0.6017259]]\n",
            "26 day input [0.68243681 0.68243681 0.68243681 0.68243681 0.68243681 0.68243681\n",
            " 0.68243681 0.68243681 0.68243681 0.68243681 0.68243681 0.68243681\n",
            " 0.68243681 0.68243681 0.68243681 0.68243681 0.68243681 0.68243681\n",
            " 0.68243681 0.68243681 0.68243681 0.68243681 0.68243681 0.68243681\n",
            " 0.68243681 0.68243681 0.68243681 0.68243681 0.68243681 0.68243681\n",
            " 0.68243681 0.68243681 0.68243681 0.68243681 0.68243681 0.68243681\n",
            " 0.68243681 0.68243681 0.68243681 0.68243681 0.68243681 0.68243681\n",
            " 0.68243681 0.68243681 0.68243681 0.68243681 0.68243681 0.68243681\n",
            " 0.68243681 0.68243681 0.68243681 0.68243681 0.68243681 0.68243681\n",
            " 0.68243681 0.68243681 0.68243681 0.68243681 0.68243681 0.68243681\n",
            " 0.68243681 0.68243681 0.68243681 0.68243681 0.68243681 0.68243681\n",
            " 0.68243681 0.68243681 0.68243681 0.68243681 0.68243681 0.68243681\n",
            " 0.68243681 0.68243681 0.67771322 0.67568821 0.67269772 0.66948068\n",
            " 0.66627842 0.66315788 0.6601401  0.65722179 0.65438122 0.6515851\n",
            " 0.6487968  0.64598292 0.64311826 0.64018613 0.63718015 0.63410145\n",
            " 0.63095796 0.62776154 0.62452614 0.62126577 0.61799306 0.61471856\n",
            " 0.61145043 0.60819381 0.60495174 0.60172588]\n",
            "26 day output [[0.5985158]]\n",
            "27 day input [0.68243681 0.68243681 0.68243681 0.68243681 0.68243681 0.68243681\n",
            " 0.68243681 0.68243681 0.68243681 0.68243681 0.68243681 0.68243681\n",
            " 0.68243681 0.68243681 0.68243681 0.68243681 0.68243681 0.68243681\n",
            " 0.68243681 0.68243681 0.68243681 0.68243681 0.68243681 0.68243681\n",
            " 0.68243681 0.68243681 0.68243681 0.68243681 0.68243681 0.68243681\n",
            " 0.68243681 0.68243681 0.68243681 0.68243681 0.68243681 0.68243681\n",
            " 0.68243681 0.68243681 0.68243681 0.68243681 0.68243681 0.68243681\n",
            " 0.68243681 0.68243681 0.68243681 0.68243681 0.68243681 0.68243681\n",
            " 0.68243681 0.68243681 0.68243681 0.68243681 0.68243681 0.68243681\n",
            " 0.68243681 0.68243681 0.68243681 0.68243681 0.68243681 0.68243681\n",
            " 0.68243681 0.68243681 0.68243681 0.68243681 0.68243681 0.68243681\n",
            " 0.68243681 0.68243681 0.68243681 0.68243681 0.68243681 0.68243681\n",
            " 0.68243681 0.67771322 0.67568821 0.67269772 0.66948068 0.66627842\n",
            " 0.66315788 0.6601401  0.65722179 0.65438122 0.6515851  0.6487968\n",
            " 0.64598292 0.64311826 0.64018613 0.63718015 0.63410145 0.63095796\n",
            " 0.62776154 0.62452614 0.62126577 0.61799306 0.61471856 0.61145043\n",
            " 0.60819381 0.60495174 0.60172588 0.59851581]\n",
            "27 day output [[0.595321]]\n",
            "28 day input [0.68243681 0.68243681 0.68243681 0.68243681 0.68243681 0.68243681\n",
            " 0.68243681 0.68243681 0.68243681 0.68243681 0.68243681 0.68243681\n",
            " 0.68243681 0.68243681 0.68243681 0.68243681 0.68243681 0.68243681\n",
            " 0.68243681 0.68243681 0.68243681 0.68243681 0.68243681 0.68243681\n",
            " 0.68243681 0.68243681 0.68243681 0.68243681 0.68243681 0.68243681\n",
            " 0.68243681 0.68243681 0.68243681 0.68243681 0.68243681 0.68243681\n",
            " 0.68243681 0.68243681 0.68243681 0.68243681 0.68243681 0.68243681\n",
            " 0.68243681 0.68243681 0.68243681 0.68243681 0.68243681 0.68243681\n",
            " 0.68243681 0.68243681 0.68243681 0.68243681 0.68243681 0.68243681\n",
            " 0.68243681 0.68243681 0.68243681 0.68243681 0.68243681 0.68243681\n",
            " 0.68243681 0.68243681 0.68243681 0.68243681 0.68243681 0.68243681\n",
            " 0.68243681 0.68243681 0.68243681 0.68243681 0.68243681 0.68243681\n",
            " 0.67771322 0.67568821 0.67269772 0.66948068 0.66627842 0.66315788\n",
            " 0.6601401  0.65722179 0.65438122 0.6515851  0.6487968  0.64598292\n",
            " 0.64311826 0.64018613 0.63718015 0.63410145 0.63095796 0.62776154\n",
            " 0.62452614 0.62126577 0.61799306 0.61471856 0.61145043 0.60819381\n",
            " 0.60495174 0.60172588 0.59851581 0.595321  ]\n",
            "28 day output [[0.59214014]]\n",
            "29 day input [0.68243681 0.68243681 0.68243681 0.68243681 0.68243681 0.68243681\n",
            " 0.68243681 0.68243681 0.68243681 0.68243681 0.68243681 0.68243681\n",
            " 0.68243681 0.68243681 0.68243681 0.68243681 0.68243681 0.68243681\n",
            " 0.68243681 0.68243681 0.68243681 0.68243681 0.68243681 0.68243681\n",
            " 0.68243681 0.68243681 0.68243681 0.68243681 0.68243681 0.68243681\n",
            " 0.68243681 0.68243681 0.68243681 0.68243681 0.68243681 0.68243681\n",
            " 0.68243681 0.68243681 0.68243681 0.68243681 0.68243681 0.68243681\n",
            " 0.68243681 0.68243681 0.68243681 0.68243681 0.68243681 0.68243681\n",
            " 0.68243681 0.68243681 0.68243681 0.68243681 0.68243681 0.68243681\n",
            " 0.68243681 0.68243681 0.68243681 0.68243681 0.68243681 0.68243681\n",
            " 0.68243681 0.68243681 0.68243681 0.68243681 0.68243681 0.68243681\n",
            " 0.68243681 0.68243681 0.68243681 0.68243681 0.68243681 0.67771322\n",
            " 0.67568821 0.67269772 0.66948068 0.66627842 0.66315788 0.6601401\n",
            " 0.65722179 0.65438122 0.6515851  0.6487968  0.64598292 0.64311826\n",
            " 0.64018613 0.63718015 0.63410145 0.63095796 0.62776154 0.62452614\n",
            " 0.62126577 0.61799306 0.61471856 0.61145043 0.60819381 0.60495174\n",
            " 0.60172588 0.59851581 0.595321   0.59214014]\n",
            "29 day output [[0.58897203]]\n",
            "[[0.6777132153511047], [0.6756882071495056], [0.6726977229118347], [0.6694806814193726], [0.6662784218788147], [0.6631578803062439], [0.6601400971412659], [0.657221794128418], [0.6543812155723572], [0.6515851020812988], [0.648796796798706], [0.6459829211235046], [0.6431182622909546], [0.6401861310005188], [0.6371801495552063], [0.6341014504432678], [0.6309579610824585], [0.6277615427970886], [0.6245261430740356], [0.6212657690048218], [0.6179930567741394], [0.6147185564041138], [0.6114504337310791], [0.6081938147544861], [0.6049517393112183], [0.6017258763313293], [0.5985158085823059], [0.595320999622345], [0.5921401381492615], [0.5889720320701599]]\n"
          ]
        }
      ]
    },
    {
      "cell_type": "code",
      "source": [
        "day_new = np.arange(1, 101)\n",
        "day_pred = np.arange(101, 131)"
      ],
      "metadata": {
        "id": "Nl9HdvZR7bA0"
      },
      "execution_count": 131,
      "outputs": []
    },
    {
      "cell_type": "code",
      "source": [
        "len(df_close)"
      ],
      "metadata": {
        "colab": {
          "base_uri": "https://localhost:8080/"
        },
        "id": "_M1sm9qk_ow1",
        "outputId": "be699d7a-e8bb-4bec-c427-387145a05a17"
      },
      "execution_count": 132,
      "outputs": [
        {
          "output_type": "execute_result",
          "data": {
            "text/plain": [
              "1162"
            ]
          },
          "metadata": {},
          "execution_count": 132
        }
      ]
    },
    {
      "cell_type": "code",
      "source": [
        "plt.figure(figsize=(10,6))\n",
        "plt.plot(day_new, scaler.inverse_transform(df_close[len(df_close)-100:]))\n",
        "plt.plot(day_pred, scaler.inverse_transform(output))\n",
        "plt.legend(['Previous Data', 'Forecast'])"
      ],
      "metadata": {
        "colab": {
          "base_uri": "https://localhost:8080/",
          "height": 539
        },
        "id": "T_zHoKCe_yn8",
        "outputId": "ee7baba5-f76f-4b11-c807-38f017c46713"
      },
      "execution_count": 133,
      "outputs": [
        {
          "output_type": "execute_result",
          "data": {
            "text/plain": [
              "<matplotlib.legend.Legend at 0x79caddcc47f0>"
            ]
          },
          "metadata": {},
          "execution_count": 133
        },
        {
          "output_type": "display_data",
          "data": {
            "text/plain": [
              "<Figure size 1000x600 with 1 Axes>"
            ],
            "image/png": "[encoded data removed]"
          },
          "metadata": {}
        }
      ]
    },
    {
      "cell_type": "code",
      "source": [
        "df_new = df_close.tolist()\n",
        "df_new.extend(output)\n",
        "plt.figure(figsize=(10,6))\n",
        "plt.plot(df_new[1000:])"
      ],
      "metadata": {
        "colab": {
          "base_uri": "https://localhost:8080/",
          "height": 539
        },
        "id": "NbrRqY0KAuQi",
        "outputId": "f09ae5a6-5e3f-421e-8ac3-6841b264cb27"
      },
      "execution_count": 134,
      "outputs": [
        {
          "output_type": "execute_result",
          "data": {
            "text/plain": [
              "[<matplotlib.lines.Line2D at 0x79caddce3460>]"
            ]
          },
          "metadata": {},
          "execution_count": 134
        },
        {
          "output_type": "display_data",
          "data": {
            "text/plain": [
              "<Figure size 1000x600 with 1 Axes>"
            ],
            "image/png": "[encoded data removed]"
          },
          "metadata": {}
        }
      ]
    },
    {
      "cell_type": "code",
      "source": [
        "df_new = scaler.inverse_transform(df_new).tolist()\n",
        "plt.figure(figsize=(10,6))\n",
        "plt.plot(df_new)"
      ],
      "metadata": {
        "colab": {
          "base_uri": "https://localhost:8080/",
          "height": 539
        },
        "id": "s5eWn3PmEZ28",
        "outputId": "86ef38a9-1091-49dc-8975-257c4d867bc5"
      },
      "execution_count": 135,
      "outputs": [
        {
          "output_type": "execute_result",
          "data": {
            "text/plain": [
              "[<matplotlib.lines.Line2D at 0x79cadf4679d0>]"
            ]
          },
          "metadata": {},
          "execution_count": 135
        },
        {
          "output_type": "display_data",
          "data": {
            "text/plain": [
              "<Figure size 1000x600 with 1 Axes>"
            ],
            "image/png": "[encoded data removed]"
          },
          "metadata": {}
        }
      ]
    },
    {
      "cell_type": "markdown",
      "source": [
        "---"
      ],
      "metadata": {
        "id": "TtoS17sIFK6h"
      }
    }
  ]
}